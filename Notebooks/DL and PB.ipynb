{
 "cells": [
  {
   "cell_type": "code",
   "execution_count": 21,
   "metadata": {},
   "outputs": [],
   "source": [
    "open System.Net.Http\n",
    "open System.Text.Json\n",
    "open System.Text.Json.Serialization\n",
    "open System\n",
    "open System.IO\n",
    "open System.Net.Http.Headers"
   ]
  },
  {
   "cell_type": "code",
   "execution_count": null,
   "metadata": {},
   "outputs": [],
   "source": [
    "type Credentials() =\n",
    "    member val username: string = null with get, set \n",
    "    member val key: string = null with get,set\n",
    "      \n",
    "    static member LoadFrom(path: string): Credentials =\n",
    "        use reader = new StreamReader(path)\n",
    "        let json = reader.ReadToEnd()\n",
    "        JsonSerializer.Deserialize<Credentials>(json)"
   ]
  },
  {
   "cell_type": "code",
   "execution_count": null,
   "metadata": {},
   "outputs": [],
   "source": [
    "let creds = Credentials.LoadFrom(\"kaggle.json\")\n",
    "creds"
   ]
  },
  {
   "cell_type": "code",
   "execution_count": null,
   "metadata": {},
   "outputs": [],
   "source": [
    "let BaseApiUrl = \"https://www.kaggle.com/api/v1/\"\n",
    "\n",
    "type AuthorizedClient = AuthorizedClient of HttpClient"
   ]
  },
  {
   "cell_type": "code",
   "execution_count": null,
   "metadata": {},
   "outputs": [],
   "source": [
    "let CreateAuthorizedClient(auth: Credentials) =\n",
    "    let authToken =\n",
    "        sprintf \"%s:%s\" auth.username auth.key\n",
    "        |> Text.ASCIIEncoding.ASCII.GetBytes\n",
    "        |> Convert.ToBase64String\n",
    "\n",
    "    let client = new HttpClient()\n",
    "    client.DefaultRequestHeaders.Authorization <- AuthenticationHeaderValue(\"Basic\", authToken)\n",
    "\n",
    "    AuthorizedClient client\n",
    "\n",
    "let DownLoadFileAsync (urlPath: string[]) destinationFolder (AuthorizedClient client) =\n",
    "    let url = sprintf \"%sdatasets/download/%s\" BaseApiUrl <| String.Join(\"/\", urlPath)\n",
    "    let filename = urlPath |> Array.last\n",
    "\n",
    "    async {\n",
    "        use! stream = client.GetStreamAsync(url) |> Async.AwaitTask\n",
    "        use fstream = new FileStream(Path.Combine(destinationFolder, filename), FileMode.CreateNew)\n",
    "        let! _ = stream.CopyToAsync fstream |> Async.AwaitTask\n",
    "        fstream.Close()\n",
    "        stream.Close()\n",
    "    }"
   ]
  },
  {
   "cell_type": "code",
   "execution_count": null,
   "metadata": {},
   "outputs": [],
   "source": [
    "let authClient = CreateAuthorizedClient creds\n",
    "let (AuthorizedClient client) = authClient"
   ]
  },
  {
   "cell_type": "code",
   "execution_count": null,
   "metadata": {},
   "outputs": [],
   "source": [
    "DownLoadFileAsync [|\"selfishgene\";\"historical-hourly-weather-data.zip\"|] \"./\" authClient\n",
    "|> Async.RunSynchronously\n"
   ]
  },
  {
   "cell_type": "code",
   "execution_count": 255,
   "metadata": {},
   "outputs": [],
   "source": [
    "let DownloadFileAsync \n",
    "        (url: string) (destinationFile: string) cancellationToken \n",
    "        (report: int64 * float -> unit) (client: HttpClient) =\n",
    "        async {\n",
    "            let bufferLength = 8192\n",
    "            use! response = client.GetAsync(url, HttpCompletionOption.ResponseHeadersRead, cancellationToken)\n",
    "                            |> Async.AwaitTask\n",
    "            \n",
    "            response.EnsureSuccessStatusCode() |> ignore\n",
    "\n",
    "            let total =\n",
    "                if response.Content.Headers.ContentLength.HasValue\n",
    "                then response.Content.Headers.ContentLength.Value\n",
    "                else -1L\n",
    "                |> float\n",
    "\n",
    "            use! contentStream = response.Content.ReadAsStreamAsync() |> Async.AwaitTask\n",
    "            use fileStream =\n",
    "                new FileStream(destinationFile, FileMode.Create, FileAccess.Write, FileShare.None, bufferLength, true)\n",
    "\n",
    "            let mutable totalRead = 0L\n",
    "            let mutable totalReads = 0L\n",
    "            let mutable isMoreToRead = true\n",
    "            let buffer = Array.create bufferLength 0uy\n",
    "\n",
    "            while isMoreToRead && not cancellationToken.IsCancellationRequested do\n",
    "                let! read = contentStream.ReadAsync(buffer, 0, bufferLength) |> Async.AwaitTask\n",
    "                if read > 0 then\n",
    "                    do! fileStream.WriteAsync(buffer, 0, read) |> Async.AwaitTask\n",
    "                    totalRead <- totalRead + int64 read\n",
    "                    totalReads <- totalReads + 1L\n",
    "                else\n",
    "                    isMoreToRead <- false\n",
    "\n",
    "                report (totalRead, float totalRead / total)\n",
    "        }"
   ]
  },
  {
   "cell_type": "code",
   "execution_count": 256,
   "metadata": {},
   "outputs": [
    {
     "data": {
      "text/html": [
       "<div class='the-bar progress'>\n",
       "                 <div class='progress-bar' role='progressbar'\n",
       "                      style='width: 25%;' aria-valuenow='25' aria-valuemin='0'\n",
       "                      aria-valuemax='100'>25%</div>\n",
       "             </div>"
      ]
     },
     "metadata": {},
     "output_type": "display_data"
    }
   ],
   "source": [
    "open System\n",
    "open Microsoft.DotNet.Interactive.FSharp\n",
    "open Microsoft.DotNet.Interactive\n",
    "open Microsoft.AspNetCore.Html \n",
    "open FSharpKernelHelpers \n",
    "\n",
    "let progLog (bytesRead : int64,percentage: float) =     \n",
    "    updateProgressBar \"the-bar\" (percentage*100.0)    \n",
    "\n",
    "progressBar \"the-bar\" |> display"
   ]
  },
  {
   "cell_type": "code",
   "execution_count": 258,
   "metadata": {
    "scrolled": false
   },
   "outputs": [
    {
     "data": {
      "text/html": [
       "<script type=\"text/javascript\">$('.the-bar.progress .progress-bar')\n",
       "                .css('width','0.03%')\n",
       "                .prop('aria-valuenow',0.03)\n",
       "                .text('0.03%');</script>"
      ]
     },
     "metadata": {},
     "output_type": "display_data"
    },
    {
     "data": {
      "text/html": [
       "<script type=\"text/javascript\">$('.the-bar.progress .progress-bar')\n",
       "                .css('width','0.08%')\n",
       "                .prop('aria-valuenow',0.08)\n",
       "                .text('0.08%');</script>"
      ]
     },
     "metadata": {},
     "output_type": "display_data"
    },
    {
     "data": {
      "text/html": [
       "<script type=\"text/javascript\">$('.the-bar.progress .progress-bar')\n",
       "                .css('width','0.13%')\n",
       "                .prop('aria-valuenow',0.13)\n",
       "                .text('0.13%');</script>"
      ]
     },
     "metadata": {},
     "output_type": "display_data"
    },
    {
     "data": {
      "text/html": [
       "<script type=\"text/javascript\">$('.the-bar.progress .progress-bar')\n",
       "                .css('width','0.18%')\n",
       "                .prop('aria-valuenow',0.18)\n",
       "                .text('0.18%');</script>"
      ]
     },
     "metadata": {},
     "output_type": "display_data"
    },
    {
     "data": {
      "text/html": [
       "<script type=\"text/javascript\">$('.the-bar.progress .progress-bar')\n",
       "                .css('width','0.23%')\n",
       "                .prop('aria-valuenow',0.23)\n",
       "                .text('0.23%');</script>"
      ]
     },
     "metadata": {},
     "output_type": "display_data"
    },
    {
     "data": {
      "text/html": [
       "<script type=\"text/javascript\">$('.the-bar.progress .progress-bar')\n",
       "                .css('width','0.27%')\n",
       "                .prop('aria-valuenow',0.27)\n",
       "                .text('0.27%');</script>"
      ]
     },
     "metadata": {},
     "output_type": "display_data"
    },
    {
     "data": {
      "text/html": [
       "<script type=\"text/javascript\">$('.the-bar.progress .progress-bar')\n",
       "                .css('width','0.32%')\n",
       "                .prop('aria-valuenow',0.32)\n",
       "                .text('0.32%');</script>"
      ]
     },
     "metadata": {},
     "output_type": "display_data"
    },
    {
     "data": {
      "text/html": [
       "<script type=\"text/javascript\">$('.the-bar.progress .progress-bar')\n",
       "                .css('width','0.37%')\n",
       "                .prop('aria-valuenow',0.37)\n",
       "                .text('0.37%');</script>"
      ]
     },
     "metadata": {},
     "output_type": "display_data"
    },
    {
     "data": {
      "text/html": [
       "<script type=\"text/javascript\">$('.the-bar.progress .progress-bar')\n",
       "                .css('width','0.42%')\n",
       "                .prop('aria-valuenow',0.42)\n",
       "                .text('0.42%');</script>"
      ]
     },
     "metadata": {},
     "output_type": "display_data"
    },
    {
     "data": {
      "text/html": [
       "<script type=\"text/javascript\">$('.the-bar.progress .progress-bar')\n",
       "                .css('width','0.47%')\n",
       "                .prop('aria-valuenow',0.47)\n",
       "                .text('0.47%');</script>"
      ]
     },
     "metadata": {},
     "output_type": "display_data"
    },
    {
     "data": {
      "text/html": [
       "<script type=\"text/javascript\">$('.the-bar.progress .progress-bar')\n",
       "                .css('width','0.52%')\n",
       "                .prop('aria-valuenow',0.52)\n",
       "                .text('0.52%');</script>"
      ]
     },
     "metadata": {},
     "output_type": "display_data"
    },
    {
     "data": {
      "text/html": [
       "<script type=\"text/javascript\">$('.the-bar.progress .progress-bar')\n",
       "                .css('width','0.57%')\n",
       "                .prop('aria-valuenow',0.57)\n",
       "                .text('0.57%');</script>"
      ]
     },
     "metadata": {},
     "output_type": "display_data"
    },
    {
     "data": {
      "text/html": [
       "<script type=\"text/javascript\">$('.the-bar.progress .progress-bar')\n",
       "                .css('width','0.62%')\n",
       "                .prop('aria-valuenow',0.62)\n",
       "                .text('0.62%');</script>"
      ]
     },
     "metadata": {},
     "output_type": "display_data"
    },
    {
     "data": {
      "text/html": [
       "<script type=\"text/javascript\">$('.the-bar.progress .progress-bar')\n",
       "                .css('width','0.67%')\n",
       "                .prop('aria-valuenow',0.67)\n",
       "                .text('0.67%');</script>"
      ]
     },
     "metadata": {},
     "output_type": "display_data"
    },
    {
     "data": {
      "text/html": [
       "<script type=\"text/javascript\">$('.the-bar.progress .progress-bar')\n",
       "                .css('width','0.72%')\n",
       "                .prop('aria-valuenow',0.72)\n",
       "                .text('0.72%');</script>"
      ]
     },
     "metadata": {},
     "output_type": "display_data"
    },
    {
     "data": {
      "text/html": [
       "<script type=\"text/javascript\">$('.the-bar.progress .progress-bar')\n",
       "                .css('width','0.77%')\n",
       "                .prop('aria-valuenow',0.77)\n",
       "                .text('0.77%');</script>"
      ]
     },
     "metadata": {},
     "output_type": "display_data"
    },
    {
     "data": {
      "text/html": [
       "<script type=\"text/javascript\">$('.the-bar.progress .progress-bar')\n",
       "                .css('width','0.82%')\n",
       "                .prop('aria-valuenow',0.82)\n",
       "                .text('0.82%');</script>"
      ]
     },
     "metadata": {},
     "output_type": "display_data"
    },
    {
     "data": {
      "text/html": [
       "<script type=\"text/javascript\">$('.the-bar.progress .progress-bar')\n",
       "                .css('width','0.87%')\n",
       "                .prop('aria-valuenow',0.87)\n",
       "                .text('0.87%');</script>"
      ]
     },
     "metadata": {},
     "output_type": "display_data"
    },
    {
     "data": {
      "text/html": [
       "<script type=\"text/javascript\">$('.the-bar.progress .progress-bar')\n",
       "                .css('width','0.92%')\n",
       "                .prop('aria-valuenow',0.92)\n",
       "                .text('0.92%');</script>"
      ]
     },
     "metadata": {},
     "output_type": "display_data"
    },
    {
     "data": {
      "text/html": [
       "<script type=\"text/javascript\">$('.the-bar.progress .progress-bar')\n",
       "                .css('width','0.96%')\n",
       "                .prop('aria-valuenow',0.96)\n",
       "                .text('0.96%');</script>"
      ]
     },
     "metadata": {},
     "output_type": "display_data"
    },
    {
     "data": {
      "text/html": [
       "<script type=\"text/javascript\">$('.the-bar.progress .progress-bar')\n",
       "                .css('width','1.01%')\n",
       "                .prop('aria-valuenow',1.01)\n",
       "                .text('1.01%');</script>"
      ]
     },
     "metadata": {},
     "output_type": "display_data"
    },
    {
     "data": {
      "text/html": [
       "<script type=\"text/javascript\">$('.the-bar.progress .progress-bar')\n",
       "                .css('width','1.06%')\n",
       "                .prop('aria-valuenow',1.06)\n",
       "                .text('1.06%');</script>"
      ]
     },
     "metadata": {},
     "output_type": "display_data"
    },
    {
     "data": {
      "text/html": [
       "<script type=\"text/javascript\">$('.the-bar.progress .progress-bar')\n",
       "                .css('width','1.11%')\n",
       "                .prop('aria-valuenow',1.11)\n",
       "                .text('1.11%');</script>"
      ]
     },
     "metadata": {},
     "output_type": "display_data"
    },
    {
     "data": {
      "text/html": [
       "<script type=\"text/javascript\">$('.the-bar.progress .progress-bar')\n",
       "                .css('width','1.16%')\n",
       "                .prop('aria-valuenow',1.16)\n",
       "                .text('1.16%');</script>"
      ]
     },
     "metadata": {},
     "output_type": "display_data"
    },
    {
     "data": {
      "text/html": [
       "<script type=\"text/javascript\">$('.the-bar.progress .progress-bar')\n",
       "                .css('width','1.21%')\n",
       "                .prop('aria-valuenow',1.21)\n",
       "                .text('1.21%');</script>"
      ]
     },
     "metadata": {},
     "output_type": "display_data"
    },
    {
     "data": {
      "text/html": [
       "<script type=\"text/javascript\">$('.the-bar.progress .progress-bar')\n",
       "                .css('width','1.26%')\n",
       "                .prop('aria-valuenow',1.26)\n",
       "                .text('1.26%');</script>"
      ]
     },
     "metadata": {},
     "output_type": "display_data"
    },
    {
     "data": {
      "text/html": [
       "<script type=\"text/javascript\">$('.the-bar.progress .progress-bar')\n",
       "                .css('width','1.31%')\n",
       "                .prop('aria-valuenow',1.31)\n",
       "                .text('1.31%');</script>"
      ]
     },
     "metadata": {},
     "output_type": "display_data"
    },
    {
     "data": {
      "text/html": [
       "<script type=\"text/javascript\">$('.the-bar.progress .progress-bar')\n",
       "                .css('width','1.36%')\n",
       "                .prop('aria-valuenow',1.36)\n",
       "                .text('1.36%');</script>"
      ]
     },
     "metadata": {},
     "output_type": "display_data"
    },
    {
     "data": {
      "text/html": [
       "<script type=\"text/javascript\">$('.the-bar.progress .progress-bar')\n",
       "                .css('width','1.40%')\n",
       "                .prop('aria-valuenow',1.40)\n",
       "                .text('1.40%');</script>"
      ]
     },
     "metadata": {},
     "output_type": "display_data"
    },
    {
     "data": {
      "text/html": [
       "<script type=\"text/javascript\">$('.the-bar.progress .progress-bar')\n",
       "                .css('width','1.45%')\n",
       "                .prop('aria-valuenow',1.45)\n",
       "                .text('1.45%');</script>"
      ]
     },
     "metadata": {},
     "output_type": "display_data"
    },
    {
     "data": {
      "text/html": [
       "<script type=\"text/javascript\">$('.the-bar.progress .progress-bar')\n",
       "                .css('width','1.50%')\n",
       "                .prop('aria-valuenow',1.50)\n",
       "                .text('1.50%');</script>"
      ]
     },
     "metadata": {},
     "output_type": "display_data"
    },
    {
     "data": {
      "text/html": [
       "<script type=\"text/javascript\">$('.the-bar.progress .progress-bar')\n",
       "                .css('width','1.55%')\n",
       "                .prop('aria-valuenow',1.55)\n",
       "                .text('1.55%');</script>"
      ]
     },
     "metadata": {},
     "output_type": "display_data"
    },
    {
     "data": {
      "text/html": [
       "<script type=\"text/javascript\">$('.the-bar.progress .progress-bar')\n",
       "                .css('width','1.60%')\n",
       "                .prop('aria-valuenow',1.60)\n",
       "                .text('1.60%');</script>"
      ]
     },
     "metadata": {},
     "output_type": "display_data"
    },
    {
     "data": {
      "text/html": [
       "<script type=\"text/javascript\">$('.the-bar.progress .progress-bar')\n",
       "                .css('width','1.65%')\n",
       "                .prop('aria-valuenow',1.65)\n",
       "                .text('1.65%');</script>"
      ]
     },
     "metadata": {},
     "output_type": "display_data"
    },
    {
     "data": {
      "text/html": [
       "<script type=\"text/javascript\">$('.the-bar.progress .progress-bar')\n",
       "                .css('width','1.70%')\n",
       "                .prop('aria-valuenow',1.70)\n",
       "                .text('1.70%');</script>"
      ]
     },
     "metadata": {},
     "output_type": "display_data"
    },
    {
     "data": {
      "text/html": [
       "<script type=\"text/javascript\">$('.the-bar.progress .progress-bar')\n",
       "                .css('width','1.75%')\n",
       "                .prop('aria-valuenow',1.75)\n",
       "                .text('1.75%');</script>"
      ]
     },
     "metadata": {},
     "output_type": "display_data"
    },
    {
     "data": {
      "text/html": [
       "<script type=\"text/javascript\">$('.the-bar.progress .progress-bar')\n",
       "                .css('width','1.80%')\n",
       "                .prop('aria-valuenow',1.80)\n",
       "                .text('1.80%');</script>"
      ]
     },
     "metadata": {},
     "output_type": "display_data"
    },
    {
     "data": {
      "text/html": [
       "<script type=\"text/javascript\">$('.the-bar.progress .progress-bar')\n",
       "                .css('width','1.85%')\n",
       "                .prop('aria-valuenow',1.85)\n",
       "                .text('1.85%');</script>"
      ]
     },
     "metadata": {},
     "output_type": "display_data"
    },
    {
     "data": {
      "text/html": [
       "<script type=\"text/javascript\">$('.the-bar.progress .progress-bar')\n",
       "                .css('width','1.90%')\n",
       "                .prop('aria-valuenow',1.90)\n",
       "                .text('1.90%');</script>"
      ]
     },
     "metadata": {},
     "output_type": "display_data"
    },
    {
     "data": {
      "text/html": [
       "<script type=\"text/javascript\">$('.the-bar.progress .progress-bar')\n",
       "                .css('width','1.95%')\n",
       "                .prop('aria-valuenow',1.95)\n",
       "                .text('1.95%');</script>"
      ]
     },
     "metadata": {},
     "output_type": "display_data"
    },
    {
     "data": {
      "text/html": [
       "<script type=\"text/javascript\">$('.the-bar.progress .progress-bar')\n",
       "                .css('width','2.00%')\n",
       "                .prop('aria-valuenow',2.00)\n",
       "                .text('2.00%');</script>"
      ]
     },
     "metadata": {},
     "output_type": "display_data"
    },
    {
     "data": {
      "text/html": [
       "<script type=\"text/javascript\">$('.the-bar.progress .progress-bar')\n",
       "                .css('width','2.15%')\n",
       "                .prop('aria-valuenow',2.15)\n",
       "                .text('2.15%');</script>"
      ]
     },
     "metadata": {},
     "output_type": "display_data"
    },
    {
     "data": {
      "text/html": [
       "<script type=\"text/javascript\">$('.the-bar.progress .progress-bar')\n",
       "                .css('width','2.30%')\n",
       "                .prop('aria-valuenow',2.30)\n",
       "                .text('2.30%');</script>"
      ]
     },
     "metadata": {},
     "output_type": "display_data"
    },
    {
     "data": {
      "text/html": [
       "<script type=\"text/javascript\">$('.the-bar.progress .progress-bar')\n",
       "                .css('width','2.34%')\n",
       "                .prop('aria-valuenow',2.34)\n",
       "                .text('2.34%');</script>"
      ]
     },
     "metadata": {},
     "output_type": "display_data"
    },
    {
     "data": {
      "text/html": [
       "<script type=\"text/javascript\">$('.the-bar.progress .progress-bar')\n",
       "                .css('width','2.49%')\n",
       "                .prop('aria-valuenow',2.49)\n",
       "                .text('2.49%');</script>"
      ]
     },
     "metadata": {},
     "output_type": "display_data"
    },
    {
     "data": {
      "text/html": [
       "<script type=\"text/javascript\">$('.the-bar.progress .progress-bar')\n",
       "                .css('width','2.64%')\n",
       "                .prop('aria-valuenow',2.64)\n",
       "                .text('2.64%');</script>"
      ]
     },
     "metadata": {},
     "output_type": "display_data"
    },
    {
     "data": {
      "text/html": [
       "<script type=\"text/javascript\">$('.the-bar.progress .progress-bar')\n",
       "                .css('width','2.79%')\n",
       "                .prop('aria-valuenow',2.79)\n",
       "                .text('2.79%');</script>"
      ]
     },
     "metadata": {},
     "output_type": "display_data"
    },
    {
     "data": {
      "text/html": [
       "<script type=\"text/javascript\">$('.the-bar.progress .progress-bar')\n",
       "                .css('width','2.95%')\n",
       "                .prop('aria-valuenow',2.95)\n",
       "                .text('2.95%');</script>"
      ]
     },
     "metadata": {},
     "output_type": "display_data"
    },
    {
     "data": {
      "text/html": [
       "<script type=\"text/javascript\">$('.the-bar.progress .progress-bar')\n",
       "                .css('width','3.10%')\n",
       "                .prop('aria-valuenow',3.10)\n",
       "                .text('3.10%');</script>"
      ]
     },
     "metadata": {},
     "output_type": "display_data"
    },
    {
     "data": {
      "text/html": [
       "<script type=\"text/javascript\">$('.the-bar.progress .progress-bar')\n",
       "                .css('width','3.25%')\n",
       "                .prop('aria-valuenow',3.25)\n",
       "                .text('3.25%');</script>"
      ]
     },
     "metadata": {},
     "output_type": "display_data"
    },
    {
     "data": {
      "text/html": [
       "<script type=\"text/javascript\">$('.the-bar.progress .progress-bar')\n",
       "                .css('width','3.40%')\n",
       "                .prop('aria-valuenow',3.40)\n",
       "                .text('3.40%');</script>"
      ]
     },
     "metadata": {},
     "output_type": "display_data"
    },
    {
     "data": {
      "text/html": [
       "<script type=\"text/javascript\">$('.the-bar.progress .progress-bar')\n",
       "                .css('width','3.52%')\n",
       "                .prop('aria-valuenow',3.52)\n",
       "                .text('3.52%');</script>"
      ]
     },
     "metadata": {},
     "output_type": "display_data"
    },
    {
     "data": {
      "text/html": [
       "<script type=\"text/javascript\">$('.the-bar.progress .progress-bar')\n",
       "                .css('width','3.67%')\n",
       "                .prop('aria-valuenow',3.67)\n",
       "                .text('3.67%');</script>"
      ]
     },
     "metadata": {},
     "output_type": "display_data"
    },
    {
     "data": {
      "text/html": [
       "<script type=\"text/javascript\">$('.the-bar.progress .progress-bar')\n",
       "                .css('width','3.82%')\n",
       "                .prop('aria-valuenow',3.82)\n",
       "                .text('3.82%');</script>"
      ]
     },
     "metadata": {},
     "output_type": "display_data"
    },
    {
     "data": {
      "text/html": [
       "<script type=\"text/javascript\">$('.the-bar.progress .progress-bar')\n",
       "                .css('width','3.97%')\n",
       "                .prop('aria-valuenow',3.97)\n",
       "                .text('3.97%');</script>"
      ]
     },
     "metadata": {},
     "output_type": "display_data"
    },
    {
     "data": {
      "text/html": [
       "<script type=\"text/javascript\">$('.the-bar.progress .progress-bar')\n",
       "                .css('width','4.13%')\n",
       "                .prop('aria-valuenow',4.13)\n",
       "                .text('4.13%');</script>"
      ]
     },
     "metadata": {},
     "output_type": "display_data"
    },
    {
     "data": {
      "text/html": [
       "<script type=\"text/javascript\">$('.the-bar.progress .progress-bar')\n",
       "                .css('width','4.28%')\n",
       "                .prop('aria-valuenow',4.28)\n",
       "                .text('4.28%');</script>"
      ]
     },
     "metadata": {},
     "output_type": "display_data"
    },
    {
     "data": {
      "text/html": [
       "<script type=\"text/javascript\">$('.the-bar.progress .progress-bar')\n",
       "                .css('width','4.43%')\n",
       "                .prop('aria-valuenow',4.43)\n",
       "                .text('4.43%');</script>"
      ]
     },
     "metadata": {},
     "output_type": "display_data"
    },
    {
     "data": {
      "text/html": [
       "<script type=\"text/javascript\">$('.the-bar.progress .progress-bar')\n",
       "                .css('width','4.58%')\n",
       "                .prop('aria-valuenow',4.58)\n",
       "                .text('4.58%');</script>"
      ]
     },
     "metadata": {},
     "output_type": "display_data"
    },
    {
     "data": {
      "text/html": [
       "<script type=\"text/javascript\">$('.the-bar.progress .progress-bar')\n",
       "                .css('width','4.70%')\n",
       "                .prop('aria-valuenow',4.70)\n",
       "                .text('4.70%');</script>"
      ]
     },
     "metadata": {},
     "output_type": "display_data"
    },
    {
     "data": {
      "text/html": [
       "<script type=\"text/javascript\">$('.the-bar.progress .progress-bar')\n",
       "                .css('width','4.85%')\n",
       "                .prop('aria-valuenow',4.85)\n",
       "                .text('4.85%');</script>"
      ]
     },
     "metadata": {},
     "output_type": "display_data"
    },
    {
     "data": {
      "text/html": [
       "<script type=\"text/javascript\">$('.the-bar.progress .progress-bar')\n",
       "                .css('width','5.00%')\n",
       "                .prop('aria-valuenow',5.00)\n",
       "                .text('5.00%');</script>"
      ]
     },
     "metadata": {},
     "output_type": "display_data"
    },
    {
     "data": {
      "text/html": [
       "<script type=\"text/javascript\">$('.the-bar.progress .progress-bar')\n",
       "                .css('width','5.15%')\n",
       "                .prop('aria-valuenow',5.15)\n",
       "                .text('5.15%');</script>"
      ]
     },
     "metadata": {},
     "output_type": "display_data"
    },
    {
     "data": {
      "text/html": [
       "<script type=\"text/javascript\">$('.the-bar.progress .progress-bar')\n",
       "                .css('width','5.30%')\n",
       "                .prop('aria-valuenow',5.30)\n",
       "                .text('5.30%');</script>"
      ]
     },
     "metadata": {},
     "output_type": "display_data"
    },
    {
     "data": {
      "text/html": [
       "<script type=\"text/javascript\">$('.the-bar.progress .progress-bar')\n",
       "                .css('width','5.46%')\n",
       "                .prop('aria-valuenow',5.46)\n",
       "                .text('5.46%');</script>"
      ]
     },
     "metadata": {},
     "output_type": "display_data"
    },
    {
     "data": {
      "text/html": [
       "<script type=\"text/javascript\">$('.the-bar.progress .progress-bar')\n",
       "                .css('width','5.61%')\n",
       "                .prop('aria-valuenow',5.61)\n",
       "                .text('5.61%');</script>"
      ]
     },
     "metadata": {},
     "output_type": "display_data"
    },
    {
     "data": {
      "text/html": [
       "<script type=\"text/javascript\">$('.the-bar.progress .progress-bar')\n",
       "                .css('width','5.76%')\n",
       "                .prop('aria-valuenow',5.76)\n",
       "                .text('5.76%');</script>"
      ]
     },
     "metadata": {},
     "output_type": "display_data"
    },
    {
     "data": {
      "text/html": [
       "<script type=\"text/javascript\">$('.the-bar.progress .progress-bar')\n",
       "                .css('width','5.88%')\n",
       "                .prop('aria-valuenow',5.88)\n",
       "                .text('5.88%');</script>"
      ]
     },
     "metadata": {},
     "output_type": "display_data"
    },
    {
     "data": {
      "text/html": [
       "<script type=\"text/javascript\">$('.the-bar.progress .progress-bar')\n",
       "                .css('width','6.03%')\n",
       "                .prop('aria-valuenow',6.03)\n",
       "                .text('6.03%');</script>"
      ]
     },
     "metadata": {},
     "output_type": "display_data"
    },
    {
     "data": {
      "text/html": [
       "<script type=\"text/javascript\">$('.the-bar.progress .progress-bar')\n",
       "                .css('width','6.18%')\n",
       "                .prop('aria-valuenow',6.18)\n",
       "                .text('6.18%');</script>"
      ]
     },
     "metadata": {},
     "output_type": "display_data"
    },
    {
     "data": {
      "text/html": [
       "<script type=\"text/javascript\">$('.the-bar.progress .progress-bar')\n",
       "                .css('width','6.33%')\n",
       "                .prop('aria-valuenow',6.33)\n",
       "                .text('6.33%');</script>"
      ]
     },
     "metadata": {},
     "output_type": "display_data"
    },
    {
     "data": {
      "text/html": [
       "<script type=\"text/javascript\">$('.the-bar.progress .progress-bar')\n",
       "                .css('width','6.48%')\n",
       "                .prop('aria-valuenow',6.48)\n",
       "                .text('6.48%');</script>"
      ]
     },
     "metadata": {},
     "output_type": "display_data"
    },
    {
     "data": {
      "text/html": [
       "<script type=\"text/javascript\">$('.the-bar.progress .progress-bar')\n",
       "                .css('width','6.64%')\n",
       "                .prop('aria-valuenow',6.64)\n",
       "                .text('6.64%');</script>"
      ]
     },
     "metadata": {},
     "output_type": "display_data"
    },
    {
     "data": {
      "text/html": [
       "<script type=\"text/javascript\">$('.the-bar.progress .progress-bar')\n",
       "                .css('width','6.79%')\n",
       "                .prop('aria-valuenow',6.79)\n",
       "                .text('6.79%');</script>"
      ]
     },
     "metadata": {},
     "output_type": "display_data"
    },
    {
     "data": {
      "text/html": [
       "<script type=\"text/javascript\">$('.the-bar.progress .progress-bar')\n",
       "                .css('width','6.94%')\n",
       "                .prop('aria-valuenow',6.94)\n",
       "                .text('6.94%');</script>"
      ]
     },
     "metadata": {},
     "output_type": "display_data"
    },
    {
     "data": {
      "text/html": [
       "<script type=\"text/javascript\">$('.the-bar.progress .progress-bar')\n",
       "                .css('width','7.05%')\n",
       "                .prop('aria-valuenow',7.05)\n",
       "                .text('7.05%');</script>"
      ]
     },
     "metadata": {},
     "output_type": "display_data"
    },
    {
     "data": {
      "text/html": [
       "<script type=\"text/javascript\">$('.the-bar.progress .progress-bar')\n",
       "                .css('width','7.21%')\n",
       "                .prop('aria-valuenow',7.21)\n",
       "                .text('7.21%');</script>"
      ]
     },
     "metadata": {},
     "output_type": "display_data"
    },
    {
     "data": {
      "text/html": [
       "<script type=\"text/javascript\">$('.the-bar.progress .progress-bar')\n",
       "                .css('width','7.36%')\n",
       "                .prop('aria-valuenow',7.36)\n",
       "                .text('7.36%');</script>"
      ]
     },
     "metadata": {},
     "output_type": "display_data"
    },
    {
     "data": {
      "text/html": [
       "<script type=\"text/javascript\">$('.the-bar.progress .progress-bar')\n",
       "                .css('width','7.51%')\n",
       "                .prop('aria-valuenow',7.51)\n",
       "                .text('7.51%');</script>"
      ]
     },
     "metadata": {},
     "output_type": "display_data"
    },
    {
     "data": {
      "text/html": [
       "<script type=\"text/javascript\">$('.the-bar.progress .progress-bar')\n",
       "                .css('width','7.66%')\n",
       "                .prop('aria-valuenow',7.66)\n",
       "                .text('7.66%');</script>"
      ]
     },
     "metadata": {},
     "output_type": "display_data"
    },
    {
     "data": {
      "text/html": [
       "<script type=\"text/javascript\">$('.the-bar.progress .progress-bar')\n",
       "                .css('width','7.82%')\n",
       "                .prop('aria-valuenow',7.82)\n",
       "                .text('7.82%');</script>"
      ]
     },
     "metadata": {},
     "output_type": "display_data"
    },
    {
     "data": {
      "text/html": [
       "<script type=\"text/javascript\">$('.the-bar.progress .progress-bar')\n",
       "                .css('width','8.11%')\n",
       "                .prop('aria-valuenow',8.11)\n",
       "                .text('8.11%');</script>"
      ]
     },
     "metadata": {},
     "output_type": "display_data"
    },
    {
     "data": {
      "text/html": [
       "<script type=\"text/javascript\">$('.the-bar.progress .progress-bar')\n",
       "                .css('width','8.23%')\n",
       "                .prop('aria-valuenow',8.23)\n",
       "                .text('8.23%');</script>"
      ]
     },
     "metadata": {},
     "output_type": "display_data"
    },
    {
     "data": {
      "text/html": [
       "<script type=\"text/javascript\">$('.the-bar.progress .progress-bar')\n",
       "                .css('width','8.53%')\n",
       "                .prop('aria-valuenow',8.53)\n",
       "                .text('8.53%');</script>"
      ]
     },
     "metadata": {},
     "output_type": "display_data"
    },
    {
     "data": {
      "text/html": [
       "<script type=\"text/javascript\">$('.the-bar.progress .progress-bar')\n",
       "                .css('width','8.82%')\n",
       "                .prop('aria-valuenow',8.82)\n",
       "                .text('8.82%');</script>"
      ]
     },
     "metadata": {},
     "output_type": "display_data"
    },
    {
     "data": {
      "text/html": [
       "<script type=\"text/javascript\">$('.the-bar.progress .progress-bar')\n",
       "                .css('width','9.12%')\n",
       "                .prop('aria-valuenow',9.12)\n",
       "                .text('9.12%');</script>"
      ]
     },
     "metadata": {},
     "output_type": "display_data"
    },
    {
     "data": {
      "text/html": [
       "<script type=\"text/javascript\">$('.the-bar.progress .progress-bar')\n",
       "                .css('width','9.40%')\n",
       "                .prop('aria-valuenow',9.40)\n",
       "                .text('9.40%');</script>"
      ]
     },
     "metadata": {},
     "output_type": "display_data"
    },
    {
     "data": {
      "text/html": [
       "<script type=\"text/javascript\">$('.the-bar.progress .progress-bar')\n",
       "                .css('width','9.69%')\n",
       "                .prop('aria-valuenow',9.69)\n",
       "                .text('9.69%');</script>"
      ]
     },
     "metadata": {},
     "output_type": "display_data"
    },
    {
     "data": {
      "text/html": [
       "<script type=\"text/javascript\">$('.the-bar.progress .progress-bar')\n",
       "                .css('width','9.98%')\n",
       "                .prop('aria-valuenow',9.98)\n",
       "                .text('9.98%');</script>"
      ]
     },
     "metadata": {},
     "output_type": "display_data"
    },
    {
     "data": {
      "text/html": [
       "<script type=\"text/javascript\">$('.the-bar.progress .progress-bar')\n",
       "                .css('width','10.28%')\n",
       "                .prop('aria-valuenow',10.28)\n",
       "                .text('10.28%');</script>"
      ]
     },
     "metadata": {},
     "output_type": "display_data"
    },
    {
     "data": {
      "text/html": [
       "<script type=\"text/javascript\">$('.the-bar.progress .progress-bar')\n",
       "                .css('width','10.57%')\n",
       "                .prop('aria-valuenow',10.57)\n",
       "                .text('10.57%');</script>"
      ]
     },
     "metadata": {},
     "output_type": "display_data"
    },
    {
     "data": {
      "text/html": [
       "<script type=\"text/javascript\">$('.the-bar.progress .progress-bar')\n",
       "                .css('width','10.87%')\n",
       "                .prop('aria-valuenow',10.87)\n",
       "                .text('10.87%');</script>"
      ]
     },
     "metadata": {},
     "output_type": "display_data"
    },
    {
     "data": {
      "text/html": [
       "<script type=\"text/javascript\">$('.the-bar.progress .progress-bar')\n",
       "                .css('width','11.16%')\n",
       "                .prop('aria-valuenow',11.16)\n",
       "                .text('11.16%');</script>"
      ]
     },
     "metadata": {},
     "output_type": "display_data"
    },
    {
     "data": {
      "text/html": [
       "<script type=\"text/javascript\">$('.the-bar.progress .progress-bar')\n",
       "                .css('width','11.46%')\n",
       "                .prop('aria-valuenow',11.46)\n",
       "                .text('11.46%');</script>"
      ]
     },
     "metadata": {},
     "output_type": "display_data"
    },
    {
     "data": {
      "text/html": [
       "<script type=\"text/javascript\">$('.the-bar.progress .progress-bar')\n",
       "                .css('width','11.75%')\n",
       "                .prop('aria-valuenow',11.75)\n",
       "                .text('11.75%');</script>"
      ]
     },
     "metadata": {},
     "output_type": "display_data"
    },
    {
     "data": {
      "text/html": [
       "<script type=\"text/javascript\">$('.the-bar.progress .progress-bar')\n",
       "                .css('width','12.05%')\n",
       "                .prop('aria-valuenow',12.05)\n",
       "                .text('12.05%');</script>"
      ]
     },
     "metadata": {},
     "output_type": "display_data"
    },
    {
     "data": {
      "text/html": [
       "<script type=\"text/javascript\">$('.the-bar.progress .progress-bar')\n",
       "                .css('width','12.34%')\n",
       "                .prop('aria-valuenow',12.34)\n",
       "                .text('12.34%');</script>"
      ]
     },
     "metadata": {},
     "output_type": "display_data"
    },
    {
     "data": {
      "text/html": [
       "<script type=\"text/javascript\">$('.the-bar.progress .progress-bar')\n",
       "                .css('width','12.64%')\n",
       "                .prop('aria-valuenow',12.64)\n",
       "                .text('12.64%');</script>"
      ]
     },
     "metadata": {},
     "output_type": "display_data"
    },
    {
     "data": {
      "text/html": [
       "<script type=\"text/javascript\">$('.the-bar.progress .progress-bar')\n",
       "                .css('width','12.93%')\n",
       "                .prop('aria-valuenow',12.93)\n",
       "                .text('12.93%');</script>"
      ]
     },
     "metadata": {},
     "output_type": "display_data"
    },
    {
     "data": {
      "text/html": [
       "<script type=\"text/javascript\">$('.the-bar.progress .progress-bar')\n",
       "                .css('width','13.23%')\n",
       "                .prop('aria-valuenow',13.23)\n",
       "                .text('13.23%');</script>"
      ]
     },
     "metadata": {},
     "output_type": "display_data"
    },
    {
     "data": {
      "text/html": [
       "<script type=\"text/javascript\">$('.the-bar.progress .progress-bar')\n",
       "                .css('width','13.52%')\n",
       "                .prop('aria-valuenow',13.52)\n",
       "                .text('13.52%');</script>"
      ]
     },
     "metadata": {},
     "output_type": "display_data"
    },
    {
     "data": {
      "text/html": [
       "<script type=\"text/javascript\">$('.the-bar.progress .progress-bar')\n",
       "                .css('width','13.82%')\n",
       "                .prop('aria-valuenow',13.82)\n",
       "                .text('13.82%');</script>"
      ]
     },
     "metadata": {},
     "output_type": "display_data"
    },
    {
     "data": {
      "text/html": [
       "<script type=\"text/javascript\">$('.the-bar.progress .progress-bar')\n",
       "                .css('width','14.11%')\n",
       "                .prop('aria-valuenow',14.11)\n",
       "                .text('14.11%');</script>"
      ]
     },
     "metadata": {},
     "output_type": "display_data"
    },
    {
     "data": {
      "text/html": [
       "<script type=\"text/javascript\">$('.the-bar.progress .progress-bar')\n",
       "                .css('width','14.41%')\n",
       "                .prop('aria-valuenow',14.41)\n",
       "                .text('14.41%');</script>"
      ]
     },
     "metadata": {},
     "output_type": "display_data"
    },
    {
     "data": {
      "text/html": [
       "<script type=\"text/javascript\">$('.the-bar.progress .progress-bar')\n",
       "                .css('width','14.70%')\n",
       "                .prop('aria-valuenow',14.70)\n",
       "                .text('14.70%');</script>"
      ]
     },
     "metadata": {},
     "output_type": "display_data"
    },
    {
     "data": {
      "text/html": [
       "<script type=\"text/javascript\">$('.the-bar.progress .progress-bar')\n",
       "                .css('width','15.00%')\n",
       "                .prop('aria-valuenow',15.00)\n",
       "                .text('15.00%');</script>"
      ]
     },
     "metadata": {},
     "output_type": "display_data"
    },
    {
     "data": {
      "text/html": [
       "<script type=\"text/javascript\">$('.the-bar.progress .progress-bar')\n",
       "                .css('width','15.29%')\n",
       "                .prop('aria-valuenow',15.29)\n",
       "                .text('15.29%');</script>"
      ]
     },
     "metadata": {},
     "output_type": "display_data"
    },
    {
     "data": {
      "text/html": [
       "<script type=\"text/javascript\">$('.the-bar.progress .progress-bar')\n",
       "                .css('width','15.59%')\n",
       "                .prop('aria-valuenow',15.59)\n",
       "                .text('15.59%');</script>"
      ]
     },
     "metadata": {},
     "output_type": "display_data"
    },
    {
     "data": {
      "text/html": [
       "<script type=\"text/javascript\">$('.the-bar.progress .progress-bar')\n",
       "                .css('width','15.88%')\n",
       "                .prop('aria-valuenow',15.88)\n",
       "                .text('15.88%');</script>"
      ]
     },
     "metadata": {},
     "output_type": "display_data"
    },
    {
     "data": {
      "text/html": [
       "<script type=\"text/javascript\">$('.the-bar.progress .progress-bar')\n",
       "                .css('width','16.18%')\n",
       "                .prop('aria-valuenow',16.18)\n",
       "                .text('16.18%');</script>"
      ]
     },
     "metadata": {},
     "output_type": "display_data"
    },
    {
     "data": {
      "text/html": [
       "<script type=\"text/javascript\">$('.the-bar.progress .progress-bar')\n",
       "                .css('width','16.47%')\n",
       "                .prop('aria-valuenow',16.47)\n",
       "                .text('16.47%');</script>"
      ]
     },
     "metadata": {},
     "output_type": "display_data"
    },
    {
     "data": {
      "text/html": [
       "<script type=\"text/javascript\">$('.the-bar.progress .progress-bar')\n",
       "                .css('width','16.76%')\n",
       "                .prop('aria-valuenow',16.76)\n",
       "                .text('16.76%');</script>"
      ]
     },
     "metadata": {},
     "output_type": "display_data"
    },
    {
     "data": {
      "text/html": [
       "<script type=\"text/javascript\">$('.the-bar.progress .progress-bar')\n",
       "                .css('width','17.06%')\n",
       "                .prop('aria-valuenow',17.06)\n",
       "                .text('17.06%');</script>"
      ]
     },
     "metadata": {},
     "output_type": "display_data"
    },
    {
     "data": {
      "text/html": [
       "<script type=\"text/javascript\">$('.the-bar.progress .progress-bar')\n",
       "                .css('width','17.35%')\n",
       "                .prop('aria-valuenow',17.35)\n",
       "                .text('17.35%');</script>"
      ]
     },
     "metadata": {},
     "output_type": "display_data"
    },
    {
     "data": {
      "text/html": [
       "<script type=\"text/javascript\">$('.the-bar.progress .progress-bar')\n",
       "                .css('width','17.65%')\n",
       "                .prop('aria-valuenow',17.65)\n",
       "                .text('17.65%');</script>"
      ]
     },
     "metadata": {},
     "output_type": "display_data"
    },
    {
     "data": {
      "text/html": [
       "<script type=\"text/javascript\">$('.the-bar.progress .progress-bar')\n",
       "                .css('width','17.94%')\n",
       "                .prop('aria-valuenow',17.94)\n",
       "                .text('17.94%');</script>"
      ]
     },
     "metadata": {},
     "output_type": "display_data"
    },
    {
     "data": {
      "text/html": [
       "<script type=\"text/javascript\">$('.the-bar.progress .progress-bar')\n",
       "                .css('width','18.24%')\n",
       "                .prop('aria-valuenow',18.24)\n",
       "                .text('18.24%');</script>"
      ]
     },
     "metadata": {},
     "output_type": "display_data"
    },
    {
     "data": {
      "text/html": [
       "<script type=\"text/javascript\">$('.the-bar.progress .progress-bar')\n",
       "                .css('width','18.53%')\n",
       "                .prop('aria-valuenow',18.53)\n",
       "                .text('18.53%');</script>"
      ]
     },
     "metadata": {},
     "output_type": "display_data"
    },
    {
     "data": {
      "text/html": [
       "<script type=\"text/javascript\">$('.the-bar.progress .progress-bar')\n",
       "                .css('width','18.83%')\n",
       "                .prop('aria-valuenow',18.83)\n",
       "                .text('18.83%');</script>"
      ]
     },
     "metadata": {},
     "output_type": "display_data"
    },
    {
     "data": {
      "text/html": [
       "<script type=\"text/javascript\">$('.the-bar.progress .progress-bar')\n",
       "                .css('width','19.12%')\n",
       "                .prop('aria-valuenow',19.12)\n",
       "                .text('19.12%');</script>"
      ]
     },
     "metadata": {},
     "output_type": "display_data"
    },
    {
     "data": {
      "text/html": [
       "<script type=\"text/javascript\">$('.the-bar.progress .progress-bar')\n",
       "                .css('width','19.42%')\n",
       "                .prop('aria-valuenow',19.42)\n",
       "                .text('19.42%');</script>"
      ]
     },
     "metadata": {},
     "output_type": "display_data"
    },
    {
     "data": {
      "text/html": [
       "<script type=\"text/javascript\">$('.the-bar.progress .progress-bar')\n",
       "                .css('width','19.71%')\n",
       "                .prop('aria-valuenow',19.71)\n",
       "                .text('19.71%');</script>"
      ]
     },
     "metadata": {},
     "output_type": "display_data"
    },
    {
     "data": {
      "text/html": [
       "<script type=\"text/javascript\">$('.the-bar.progress .progress-bar')\n",
       "                .css('width','20.01%')\n",
       "                .prop('aria-valuenow',20.01)\n",
       "                .text('20.01%');</script>"
      ]
     },
     "metadata": {},
     "output_type": "display_data"
    },
    {
     "data": {
      "text/html": [
       "<script type=\"text/javascript\">$('.the-bar.progress .progress-bar')\n",
       "                .css('width','20.30%')\n",
       "                .prop('aria-valuenow',20.30)\n",
       "                .text('20.30%');</script>"
      ]
     },
     "metadata": {},
     "output_type": "display_data"
    },
    {
     "data": {
      "text/html": [
       "<script type=\"text/javascript\">$('.the-bar.progress .progress-bar')\n",
       "                .css('width','20.60%')\n",
       "                .prop('aria-valuenow',20.60)\n",
       "                .text('20.60%');</script>"
      ]
     },
     "metadata": {},
     "output_type": "display_data"
    },
    {
     "data": {
      "text/html": [
       "<script type=\"text/javascript\">$('.the-bar.progress .progress-bar')\n",
       "                .css('width','20.89%')\n",
       "                .prop('aria-valuenow',20.89)\n",
       "                .text('20.89%');</script>"
      ]
     },
     "metadata": {},
     "output_type": "display_data"
    },
    {
     "data": {
      "text/html": [
       "<script type=\"text/javascript\">$('.the-bar.progress .progress-bar')\n",
       "                .css('width','21.19%')\n",
       "                .prop('aria-valuenow',21.19)\n",
       "                .text('21.19%');</script>"
      ]
     },
     "metadata": {},
     "output_type": "display_data"
    },
    {
     "data": {
      "text/html": [
       "<script type=\"text/javascript\">$('.the-bar.progress .progress-bar')\n",
       "                .css('width','21.48%')\n",
       "                .prop('aria-valuenow',21.48)\n",
       "                .text('21.48%');</script>"
      ]
     },
     "metadata": {},
     "output_type": "display_data"
    },
    {
     "data": {
      "text/html": [
       "<script type=\"text/javascript\">$('.the-bar.progress .progress-bar')\n",
       "                .css('width','21.78%')\n",
       "                .prop('aria-valuenow',21.78)\n",
       "                .text('21.78%');</script>"
      ]
     },
     "metadata": {},
     "output_type": "display_data"
    },
    {
     "data": {
      "text/html": [
       "<script type=\"text/javascript\">$('.the-bar.progress .progress-bar')\n",
       "                .css('width','22.07%')\n",
       "                .prop('aria-valuenow',22.07)\n",
       "                .text('22.07%');</script>"
      ]
     },
     "metadata": {},
     "output_type": "display_data"
    },
    {
     "data": {
      "text/html": [
       "<script type=\"text/javascript\">$('.the-bar.progress .progress-bar')\n",
       "                .css('width','22.37%')\n",
       "                .prop('aria-valuenow',22.37)\n",
       "                .text('22.37%');</script>"
      ]
     },
     "metadata": {},
     "output_type": "display_data"
    },
    {
     "data": {
      "text/html": [
       "<script type=\"text/javascript\">$('.the-bar.progress .progress-bar')\n",
       "                .css('width','22.66%')\n",
       "                .prop('aria-valuenow',22.66)\n",
       "                .text('22.66%');</script>"
      ]
     },
     "metadata": {},
     "output_type": "display_data"
    },
    {
     "data": {
      "text/html": [
       "<script type=\"text/javascript\">$('.the-bar.progress .progress-bar')\n",
       "                .css('width','22.96%')\n",
       "                .prop('aria-valuenow',22.96)\n",
       "                .text('22.96%');</script>"
      ]
     },
     "metadata": {},
     "output_type": "display_data"
    },
    {
     "data": {
      "text/html": [
       "<script type=\"text/javascript\">$('.the-bar.progress .progress-bar')\n",
       "                .css('width','23.25%')\n",
       "                .prop('aria-valuenow',23.25)\n",
       "                .text('23.25%');</script>"
      ]
     },
     "metadata": {},
     "output_type": "display_data"
    },
    {
     "data": {
      "text/html": [
       "<script type=\"text/javascript\">$('.the-bar.progress .progress-bar')\n",
       "                .css('width','23.55%')\n",
       "                .prop('aria-valuenow',23.55)\n",
       "                .text('23.55%');</script>"
      ]
     },
     "metadata": {},
     "output_type": "display_data"
    },
    {
     "data": {
      "text/html": [
       "<script type=\"text/javascript\">$('.the-bar.progress .progress-bar')\n",
       "                .css('width','23.84%')\n",
       "                .prop('aria-valuenow',23.84)\n",
       "                .text('23.84%');</script>"
      ]
     },
     "metadata": {},
     "output_type": "display_data"
    },
    {
     "data": {
      "text/html": [
       "<script type=\"text/javascript\">$('.the-bar.progress .progress-bar')\n",
       "                .css('width','24.13%')\n",
       "                .prop('aria-valuenow',24.13)\n",
       "                .text('24.13%');</script>"
      ]
     },
     "metadata": {},
     "output_type": "display_data"
    },
    {
     "data": {
      "text/html": [
       "<script type=\"text/javascript\">$('.the-bar.progress .progress-bar')\n",
       "                .css('width','24.43%')\n",
       "                .prop('aria-valuenow',24.43)\n",
       "                .text('24.43%');</script>"
      ]
     },
     "metadata": {},
     "output_type": "display_data"
    },
    {
     "data": {
      "text/html": [
       "<script type=\"text/javascript\">$('.the-bar.progress .progress-bar')\n",
       "                .css('width','24.72%')\n",
       "                .prop('aria-valuenow',24.72)\n",
       "                .text('24.72%');</script>"
      ]
     },
     "metadata": {},
     "output_type": "display_data"
    },
    {
     "data": {
      "text/html": [
       "<script type=\"text/javascript\">$('.the-bar.progress .progress-bar')\n",
       "                .css('width','25.02%')\n",
       "                .prop('aria-valuenow',25.02)\n",
       "                .text('25.02%');</script>"
      ]
     },
     "metadata": {},
     "output_type": "display_data"
    },
    {
     "data": {
      "text/html": [
       "<script type=\"text/javascript\">$('.the-bar.progress .progress-bar')\n",
       "                .css('width','25.31%')\n",
       "                .prop('aria-valuenow',25.31)\n",
       "                .text('25.31%');</script>"
      ]
     },
     "metadata": {},
     "output_type": "display_data"
    },
    {
     "data": {
      "text/html": [
       "<script type=\"text/javascript\">$('.the-bar.progress .progress-bar')\n",
       "                .css('width','25.61%')\n",
       "                .prop('aria-valuenow',25.61)\n",
       "                .text('25.61%');</script>"
      ]
     },
     "metadata": {},
     "output_type": "display_data"
    },
    {
     "data": {
      "text/html": [
       "<script type=\"text/javascript\">$('.the-bar.progress .progress-bar')\n",
       "                .css('width','25.90%')\n",
       "                .prop('aria-valuenow',25.90)\n",
       "                .text('25.90%');</script>"
      ]
     },
     "metadata": {},
     "output_type": "display_data"
    },
    {
     "data": {
      "text/html": [
       "<script type=\"text/javascript\">$('.the-bar.progress .progress-bar')\n",
       "                .css('width','26.20%')\n",
       "                .prop('aria-valuenow',26.20)\n",
       "                .text('26.20%');</script>"
      ]
     },
     "metadata": {},
     "output_type": "display_data"
    },
    {
     "data": {
      "text/html": [
       "<script type=\"text/javascript\">$('.the-bar.progress .progress-bar')\n",
       "                .css('width','26.49%')\n",
       "                .prop('aria-valuenow',26.49)\n",
       "                .text('26.49%');</script>"
      ]
     },
     "metadata": {},
     "output_type": "display_data"
    },
    {
     "data": {
      "text/html": [
       "<script type=\"text/javascript\">$('.the-bar.progress .progress-bar')\n",
       "                .css('width','26.79%')\n",
       "                .prop('aria-valuenow',26.79)\n",
       "                .text('26.79%');</script>"
      ]
     },
     "metadata": {},
     "output_type": "display_data"
    },
    {
     "data": {
      "text/html": [
       "<script type=\"text/javascript\">$('.the-bar.progress .progress-bar')\n",
       "                .css('width','27.08%')\n",
       "                .prop('aria-valuenow',27.08)\n",
       "                .text('27.08%');</script>"
      ]
     },
     "metadata": {},
     "output_type": "display_data"
    },
    {
     "data": {
      "text/html": [
       "<script type=\"text/javascript\">$('.the-bar.progress .progress-bar')\n",
       "                .css('width','27.38%')\n",
       "                .prop('aria-valuenow',27.38)\n",
       "                .text('27.38%');</script>"
      ]
     },
     "metadata": {},
     "output_type": "display_data"
    },
    {
     "data": {
      "text/html": [
       "<script type=\"text/javascript\">$('.the-bar.progress .progress-bar')\n",
       "                .css('width','27.67%')\n",
       "                .prop('aria-valuenow',27.67)\n",
       "                .text('27.67%');</script>"
      ]
     },
     "metadata": {},
     "output_type": "display_data"
    },
    {
     "data": {
      "text/html": [
       "<script type=\"text/javascript\">$('.the-bar.progress .progress-bar')\n",
       "                .css('width','27.97%')\n",
       "                .prop('aria-valuenow',27.97)\n",
       "                .text('27.97%');</script>"
      ]
     },
     "metadata": {},
     "output_type": "display_data"
    },
    {
     "data": {
      "text/html": [
       "<script type=\"text/javascript\">$('.the-bar.progress .progress-bar')\n",
       "                .css('width','28.26%')\n",
       "                .prop('aria-valuenow',28.26)\n",
       "                .text('28.26%');</script>"
      ]
     },
     "metadata": {},
     "output_type": "display_data"
    },
    {
     "data": {
      "text/html": [
       "<script type=\"text/javascript\">$('.the-bar.progress .progress-bar')\n",
       "                .css('width','28.56%')\n",
       "                .prop('aria-valuenow',28.56)\n",
       "                .text('28.56%');</script>"
      ]
     },
     "metadata": {},
     "output_type": "display_data"
    },
    {
     "data": {
      "text/html": [
       "<script type=\"text/javascript\">$('.the-bar.progress .progress-bar')\n",
       "                .css('width','28.85%')\n",
       "                .prop('aria-valuenow',28.85)\n",
       "                .text('28.85%');</script>"
      ]
     },
     "metadata": {},
     "output_type": "display_data"
    },
    {
     "data": {
      "text/html": [
       "<script type=\"text/javascript\">$('.the-bar.progress .progress-bar')\n",
       "                .css('width','29.15%')\n",
       "                .prop('aria-valuenow',29.15)\n",
       "                .text('29.15%');</script>"
      ]
     },
     "metadata": {},
     "output_type": "display_data"
    },
    {
     "data": {
      "text/html": [
       "<script type=\"text/javascript\">$('.the-bar.progress .progress-bar')\n",
       "                .css('width','29.44%')\n",
       "                .prop('aria-valuenow',29.44)\n",
       "                .text('29.44%');</script>"
      ]
     },
     "metadata": {},
     "output_type": "display_data"
    },
    {
     "data": {
      "text/html": [
       "<script type=\"text/javascript\">$('.the-bar.progress .progress-bar')\n",
       "                .css('width','29.74%')\n",
       "                .prop('aria-valuenow',29.74)\n",
       "                .text('29.74%');</script>"
      ]
     },
     "metadata": {},
     "output_type": "display_data"
    },
    {
     "data": {
      "text/html": [
       "<script type=\"text/javascript\">$('.the-bar.progress .progress-bar')\n",
       "                .css('width','30.03%')\n",
       "                .prop('aria-valuenow',30.03)\n",
       "                .text('30.03%');</script>"
      ]
     },
     "metadata": {},
     "output_type": "display_data"
    },
    {
     "data": {
      "text/html": [
       "<script type=\"text/javascript\">$('.the-bar.progress .progress-bar')\n",
       "                .css('width','30.33%')\n",
       "                .prop('aria-valuenow',30.33)\n",
       "                .text('30.33%');</script>"
      ]
     },
     "metadata": {},
     "output_type": "display_data"
    },
    {
     "data": {
      "text/html": [
       "<script type=\"text/javascript\">$('.the-bar.progress .progress-bar')\n",
       "                .css('width','30.62%')\n",
       "                .prop('aria-valuenow',30.62)\n",
       "                .text('30.62%');</script>"
      ]
     },
     "metadata": {},
     "output_type": "display_data"
    },
    {
     "data": {
      "text/html": [
       "<script type=\"text/javascript\">$('.the-bar.progress .progress-bar')\n",
       "                .css('width','30.91%')\n",
       "                .prop('aria-valuenow',30.91)\n",
       "                .text('30.91%');</script>"
      ]
     },
     "metadata": {},
     "output_type": "display_data"
    },
    {
     "data": {
      "text/html": [
       "<script type=\"text/javascript\">$('.the-bar.progress .progress-bar')\n",
       "                .css('width','31.21%')\n",
       "                .prop('aria-valuenow',31.21)\n",
       "                .text('31.21%');</script>"
      ]
     },
     "metadata": {},
     "output_type": "display_data"
    },
    {
     "data": {
      "text/html": [
       "<script type=\"text/javascript\">$('.the-bar.progress .progress-bar')\n",
       "                .css('width','31.50%')\n",
       "                .prop('aria-valuenow',31.50)\n",
       "                .text('31.50%');</script>"
      ]
     },
     "metadata": {},
     "output_type": "display_data"
    },
    {
     "data": {
      "text/html": [
       "<script type=\"text/javascript\">$('.the-bar.progress .progress-bar')\n",
       "                .css('width','31.80%')\n",
       "                .prop('aria-valuenow',31.80)\n",
       "                .text('31.80%');</script>"
      ]
     },
     "metadata": {},
     "output_type": "display_data"
    },
    {
     "data": {
      "text/html": [
       "<script type=\"text/javascript\">$('.the-bar.progress .progress-bar')\n",
       "                .css('width','32.09%')\n",
       "                .prop('aria-valuenow',32.09)\n",
       "                .text('32.09%');</script>"
      ]
     },
     "metadata": {},
     "output_type": "display_data"
    },
    {
     "data": {
      "text/html": [
       "<script type=\"text/javascript\">$('.the-bar.progress .progress-bar')\n",
       "                .css('width','32.39%')\n",
       "                .prop('aria-valuenow',32.39)\n",
       "                .text('32.39%');</script>"
      ]
     },
     "metadata": {},
     "output_type": "display_data"
    },
    {
     "data": {
      "text/html": [
       "<script type=\"text/javascript\">$('.the-bar.progress .progress-bar')\n",
       "                .css('width','32.68%')\n",
       "                .prop('aria-valuenow',32.68)\n",
       "                .text('32.68%');</script>"
      ]
     },
     "metadata": {},
     "output_type": "display_data"
    },
    {
     "data": {
      "text/html": [
       "<script type=\"text/javascript\">$('.the-bar.progress .progress-bar')\n",
       "                .css('width','32.98%')\n",
       "                .prop('aria-valuenow',32.98)\n",
       "                .text('32.98%');</script>"
      ]
     },
     "metadata": {},
     "output_type": "display_data"
    },
    {
     "data": {
      "text/html": [
       "<script type=\"text/javascript\">$('.the-bar.progress .progress-bar')\n",
       "                .css('width','33.27%')\n",
       "                .prop('aria-valuenow',33.27)\n",
       "                .text('33.27%');</script>"
      ]
     },
     "metadata": {},
     "output_type": "display_data"
    },
    {
     "data": {
      "text/html": [
       "<script type=\"text/javascript\">$('.the-bar.progress .progress-bar')\n",
       "                .css('width','33.57%')\n",
       "                .prop('aria-valuenow',33.57)\n",
       "                .text('33.57%');</script>"
      ]
     },
     "metadata": {},
     "output_type": "display_data"
    },
    {
     "data": {
      "text/html": [
       "<script type=\"text/javascript\">$('.the-bar.progress .progress-bar')\n",
       "                .css('width','33.86%')\n",
       "                .prop('aria-valuenow',33.86)\n",
       "                .text('33.86%');</script>"
      ]
     },
     "metadata": {},
     "output_type": "display_data"
    },
    {
     "data": {
      "text/html": [
       "<script type=\"text/javascript\">$('.the-bar.progress .progress-bar')\n",
       "                .css('width','34.16%')\n",
       "                .prop('aria-valuenow',34.16)\n",
       "                .text('34.16%');</script>"
      ]
     },
     "metadata": {},
     "output_type": "display_data"
    },
    {
     "data": {
      "text/html": [
       "<script type=\"text/javascript\">$('.the-bar.progress .progress-bar')\n",
       "                .css('width','34.45%')\n",
       "                .prop('aria-valuenow',34.45)\n",
       "                .text('34.45%');</script>"
      ]
     },
     "metadata": {},
     "output_type": "display_data"
    },
    {
     "data": {
      "text/html": [
       "<script type=\"text/javascript\">$('.the-bar.progress .progress-bar')\n",
       "                .css('width','34.75%')\n",
       "                .prop('aria-valuenow',34.75)\n",
       "                .text('34.75%');</script>"
      ]
     },
     "metadata": {},
     "output_type": "display_data"
    },
    {
     "data": {
      "text/html": [
       "<script type=\"text/javascript\">$('.the-bar.progress .progress-bar')\n",
       "                .css('width','35.04%')\n",
       "                .prop('aria-valuenow',35.04)\n",
       "                .text('35.04%');</script>"
      ]
     },
     "metadata": {},
     "output_type": "display_data"
    },
    {
     "data": {
      "text/html": [
       "<script type=\"text/javascript\">$('.the-bar.progress .progress-bar')\n",
       "                .css('width','35.34%')\n",
       "                .prop('aria-valuenow',35.34)\n",
       "                .text('35.34%');</script>"
      ]
     },
     "metadata": {},
     "output_type": "display_data"
    },
    {
     "data": {
      "text/html": [
       "<script type=\"text/javascript\">$('.the-bar.progress .progress-bar')\n",
       "                .css('width','35.63%')\n",
       "                .prop('aria-valuenow',35.63)\n",
       "                .text('35.63%');</script>"
      ]
     },
     "metadata": {},
     "output_type": "display_data"
    },
    {
     "data": {
      "text/html": [
       "<script type=\"text/javascript\">$('.the-bar.progress .progress-bar')\n",
       "                .css('width','35.93%')\n",
       "                .prop('aria-valuenow',35.93)\n",
       "                .text('35.93%');</script>"
      ]
     },
     "metadata": {},
     "output_type": "display_data"
    },
    {
     "data": {
      "text/html": [
       "<script type=\"text/javascript\">$('.the-bar.progress .progress-bar')\n",
       "                .css('width','36.22%')\n",
       "                .prop('aria-valuenow',36.22)\n",
       "                .text('36.22%');</script>"
      ]
     },
     "metadata": {},
     "output_type": "display_data"
    },
    {
     "data": {
      "text/html": [
       "<script type=\"text/javascript\">$('.the-bar.progress .progress-bar')\n",
       "                .css('width','36.52%')\n",
       "                .prop('aria-valuenow',36.52)\n",
       "                .text('36.52%');</script>"
      ]
     },
     "metadata": {},
     "output_type": "display_data"
    },
    {
     "data": {
      "text/html": [
       "<script type=\"text/javascript\">$('.the-bar.progress .progress-bar')\n",
       "                .css('width','36.81%')\n",
       "                .prop('aria-valuenow',36.81)\n",
       "                .text('36.81%');</script>"
      ]
     },
     "metadata": {},
     "output_type": "display_data"
    },
    {
     "data": {
      "text/html": [
       "<script type=\"text/javascript\">$('.the-bar.progress .progress-bar')\n",
       "                .css('width','37.11%')\n",
       "                .prop('aria-valuenow',37.11)\n",
       "                .text('37.11%');</script>"
      ]
     },
     "metadata": {},
     "output_type": "display_data"
    },
    {
     "data": {
      "text/html": [
       "<script type=\"text/javascript\">$('.the-bar.progress .progress-bar')\n",
       "                .css('width','37.40%')\n",
       "                .prop('aria-valuenow',37.40)\n",
       "                .text('37.40%');</script>"
      ]
     },
     "metadata": {},
     "output_type": "display_data"
    },
    {
     "data": {
      "text/html": [
       "<script type=\"text/javascript\">$('.the-bar.progress .progress-bar')\n",
       "                .css('width','37.70%')\n",
       "                .prop('aria-valuenow',37.70)\n",
       "                .text('37.70%');</script>"
      ]
     },
     "metadata": {},
     "output_type": "display_data"
    },
    {
     "data": {
      "text/html": [
       "<script type=\"text/javascript\">$('.the-bar.progress .progress-bar')\n",
       "                .css('width','37.99%')\n",
       "                .prop('aria-valuenow',37.99)\n",
       "                .text('37.99%');</script>"
      ]
     },
     "metadata": {},
     "output_type": "display_data"
    },
    {
     "data": {
      "text/html": [
       "<script type=\"text/javascript\">$('.the-bar.progress .progress-bar')\n",
       "                .css('width','38.28%')\n",
       "                .prop('aria-valuenow',38.28)\n",
       "                .text('38.28%');</script>"
      ]
     },
     "metadata": {},
     "output_type": "display_data"
    },
    {
     "data": {
      "text/html": [
       "<script type=\"text/javascript\">$('.the-bar.progress .progress-bar')\n",
       "                .css('width','38.58%')\n",
       "                .prop('aria-valuenow',38.58)\n",
       "                .text('38.58%');</script>"
      ]
     },
     "metadata": {},
     "output_type": "display_data"
    },
    {
     "data": {
      "text/html": [
       "<script type=\"text/javascript\">$('.the-bar.progress .progress-bar')\n",
       "                .css('width','38.87%')\n",
       "                .prop('aria-valuenow',38.87)\n",
       "                .text('38.87%');</script>"
      ]
     },
     "metadata": {},
     "output_type": "display_data"
    },
    {
     "data": {
      "text/html": [
       "<script type=\"text/javascript\">$('.the-bar.progress .progress-bar')\n",
       "                .css('width','39.17%')\n",
       "                .prop('aria-valuenow',39.17)\n",
       "                .text('39.17%');</script>"
      ]
     },
     "metadata": {},
     "output_type": "display_data"
    },
    {
     "data": {
      "text/html": [
       "<script type=\"text/javascript\">$('.the-bar.progress .progress-bar')\n",
       "                .css('width','39.46%')\n",
       "                .prop('aria-valuenow',39.46)\n",
       "                .text('39.46%');</script>"
      ]
     },
     "metadata": {},
     "output_type": "display_data"
    },
    {
     "data": {
      "text/html": [
       "<script type=\"text/javascript\">$('.the-bar.progress .progress-bar')\n",
       "                .css('width','39.76%')\n",
       "                .prop('aria-valuenow',39.76)\n",
       "                .text('39.76%');</script>"
      ]
     },
     "metadata": {},
     "output_type": "display_data"
    },
    {
     "data": {
      "text/html": [
       "<script type=\"text/javascript\">$('.the-bar.progress .progress-bar')\n",
       "                .css('width','40.05%')\n",
       "                .prop('aria-valuenow',40.05)\n",
       "                .text('40.05%');</script>"
      ]
     },
     "metadata": {},
     "output_type": "display_data"
    },
    {
     "data": {
      "text/html": [
       "<script type=\"text/javascript\">$('.the-bar.progress .progress-bar')\n",
       "                .css('width','40.35%')\n",
       "                .prop('aria-valuenow',40.35)\n",
       "                .text('40.35%');</script>"
      ]
     },
     "metadata": {},
     "output_type": "display_data"
    },
    {
     "data": {
      "text/html": [
       "<script type=\"text/javascript\">$('.the-bar.progress .progress-bar')\n",
       "                .css('width','40.64%')\n",
       "                .prop('aria-valuenow',40.64)\n",
       "                .text('40.64%');</script>"
      ]
     },
     "metadata": {},
     "output_type": "display_data"
    },
    {
     "data": {
      "text/html": [
       "<script type=\"text/javascript\">$('.the-bar.progress .progress-bar')\n",
       "                .css('width','40.94%')\n",
       "                .prop('aria-valuenow',40.94)\n",
       "                .text('40.94%');</script>"
      ]
     },
     "metadata": {},
     "output_type": "display_data"
    },
    {
     "data": {
      "text/html": [
       "<script type=\"text/javascript\">$('.the-bar.progress .progress-bar')\n",
       "                .css('width','41.23%')\n",
       "                .prop('aria-valuenow',41.23)\n",
       "                .text('41.23%');</script>"
      ]
     },
     "metadata": {},
     "output_type": "display_data"
    },
    {
     "data": {
      "text/html": [
       "<script type=\"text/javascript\">$('.the-bar.progress .progress-bar')\n",
       "                .css('width','41.53%')\n",
       "                .prop('aria-valuenow',41.53)\n",
       "                .text('41.53%');</script>"
      ]
     },
     "metadata": {},
     "output_type": "display_data"
    },
    {
     "data": {
      "text/html": [
       "<script type=\"text/javascript\">$('.the-bar.progress .progress-bar')\n",
       "                .css('width','41.82%')\n",
       "                .prop('aria-valuenow',41.82)\n",
       "                .text('41.82%');</script>"
      ]
     },
     "metadata": {},
     "output_type": "display_data"
    },
    {
     "data": {
      "text/html": [
       "<script type=\"text/javascript\">$('.the-bar.progress .progress-bar')\n",
       "                .css('width','42.12%')\n",
       "                .prop('aria-valuenow',42.12)\n",
       "                .text('42.12%');</script>"
      ]
     },
     "metadata": {},
     "output_type": "display_data"
    },
    {
     "data": {
      "text/html": [
       "<script type=\"text/javascript\">$('.the-bar.progress .progress-bar')\n",
       "                .css('width','42.41%')\n",
       "                .prop('aria-valuenow',42.41)\n",
       "                .text('42.41%');</script>"
      ]
     },
     "metadata": {},
     "output_type": "display_data"
    },
    {
     "data": {
      "text/html": [
       "<script type=\"text/javascript\">$('.the-bar.progress .progress-bar')\n",
       "                .css('width','42.71%')\n",
       "                .prop('aria-valuenow',42.71)\n",
       "                .text('42.71%');</script>"
      ]
     },
     "metadata": {},
     "output_type": "display_data"
    },
    {
     "data": {
      "text/html": [
       "<script type=\"text/javascript\">$('.the-bar.progress .progress-bar')\n",
       "                .css('width','43.00%')\n",
       "                .prop('aria-valuenow',43.00)\n",
       "                .text('43.00%');</script>"
      ]
     },
     "metadata": {},
     "output_type": "display_data"
    },
    {
     "data": {
      "text/html": [
       "<script type=\"text/javascript\">$('.the-bar.progress .progress-bar')\n",
       "                .css('width','43.30%')\n",
       "                .prop('aria-valuenow',43.30)\n",
       "                .text('43.30%');</script>"
      ]
     },
     "metadata": {},
     "output_type": "display_data"
    },
    {
     "data": {
      "text/html": [
       "<script type=\"text/javascript\">$('.the-bar.progress .progress-bar')\n",
       "                .css('width','43.59%')\n",
       "                .prop('aria-valuenow',43.59)\n",
       "                .text('43.59%');</script>"
      ]
     },
     "metadata": {},
     "output_type": "display_data"
    },
    {
     "data": {
      "text/html": [
       "<script type=\"text/javascript\">$('.the-bar.progress .progress-bar')\n",
       "                .css('width','43.89%')\n",
       "                .prop('aria-valuenow',43.89)\n",
       "                .text('43.89%');</script>"
      ]
     },
     "metadata": {},
     "output_type": "display_data"
    },
    {
     "data": {
      "text/html": [
       "<script type=\"text/javascript\">$('.the-bar.progress .progress-bar')\n",
       "                .css('width','44.18%')\n",
       "                .prop('aria-valuenow',44.18)\n",
       "                .text('44.18%');</script>"
      ]
     },
     "metadata": {},
     "output_type": "display_data"
    },
    {
     "data": {
      "text/html": [
       "<script type=\"text/javascript\">$('.the-bar.progress .progress-bar')\n",
       "                .css('width','44.48%')\n",
       "                .prop('aria-valuenow',44.48)\n",
       "                .text('44.48%');</script>"
      ]
     },
     "metadata": {},
     "output_type": "display_data"
    },
    {
     "data": {
      "text/html": [
       "<script type=\"text/javascript\">$('.the-bar.progress .progress-bar')\n",
       "                .css('width','44.77%')\n",
       "                .prop('aria-valuenow',44.77)\n",
       "                .text('44.77%');</script>"
      ]
     },
     "metadata": {},
     "output_type": "display_data"
    },
    {
     "data": {
      "text/html": [
       "<script type=\"text/javascript\">$('.the-bar.progress .progress-bar')\n",
       "                .css('width','45.06%')\n",
       "                .prop('aria-valuenow',45.06)\n",
       "                .text('45.06%');</script>"
      ]
     },
     "metadata": {},
     "output_type": "display_data"
    },
    {
     "data": {
      "text/html": [
       "<script type=\"text/javascript\">$('.the-bar.progress .progress-bar')\n",
       "                .css('width','45.36%')\n",
       "                .prop('aria-valuenow',45.36)\n",
       "                .text('45.36%');</script>"
      ]
     },
     "metadata": {},
     "output_type": "display_data"
    },
    {
     "data": {
      "text/html": [
       "<script type=\"text/javascript\">$('.the-bar.progress .progress-bar')\n",
       "                .css('width','45.65%')\n",
       "                .prop('aria-valuenow',45.65)\n",
       "                .text('45.65%');</script>"
      ]
     },
     "metadata": {},
     "output_type": "display_data"
    },
    {
     "data": {
      "text/html": [
       "<script type=\"text/javascript\">$('.the-bar.progress .progress-bar')\n",
       "                .css('width','45.95%')\n",
       "                .prop('aria-valuenow',45.95)\n",
       "                .text('45.95%');</script>"
      ]
     },
     "metadata": {},
     "output_type": "display_data"
    },
    {
     "data": {
      "text/html": [
       "<script type=\"text/javascript\">$('.the-bar.progress .progress-bar')\n",
       "                .css('width','46.24%')\n",
       "                .prop('aria-valuenow',46.24)\n",
       "                .text('46.24%');</script>"
      ]
     },
     "metadata": {},
     "output_type": "display_data"
    },
    {
     "data": {
      "text/html": [
       "<script type=\"text/javascript\">$('.the-bar.progress .progress-bar')\n",
       "                .css('width','46.54%')\n",
       "                .prop('aria-valuenow',46.54)\n",
       "                .text('46.54%');</script>"
      ]
     },
     "metadata": {},
     "output_type": "display_data"
    },
    {
     "data": {
      "text/html": [
       "<script type=\"text/javascript\">$('.the-bar.progress .progress-bar')\n",
       "                .css('width','46.83%')\n",
       "                .prop('aria-valuenow',46.83)\n",
       "                .text('46.83%');</script>"
      ]
     },
     "metadata": {},
     "output_type": "display_data"
    },
    {
     "data": {
      "text/html": [
       "<script type=\"text/javascript\">$('.the-bar.progress .progress-bar')\n",
       "                .css('width','47.13%')\n",
       "                .prop('aria-valuenow',47.13)\n",
       "                .text('47.13%');</script>"
      ]
     },
     "metadata": {},
     "output_type": "display_data"
    },
    {
     "data": {
      "text/html": [
       "<script type=\"text/javascript\">$('.the-bar.progress .progress-bar')\n",
       "                .css('width','47.42%')\n",
       "                .prop('aria-valuenow',47.42)\n",
       "                .text('47.42%');</script>"
      ]
     },
     "metadata": {},
     "output_type": "display_data"
    },
    {
     "data": {
      "text/html": [
       "<script type=\"text/javascript\">$('.the-bar.progress .progress-bar')\n",
       "                .css('width','47.72%')\n",
       "                .prop('aria-valuenow',47.72)\n",
       "                .text('47.72%');</script>"
      ]
     },
     "metadata": {},
     "output_type": "display_data"
    },
    {
     "data": {
      "text/html": [
       "<script type=\"text/javascript\">$('.the-bar.progress .progress-bar')\n",
       "                .css('width','48.01%')\n",
       "                .prop('aria-valuenow',48.01)\n",
       "                .text('48.01%');</script>"
      ]
     },
     "metadata": {},
     "output_type": "display_data"
    },
    {
     "data": {
      "text/html": [
       "<script type=\"text/javascript\">$('.the-bar.progress .progress-bar')\n",
       "                .css('width','48.31%')\n",
       "                .prop('aria-valuenow',48.31)\n",
       "                .text('48.31%');</script>"
      ]
     },
     "metadata": {},
     "output_type": "display_data"
    },
    {
     "data": {
      "text/html": [
       "<script type=\"text/javascript\">$('.the-bar.progress .progress-bar')\n",
       "                .css('width','48.60%')\n",
       "                .prop('aria-valuenow',48.60)\n",
       "                .text('48.60%');</script>"
      ]
     },
     "metadata": {},
     "output_type": "display_data"
    },
    {
     "data": {
      "text/html": [
       "<script type=\"text/javascript\">$('.the-bar.progress .progress-bar')\n",
       "                .css('width','48.90%')\n",
       "                .prop('aria-valuenow',48.90)\n",
       "                .text('48.90%');</script>"
      ]
     },
     "metadata": {},
     "output_type": "display_data"
    },
    {
     "data": {
      "text/html": [
       "<script type=\"text/javascript\">$('.the-bar.progress .progress-bar')\n",
       "                .css('width','49.19%')\n",
       "                .prop('aria-valuenow',49.19)\n",
       "                .text('49.19%');</script>"
      ]
     },
     "metadata": {},
     "output_type": "display_data"
    },
    {
     "data": {
      "text/html": [
       "<script type=\"text/javascript\">$('.the-bar.progress .progress-bar')\n",
       "                .css('width','49.49%')\n",
       "                .prop('aria-valuenow',49.49)\n",
       "                .text('49.49%');</script>"
      ]
     },
     "metadata": {},
     "output_type": "display_data"
    },
    {
     "data": {
      "text/html": [
       "<script type=\"text/javascript\">$('.the-bar.progress .progress-bar')\n",
       "                .css('width','49.78%')\n",
       "                .prop('aria-valuenow',49.78)\n",
       "                .text('49.78%');</script>"
      ]
     },
     "metadata": {},
     "output_type": "display_data"
    },
    {
     "data": {
      "text/html": [
       "<script type=\"text/javascript\">$('.the-bar.progress .progress-bar')\n",
       "                .css('width','50.08%')\n",
       "                .prop('aria-valuenow',50.08)\n",
       "                .text('50.08%');</script>"
      ]
     },
     "metadata": {},
     "output_type": "display_data"
    },
    {
     "data": {
      "text/html": [
       "<script type=\"text/javascript\">$('.the-bar.progress .progress-bar')\n",
       "                .css('width','50.37%')\n",
       "                .prop('aria-valuenow',50.37)\n",
       "                .text('50.37%');</script>"
      ]
     },
     "metadata": {},
     "output_type": "display_data"
    },
    {
     "data": {
      "text/html": [
       "<script type=\"text/javascript\">$('.the-bar.progress .progress-bar')\n",
       "                .css('width','50.67%')\n",
       "                .prop('aria-valuenow',50.67)\n",
       "                .text('50.67%');</script>"
      ]
     },
     "metadata": {},
     "output_type": "display_data"
    },
    {
     "data": {
      "text/html": [
       "<script type=\"text/javascript\">$('.the-bar.progress .progress-bar')\n",
       "                .css('width','50.96%')\n",
       "                .prop('aria-valuenow',50.96)\n",
       "                .text('50.96%');</script>"
      ]
     },
     "metadata": {},
     "output_type": "display_data"
    },
    {
     "data": {
      "text/html": [
       "<script type=\"text/javascript\">$('.the-bar.progress .progress-bar')\n",
       "                .css('width','51.26%')\n",
       "                .prop('aria-valuenow',51.26)\n",
       "                .text('51.26%');</script>"
      ]
     },
     "metadata": {},
     "output_type": "display_data"
    },
    {
     "data": {
      "text/html": [
       "<script type=\"text/javascript\">$('.the-bar.progress .progress-bar')\n",
       "                .css('width','51.55%')\n",
       "                .prop('aria-valuenow',51.55)\n",
       "                .text('51.55%');</script>"
      ]
     },
     "metadata": {},
     "output_type": "display_data"
    },
    {
     "data": {
      "text/html": [
       "<script type=\"text/javascript\">$('.the-bar.progress .progress-bar')\n",
       "                .css('width','51.85%')\n",
       "                .prop('aria-valuenow',51.85)\n",
       "                .text('51.85%');</script>"
      ]
     },
     "metadata": {},
     "output_type": "display_data"
    },
    {
     "data": {
      "text/html": [
       "<script type=\"text/javascript\">$('.the-bar.progress .progress-bar')\n",
       "                .css('width','52.14%')\n",
       "                .prop('aria-valuenow',52.14)\n",
       "                .text('52.14%');</script>"
      ]
     },
     "metadata": {},
     "output_type": "display_data"
    },
    {
     "data": {
      "text/html": [
       "<script type=\"text/javascript\">$('.the-bar.progress .progress-bar')\n",
       "                .css('width','52.43%')\n",
       "                .prop('aria-valuenow',52.43)\n",
       "                .text('52.43%');</script>"
      ]
     },
     "metadata": {},
     "output_type": "display_data"
    },
    {
     "data": {
      "text/html": [
       "<script type=\"text/javascript\">$('.the-bar.progress .progress-bar')\n",
       "                .css('width','52.73%')\n",
       "                .prop('aria-valuenow',52.73)\n",
       "                .text('52.73%');</script>"
      ]
     },
     "metadata": {},
     "output_type": "display_data"
    },
    {
     "data": {
      "text/html": [
       "<script type=\"text/javascript\">$('.the-bar.progress .progress-bar')\n",
       "                .css('width','53.02%')\n",
       "                .prop('aria-valuenow',53.02)\n",
       "                .text('53.02%');</script>"
      ]
     },
     "metadata": {},
     "output_type": "display_data"
    },
    {
     "data": {
      "text/html": [
       "<script type=\"text/javascript\">$('.the-bar.progress .progress-bar')\n",
       "                .css('width','53.32%')\n",
       "                .prop('aria-valuenow',53.32)\n",
       "                .text('53.32%');</script>"
      ]
     },
     "metadata": {},
     "output_type": "display_data"
    },
    {
     "data": {
      "text/html": [
       "<script type=\"text/javascript\">$('.the-bar.progress .progress-bar')\n",
       "                .css('width','53.61%')\n",
       "                .prop('aria-valuenow',53.61)\n",
       "                .text('53.61%');</script>"
      ]
     },
     "metadata": {},
     "output_type": "display_data"
    },
    {
     "data": {
      "text/html": [
       "<script type=\"text/javascript\">$('.the-bar.progress .progress-bar')\n",
       "                .css('width','53.91%')\n",
       "                .prop('aria-valuenow',53.91)\n",
       "                .text('53.91%');</script>"
      ]
     },
     "metadata": {},
     "output_type": "display_data"
    },
    {
     "data": {
      "text/html": [
       "<script type=\"text/javascript\">$('.the-bar.progress .progress-bar')\n",
       "                .css('width','54.20%')\n",
       "                .prop('aria-valuenow',54.20)\n",
       "                .text('54.20%');</script>"
      ]
     },
     "metadata": {},
     "output_type": "display_data"
    },
    {
     "data": {
      "text/html": [
       "<script type=\"text/javascript\">$('.the-bar.progress .progress-bar')\n",
       "                .css('width','54.50%')\n",
       "                .prop('aria-valuenow',54.50)\n",
       "                .text('54.50%');</script>"
      ]
     },
     "metadata": {},
     "output_type": "display_data"
    },
    {
     "data": {
      "text/html": [
       "<script type=\"text/javascript\">$('.the-bar.progress .progress-bar')\n",
       "                .css('width','54.79%')\n",
       "                .prop('aria-valuenow',54.79)\n",
       "                .text('54.79%');</script>"
      ]
     },
     "metadata": {},
     "output_type": "display_data"
    },
    {
     "data": {
      "text/html": [
       "<script type=\"text/javascript\">$('.the-bar.progress .progress-bar')\n",
       "                .css('width','55.09%')\n",
       "                .prop('aria-valuenow',55.09)\n",
       "                .text('55.09%');</script>"
      ]
     },
     "metadata": {},
     "output_type": "display_data"
    },
    {
     "data": {
      "text/html": [
       "<script type=\"text/javascript\">$('.the-bar.progress .progress-bar')\n",
       "                .css('width','55.38%')\n",
       "                .prop('aria-valuenow',55.38)\n",
       "                .text('55.38%');</script>"
      ]
     },
     "metadata": {},
     "output_type": "display_data"
    },
    {
     "data": {
      "text/html": [
       "<script type=\"text/javascript\">$('.the-bar.progress .progress-bar')\n",
       "                .css('width','55.68%')\n",
       "                .prop('aria-valuenow',55.68)\n",
       "                .text('55.68%');</script>"
      ]
     },
     "metadata": {},
     "output_type": "display_data"
    },
    {
     "data": {
      "text/html": [
       "<script type=\"text/javascript\">$('.the-bar.progress .progress-bar')\n",
       "                .css('width','55.97%')\n",
       "                .prop('aria-valuenow',55.97)\n",
       "                .text('55.97%');</script>"
      ]
     },
     "metadata": {},
     "output_type": "display_data"
    },
    {
     "data": {
      "text/html": [
       "<script type=\"text/javascript\">$('.the-bar.progress .progress-bar')\n",
       "                .css('width','56.27%')\n",
       "                .prop('aria-valuenow',56.27)\n",
       "                .text('56.27%');</script>"
      ]
     },
     "metadata": {},
     "output_type": "display_data"
    },
    {
     "data": {
      "text/html": [
       "<script type=\"text/javascript\">$('.the-bar.progress .progress-bar')\n",
       "                .css('width','56.56%')\n",
       "                .prop('aria-valuenow',56.56)\n",
       "                .text('56.56%');</script>"
      ]
     },
     "metadata": {},
     "output_type": "display_data"
    },
    {
     "data": {
      "text/html": [
       "<script type=\"text/javascript\">$('.the-bar.progress .progress-bar')\n",
       "                .css('width','56.86%')\n",
       "                .prop('aria-valuenow',56.86)\n",
       "                .text('56.86%');</script>"
      ]
     },
     "metadata": {},
     "output_type": "display_data"
    },
    {
     "data": {
      "text/html": [
       "<script type=\"text/javascript\">$('.the-bar.progress .progress-bar')\n",
       "                .css('width','57.15%')\n",
       "                .prop('aria-valuenow',57.15)\n",
       "                .text('57.15%');</script>"
      ]
     },
     "metadata": {},
     "output_type": "display_data"
    },
    {
     "data": {
      "text/html": [
       "<script type=\"text/javascript\">$('.the-bar.progress .progress-bar')\n",
       "                .css('width','57.45%')\n",
       "                .prop('aria-valuenow',57.45)\n",
       "                .text('57.45%');</script>"
      ]
     },
     "metadata": {},
     "output_type": "display_data"
    },
    {
     "data": {
      "text/html": [
       "<script type=\"text/javascript\">$('.the-bar.progress .progress-bar')\n",
       "                .css('width','57.74%')\n",
       "                .prop('aria-valuenow',57.74)\n",
       "                .text('57.74%');</script>"
      ]
     },
     "metadata": {},
     "output_type": "display_data"
    },
    {
     "data": {
      "text/html": [
       "<script type=\"text/javascript\">$('.the-bar.progress .progress-bar')\n",
       "                .css('width','58.04%')\n",
       "                .prop('aria-valuenow',58.04)\n",
       "                .text('58.04%');</script>"
      ]
     },
     "metadata": {},
     "output_type": "display_data"
    },
    {
     "data": {
      "text/html": [
       "<script type=\"text/javascript\">$('.the-bar.progress .progress-bar')\n",
       "                .css('width','58.33%')\n",
       "                .prop('aria-valuenow',58.33)\n",
       "                .text('58.33%');</script>"
      ]
     },
     "metadata": {},
     "output_type": "display_data"
    },
    {
     "data": {
      "text/html": [
       "<script type=\"text/javascript\">$('.the-bar.progress .progress-bar')\n",
       "                .css('width','58.63%')\n",
       "                .prop('aria-valuenow',58.63)\n",
       "                .text('58.63%');</script>"
      ]
     },
     "metadata": {},
     "output_type": "display_data"
    },
    {
     "data": {
      "text/html": [
       "<script type=\"text/javascript\">$('.the-bar.progress .progress-bar')\n",
       "                .css('width','58.92%')\n",
       "                .prop('aria-valuenow',58.92)\n",
       "                .text('58.92%');</script>"
      ]
     },
     "metadata": {},
     "output_type": "display_data"
    },
    {
     "data": {
      "text/html": [
       "<script type=\"text/javascript\">$('.the-bar.progress .progress-bar')\n",
       "                .css('width','59.21%')\n",
       "                .prop('aria-valuenow',59.21)\n",
       "                .text('59.21%');</script>"
      ]
     },
     "metadata": {},
     "output_type": "display_data"
    },
    {
     "data": {
      "text/html": [
       "<script type=\"text/javascript\">$('.the-bar.progress .progress-bar')\n",
       "                .css('width','59.51%')\n",
       "                .prop('aria-valuenow',59.51)\n",
       "                .text('59.51%');</script>"
      ]
     },
     "metadata": {},
     "output_type": "display_data"
    },
    {
     "data": {
      "text/html": [
       "<script type=\"text/javascript\">$('.the-bar.progress .progress-bar')\n",
       "                .css('width','59.80%')\n",
       "                .prop('aria-valuenow',59.80)\n",
       "                .text('59.80%');</script>"
      ]
     },
     "metadata": {},
     "output_type": "display_data"
    },
    {
     "data": {
      "text/html": [
       "<script type=\"text/javascript\">$('.the-bar.progress .progress-bar')\n",
       "                .css('width','60.10%')\n",
       "                .prop('aria-valuenow',60.10)\n",
       "                .text('60.10%');</script>"
      ]
     },
     "metadata": {},
     "output_type": "display_data"
    },
    {
     "data": {
      "text/html": [
       "<script type=\"text/javascript\">$('.the-bar.progress .progress-bar')\n",
       "                .css('width','60.39%')\n",
       "                .prop('aria-valuenow',60.39)\n",
       "                .text('60.39%');</script>"
      ]
     },
     "metadata": {},
     "output_type": "display_data"
    },
    {
     "data": {
      "text/html": [
       "<script type=\"text/javascript\">$('.the-bar.progress .progress-bar')\n",
       "                .css('width','60.69%')\n",
       "                .prop('aria-valuenow',60.69)\n",
       "                .text('60.69%');</script>"
      ]
     },
     "metadata": {},
     "output_type": "display_data"
    },
    {
     "data": {
      "text/html": [
       "<script type=\"text/javascript\">$('.the-bar.progress .progress-bar')\n",
       "                .css('width','60.98%')\n",
       "                .prop('aria-valuenow',60.98)\n",
       "                .text('60.98%');</script>"
      ]
     },
     "metadata": {},
     "output_type": "display_data"
    },
    {
     "data": {
      "text/html": [
       "<script type=\"text/javascript\">$('.the-bar.progress .progress-bar')\n",
       "                .css('width','61.28%')\n",
       "                .prop('aria-valuenow',61.28)\n",
       "                .text('61.28%');</script>"
      ]
     },
     "metadata": {},
     "output_type": "display_data"
    },
    {
     "data": {
      "text/html": [
       "<script type=\"text/javascript\">$('.the-bar.progress .progress-bar')\n",
       "                .css('width','61.57%')\n",
       "                .prop('aria-valuenow',61.57)\n",
       "                .text('61.57%');</script>"
      ]
     },
     "metadata": {},
     "output_type": "display_data"
    },
    {
     "data": {
      "text/html": [
       "<script type=\"text/javascript\">$('.the-bar.progress .progress-bar')\n",
       "                .css('width','61.87%')\n",
       "                .prop('aria-valuenow',61.87)\n",
       "                .text('61.87%');</script>"
      ]
     },
     "metadata": {},
     "output_type": "display_data"
    },
    {
     "data": {
      "text/html": [
       "<script type=\"text/javascript\">$('.the-bar.progress .progress-bar')\n",
       "                .css('width','62.16%')\n",
       "                .prop('aria-valuenow',62.16)\n",
       "                .text('62.16%');</script>"
      ]
     },
     "metadata": {},
     "output_type": "display_data"
    },
    {
     "data": {
      "text/html": [
       "<script type=\"text/javascript\">$('.the-bar.progress .progress-bar')\n",
       "                .css('width','62.46%')\n",
       "                .prop('aria-valuenow',62.46)\n",
       "                .text('62.46%');</script>"
      ]
     },
     "metadata": {},
     "output_type": "display_data"
    },
    {
     "data": {
      "text/html": [
       "<script type=\"text/javascript\">$('.the-bar.progress .progress-bar')\n",
       "                .css('width','62.75%')\n",
       "                .prop('aria-valuenow',62.75)\n",
       "                .text('62.75%');</script>"
      ]
     },
     "metadata": {},
     "output_type": "display_data"
    },
    {
     "data": {
      "text/html": [
       "<script type=\"text/javascript\">$('.the-bar.progress .progress-bar')\n",
       "                .css('width','63.05%')\n",
       "                .prop('aria-valuenow',63.05)\n",
       "                .text('63.05%');</script>"
      ]
     },
     "metadata": {},
     "output_type": "display_data"
    },
    {
     "data": {
      "text/html": [
       "<script type=\"text/javascript\">$('.the-bar.progress .progress-bar')\n",
       "                .css('width','63.34%')\n",
       "                .prop('aria-valuenow',63.34)\n",
       "                .text('63.34%');</script>"
      ]
     },
     "metadata": {},
     "output_type": "display_data"
    },
    {
     "data": {
      "text/html": [
       "<script type=\"text/javascript\">$('.the-bar.progress .progress-bar')\n",
       "                .css('width','63.64%')\n",
       "                .prop('aria-valuenow',63.64)\n",
       "                .text('63.64%');</script>"
      ]
     },
     "metadata": {},
     "output_type": "display_data"
    },
    {
     "data": {
      "text/html": [
       "<script type=\"text/javascript\">$('.the-bar.progress .progress-bar')\n",
       "                .css('width','63.93%')\n",
       "                .prop('aria-valuenow',63.93)\n",
       "                .text('63.93%');</script>"
      ]
     },
     "metadata": {},
     "output_type": "display_data"
    },
    {
     "data": {
      "text/html": [
       "<script type=\"text/javascript\">$('.the-bar.progress .progress-bar')\n",
       "                .css('width','64.23%')\n",
       "                .prop('aria-valuenow',64.23)\n",
       "                .text('64.23%');</script>"
      ]
     },
     "metadata": {},
     "output_type": "display_data"
    },
    {
     "data": {
      "text/html": [
       "<script type=\"text/javascript\">$('.the-bar.progress .progress-bar')\n",
       "                .css('width','64.52%')\n",
       "                .prop('aria-valuenow',64.52)\n",
       "                .text('64.52%');</script>"
      ]
     },
     "metadata": {},
     "output_type": "display_data"
    },
    {
     "data": {
      "text/html": [
       "<script type=\"text/javascript\">$('.the-bar.progress .progress-bar')\n",
       "                .css('width','64.82%')\n",
       "                .prop('aria-valuenow',64.82)\n",
       "                .text('64.82%');</script>"
      ]
     },
     "metadata": {},
     "output_type": "display_data"
    },
    {
     "data": {
      "text/html": [
       "<script type=\"text/javascript\">$('.the-bar.progress .progress-bar')\n",
       "                .css('width','65.11%')\n",
       "                .prop('aria-valuenow',65.11)\n",
       "                .text('65.11%');</script>"
      ]
     },
     "metadata": {},
     "output_type": "display_data"
    },
    {
     "data": {
      "text/html": [
       "<script type=\"text/javascript\">$('.the-bar.progress .progress-bar')\n",
       "                .css('width','65.41%')\n",
       "                .prop('aria-valuenow',65.41)\n",
       "                .text('65.41%');</script>"
      ]
     },
     "metadata": {},
     "output_type": "display_data"
    },
    {
     "data": {
      "text/html": [
       "<script type=\"text/javascript\">$('.the-bar.progress .progress-bar')\n",
       "                .css('width','65.70%')\n",
       "                .prop('aria-valuenow',65.70)\n",
       "                .text('65.70%');</script>"
      ]
     },
     "metadata": {},
     "output_type": "display_data"
    },
    {
     "data": {
      "text/html": [
       "<script type=\"text/javascript\">$('.the-bar.progress .progress-bar')\n",
       "                .css('width','66.00%')\n",
       "                .prop('aria-valuenow',66.00)\n",
       "                .text('66.00%');</script>"
      ]
     },
     "metadata": {},
     "output_type": "display_data"
    },
    {
     "data": {
      "text/html": [
       "<script type=\"text/javascript\">$('.the-bar.progress .progress-bar')\n",
       "                .css('width','66.29%')\n",
       "                .prop('aria-valuenow',66.29)\n",
       "                .text('66.29%');</script>"
      ]
     },
     "metadata": {},
     "output_type": "display_data"
    },
    {
     "data": {
      "text/html": [
       "<script type=\"text/javascript\">$('.the-bar.progress .progress-bar')\n",
       "                .css('width','66.58%')\n",
       "                .prop('aria-valuenow',66.58)\n",
       "                .text('66.58%');</script>"
      ]
     },
     "metadata": {},
     "output_type": "display_data"
    },
    {
     "data": {
      "text/html": [
       "<script type=\"text/javascript\">$('.the-bar.progress .progress-bar')\n",
       "                .css('width','66.88%')\n",
       "                .prop('aria-valuenow',66.88)\n",
       "                .text('66.88%');</script>"
      ]
     },
     "metadata": {},
     "output_type": "display_data"
    },
    {
     "data": {
      "text/html": [
       "<script type=\"text/javascript\">$('.the-bar.progress .progress-bar')\n",
       "                .css('width','67.17%')\n",
       "                .prop('aria-valuenow',67.17)\n",
       "                .text('67.17%');</script>"
      ]
     },
     "metadata": {},
     "output_type": "display_data"
    },
    {
     "data": {
      "text/html": [
       "<script type=\"text/javascript\">$('.the-bar.progress .progress-bar')\n",
       "                .css('width','67.47%')\n",
       "                .prop('aria-valuenow',67.47)\n",
       "                .text('67.47%');</script>"
      ]
     },
     "metadata": {},
     "output_type": "display_data"
    },
    {
     "data": {
      "text/html": [
       "<script type=\"text/javascript\">$('.the-bar.progress .progress-bar')\n",
       "                .css('width','67.76%')\n",
       "                .prop('aria-valuenow',67.76)\n",
       "                .text('67.76%');</script>"
      ]
     },
     "metadata": {},
     "output_type": "display_data"
    },
    {
     "data": {
      "text/html": [
       "<script type=\"text/javascript\">$('.the-bar.progress .progress-bar')\n",
       "                .css('width','68.06%')\n",
       "                .prop('aria-valuenow',68.06)\n",
       "                .text('68.06%');</script>"
      ]
     },
     "metadata": {},
     "output_type": "display_data"
    },
    {
     "data": {
      "text/html": [
       "<script type=\"text/javascript\">$('.the-bar.progress .progress-bar')\n",
       "                .css('width','68.35%')\n",
       "                .prop('aria-valuenow',68.35)\n",
       "                .text('68.35%');</script>"
      ]
     },
     "metadata": {},
     "output_type": "display_data"
    },
    {
     "data": {
      "text/html": [
       "<script type=\"text/javascript\">$('.the-bar.progress .progress-bar')\n",
       "                .css('width','68.65%')\n",
       "                .prop('aria-valuenow',68.65)\n",
       "                .text('68.65%');</script>"
      ]
     },
     "metadata": {},
     "output_type": "display_data"
    },
    {
     "data": {
      "text/html": [
       "<script type=\"text/javascript\">$('.the-bar.progress .progress-bar')\n",
       "                .css('width','68.94%')\n",
       "                .prop('aria-valuenow',68.94)\n",
       "                .text('68.94%');</script>"
      ]
     },
     "metadata": {},
     "output_type": "display_data"
    },
    {
     "data": {
      "text/html": [
       "<script type=\"text/javascript\">$('.the-bar.progress .progress-bar')\n",
       "                .css('width','69.24%')\n",
       "                .prop('aria-valuenow',69.24)\n",
       "                .text('69.24%');</script>"
      ]
     },
     "metadata": {},
     "output_type": "display_data"
    },
    {
     "data": {
      "text/html": [
       "<script type=\"text/javascript\">$('.the-bar.progress .progress-bar')\n",
       "                .css('width','69.53%')\n",
       "                .prop('aria-valuenow',69.53)\n",
       "                .text('69.53%');</script>"
      ]
     },
     "metadata": {},
     "output_type": "display_data"
    },
    {
     "data": {
      "text/html": [
       "<script type=\"text/javascript\">$('.the-bar.progress .progress-bar')\n",
       "                .css('width','69.83%')\n",
       "                .prop('aria-valuenow',69.83)\n",
       "                .text('69.83%');</script>"
      ]
     },
     "metadata": {},
     "output_type": "display_data"
    },
    {
     "data": {
      "text/html": [
       "<script type=\"text/javascript\">$('.the-bar.progress .progress-bar')\n",
       "                .css('width','70.12%')\n",
       "                .prop('aria-valuenow',70.12)\n",
       "                .text('70.12%');</script>"
      ]
     },
     "metadata": {},
     "output_type": "display_data"
    },
    {
     "data": {
      "text/html": [
       "<script type=\"text/javascript\">$('.the-bar.progress .progress-bar')\n",
       "                .css('width','70.42%')\n",
       "                .prop('aria-valuenow',70.42)\n",
       "                .text('70.42%');</script>"
      ]
     },
     "metadata": {},
     "output_type": "display_data"
    },
    {
     "data": {
      "text/html": [
       "<script type=\"text/javascript\">$('.the-bar.progress .progress-bar')\n",
       "                .css('width','70.71%')\n",
       "                .prop('aria-valuenow',70.71)\n",
       "                .text('70.71%');</script>"
      ]
     },
     "metadata": {},
     "output_type": "display_data"
    },
    {
     "data": {
      "text/html": [
       "<script type=\"text/javascript\">$('.the-bar.progress .progress-bar')\n",
       "                .css('width','71.01%')\n",
       "                .prop('aria-valuenow',71.01)\n",
       "                .text('71.01%');</script>"
      ]
     },
     "metadata": {},
     "output_type": "display_data"
    },
    {
     "data": {
      "text/html": [
       "<script type=\"text/javascript\">$('.the-bar.progress .progress-bar')\n",
       "                .css('width','71.30%')\n",
       "                .prop('aria-valuenow',71.30)\n",
       "                .text('71.30%');</script>"
      ]
     },
     "metadata": {},
     "output_type": "display_data"
    },
    {
     "data": {
      "text/html": [
       "<script type=\"text/javascript\">$('.the-bar.progress .progress-bar')\n",
       "                .css('width','71.60%')\n",
       "                .prop('aria-valuenow',71.60)\n",
       "                .text('71.60%');</script>"
      ]
     },
     "metadata": {},
     "output_type": "display_data"
    },
    {
     "data": {
      "text/html": [
       "<script type=\"text/javascript\">$('.the-bar.progress .progress-bar')\n",
       "                .css('width','71.89%')\n",
       "                .prop('aria-valuenow',71.89)\n",
       "                .text('71.89%');</script>"
      ]
     },
     "metadata": {},
     "output_type": "display_data"
    },
    {
     "data": {
      "text/html": [
       "<script type=\"text/javascript\">$('.the-bar.progress .progress-bar')\n",
       "                .css('width','72.19%')\n",
       "                .prop('aria-valuenow',72.19)\n",
       "                .text('72.19%');</script>"
      ]
     },
     "metadata": {},
     "output_type": "display_data"
    },
    {
     "data": {
      "text/html": [
       "<script type=\"text/javascript\">$('.the-bar.progress .progress-bar')\n",
       "                .css('width','72.48%')\n",
       "                .prop('aria-valuenow',72.48)\n",
       "                .text('72.48%');</script>"
      ]
     },
     "metadata": {},
     "output_type": "display_data"
    },
    {
     "data": {
      "text/html": [
       "<script type=\"text/javascript\">$('.the-bar.progress .progress-bar')\n",
       "                .css('width','72.78%')\n",
       "                .prop('aria-valuenow',72.78)\n",
       "                .text('72.78%');</script>"
      ]
     },
     "metadata": {},
     "output_type": "display_data"
    },
    {
     "data": {
      "text/html": [
       "<script type=\"text/javascript\">$('.the-bar.progress .progress-bar')\n",
       "                .css('width','73.07%')\n",
       "                .prop('aria-valuenow',73.07)\n",
       "                .text('73.07%');</script>"
      ]
     },
     "metadata": {},
     "output_type": "display_data"
    },
    {
     "data": {
      "text/html": [
       "<script type=\"text/javascript\">$('.the-bar.progress .progress-bar')\n",
       "                .css('width','73.36%')\n",
       "                .prop('aria-valuenow',73.36)\n",
       "                .text('73.36%');</script>"
      ]
     },
     "metadata": {},
     "output_type": "display_data"
    },
    {
     "data": {
      "text/html": [
       "<script type=\"text/javascript\">$('.the-bar.progress .progress-bar')\n",
       "                .css('width','73.66%')\n",
       "                .prop('aria-valuenow',73.66)\n",
       "                .text('73.66%');</script>"
      ]
     },
     "metadata": {},
     "output_type": "display_data"
    },
    {
     "data": {
      "text/html": [
       "<script type=\"text/javascript\">$('.the-bar.progress .progress-bar')\n",
       "                .css('width','73.95%')\n",
       "                .prop('aria-valuenow',73.95)\n",
       "                .text('73.95%');</script>"
      ]
     },
     "metadata": {},
     "output_type": "display_data"
    },
    {
     "data": {
      "text/html": [
       "<script type=\"text/javascript\">$('.the-bar.progress .progress-bar')\n",
       "                .css('width','74.25%')\n",
       "                .prop('aria-valuenow',74.25)\n",
       "                .text('74.25%');</script>"
      ]
     },
     "metadata": {},
     "output_type": "display_data"
    },
    {
     "data": {
      "text/html": [
       "<script type=\"text/javascript\">$('.the-bar.progress .progress-bar')\n",
       "                .css('width','74.54%')\n",
       "                .prop('aria-valuenow',74.54)\n",
       "                .text('74.54%');</script>"
      ]
     },
     "metadata": {},
     "output_type": "display_data"
    },
    {
     "data": {
      "text/html": [
       "<script type=\"text/javascript\">$('.the-bar.progress .progress-bar')\n",
       "                .css('width','74.84%')\n",
       "                .prop('aria-valuenow',74.84)\n",
       "                .text('74.84%');</script>"
      ]
     },
     "metadata": {},
     "output_type": "display_data"
    },
    {
     "data": {
      "text/html": [
       "<script type=\"text/javascript\">$('.the-bar.progress .progress-bar')\n",
       "                .css('width','75.13%')\n",
       "                .prop('aria-valuenow',75.13)\n",
       "                .text('75.13%');</script>"
      ]
     },
     "metadata": {},
     "output_type": "display_data"
    },
    {
     "data": {
      "text/html": [
       "<script type=\"text/javascript\">$('.the-bar.progress .progress-bar')\n",
       "                .css('width','75.43%')\n",
       "                .prop('aria-valuenow',75.43)\n",
       "                .text('75.43%');</script>"
      ]
     },
     "metadata": {},
     "output_type": "display_data"
    },
    {
     "data": {
      "text/html": [
       "<script type=\"text/javascript\">$('.the-bar.progress .progress-bar')\n",
       "                .css('width','75.72%')\n",
       "                .prop('aria-valuenow',75.72)\n",
       "                .text('75.72%');</script>"
      ]
     },
     "metadata": {},
     "output_type": "display_data"
    },
    {
     "data": {
      "text/html": [
       "<script type=\"text/javascript\">$('.the-bar.progress .progress-bar')\n",
       "                .css('width','76.02%')\n",
       "                .prop('aria-valuenow',76.02)\n",
       "                .text('76.02%');</script>"
      ]
     },
     "metadata": {},
     "output_type": "display_data"
    },
    {
     "data": {
      "text/html": [
       "<script type=\"text/javascript\">$('.the-bar.progress .progress-bar')\n",
       "                .css('width','76.31%')\n",
       "                .prop('aria-valuenow',76.31)\n",
       "                .text('76.31%');</script>"
      ]
     },
     "metadata": {},
     "output_type": "display_data"
    },
    {
     "data": {
      "text/html": [
       "<script type=\"text/javascript\">$('.the-bar.progress .progress-bar')\n",
       "                .css('width','76.61%')\n",
       "                .prop('aria-valuenow',76.61)\n",
       "                .text('76.61%');</script>"
      ]
     },
     "metadata": {},
     "output_type": "display_data"
    },
    {
     "data": {
      "text/html": [
       "<script type=\"text/javascript\">$('.the-bar.progress .progress-bar')\n",
       "                .css('width','76.90%')\n",
       "                .prop('aria-valuenow',76.90)\n",
       "                .text('76.90%');</script>"
      ]
     },
     "metadata": {},
     "output_type": "display_data"
    },
    {
     "data": {
      "text/html": [
       "<script type=\"text/javascript\">$('.the-bar.progress .progress-bar')\n",
       "                .css('width','77.20%')\n",
       "                .prop('aria-valuenow',77.20)\n",
       "                .text('77.20%');</script>"
      ]
     },
     "metadata": {},
     "output_type": "display_data"
    },
    {
     "data": {
      "text/html": [
       "<script type=\"text/javascript\">$('.the-bar.progress .progress-bar')\n",
       "                .css('width','77.49%')\n",
       "                .prop('aria-valuenow',77.49)\n",
       "                .text('77.49%');</script>"
      ]
     },
     "metadata": {},
     "output_type": "display_data"
    },
    {
     "data": {
      "text/html": [
       "<script type=\"text/javascript\">$('.the-bar.progress .progress-bar')\n",
       "                .css('width','77.79%')\n",
       "                .prop('aria-valuenow',77.79)\n",
       "                .text('77.79%');</script>"
      ]
     },
     "metadata": {},
     "output_type": "display_data"
    },
    {
     "data": {
      "text/html": [
       "<script type=\"text/javascript\">$('.the-bar.progress .progress-bar')\n",
       "                .css('width','78.08%')\n",
       "                .prop('aria-valuenow',78.08)\n",
       "                .text('78.08%');</script>"
      ]
     },
     "metadata": {},
     "output_type": "display_data"
    },
    {
     "data": {
      "text/html": [
       "<script type=\"text/javascript\">$('.the-bar.progress .progress-bar')\n",
       "                .css('width','78.38%')\n",
       "                .prop('aria-valuenow',78.38)\n",
       "                .text('78.38%');</script>"
      ]
     },
     "metadata": {},
     "output_type": "display_data"
    },
    {
     "data": {
      "text/html": [
       "<script type=\"text/javascript\">$('.the-bar.progress .progress-bar')\n",
       "                .css('width','78.67%')\n",
       "                .prop('aria-valuenow',78.67)\n",
       "                .text('78.67%');</script>"
      ]
     },
     "metadata": {},
     "output_type": "display_data"
    },
    {
     "data": {
      "text/html": [
       "<script type=\"text/javascript\">$('.the-bar.progress .progress-bar')\n",
       "                .css('width','78.97%')\n",
       "                .prop('aria-valuenow',78.97)\n",
       "                .text('78.97%');</script>"
      ]
     },
     "metadata": {},
     "output_type": "display_data"
    },
    {
     "data": {
      "text/html": [
       "<script type=\"text/javascript\">$('.the-bar.progress .progress-bar')\n",
       "                .css('width','79.26%')\n",
       "                .prop('aria-valuenow',79.26)\n",
       "                .text('79.26%');</script>"
      ]
     },
     "metadata": {},
     "output_type": "display_data"
    },
    {
     "data": {
      "text/html": [
       "<script type=\"text/javascript\">$('.the-bar.progress .progress-bar')\n",
       "                .css('width','79.56%')\n",
       "                .prop('aria-valuenow',79.56)\n",
       "                .text('79.56%');</script>"
      ]
     },
     "metadata": {},
     "output_type": "display_data"
    },
    {
     "data": {
      "text/html": [
       "<script type=\"text/javascript\">$('.the-bar.progress .progress-bar')\n",
       "                .css('width','79.85%')\n",
       "                .prop('aria-valuenow',79.85)\n",
       "                .text('79.85%');</script>"
      ]
     },
     "metadata": {},
     "output_type": "display_data"
    },
    {
     "data": {
      "text/html": [
       "<script type=\"text/javascript\">$('.the-bar.progress .progress-bar')\n",
       "                .css('width','80.15%')\n",
       "                .prop('aria-valuenow',80.15)\n",
       "                .text('80.15%');</script>"
      ]
     },
     "metadata": {},
     "output_type": "display_data"
    },
    {
     "data": {
      "text/html": [
       "<script type=\"text/javascript\">$('.the-bar.progress .progress-bar')\n",
       "                .css('width','80.44%')\n",
       "                .prop('aria-valuenow',80.44)\n",
       "                .text('80.44%');</script>"
      ]
     },
     "metadata": {},
     "output_type": "display_data"
    },
    {
     "data": {
      "text/html": [
       "<script type=\"text/javascript\">$('.the-bar.progress .progress-bar')\n",
       "                .css('width','80.73%')\n",
       "                .prop('aria-valuenow',80.73)\n",
       "                .text('80.73%');</script>"
      ]
     },
     "metadata": {},
     "output_type": "display_data"
    },
    {
     "data": {
      "text/html": [
       "<script type=\"text/javascript\">$('.the-bar.progress .progress-bar')\n",
       "                .css('width','81.03%')\n",
       "                .prop('aria-valuenow',81.03)\n",
       "                .text('81.03%');</script>"
      ]
     },
     "metadata": {},
     "output_type": "display_data"
    },
    {
     "data": {
      "text/html": [
       "<script type=\"text/javascript\">$('.the-bar.progress .progress-bar')\n",
       "                .css('width','81.32%')\n",
       "                .prop('aria-valuenow',81.32)\n",
       "                .text('81.32%');</script>"
      ]
     },
     "metadata": {},
     "output_type": "display_data"
    },
    {
     "data": {
      "text/html": [
       "<script type=\"text/javascript\">$('.the-bar.progress .progress-bar')\n",
       "                .css('width','81.62%')\n",
       "                .prop('aria-valuenow',81.62)\n",
       "                .text('81.62%');</script>"
      ]
     },
     "metadata": {},
     "output_type": "display_data"
    },
    {
     "data": {
      "text/html": [
       "<script type=\"text/javascript\">$('.the-bar.progress .progress-bar')\n",
       "                .css('width','81.91%')\n",
       "                .prop('aria-valuenow',81.91)\n",
       "                .text('81.91%');</script>"
      ]
     },
     "metadata": {},
     "output_type": "display_data"
    },
    {
     "data": {
      "text/html": [
       "<script type=\"text/javascript\">$('.the-bar.progress .progress-bar')\n",
       "                .css('width','82.21%')\n",
       "                .prop('aria-valuenow',82.21)\n",
       "                .text('82.21%');</script>"
      ]
     },
     "metadata": {},
     "output_type": "display_data"
    },
    {
     "data": {
      "text/html": [
       "<script type=\"text/javascript\">$('.the-bar.progress .progress-bar')\n",
       "                .css('width','82.50%')\n",
       "                .prop('aria-valuenow',82.50)\n",
       "                .text('82.50%');</script>"
      ]
     },
     "metadata": {},
     "output_type": "display_data"
    },
    {
     "data": {
      "text/html": [
       "<script type=\"text/javascript\">$('.the-bar.progress .progress-bar')\n",
       "                .css('width','82.80%')\n",
       "                .prop('aria-valuenow',82.80)\n",
       "                .text('82.80%');</script>"
      ]
     },
     "metadata": {},
     "output_type": "display_data"
    },
    {
     "data": {
      "text/html": [
       "<script type=\"text/javascript\">$('.the-bar.progress .progress-bar')\n",
       "                .css('width','83.09%')\n",
       "                .prop('aria-valuenow',83.09)\n",
       "                .text('83.09%');</script>"
      ]
     },
     "metadata": {},
     "output_type": "display_data"
    },
    {
     "data": {
      "text/html": [
       "<script type=\"text/javascript\">$('.the-bar.progress .progress-bar')\n",
       "                .css('width','83.39%')\n",
       "                .prop('aria-valuenow',83.39)\n",
       "                .text('83.39%');</script>"
      ]
     },
     "metadata": {},
     "output_type": "display_data"
    },
    {
     "data": {
      "text/html": [
       "<script type=\"text/javascript\">$('.the-bar.progress .progress-bar')\n",
       "                .css('width','83.68%')\n",
       "                .prop('aria-valuenow',83.68)\n",
       "                .text('83.68%');</script>"
      ]
     },
     "metadata": {},
     "output_type": "display_data"
    },
    {
     "data": {
      "text/html": [
       "<script type=\"text/javascript\">$('.the-bar.progress .progress-bar')\n",
       "                .css('width','83.98%')\n",
       "                .prop('aria-valuenow',83.98)\n",
       "                .text('83.98%');</script>"
      ]
     },
     "metadata": {},
     "output_type": "display_data"
    },
    {
     "data": {
      "text/html": [
       "<script type=\"text/javascript\">$('.the-bar.progress .progress-bar')\n",
       "                .css('width','84.27%')\n",
       "                .prop('aria-valuenow',84.27)\n",
       "                .text('84.27%');</script>"
      ]
     },
     "metadata": {},
     "output_type": "display_data"
    },
    {
     "data": {
      "text/html": [
       "<script type=\"text/javascript\">$('.the-bar.progress .progress-bar')\n",
       "                .css('width','84.57%')\n",
       "                .prop('aria-valuenow',84.57)\n",
       "                .text('84.57%');</script>"
      ]
     },
     "metadata": {},
     "output_type": "display_data"
    },
    {
     "data": {
      "text/html": [
       "<script type=\"text/javascript\">$('.the-bar.progress .progress-bar')\n",
       "                .css('width','84.86%')\n",
       "                .prop('aria-valuenow',84.86)\n",
       "                .text('84.86%');</script>"
      ]
     },
     "metadata": {},
     "output_type": "display_data"
    },
    {
     "data": {
      "text/html": [
       "<script type=\"text/javascript\">$('.the-bar.progress .progress-bar')\n",
       "                .css('width','85.16%')\n",
       "                .prop('aria-valuenow',85.16)\n",
       "                .text('85.16%');</script>"
      ]
     },
     "metadata": {},
     "output_type": "display_data"
    },
    {
     "data": {
      "text/html": [
       "<script type=\"text/javascript\">$('.the-bar.progress .progress-bar')\n",
       "                .css('width','85.45%')\n",
       "                .prop('aria-valuenow',85.45)\n",
       "                .text('85.45%');</script>"
      ]
     },
     "metadata": {},
     "output_type": "display_data"
    },
    {
     "data": {
      "text/html": [
       "<script type=\"text/javascript\">$('.the-bar.progress .progress-bar')\n",
       "                .css('width','85.75%')\n",
       "                .prop('aria-valuenow',85.75)\n",
       "                .text('85.75%');</script>"
      ]
     },
     "metadata": {},
     "output_type": "display_data"
    },
    {
     "data": {
      "text/html": [
       "<script type=\"text/javascript\">$('.the-bar.progress .progress-bar')\n",
       "                .css('width','86.04%')\n",
       "                .prop('aria-valuenow',86.04)\n",
       "                .text('86.04%');</script>"
      ]
     },
     "metadata": {},
     "output_type": "display_data"
    },
    {
     "data": {
      "text/html": [
       "<script type=\"text/javascript\">$('.the-bar.progress .progress-bar')\n",
       "                .css('width','86.34%')\n",
       "                .prop('aria-valuenow',86.34)\n",
       "                .text('86.34%');</script>"
      ]
     },
     "metadata": {},
     "output_type": "display_data"
    },
    {
     "data": {
      "text/html": [
       "<script type=\"text/javascript\">$('.the-bar.progress .progress-bar')\n",
       "                .css('width','86.63%')\n",
       "                .prop('aria-valuenow',86.63)\n",
       "                .text('86.63%');</script>"
      ]
     },
     "metadata": {},
     "output_type": "display_data"
    },
    {
     "data": {
      "text/html": [
       "<script type=\"text/javascript\">$('.the-bar.progress .progress-bar')\n",
       "                .css('width','86.93%')\n",
       "                .prop('aria-valuenow',86.93)\n",
       "                .text('86.93%');</script>"
      ]
     },
     "metadata": {},
     "output_type": "display_data"
    },
    {
     "data": {
      "text/html": [
       "<script type=\"text/javascript\">$('.the-bar.progress .progress-bar')\n",
       "                .css('width','87.22%')\n",
       "                .prop('aria-valuenow',87.22)\n",
       "                .text('87.22%');</script>"
      ]
     },
     "metadata": {},
     "output_type": "display_data"
    },
    {
     "data": {
      "text/html": [
       "<script type=\"text/javascript\">$('.the-bar.progress .progress-bar')\n",
       "                .css('width','87.51%')\n",
       "                .prop('aria-valuenow',87.51)\n",
       "                .text('87.51%');</script>"
      ]
     },
     "metadata": {},
     "output_type": "display_data"
    },
    {
     "data": {
      "text/html": [
       "<script type=\"text/javascript\">$('.the-bar.progress .progress-bar')\n",
       "                .css('width','87.81%')\n",
       "                .prop('aria-valuenow',87.81)\n",
       "                .text('87.81%');</script>"
      ]
     },
     "metadata": {},
     "output_type": "display_data"
    },
    {
     "data": {
      "text/html": [
       "<script type=\"text/javascript\">$('.the-bar.progress .progress-bar')\n",
       "                .css('width','88.10%')\n",
       "                .prop('aria-valuenow',88.10)\n",
       "                .text('88.10%');</script>"
      ]
     },
     "metadata": {},
     "output_type": "display_data"
    },
    {
     "data": {
      "text/html": [
       "<script type=\"text/javascript\">$('.the-bar.progress .progress-bar')\n",
       "                .css('width','88.40%')\n",
       "                .prop('aria-valuenow',88.40)\n",
       "                .text('88.40%');</script>"
      ]
     },
     "metadata": {},
     "output_type": "display_data"
    },
    {
     "data": {
      "text/html": [
       "<script type=\"text/javascript\">$('.the-bar.progress .progress-bar')\n",
       "                .css('width','88.69%')\n",
       "                .prop('aria-valuenow',88.69)\n",
       "                .text('88.69%');</script>"
      ]
     },
     "metadata": {},
     "output_type": "display_data"
    },
    {
     "data": {
      "text/html": [
       "<script type=\"text/javascript\">$('.the-bar.progress .progress-bar')\n",
       "                .css('width','88.99%')\n",
       "                .prop('aria-valuenow',88.99)\n",
       "                .text('88.99%');</script>"
      ]
     },
     "metadata": {},
     "output_type": "display_data"
    },
    {
     "data": {
      "text/html": [
       "<script type=\"text/javascript\">$('.the-bar.progress .progress-bar')\n",
       "                .css('width','89.28%')\n",
       "                .prop('aria-valuenow',89.28)\n",
       "                .text('89.28%');</script>"
      ]
     },
     "metadata": {},
     "output_type": "display_data"
    },
    {
     "data": {
      "text/html": [
       "<script type=\"text/javascript\">$('.the-bar.progress .progress-bar')\n",
       "                .css('width','89.58%')\n",
       "                .prop('aria-valuenow',89.58)\n",
       "                .text('89.58%');</script>"
      ]
     },
     "metadata": {},
     "output_type": "display_data"
    },
    {
     "data": {
      "text/html": [
       "<script type=\"text/javascript\">$('.the-bar.progress .progress-bar')\n",
       "                .css('width','89.87%')\n",
       "                .prop('aria-valuenow',89.87)\n",
       "                .text('89.87%');</script>"
      ]
     },
     "metadata": {},
     "output_type": "display_data"
    },
    {
     "data": {
      "text/html": [
       "<script type=\"text/javascript\">$('.the-bar.progress .progress-bar')\n",
       "                .css('width','90.17%')\n",
       "                .prop('aria-valuenow',90.17)\n",
       "                .text('90.17%');</script>"
      ]
     },
     "metadata": {},
     "output_type": "display_data"
    },
    {
     "data": {
      "text/html": [
       "<script type=\"text/javascript\">$('.the-bar.progress .progress-bar')\n",
       "                .css('width','90.46%')\n",
       "                .prop('aria-valuenow',90.46)\n",
       "                .text('90.46%');</script>"
      ]
     },
     "metadata": {},
     "output_type": "display_data"
    },
    {
     "data": {
      "text/html": [
       "<script type=\"text/javascript\">$('.the-bar.progress .progress-bar')\n",
       "                .css('width','90.76%')\n",
       "                .prop('aria-valuenow',90.76)\n",
       "                .text('90.76%');</script>"
      ]
     },
     "metadata": {},
     "output_type": "display_data"
    },
    {
     "data": {
      "text/html": [
       "<script type=\"text/javascript\">$('.the-bar.progress .progress-bar')\n",
       "                .css('width','91.05%')\n",
       "                .prop('aria-valuenow',91.05)\n",
       "                .text('91.05%');</script>"
      ]
     },
     "metadata": {},
     "output_type": "display_data"
    },
    {
     "data": {
      "text/html": [
       "<script type=\"text/javascript\">$('.the-bar.progress .progress-bar')\n",
       "                .css('width','91.35%')\n",
       "                .prop('aria-valuenow',91.35)\n",
       "                .text('91.35%');</script>"
      ]
     },
     "metadata": {},
     "output_type": "display_data"
    },
    {
     "data": {
      "text/html": [
       "<script type=\"text/javascript\">$('.the-bar.progress .progress-bar')\n",
       "                .css('width','91.64%')\n",
       "                .prop('aria-valuenow',91.64)\n",
       "                .text('91.64%');</script>"
      ]
     },
     "metadata": {},
     "output_type": "display_data"
    },
    {
     "data": {
      "text/html": [
       "<script type=\"text/javascript\">$('.the-bar.progress .progress-bar')\n",
       "                .css('width','91.94%')\n",
       "                .prop('aria-valuenow',91.94)\n",
       "                .text('91.94%');</script>"
      ]
     },
     "metadata": {},
     "output_type": "display_data"
    },
    {
     "data": {
      "text/html": [
       "<script type=\"text/javascript\">$('.the-bar.progress .progress-bar')\n",
       "                .css('width','92.23%')\n",
       "                .prop('aria-valuenow',92.23)\n",
       "                .text('92.23%');</script>"
      ]
     },
     "metadata": {},
     "output_type": "display_data"
    },
    {
     "data": {
      "text/html": [
       "<script type=\"text/javascript\">$('.the-bar.progress .progress-bar')\n",
       "                .css('width','92.53%')\n",
       "                .prop('aria-valuenow',92.53)\n",
       "                .text('92.53%');</script>"
      ]
     },
     "metadata": {},
     "output_type": "display_data"
    },
    {
     "data": {
      "text/html": [
       "<script type=\"text/javascript\">$('.the-bar.progress .progress-bar')\n",
       "                .css('width','92.82%')\n",
       "                .prop('aria-valuenow',92.82)\n",
       "                .text('92.82%');</script>"
      ]
     },
     "metadata": {},
     "output_type": "display_data"
    },
    {
     "data": {
      "text/html": [
       "<script type=\"text/javascript\">$('.the-bar.progress .progress-bar')\n",
       "                .css('width','93.12%')\n",
       "                .prop('aria-valuenow',93.12)\n",
       "                .text('93.12%');</script>"
      ]
     },
     "metadata": {},
     "output_type": "display_data"
    },
    {
     "data": {
      "text/html": [
       "<script type=\"text/javascript\">$('.the-bar.progress .progress-bar')\n",
       "                .css('width','93.41%')\n",
       "                .prop('aria-valuenow',93.41)\n",
       "                .text('93.41%');</script>"
      ]
     },
     "metadata": {},
     "output_type": "display_data"
    },
    {
     "data": {
      "text/html": [
       "<script type=\"text/javascript\">$('.the-bar.progress .progress-bar')\n",
       "                .css('width','93.71%')\n",
       "                .prop('aria-valuenow',93.71)\n",
       "                .text('93.71%');</script>"
      ]
     },
     "metadata": {},
     "output_type": "display_data"
    },
    {
     "data": {
      "text/html": [
       "<script type=\"text/javascript\">$('.the-bar.progress .progress-bar')\n",
       "                .css('width','94.00%')\n",
       "                .prop('aria-valuenow',94.00)\n",
       "                .text('94.00%');</script>"
      ]
     },
     "metadata": {},
     "output_type": "display_data"
    },
    {
     "data": {
      "text/html": [
       "<script type=\"text/javascript\">$('.the-bar.progress .progress-bar')\n",
       "                .css('width','94.30%')\n",
       "                .prop('aria-valuenow',94.30)\n",
       "                .text('94.30%');</script>"
      ]
     },
     "metadata": {},
     "output_type": "display_data"
    },
    {
     "data": {
      "text/html": [
       "<script type=\"text/javascript\">$('.the-bar.progress .progress-bar')\n",
       "                .css('width','94.59%')\n",
       "                .prop('aria-valuenow',94.59)\n",
       "                .text('94.59%');</script>"
      ]
     },
     "metadata": {},
     "output_type": "display_data"
    },
    {
     "data": {
      "text/html": [
       "<script type=\"text/javascript\">$('.the-bar.progress .progress-bar')\n",
       "                .css('width','94.88%')\n",
       "                .prop('aria-valuenow',94.88)\n",
       "                .text('94.88%');</script>"
      ]
     },
     "metadata": {},
     "output_type": "display_data"
    },
    {
     "data": {
      "text/html": [
       "<script type=\"text/javascript\">$('.the-bar.progress .progress-bar')\n",
       "                .css('width','95.18%')\n",
       "                .prop('aria-valuenow',95.18)\n",
       "                .text('95.18%');</script>"
      ]
     },
     "metadata": {},
     "output_type": "display_data"
    },
    {
     "data": {
      "text/html": [
       "<script type=\"text/javascript\">$('.the-bar.progress .progress-bar')\n",
       "                .css('width','95.47%')\n",
       "                .prop('aria-valuenow',95.47)\n",
       "                .text('95.47%');</script>"
      ]
     },
     "metadata": {},
     "output_type": "display_data"
    },
    {
     "data": {
      "text/html": [
       "<script type=\"text/javascript\">$('.the-bar.progress .progress-bar')\n",
       "                .css('width','95.77%')\n",
       "                .prop('aria-valuenow',95.77)\n",
       "                .text('95.77%');</script>"
      ]
     },
     "metadata": {},
     "output_type": "display_data"
    },
    {
     "data": {
      "text/html": [
       "<script type=\"text/javascript\">$('.the-bar.progress .progress-bar')\n",
       "                .css('width','96.06%')\n",
       "                .prop('aria-valuenow',96.06)\n",
       "                .text('96.06%');</script>"
      ]
     },
     "metadata": {},
     "output_type": "display_data"
    },
    {
     "data": {
      "text/html": [
       "<script type=\"text/javascript\">$('.the-bar.progress .progress-bar')\n",
       "                .css('width','96.36%')\n",
       "                .prop('aria-valuenow',96.36)\n",
       "                .text('96.36%');</script>"
      ]
     },
     "metadata": {},
     "output_type": "display_data"
    },
    {
     "data": {
      "text/html": [
       "<script type=\"text/javascript\">$('.the-bar.progress .progress-bar')\n",
       "                .css('width','96.65%')\n",
       "                .prop('aria-valuenow',96.65)\n",
       "                .text('96.65%');</script>"
      ]
     },
     "metadata": {},
     "output_type": "display_data"
    },
    {
     "data": {
      "text/html": [
       "<script type=\"text/javascript\">$('.the-bar.progress .progress-bar')\n",
       "                .css('width','96.95%')\n",
       "                .prop('aria-valuenow',96.95)\n",
       "                .text('96.95%');</script>"
      ]
     },
     "metadata": {},
     "output_type": "display_data"
    },
    {
     "data": {
      "text/html": [
       "<script type=\"text/javascript\">$('.the-bar.progress .progress-bar')\n",
       "                .css('width','97.24%')\n",
       "                .prop('aria-valuenow',97.24)\n",
       "                .text('97.24%');</script>"
      ]
     },
     "metadata": {},
     "output_type": "display_data"
    },
    {
     "data": {
      "text/html": [
       "<script type=\"text/javascript\">$('.the-bar.progress .progress-bar')\n",
       "                .css('width','97.54%')\n",
       "                .prop('aria-valuenow',97.54)\n",
       "                .text('97.54%');</script>"
      ]
     },
     "metadata": {},
     "output_type": "display_data"
    },
    {
     "data": {
      "text/html": [
       "<script type=\"text/javascript\">$('.the-bar.progress .progress-bar')\n",
       "                .css('width','97.83%')\n",
       "                .prop('aria-valuenow',97.83)\n",
       "                .text('97.83%');</script>"
      ]
     },
     "metadata": {},
     "output_type": "display_data"
    },
    {
     "data": {
      "text/html": [
       "<script type=\"text/javascript\">$('.the-bar.progress .progress-bar')\n",
       "                .css('width','98.13%')\n",
       "                .prop('aria-valuenow',98.13)\n",
       "                .text('98.13%');</script>"
      ]
     },
     "metadata": {},
     "output_type": "display_data"
    },
    {
     "data": {
      "text/html": [
       "<script type=\"text/javascript\">$('.the-bar.progress .progress-bar')\n",
       "                .css('width','98.42%')\n",
       "                .prop('aria-valuenow',98.42)\n",
       "                .text('98.42%');</script>"
      ]
     },
     "metadata": {},
     "output_type": "display_data"
    },
    {
     "data": {
      "text/html": [
       "<script type=\"text/javascript\">$('.the-bar.progress .progress-bar')\n",
       "                .css('width','98.72%')\n",
       "                .prop('aria-valuenow',98.72)\n",
       "                .text('98.72%');</script>"
      ]
     },
     "metadata": {},
     "output_type": "display_data"
    },
    {
     "data": {
      "text/html": [
       "<script type=\"text/javascript\">$('.the-bar.progress .progress-bar')\n",
       "                .css('width','99.01%')\n",
       "                .prop('aria-valuenow',99.01)\n",
       "                .text('99.01%');</script>"
      ]
     },
     "metadata": {},
     "output_type": "display_data"
    },
    {
     "data": {
      "text/html": [
       "<script type=\"text/javascript\">$('.the-bar.progress .progress-bar')\n",
       "                .css('width','99.31%')\n",
       "                .prop('aria-valuenow',99.31)\n",
       "                .text('99.31%');</script>"
      ]
     },
     "metadata": {},
     "output_type": "display_data"
    },
    {
     "data": {
      "text/html": [
       "<script type=\"text/javascript\">$('.the-bar.progress .progress-bar')\n",
       "                .css('width','99.60%')\n",
       "                .prop('aria-valuenow',99.60)\n",
       "                .text('99.60%');</script>"
      ]
     },
     "metadata": {},
     "output_type": "display_data"
    },
    {
     "data": {
      "text/html": [
       "<script type=\"text/javascript\">$('.the-bar.progress .progress-bar')\n",
       "                .css('width','99.90%')\n",
       "                .prop('aria-valuenow',99.90)\n",
       "                .text('99.90%');</script>"
      ]
     },
     "metadata": {},
     "output_type": "display_data"
    },
    {
     "data": {
      "text/html": [
       "<script type=\"text/javascript\">$('.the-bar.progress .progress-bar')\n",
       "                .css('width','100.00%')\n",
       "                .prop('aria-valuenow',100.00)\n",
       "                .text('100.00%');</script>"
      ]
     },
     "metadata": {},
     "output_type": "display_data"
    },
    {
     "data": {
      "text/html": [
       "<script type=\"text/javascript\">$('.the-bar.progress .progress-bar')\n",
       "                .css('width','100.00%')\n",
       "                .prop('aria-valuenow',100.00)\n",
       "                .text('100.00%');</script>"
      ]
     },
     "metadata": {},
     "output_type": "display_data"
    },
    {
     "data": {
      "text/html": [
       "<img src=\"test.png\"></img>"
      ]
     },
     "metadata": {},
     "output_type": "display_data"
    }
   ],
   "source": [
    "DownloadFileAsync \n",
    "    \"https://allhdwallpapers.com/wp-content/uploads/2015/06/The-Witcher-3-game-2.png\" \"test.png\" \n",
    "    (CancellationToken()) progLog (HttpClient())\n",
    "|> Async.RunSynchronously\n",
    "|> ignore\n",
    "\n",
    "img.[\"src\",\"test.png\"] |> display"
   ]
  },
  {
   "cell_type": "code",
   "execution_count": 252,
   "metadata": {},
   "outputs": [],
   "source": [
    "let progressBar className =     \n",
    "    sprintf \"<div class='%s progress'>\n",
    "                 <div class='progress-bar' role='progressbar'\n",
    "                      style='width: 25%%;' aria-valuenow='25' aria-valuemin='0'\n",
    "                      aria-valuemax='100'>25%%</div>\n",
    "             </div>\" className\n",
    "    |> HtmlString \n",
    "\n",
    "let updateProgressBar className value =\n",
    "    sprintf \"$('.%s.progress .progress-bar')\n",
    "                .css('width','%.02f%%')\n",
    "                .prop('aria-valuenow',%.02f)\n",
    "                .text('%.02f%%');\" className value value value\n",
    "    |> Javascript\n",
    "    |> ignore\n",
    "\n",
    "//updateProgressBar \"ref\" 25.5"
   ]
  },
  {
   "cell_type": "code",
   "execution_count": null,
   "metadata": {},
   "outputs": [],
   "source": [
    "open FSharpPocketViewTags \n",
    "\n",
    "let inline (=>) (key:string) value = key,box value\n",
    "\n",
    "type Style([<ParamArray>]props: (string*obj)[]) =\n",
    "    let _props = props\n",
    "    override _.ToString() =\n",
    "        let result = Array.fold (fun state (key,value) -> sprintf \"%s; %s: %O\" state key value) null _props\n",
    "        result.Trim([|';';' '|])\n",
    "    member x.ToTuple() =\n",
    "        \"style\" => x.ToString()\n",
    "\n",
    "let prkogressBar className = \n",
    "    div.[\"class\",className].\n",
    "        [\"style\",\"border: solid orange 1px; border-radius: 5px;padding: 0\"].\n",
    "        innerHTML (\n",
    "            span.[\"class\",\"pbar\"].\n",
    "                 [\"style\",\"background-color:lime;text-align: right; margin: -1px;\"].\n",
    "                 innerHTML\n",
    "                    (span.[\"class\",\"label-text\"].innerHTML(\"0.0 %\") )\n",
    "        )\n",
    "        \n",
    "div.[\"id\",\"Scar\"].\n",
    "    [\"style\",Style(\"border\"=>\"solid red 1px\",\"padding\"=>\"10px\")].\n",
    "    innerHTML\n",
    "        [div.[\"style\",Style(\"border\"=>\"solid green 3px\",\"padding\"=>\"10px\")]\n",
    "         div.[\"style\", \"padding:10px;background-color:blue\"]]\n",
    "//|> display\n",
    "\n",
    "Javascript(\"$('#Scar>div:last-child').css('background-color','brown').text(jQuery.fn.jquery);\")"
   ]
  },
  {
   "cell_type": "code",
   "execution_count": 232,
   "metadata": {},
   "outputs": [
    {
     "data": {
      "text/html": [
       "<script type=\"text/javascript\">$('.pbar.progress .progress-bar')\n",
       "                .css('width','45.500000%')\n",
       "                .prop('aria-valuenow',45.500000)\n",
       "                .text('45.50%');</script>"
      ]
     },
     "metadata": {},
     "output_type": "display_data"
    },
    {
     "data": {
      "text/html": [
       "<null>"
      ]
     },
     "execution_count": 232,
     "metadata": {},
     "output_type": "execute_result"
    }
   ],
   "source": [
    "updateProgressBar \"pbar\" 45.5"
   ]
  },
  {
   "cell_type": "code",
   "execution_count": 32,
   "metadata": {},
   "outputs": [],
   "source": [
    "//DownloadFileAsync \"https://i.redd.it/u5pz59lmxocy.png\" \"./jupyter-test.png\" (CancellationToken()) progLog (HttpClient())\n",
    "//|> Async.RunSynchronously"
   ]
  },
  {
   "cell_type": "code",
   "execution_count": 24,
   "metadata": {},
   "outputs": [],
   "source": [
    "open System\n",
    "open System.Net.Http\n",
    "open System.Threading.Tasks\n",
    "open System.Threading"
   ]
  },
  {
   "cell_type": "code",
   "execution_count": 99,
   "metadata": {},
   "outputs": [],
   "source": [
    "let k ([<ParamArray>]x) = Array.iter(printfn \"%A\") x"
   ]
  },
  {
   "cell_type": "code",
   "execution_count": 167,
   "metadata": {},
   "outputs": [
    {
     "ename": "Unhandled Exception",
     "evalue": "input.fsx (1,1)-(2,67) typecheck error An indexer property must be given at least one argument",
     "output_type": "error",
     "traceback": [
      "input.fsx (1,1)-(2,67) typecheck error An indexer property must be given at least one argument"
     ]
    }
   ],
   "source": [
    "div.[\"id\",\"Scar\"].\n",
    "    [Style(\"border\"=>\"solid red 1px\",\"padding\"=>\"10px\").ToTuple()]"
   ]
  },
  {
   "cell_type": "code",
   "execution_count": 125,
   "metadata": {},
   "outputs": [
    {
     "data": {
      "text/html": [
       "; padding: 5px; border: solid red 1px; font-size: 15.231213"
      ]
     },
     "execution_count": 125,
     "metadata": {},
     "output_type": "execute_result"
    }
   ],
   "source": []
  },
  {
   "cell_type": "code",
   "execution_count": 130,
   "metadata": {},
   "outputs": [
    {
     "data": {
      "text/html": [
       "padding: 5px; border: solid red 1px; font-size: 15.231213"
      ]
     },
     "execution_count": 130,
     "metadata": {},
     "output_type": "execute_result"
    }
   ],
   "source": [
    "type Style([<ParamArray>]props: (string*obj)[]) =\n",
    "    let _props = props\n",
    "    override _.ToString() =\n",
    "        let result = Array.fold (fun state (key,value) -> sprintf \"%s; %s: %O\" state key value) null _props\n",
    "        result.Trim([|';';' '|])\n",
    "        \n",
    "Style(\"padding\"=>\"5px\", \"border\"=>\"solid red 1px\", \"font-size\"=>15.231213)        "
   ]
  },
  {
   "cell_type": "code",
   "execution_count": 148,
   "metadata": {},
   "outputs": [
    {
     "data": {
      "text/html": [
       "<script type=\"text/javascript\">alert('eara')</script>"
      ]
     },
     "metadata": {},
     "output_type": "display_data"
    },
    {
     "data": {
      "text/html": [
       "<null>"
      ]
     },
     "execution_count": 148,
     "metadata": {},
     "output_type": "execute_result"
    }
   ],
   "source": [
    "Javascript(\"alert('eara')\")"
   ]
  },
  {
   "cell_type": "code",
   "execution_count": null,
   "metadata": {},
   "outputs": [],
   "source": []
  }
 ],
 "metadata": {
  "kernelspec": {
   "display_name": ".NET (F#)",
   "language": "F#",
   "name": ".net-fsharp"
  },
  "language_info": {
   "file_extension": ".fs",
   "mimetype": "text/x-fsharp",
   "name": "C#",
   "pygments_lexer": "fsharp",
   "version": "4.5"
  }
 },
 "nbformat": 4,
 "nbformat_minor": 2
}
