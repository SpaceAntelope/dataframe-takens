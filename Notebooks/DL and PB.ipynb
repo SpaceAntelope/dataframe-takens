{
 "cells": [
  {
   "cell_type": "code",
   "execution_count": 18,
   "metadata": {},
   "outputs": [],
   "source": [
    "open System.Net.Http\n",
    "//open System.Text.Json\n",
    "//open System.Text.Json.Serialization\n",
    "open System\n",
    "open System.IO\n",
    "open System.Net.Http.Headers\n",
    "open System.Threading"
   ]
  },
  {
   "cell_type": "code",
   "execution_count": 2,
   "metadata": {},
   "outputs": [
    {
     "ename": "Unhandled Exception",
     "evalue": "input.fsx (6,26)-(6,38) typecheck error The type 'StreamReader' is not defined. Maybe you want one of the following:\r\n   Stream\ninput.fsx (7,20)-(7,36) typecheck error Lookup on object of indeterminate type based on information prior to this program point. A type annotation may be needed prior to this program point to constrain the type of the object. This may allow the lookup to be resolved.\ninput.fsx (8,9)-(8,23) typecheck error The value, namespace, type or module 'JsonSerializer' is not defined. Maybe you want one of the following:\r\n   JsonString\r\n   json",
     "output_type": "error",
     "traceback": [
      "input.fsx (6,26)-(6,38) typecheck error The type 'StreamReader' is not defined. Maybe you want one of the following:\r\n   Stream\ninput.fsx (7,20)-(7,36) typecheck error Lookup on object of indeterminate type based on information prior to this program point. A type annotation may be needed prior to this program point to constrain the type of the object. This may allow the lookup to be resolved.\ninput.fsx (8,9)-(8,23) typecheck error The value, namespace, type or module 'JsonSerializer' is not defined. Maybe you want one of the following:\r\n   JsonString\r\n   json"
     ]
    }
   ],
   "source": [
    "type Credentials() =\n",
    "    member val username: string = null with get, set \n",
    "    member val key: string = null with get,set\n",
    "      \n",
    "    static member LoadFrom(path: string): Credentials =\n",
    "        use reader = new StreamReader(path)\n",
    "        let json = reader.ReadToEnd()\n",
    "        JsonSerializer.Deserialize<Credentials>(json)"
   ]
  },
  {
   "cell_type": "code",
   "execution_count": 3,
   "metadata": {},
   "outputs": [
    {
     "ename": "Unhandled Exception",
     "evalue": "input.fsx (1,13)-(1,24) typecheck error The value, namespace, type or module 'Credentials' is not defined.",
     "output_type": "error",
     "traceback": [
      "input.fsx (1,13)-(1,24) typecheck error The value, namespace, type or module 'Credentials' is not defined."
     ]
    }
   ],
   "source": [
    "let creds = Credentials.LoadFrom(\"kaggle.json\")\n",
    "creds"
   ]
  },
  {
   "cell_type": "code",
   "execution_count": null,
   "metadata": {},
   "outputs": [],
   "source": [
    "let BaseApiUrl = \"https://www.kaggle.com/api/v1/\"\n",
    "\n",
    "type AuthorizedClient = AuthorizedClient of HttpClient"
   ]
  },
  {
   "cell_type": "code",
   "execution_count": null,
   "metadata": {},
   "outputs": [],
   "source": [
    "let CreateAuthorizedClient(auth: Credentials) =\n",
    "    let authToken =\n",
    "        sprintf \"%s:%s\" auth.username auth.key\n",
    "        |> Text.ASCIIEncoding.ASCII.GetBytes\n",
    "        |> Convert.ToBase64String\n",
    "\n",
    "    let client = new HttpClient()\n",
    "    client.DefaultRequestHeaders.Authorization <- AuthenticationHeaderValue(\"Basic\", authToken)\n",
    "\n",
    "    AuthorizedClient client\n",
    "\n",
    "let DownLoadFileAsync (urlPath: string[]) destinationFolder (AuthorizedClient client) =\n",
    "    let url = sprintf \"%sdatasets/download/%s\" BaseApiUrl <| String.Join(\"/\", urlPath)\n",
    "    let filename = urlPath |> Array.last\n",
    "\n",
    "    async {\n",
    "        use! stream = client.GetStreamAsync(url) |> Async.AwaitTask\n",
    "        use fstream = new FileStream(Path.Combine(destinationFolder, filename), FileMode.CreateNew)\n",
    "        let! _ = stream.CopyToAsync fstream |> Async.AwaitTask\n",
    "        fstream.Close()\n",
    "        stream.Close()\n",
    "    }"
   ]
  },
  {
   "cell_type": "code",
   "execution_count": null,
   "metadata": {},
   "outputs": [],
   "source": [
    "let authClient = CreateAuthorizedClient creds\n",
    "let (AuthorizedClient client) = authClient"
   ]
  },
  {
   "cell_type": "code",
   "execution_count": null,
   "metadata": {},
   "outputs": [],
   "source": [
    "DownLoadFileAsync [|\"selfishgene\";\"historical-hourly-weather-data.zip\"|] \"./\" authClient\n",
    "|> Async.RunSynchronously\n"
   ]
  },
  {
   "cell_type": "code",
   "execution_count": 7,
   "metadata": {},
   "outputs": [],
   "source": [
    "let DownloadFileAsync \n",
    "        (url: string) (destinationFile: string) cancellationToken \n",
    "        (report: int64 * float -> unit) (client: HttpClient) =\n",
    "        async {\n",
    "            let bufferLength = 8192\n",
    "            use! response = client.GetAsync(url, HttpCompletionOption.ResponseHeadersRead, cancellationToken)\n",
    "                            |> Async.AwaitTask\n",
    "            \n",
    "            response.EnsureSuccessStatusCode() |> ignore\n",
    "\n",
    "            let total =\n",
    "                if response.Content.Headers.ContentLength.HasValue\n",
    "                then response.Content.Headers.ContentLength.Value\n",
    "                else -1L\n",
    "                |> float\n",
    "\n",
    "            use! contentStream = response.Content.ReadAsStreamAsync() |> Async.AwaitTask\n",
    "            use fileStream =\n",
    "                new FileStream(destinationFile, FileMode.Create, FileAccess.Write, FileShare.None, bufferLength, true)\n",
    "\n",
    "            let mutable totalRead = 0L\n",
    "            let mutable totalReads = 0L\n",
    "            let mutable isMoreToRead = true\n",
    "            let buffer = Array.create bufferLength 0uy\n",
    "\n",
    "            while isMoreToRead && not cancellationToken.IsCancellationRequested do\n",
    "                let! read = contentStream.ReadAsync(buffer, 0, bufferLength) |> Async.AwaitTask\n",
    "                if read > 0 then\n",
    "                    do! fileStream.WriteAsync(buffer, 0, read) |> Async.AwaitTask\n",
    "                    totalRead <- totalRead + int64 read\n",
    "                    totalReads <- totalReads + 1L\n",
    "                else\n",
    "                    isMoreToRead <- false\n",
    "\n",
    "                report (totalRead, float totalRead / total)\n",
    "        }"
   ]
  },
  {
   "cell_type": "code",
   "execution_count": 9,
   "metadata": {},
   "outputs": [],
   "source": [
    "let progressBar className =     \n",
    "    sprintf \"<div class='%s progress'>\n",
    "                 <div class='progress-bar' role='progressbar'\n",
    "                      style='width: 1%%;' aria-valuenow='1' aria-valuemin='0'\n",
    "                      aria-valuemax='100'>1%%</div>\n",
    "             </div>\" className\n",
    "    |> HtmlString \n",
    "\n",
    "let updateProgressBar className value =\n",
    "    sprintf \"$('.%s.progress .progress-bar')\n",
    "                .css('width','%.02f%%')\n",
    "                .prop('aria-valuenow',%.02f)\n",
    "                .text('%.02f%%');\" className value value value\n",
    "    |> Javascript    "
   ]
  },
  {
   "cell_type": "code",
   "execution_count": 13,
   "metadata": {},
   "outputs": [],
   "source": [
    "open System\n",
    "open Microsoft.DotNet.Interactive.FSharp\n",
    "open Microsoft.DotNet.Interactive\n",
    "open Microsoft.AspNetCore.Html \n",
    "open FSharpKernelHelpers \n",
    "\n",
    "let progLog() =  \n",
    "    progressBar \"the-bar\" \n",
    "    |> display \n",
    "    |> ignore\n",
    "    \n",
    "    let guid = sprintf \"code-%O\" <| Guid.NewGuid()\n",
    "    sprintf \"<div class='%s'></div>\" guid\n",
    "    |> HtmlString\n",
    "    |> display\n",
    "    |> ignore\n",
    "    \n",
    "    fun (bytesRead : int64,percentage: float) ->\n",
    "        updateProgressBar \"the-bar\" (percentage*100.0)    \n",
    "        sprintf \"$('.%s').closest('.output').find('.output_area').each((i,el)=>{ if (i > 1) $(el).remove(); });\" guid\n",
    "        |> Javascript      \n",
    "        "
   ]
  },
  {
   "cell_type": "code",
   "execution_count": 22,
   "metadata": {
    "scrolled": true
   },
   "outputs": [
    {
     "data": {
      "text/html": [
       "<div class='the-bar progress'>\n",
       "                 <div class='progress-bar' role='progressbar'\n",
       "                      style='width: 1%;' aria-valuenow='1' aria-valuemin='0'\n",
       "                      aria-valuemax='100'>1%</div>\n",
       "             </div>"
      ]
     },
     "metadata": {},
     "output_type": "display_data"
    },
    {
     "data": {
      "text/html": [
       "<div class='code-d011f4ab-8621-4573-a79e-22effcef33df'></div>"
      ]
     },
     "metadata": {},
     "output_type": "display_data"
    },
    {
     "data": {
      "text/html": [
       "<script type=\"text/javascript\">$('.the-bar.progress .progress-bar')\n",
       "                .css('width','0.03%')\n",
       "                .prop('aria-valuenow',0.03)\n",
       "                .text('0.03%');</script>"
      ]
     },
     "metadata": {},
     "output_type": "display_data"
    },
    {
     "data": {
      "text/html": [
       "<script type=\"text/javascript\">$('.code-d011f4ab-8621-4573-a79e-22effcef33df').closest('.output').find('.output_area').each((i,el)=>{ if (i > 1) $(el).remove(); });</script>"
      ]
     },
     "metadata": {},
     "output_type": "display_data"
    },
    {
     "data": {
      "text/html": [
       "<script type=\"text/javascript\">$('.the-bar.progress .progress-bar')\n",
       "                .css('width','0.08%')\n",
       "                .prop('aria-valuenow',0.08)\n",
       "                .text('0.08%');</script>"
      ]
     },
     "metadata": {},
     "output_type": "display_data"
    },
    {
     "data": {
      "text/html": [
       "<script type=\"text/javascript\">$('.code-d011f4ab-8621-4573-a79e-22effcef33df').closest('.output').find('.output_area').each((i,el)=>{ if (i > 1) $(el).remove(); });</script>"
      ]
     },
     "metadata": {},
     "output_type": "display_data"
    },
    {
     "data": {
      "text/html": [
       "<script type=\"text/javascript\">$('.the-bar.progress .progress-bar')\n",
       "                .css('width','0.13%')\n",
       "                .prop('aria-valuenow',0.13)\n",
       "                .text('0.13%');</script>"
      ]
     },
     "metadata": {},
     "output_type": "display_data"
    },
    {
     "data": {
      "text/html": [
       "<script type=\"text/javascript\">$('.code-d011f4ab-8621-4573-a79e-22effcef33df').closest('.output').find('.output_area').each((i,el)=>{ if (i > 1) $(el).remove(); });</script>"
      ]
     },
     "metadata": {},
     "output_type": "display_data"
    },
    {
     "data": {
      "text/html": [
       "<script type=\"text/javascript\">$('.the-bar.progress .progress-bar')\n",
       "                .css('width','0.18%')\n",
       "                .prop('aria-valuenow',0.18)\n",
       "                .text('0.18%');</script>"
      ]
     },
     "metadata": {},
     "output_type": "display_data"
    },
    {
     "data": {
      "text/html": [
       "<script type=\"text/javascript\">$('.code-d011f4ab-8621-4573-a79e-22effcef33df').closest('.output').find('.output_area').each((i,el)=>{ if (i > 1) $(el).remove(); });</script>"
      ]
     },
     "metadata": {},
     "output_type": "display_data"
    },
    {
     "data": {
      "text/html": [
       "<script type=\"text/javascript\">$('.the-bar.progress .progress-bar')\n",
       "                .css('width','0.23%')\n",
       "                .prop('aria-valuenow',0.23)\n",
       "                .text('0.23%');</script>"
      ]
     },
     "metadata": {},
     "output_type": "display_data"
    },
    {
     "data": {
      "text/html": [
       "<script type=\"text/javascript\">$('.code-d011f4ab-8621-4573-a79e-22effcef33df').closest('.output').find('.output_area').each((i,el)=>{ if (i > 1) $(el).remove(); });</script>"
      ]
     },
     "metadata": {},
     "output_type": "display_data"
    },
    {
     "data": {
      "text/html": [
       "<script type=\"text/javascript\">$('.the-bar.progress .progress-bar')\n",
       "                .css('width','0.27%')\n",
       "                .prop('aria-valuenow',0.27)\n",
       "                .text('0.27%');</script>"
      ]
     },
     "metadata": {},
     "output_type": "display_data"
    },
    {
     "data": {
      "text/html": [
       "<script type=\"text/javascript\">$('.code-d011f4ab-8621-4573-a79e-22effcef33df').closest('.output').find('.output_area').each((i,el)=>{ if (i > 1) $(el).remove(); });</script>"
      ]
     },
     "metadata": {},
     "output_type": "display_data"
    },
    {
     "data": {
      "text/html": [
       "<script type=\"text/javascript\">$('.the-bar.progress .progress-bar')\n",
       "                .css('width','0.32%')\n",
       "                .prop('aria-valuenow',0.32)\n",
       "                .text('0.32%');</script>"
      ]
     },
     "metadata": {},
     "output_type": "display_data"
    },
    {
     "data": {
      "text/html": [
       "<script type=\"text/javascript\">$('.code-d011f4ab-8621-4573-a79e-22effcef33df').closest('.output').find('.output_area').each((i,el)=>{ if (i > 1) $(el).remove(); });</script>"
      ]
     },
     "metadata": {},
     "output_type": "display_data"
    },
    {
     "data": {
      "text/html": [
       "<script type=\"text/javascript\">$('.the-bar.progress .progress-bar')\n",
       "                .css('width','0.37%')\n",
       "                .prop('aria-valuenow',0.37)\n",
       "                .text('0.37%');</script>"
      ]
     },
     "metadata": {},
     "output_type": "display_data"
    },
    {
     "data": {
      "text/html": [
       "<script type=\"text/javascript\">$('.code-d011f4ab-8621-4573-a79e-22effcef33df').closest('.output').find('.output_area').each((i,el)=>{ if (i > 1) $(el).remove(); });</script>"
      ]
     },
     "metadata": {},
     "output_type": "display_data"
    },
    {
     "data": {
      "text/html": [
       "<script type=\"text/javascript\">$('.the-bar.progress .progress-bar')\n",
       "                .css('width','0.42%')\n",
       "                .prop('aria-valuenow',0.42)\n",
       "                .text('0.42%');</script>"
      ]
     },
     "metadata": {},
     "output_type": "display_data"
    },
    {
     "data": {
      "text/html": [
       "<script type=\"text/javascript\">$('.code-d011f4ab-8621-4573-a79e-22effcef33df').closest('.output').find('.output_area').each((i,el)=>{ if (i > 1) $(el).remove(); });</script>"
      ]
     },
     "metadata": {},
     "output_type": "display_data"
    },
    {
     "data": {
      "text/html": [
       "<script type=\"text/javascript\">$('.the-bar.progress .progress-bar')\n",
       "                .css('width','0.47%')\n",
       "                .prop('aria-valuenow',0.47)\n",
       "                .text('0.47%');</script>"
      ]
     },
     "metadata": {},
     "output_type": "display_data"
    },
    {
     "data": {
      "text/html": [
       "<script type=\"text/javascript\">$('.code-d011f4ab-8621-4573-a79e-22effcef33df').closest('.output').find('.output_area').each((i,el)=>{ if (i > 1) $(el).remove(); });</script>"
      ]
     },
     "metadata": {},
     "output_type": "display_data"
    },
    {
     "data": {
      "text/html": [
       "<script type=\"text/javascript\">$('.the-bar.progress .progress-bar')\n",
       "                .css('width','0.52%')\n",
       "                .prop('aria-valuenow',0.52)\n",
       "                .text('0.52%');</script>"
      ]
     },
     "metadata": {},
     "output_type": "display_data"
    },
    {
     "data": {
      "text/html": [
       "<script type=\"text/javascript\">$('.code-d011f4ab-8621-4573-a79e-22effcef33df').closest('.output').find('.output_area').each((i,el)=>{ if (i > 1) $(el).remove(); });</script>"
      ]
     },
     "metadata": {},
     "output_type": "display_data"
    },
    {
     "data": {
      "text/html": [
       "<script type=\"text/javascript\">$('.the-bar.progress .progress-bar')\n",
       "                .css('width','0.57%')\n",
       "                .prop('aria-valuenow',0.57)\n",
       "                .text('0.57%');</script>"
      ]
     },
     "metadata": {},
     "output_type": "display_data"
    },
    {
     "data": {
      "text/html": [
       "<script type=\"text/javascript\">$('.code-d011f4ab-8621-4573-a79e-22effcef33df').closest('.output').find('.output_area').each((i,el)=>{ if (i > 1) $(el).remove(); });</script>"
      ]
     },
     "metadata": {},
     "output_type": "display_data"
    },
    {
     "data": {
      "text/html": [
       "<script type=\"text/javascript\">$('.the-bar.progress .progress-bar')\n",
       "                .css('width','0.62%')\n",
       "                .prop('aria-valuenow',0.62)\n",
       "                .text('0.62%');</script>"
      ]
     },
     "metadata": {},
     "output_type": "display_data"
    },
    {
     "data": {
      "text/html": [
       "<script type=\"text/javascript\">$('.code-d011f4ab-8621-4573-a79e-22effcef33df').closest('.output').find('.output_area').each((i,el)=>{ if (i > 1) $(el).remove(); });</script>"
      ]
     },
     "metadata": {},
     "output_type": "display_data"
    },
    {
     "data": {
      "text/html": [
       "<script type=\"text/javascript\">$('.the-bar.progress .progress-bar')\n",
       "                .css('width','0.67%')\n",
       "                .prop('aria-valuenow',0.67)\n",
       "                .text('0.67%');</script>"
      ]
     },
     "metadata": {},
     "output_type": "display_data"
    },
    {
     "data": {
      "text/html": [
       "<script type=\"text/javascript\">$('.code-d011f4ab-8621-4573-a79e-22effcef33df').closest('.output').find('.output_area').each((i,el)=>{ if (i > 1) $(el).remove(); });</script>"
      ]
     },
     "metadata": {},
     "output_type": "display_data"
    },
    {
     "data": {
      "text/html": [
       "<script type=\"text/javascript\">$('.the-bar.progress .progress-bar')\n",
       "                .css('width','0.72%')\n",
       "                .prop('aria-valuenow',0.72)\n",
       "                .text('0.72%');</script>"
      ]
     },
     "metadata": {},
     "output_type": "display_data"
    },
    {
     "data": {
      "text/html": [
       "<script type=\"text/javascript\">$('.code-d011f4ab-8621-4573-a79e-22effcef33df').closest('.output').find('.output_area').each((i,el)=>{ if (i > 1) $(el).remove(); });</script>"
      ]
     },
     "metadata": {},
     "output_type": "display_data"
    },
    {
     "data": {
      "text/html": [
       "<script type=\"text/javascript\">$('.the-bar.progress .progress-bar')\n",
       "                .css('width','0.77%')\n",
       "                .prop('aria-valuenow',0.77)\n",
       "                .text('0.77%');</script>"
      ]
     },
     "metadata": {},
     "output_type": "display_data"
    },
    {
     "data": {
      "text/html": [
       "<script type=\"text/javascript\">$('.code-d011f4ab-8621-4573-a79e-22effcef33df').closest('.output').find('.output_area').each((i,el)=>{ if (i > 1) $(el).remove(); });</script>"
      ]
     },
     "metadata": {},
     "output_type": "display_data"
    },
    {
     "data": {
      "text/html": [
       "<script type=\"text/javascript\">$('.the-bar.progress .progress-bar')\n",
       "                .css('width','0.82%')\n",
       "                .prop('aria-valuenow',0.82)\n",
       "                .text('0.82%');</script>"
      ]
     },
     "metadata": {},
     "output_type": "display_data"
    },
    {
     "data": {
      "text/html": [
       "<script type=\"text/javascript\">$('.code-d011f4ab-8621-4573-a79e-22effcef33df').closest('.output').find('.output_area').each((i,el)=>{ if (i > 1) $(el).remove(); });</script>"
      ]
     },
     "metadata": {},
     "output_type": "display_data"
    },
    {
     "data": {
      "text/html": [
       "<script type=\"text/javascript\">$('.the-bar.progress .progress-bar')\n",
       "                .css('width','0.87%')\n",
       "                .prop('aria-valuenow',0.87)\n",
       "                .text('0.87%');</script>"
      ]
     },
     "metadata": {},
     "output_type": "display_data"
    },
    {
     "data": {
      "text/html": [
       "<script type=\"text/javascript\">$('.code-d011f4ab-8621-4573-a79e-22effcef33df').closest('.output').find('.output_area').each((i,el)=>{ if (i > 1) $(el).remove(); });</script>"
      ]
     },
     "metadata": {},
     "output_type": "display_data"
    },
    {
     "data": {
      "text/html": [
       "<script type=\"text/javascript\">$('.the-bar.progress .progress-bar')\n",
       "                .css('width','0.92%')\n",
       "                .prop('aria-valuenow',0.92)\n",
       "                .text('0.92%');</script>"
      ]
     },
     "metadata": {},
     "output_type": "display_data"
    },
    {
     "data": {
      "text/html": [
       "<script type=\"text/javascript\">$('.code-d011f4ab-8621-4573-a79e-22effcef33df').closest('.output').find('.output_area').each((i,el)=>{ if (i > 1) $(el).remove(); });</script>"
      ]
     },
     "metadata": {},
     "output_type": "display_data"
    },
    {
     "data": {
      "text/html": [
       "<script type=\"text/javascript\">$('.the-bar.progress .progress-bar')\n",
       "                .css('width','0.96%')\n",
       "                .prop('aria-valuenow',0.96)\n",
       "                .text('0.96%');</script>"
      ]
     },
     "metadata": {},
     "output_type": "display_data"
    },
    {
     "data": {
      "text/html": [
       "<script type=\"text/javascript\">$('.code-d011f4ab-8621-4573-a79e-22effcef33df').closest('.output').find('.output_area').each((i,el)=>{ if (i > 1) $(el).remove(); });</script>"
      ]
     },
     "metadata": {},
     "output_type": "display_data"
    },
    {
     "data": {
      "text/html": [
       "<script type=\"text/javascript\">$('.the-bar.progress .progress-bar')\n",
       "                .css('width','1.01%')\n",
       "                .prop('aria-valuenow',1.01)\n",
       "                .text('1.01%');</script>"
      ]
     },
     "metadata": {},
     "output_type": "display_data"
    },
    {
     "data": {
      "text/html": [
       "<script type=\"text/javascript\">$('.code-d011f4ab-8621-4573-a79e-22effcef33df').closest('.output').find('.output_area').each((i,el)=>{ if (i > 1) $(el).remove(); });</script>"
      ]
     },
     "metadata": {},
     "output_type": "display_data"
    },
    {
     "data": {
      "text/html": [
       "<script type=\"text/javascript\">$('.the-bar.progress .progress-bar')\n",
       "                .css('width','1.06%')\n",
       "                .prop('aria-valuenow',1.06)\n",
       "                .text('1.06%');</script>"
      ]
     },
     "metadata": {},
     "output_type": "display_data"
    },
    {
     "data": {
      "text/html": [
       "<script type=\"text/javascript\">$('.code-d011f4ab-8621-4573-a79e-22effcef33df').closest('.output').find('.output_area').each((i,el)=>{ if (i > 1) $(el).remove(); });</script>"
      ]
     },
     "metadata": {},
     "output_type": "display_data"
    },
    {
     "data": {
      "text/html": [
       "<script type=\"text/javascript\">$('.the-bar.progress .progress-bar')\n",
       "                .css('width','1.11%')\n",
       "                .prop('aria-valuenow',1.11)\n",
       "                .text('1.11%');</script>"
      ]
     },
     "metadata": {},
     "output_type": "display_data"
    },
    {
     "data": {
      "text/html": [
       "<script type=\"text/javascript\">$('.code-d011f4ab-8621-4573-a79e-22effcef33df').closest('.output').find('.output_area').each((i,el)=>{ if (i > 1) $(el).remove(); });</script>"
      ]
     },
     "metadata": {},
     "output_type": "display_data"
    },
    {
     "data": {
      "text/html": [
       "<script type=\"text/javascript\">$('.the-bar.progress .progress-bar')\n",
       "                .css('width','1.16%')\n",
       "                .prop('aria-valuenow',1.16)\n",
       "                .text('1.16%');</script>"
      ]
     },
     "metadata": {},
     "output_type": "display_data"
    },
    {
     "data": {
      "text/html": [
       "<script type=\"text/javascript\">$('.code-d011f4ab-8621-4573-a79e-22effcef33df').closest('.output').find('.output_area').each((i,el)=>{ if (i > 1) $(el).remove(); });</script>"
      ]
     },
     "metadata": {},
     "output_type": "display_data"
    },
    {
     "data": {
      "text/html": [
       "<script type=\"text/javascript\">$('.the-bar.progress .progress-bar')\n",
       "                .css('width','1.21%')\n",
       "                .prop('aria-valuenow',1.21)\n",
       "                .text('1.21%');</script>"
      ]
     },
     "metadata": {},
     "output_type": "display_data"
    },
    {
     "data": {
      "text/html": [
       "<script type=\"text/javascript\">$('.code-d011f4ab-8621-4573-a79e-22effcef33df').closest('.output').find('.output_area').each((i,el)=>{ if (i > 1) $(el).remove(); });</script>"
      ]
     },
     "metadata": {},
     "output_type": "display_data"
    },
    {
     "data": {
      "text/html": [
       "<script type=\"text/javascript\">$('.the-bar.progress .progress-bar')\n",
       "                .css('width','1.26%')\n",
       "                .prop('aria-valuenow',1.26)\n",
       "                .text('1.26%');</script>"
      ]
     },
     "metadata": {},
     "output_type": "display_data"
    },
    {
     "data": {
      "text/html": [
       "<script type=\"text/javascript\">$('.code-d011f4ab-8621-4573-a79e-22effcef33df').closest('.output').find('.output_area').each((i,el)=>{ if (i > 1) $(el).remove(); });</script>"
      ]
     },
     "metadata": {},
     "output_type": "display_data"
    },
    {
     "data": {
      "text/html": [
       "<script type=\"text/javascript\">$('.the-bar.progress .progress-bar')\n",
       "                .css('width','1.31%')\n",
       "                .prop('aria-valuenow',1.31)\n",
       "                .text('1.31%');</script>"
      ]
     },
     "metadata": {},
     "output_type": "display_data"
    },
    {
     "data": {
      "text/html": [
       "<script type=\"text/javascript\">$('.code-d011f4ab-8621-4573-a79e-22effcef33df').closest('.output').find('.output_area').each((i,el)=>{ if (i > 1) $(el).remove(); });</script>"
      ]
     },
     "metadata": {},
     "output_type": "display_data"
    },
    {
     "data": {
      "text/html": [
       "<script type=\"text/javascript\">$('.the-bar.progress .progress-bar')\n",
       "                .css('width','1.36%')\n",
       "                .prop('aria-valuenow',1.36)\n",
       "                .text('1.36%');</script>"
      ]
     },
     "metadata": {},
     "output_type": "display_data"
    },
    {
     "data": {
      "text/html": [
       "<script type=\"text/javascript\">$('.code-d011f4ab-8621-4573-a79e-22effcef33df').closest('.output').find('.output_area').each((i,el)=>{ if (i > 1) $(el).remove(); });</script>"
      ]
     },
     "metadata": {},
     "output_type": "display_data"
    },
    {
     "data": {
      "text/html": [
       "<script type=\"text/javascript\">$('.the-bar.progress .progress-bar')\n",
       "                .css('width','1.40%')\n",
       "                .prop('aria-valuenow',1.40)\n",
       "                .text('1.40%');</script>"
      ]
     },
     "metadata": {},
     "output_type": "display_data"
    },
    {
     "data": {
      "text/html": [
       "<script type=\"text/javascript\">$('.code-d011f4ab-8621-4573-a79e-22effcef33df').closest('.output').find('.output_area').each((i,el)=>{ if (i > 1) $(el).remove(); });</script>"
      ]
     },
     "metadata": {},
     "output_type": "display_data"
    },
    {
     "data": {
      "text/html": [
       "<script type=\"text/javascript\">$('.the-bar.progress .progress-bar')\n",
       "                .css('width','1.42%')\n",
       "                .prop('aria-valuenow',1.42)\n",
       "                .text('1.42%');</script>"
      ]
     },
     "metadata": {},
     "output_type": "display_data"
    },
    {
     "data": {
      "text/html": [
       "<script type=\"text/javascript\">$('.code-d011f4ab-8621-4573-a79e-22effcef33df').closest('.output').find('.output_area').each((i,el)=>{ if (i > 1) $(el).remove(); });</script>"
      ]
     },
     "metadata": {},
     "output_type": "display_data"
    },
    {
     "data": {
      "text/html": [
       "<script type=\"text/javascript\">$('.the-bar.progress .progress-bar')\n",
       "                .css('width','1.47%')\n",
       "                .prop('aria-valuenow',1.47)\n",
       "                .text('1.47%');</script>"
      ]
     },
     "metadata": {},
     "output_type": "display_data"
    },
    {
     "data": {
      "text/html": [
       "<script type=\"text/javascript\">$('.code-d011f4ab-8621-4573-a79e-22effcef33df').closest('.output').find('.output_area').each((i,el)=>{ if (i > 1) $(el).remove(); });</script>"
      ]
     },
     "metadata": {},
     "output_type": "display_data"
    },
    {
     "data": {
      "text/html": [
       "<script type=\"text/javascript\">$('.the-bar.progress .progress-bar')\n",
       "                .css('width','1.52%')\n",
       "                .prop('aria-valuenow',1.52)\n",
       "                .text('1.52%');</script>"
      ]
     },
     "metadata": {},
     "output_type": "display_data"
    },
    {
     "data": {
      "text/html": [
       "<script type=\"text/javascript\">$('.code-d011f4ab-8621-4573-a79e-22effcef33df').closest('.output').find('.output_area').each((i,el)=>{ if (i > 1) $(el).remove(); });</script>"
      ]
     },
     "metadata": {},
     "output_type": "display_data"
    },
    {
     "data": {
      "text/html": [
       "<script type=\"text/javascript\">$('.the-bar.progress .progress-bar')\n",
       "                .css('width','1.56%')\n",
       "                .prop('aria-valuenow',1.56)\n",
       "                .text('1.56%');</script>"
      ]
     },
     "metadata": {},
     "output_type": "display_data"
    },
    {
     "data": {
      "text/html": [
       "<script type=\"text/javascript\">$('.code-d011f4ab-8621-4573-a79e-22effcef33df').closest('.output').find('.output_area').each((i,el)=>{ if (i > 1) $(el).remove(); });</script>"
      ]
     },
     "metadata": {},
     "output_type": "display_data"
    },
    {
     "data": {
      "text/html": [
       "<script type=\"text/javascript\">$('.the-bar.progress .progress-bar')\n",
       "                .css('width','1.61%')\n",
       "                .prop('aria-valuenow',1.61)\n",
       "                .text('1.61%');</script>"
      ]
     },
     "metadata": {},
     "output_type": "display_data"
    },
    {
     "data": {
      "text/html": [
       "<script type=\"text/javascript\">$('.code-d011f4ab-8621-4573-a79e-22effcef33df').closest('.output').find('.output_area').each((i,el)=>{ if (i > 1) $(el).remove(); });</script>"
      ]
     },
     "metadata": {},
     "output_type": "display_data"
    },
    {
     "data": {
      "text/html": [
       "<script type=\"text/javascript\">$('.the-bar.progress .progress-bar')\n",
       "                .css('width','1.66%')\n",
       "                .prop('aria-valuenow',1.66)\n",
       "                .text('1.66%');</script>"
      ]
     },
     "metadata": {},
     "output_type": "display_data"
    },
    {
     "data": {
      "text/html": [
       "<script type=\"text/javascript\">$('.code-d011f4ab-8621-4573-a79e-22effcef33df').closest('.output').find('.output_area').each((i,el)=>{ if (i > 1) $(el).remove(); });</script>"
      ]
     },
     "metadata": {},
     "output_type": "display_data"
    },
    {
     "data": {
      "text/html": [
       "<script type=\"text/javascript\">$('.the-bar.progress .progress-bar')\n",
       "                .css('width','1.71%')\n",
       "                .prop('aria-valuenow',1.71)\n",
       "                .text('1.71%');</script>"
      ]
     },
     "metadata": {},
     "output_type": "display_data"
    },
    {
     "data": {
      "text/html": [
       "<script type=\"text/javascript\">$('.code-d011f4ab-8621-4573-a79e-22effcef33df').closest('.output').find('.output_area').each((i,el)=>{ if (i > 1) $(el).remove(); });</script>"
      ]
     },
     "metadata": {},
     "output_type": "display_data"
    },
    {
     "data": {
      "text/html": [
       "<script type=\"text/javascript\">$('.the-bar.progress .progress-bar')\n",
       "                .css('width','1.76%')\n",
       "                .prop('aria-valuenow',1.76)\n",
       "                .text('1.76%');</script>"
      ]
     },
     "metadata": {},
     "output_type": "display_data"
    },
    {
     "data": {
      "text/html": [
       "<script type=\"text/javascript\">$('.code-d011f4ab-8621-4573-a79e-22effcef33df').closest('.output').find('.output_area').each((i,el)=>{ if (i > 1) $(el).remove(); });</script>"
      ]
     },
     "metadata": {},
     "output_type": "display_data"
    },
    {
     "data": {
      "text/html": [
       "<script type=\"text/javascript\">$('.the-bar.progress .progress-bar')\n",
       "                .css('width','1.81%')\n",
       "                .prop('aria-valuenow',1.81)\n",
       "                .text('1.81%');</script>"
      ]
     },
     "metadata": {},
     "output_type": "display_data"
    },
    {
     "data": {
      "text/html": [
       "<script type=\"text/javascript\">$('.code-d011f4ab-8621-4573-a79e-22effcef33df').closest('.output').find('.output_area').each((i,el)=>{ if (i > 1) $(el).remove(); });</script>"
      ]
     },
     "metadata": {},
     "output_type": "display_data"
    },
    {
     "data": {
      "text/html": [
       "<script type=\"text/javascript\">$('.the-bar.progress .progress-bar')\n",
       "                .css('width','1.86%')\n",
       "                .prop('aria-valuenow',1.86)\n",
       "                .text('1.86%');</script>"
      ]
     },
     "metadata": {},
     "output_type": "display_data"
    },
    {
     "data": {
      "text/html": [
       "<script type=\"text/javascript\">$('.code-d011f4ab-8621-4573-a79e-22effcef33df').closest('.output').find('.output_area').each((i,el)=>{ if (i > 1) $(el).remove(); });</script>"
      ]
     },
     "metadata": {},
     "output_type": "display_data"
    },
    {
     "data": {
      "text/html": [
       "<script type=\"text/javascript\">$('.the-bar.progress .progress-bar')\n",
       "                .css('width','1.91%')\n",
       "                .prop('aria-valuenow',1.91)\n",
       "                .text('1.91%');</script>"
      ]
     },
     "metadata": {},
     "output_type": "display_data"
    },
    {
     "data": {
      "text/html": [
       "<script type=\"text/javascript\">$('.code-d011f4ab-8621-4573-a79e-22effcef33df').closest('.output').find('.output_area').each((i,el)=>{ if (i > 1) $(el).remove(); });</script>"
      ]
     },
     "metadata": {},
     "output_type": "display_data"
    },
    {
     "data": {
      "text/html": [
       "<script type=\"text/javascript\">$('.the-bar.progress .progress-bar')\n",
       "                .css('width','1.96%')\n",
       "                .prop('aria-valuenow',1.96)\n",
       "                .text('1.96%');</script>"
      ]
     },
     "metadata": {},
     "output_type": "display_data"
    },
    {
     "data": {
      "text/html": [
       "<script type=\"text/javascript\">$('.code-d011f4ab-8621-4573-a79e-22effcef33df').closest('.output').find('.output_area').each((i,el)=>{ if (i > 1) $(el).remove(); });</script>"
      ]
     },
     "metadata": {},
     "output_type": "display_data"
    },
    {
     "data": {
      "text/html": [
       "<script type=\"text/javascript\">$('.the-bar.progress .progress-bar')\n",
       "                .css('width','2.11%')\n",
       "                .prop('aria-valuenow',2.11)\n",
       "                .text('2.11%');</script>"
      ]
     },
     "metadata": {},
     "output_type": "display_data"
    },
    {
     "data": {
      "text/html": [
       "<script type=\"text/javascript\">$('.code-d011f4ab-8621-4573-a79e-22effcef33df').closest('.output').find('.output_area').each((i,el)=>{ if (i > 1) $(el).remove(); });</script>"
      ]
     },
     "metadata": {},
     "output_type": "display_data"
    },
    {
     "data": {
      "text/html": [
       "<script type=\"text/javascript\">$('.the-bar.progress .progress-bar')\n",
       "                .css('width','2.26%')\n",
       "                .prop('aria-valuenow',2.26)\n",
       "                .text('2.26%');</script>"
      ]
     },
     "metadata": {},
     "output_type": "display_data"
    },
    {
     "data": {
      "text/html": [
       "<script type=\"text/javascript\">$('.code-d011f4ab-8621-4573-a79e-22effcef33df').closest('.output').find('.output_area').each((i,el)=>{ if (i > 1) $(el).remove(); });</script>"
      ]
     },
     "metadata": {},
     "output_type": "display_data"
    },
    {
     "data": {
      "text/html": [
       "<script type=\"text/javascript\">$('.the-bar.progress .progress-bar')\n",
       "                .css('width','2.42%')\n",
       "                .prop('aria-valuenow',2.42)\n",
       "                .text('2.42%');</script>"
      ]
     },
     "metadata": {},
     "output_type": "display_data"
    },
    {
     "data": {
      "text/html": [
       "<script type=\"text/javascript\">$('.code-d011f4ab-8621-4573-a79e-22effcef33df').closest('.output').find('.output_area').each((i,el)=>{ if (i > 1) $(el).remove(); });</script>"
      ]
     },
     "metadata": {},
     "output_type": "display_data"
    },
    {
     "data": {
      "text/html": [
       "<script type=\"text/javascript\">$('.the-bar.progress .progress-bar')\n",
       "                .css('width','2.57%')\n",
       "                .prop('aria-valuenow',2.57)\n",
       "                .text('2.57%');</script>"
      ]
     },
     "metadata": {},
     "output_type": "display_data"
    },
    {
     "data": {
      "text/html": [
       "<script type=\"text/javascript\">$('.code-d011f4ab-8621-4573-a79e-22effcef33df').closest('.output').find('.output_area').each((i,el)=>{ if (i > 1) $(el).remove(); });</script>"
      ]
     },
     "metadata": {},
     "output_type": "display_data"
    },
    {
     "data": {
      "text/html": [
       "<script type=\"text/javascript\">$('.the-bar.progress .progress-bar')\n",
       "                .css('width','2.60%')\n",
       "                .prop('aria-valuenow',2.60)\n",
       "                .text('2.60%');</script>"
      ]
     },
     "metadata": {},
     "output_type": "display_data"
    },
    {
     "data": {
      "text/html": [
       "<script type=\"text/javascript\">$('.code-d011f4ab-8621-4573-a79e-22effcef33df').closest('.output').find('.output_area').each((i,el)=>{ if (i > 1) $(el).remove(); });</script>"
      ]
     },
     "metadata": {},
     "output_type": "display_data"
    },
    {
     "data": {
      "text/html": [
       "<script type=\"text/javascript\">$('.the-bar.progress .progress-bar')\n",
       "                .css('width','2.75%')\n",
       "                .prop('aria-valuenow',2.75)\n",
       "                .text('2.75%');</script>"
      ]
     },
     "metadata": {},
     "output_type": "display_data"
    },
    {
     "data": {
      "text/html": [
       "<script type=\"text/javascript\">$('.code-d011f4ab-8621-4573-a79e-22effcef33df').closest('.output').find('.output_area').each((i,el)=>{ if (i > 1) $(el).remove(); });</script>"
      ]
     },
     "metadata": {},
     "output_type": "display_data"
    },
    {
     "data": {
      "text/html": [
       "<script type=\"text/javascript\">$('.the-bar.progress .progress-bar')\n",
       "                .css('width','2.90%')\n",
       "                .prop('aria-valuenow',2.90)\n",
       "                .text('2.90%');</script>"
      ]
     },
     "metadata": {},
     "output_type": "display_data"
    },
    {
     "data": {
      "text/html": [
       "<script type=\"text/javascript\">$('.code-d011f4ab-8621-4573-a79e-22effcef33df').closest('.output').find('.output_area').each((i,el)=>{ if (i > 1) $(el).remove(); });</script>"
      ]
     },
     "metadata": {},
     "output_type": "display_data"
    },
    {
     "data": {
      "text/html": [
       "<script type=\"text/javascript\">$('.the-bar.progress .progress-bar')\n",
       "                .css('width','3.05%')\n",
       "                .prop('aria-valuenow',3.05)\n",
       "                .text('3.05%');</script>"
      ]
     },
     "metadata": {},
     "output_type": "display_data"
    },
    {
     "data": {
      "text/html": [
       "<script type=\"text/javascript\">$('.code-d011f4ab-8621-4573-a79e-22effcef33df').closest('.output').find('.output_area').each((i,el)=>{ if (i > 1) $(el).remove(); });</script>"
      ]
     },
     "metadata": {},
     "output_type": "display_data"
    },
    {
     "data": {
      "text/html": [
       "<script type=\"text/javascript\">$('.the-bar.progress .progress-bar')\n",
       "                .css('width','3.20%')\n",
       "                .prop('aria-valuenow',3.20)\n",
       "                .text('3.20%');</script>"
      ]
     },
     "metadata": {},
     "output_type": "display_data"
    },
    {
     "data": {
      "text/html": [
       "<script type=\"text/javascript\">$('.code-d011f4ab-8621-4573-a79e-22effcef33df').closest('.output').find('.output_area').each((i,el)=>{ if (i > 1) $(el).remove(); });</script>"
      ]
     },
     "metadata": {},
     "output_type": "display_data"
    },
    {
     "data": {
      "text/html": [
       "<script type=\"text/javascript\">$('.the-bar.progress .progress-bar')\n",
       "                .css('width','3.36%')\n",
       "                .prop('aria-valuenow',3.36)\n",
       "                .text('3.36%');</script>"
      ]
     },
     "metadata": {},
     "output_type": "display_data"
    },
    {
     "data": {
      "text/html": [
       "<script type=\"text/javascript\">$('.code-d011f4ab-8621-4573-a79e-22effcef33df').closest('.output').find('.output_area').each((i,el)=>{ if (i > 1) $(el).remove(); });</script>"
      ]
     },
     "metadata": {},
     "output_type": "display_data"
    },
    {
     "data": {
      "text/html": [
       "<script type=\"text/javascript\">$('.the-bar.progress .progress-bar')\n",
       "                .css('width','3.51%')\n",
       "                .prop('aria-valuenow',3.51)\n",
       "                .text('3.51%');</script>"
      ]
     },
     "metadata": {},
     "output_type": "display_data"
    },
    {
     "data": {
      "text/html": [
       "<script type=\"text/javascript\">$('.code-d011f4ab-8621-4573-a79e-22effcef33df').closest('.output').find('.output_area').each((i,el)=>{ if (i > 1) $(el).remove(); });</script>"
      ]
     },
     "metadata": {},
     "output_type": "display_data"
    },
    {
     "data": {
      "text/html": [
       "<script type=\"text/javascript\">$('.the-bar.progress .progress-bar')\n",
       "                .css('width','3.66%')\n",
       "                .prop('aria-valuenow',3.66)\n",
       "                .text('3.66%');</script>"
      ]
     },
     "metadata": {},
     "output_type": "display_data"
    },
    {
     "data": {
      "text/html": [
       "<script type=\"text/javascript\">$('.code-d011f4ab-8621-4573-a79e-22effcef33df').closest('.output').find('.output_area').each((i,el)=>{ if (i > 1) $(el).remove(); });</script>"
      ]
     },
     "metadata": {},
     "output_type": "display_data"
    },
    {
     "data": {
      "text/html": [
       "<script type=\"text/javascript\">$('.the-bar.progress .progress-bar')\n",
       "                .css('width','3.78%')\n",
       "                .prop('aria-valuenow',3.78)\n",
       "                .text('3.78%');</script>"
      ]
     },
     "metadata": {},
     "output_type": "display_data"
    },
    {
     "data": {
      "text/html": [
       "<script type=\"text/javascript\">$('.code-d011f4ab-8621-4573-a79e-22effcef33df').closest('.output').find('.output_area').each((i,el)=>{ if (i > 1) $(el).remove(); });</script>"
      ]
     },
     "metadata": {},
     "output_type": "display_data"
    },
    {
     "data": {
      "text/html": [
       "<script type=\"text/javascript\">$('.the-bar.progress .progress-bar')\n",
       "                .css('width','3.93%')\n",
       "                .prop('aria-valuenow',3.93)\n",
       "                .text('3.93%');</script>"
      ]
     },
     "metadata": {},
     "output_type": "display_data"
    },
    {
     "data": {
      "text/html": [
       "<script type=\"text/javascript\">$('.code-d011f4ab-8621-4573-a79e-22effcef33df').closest('.output').find('.output_area').each((i,el)=>{ if (i > 1) $(el).remove(); });</script>"
      ]
     },
     "metadata": {},
     "output_type": "display_data"
    },
    {
     "data": {
      "text/html": [
       "<script type=\"text/javascript\">$('.the-bar.progress .progress-bar')\n",
       "                .css('width','4.08%')\n",
       "                .prop('aria-valuenow',4.08)\n",
       "                .text('4.08%');</script>"
      ]
     },
     "metadata": {},
     "output_type": "display_data"
    },
    {
     "data": {
      "text/html": [
       "<script type=\"text/javascript\">$('.code-d011f4ab-8621-4573-a79e-22effcef33df').closest('.output').find('.output_area').each((i,el)=>{ if (i > 1) $(el).remove(); });</script>"
      ]
     },
     "metadata": {},
     "output_type": "display_data"
    },
    {
     "data": {
      "text/html": [
       "<script type=\"text/javascript\">$('.the-bar.progress .progress-bar')\n",
       "                .css('width','4.23%')\n",
       "                .prop('aria-valuenow',4.23)\n",
       "                .text('4.23%');</script>"
      ]
     },
     "metadata": {},
     "output_type": "display_data"
    },
    {
     "data": {
      "text/html": [
       "<script type=\"text/javascript\">$('.code-d011f4ab-8621-4573-a79e-22effcef33df').closest('.output').find('.output_area').each((i,el)=>{ if (i > 1) $(el).remove(); });</script>"
      ]
     },
     "metadata": {},
     "output_type": "display_data"
    },
    {
     "data": {
      "text/html": [
       "<script type=\"text/javascript\">$('.the-bar.progress .progress-bar')\n",
       "                .css('width','4.38%')\n",
       "                .prop('aria-valuenow',4.38)\n",
       "                .text('4.38%');</script>"
      ]
     },
     "metadata": {},
     "output_type": "display_data"
    },
    {
     "data": {
      "text/html": [
       "<script type=\"text/javascript\">$('.code-d011f4ab-8621-4573-a79e-22effcef33df').closest('.output').find('.output_area').each((i,el)=>{ if (i > 1) $(el).remove(); });</script>"
      ]
     },
     "metadata": {},
     "output_type": "display_data"
    },
    {
     "data": {
      "text/html": [
       "<script type=\"text/javascript\">$('.the-bar.progress .progress-bar')\n",
       "                .css('width','4.54%')\n",
       "                .prop('aria-valuenow',4.54)\n",
       "                .text('4.54%');</script>"
      ]
     },
     "metadata": {},
     "output_type": "display_data"
    },
    {
     "data": {
      "text/html": [
       "<script type=\"text/javascript\">$('.code-d011f4ab-8621-4573-a79e-22effcef33df').closest('.output').find('.output_area').each((i,el)=>{ if (i > 1) $(el).remove(); });</script>"
      ]
     },
     "metadata": {},
     "output_type": "display_data"
    },
    {
     "data": {
      "text/html": [
       "<script type=\"text/javascript\">$('.the-bar.progress .progress-bar')\n",
       "                .css('width','4.69%')\n",
       "                .prop('aria-valuenow',4.69)\n",
       "                .text('4.69%');</script>"
      ]
     },
     "metadata": {},
     "output_type": "display_data"
    },
    {
     "data": {
      "text/html": [
       "<script type=\"text/javascript\">$('.code-d011f4ab-8621-4573-a79e-22effcef33df').closest('.output').find('.output_area').each((i,el)=>{ if (i > 1) $(el).remove(); });</script>"
      ]
     },
     "metadata": {},
     "output_type": "display_data"
    },
    {
     "data": {
      "text/html": [
       "<script type=\"text/javascript\">$('.the-bar.progress .progress-bar')\n",
       "                .css('width','4.84%')\n",
       "                .prop('aria-valuenow',4.84)\n",
       "                .text('4.84%');</script>"
      ]
     },
     "metadata": {},
     "output_type": "display_data"
    },
    {
     "data": {
      "text/html": [
       "<script type=\"text/javascript\">$('.code-d011f4ab-8621-4573-a79e-22effcef33df').closest('.output').find('.output_area').each((i,el)=>{ if (i > 1) $(el).remove(); });</script>"
      ]
     },
     "metadata": {},
     "output_type": "display_data"
    },
    {
     "data": {
      "text/html": [
       "<script type=\"text/javascript\">$('.the-bar.progress .progress-bar')\n",
       "                .css('width','4.95%')\n",
       "                .prop('aria-valuenow',4.95)\n",
       "                .text('4.95%');</script>"
      ]
     },
     "metadata": {},
     "output_type": "display_data"
    },
    {
     "data": {
      "text/html": [
       "<script type=\"text/javascript\">$('.code-d011f4ab-8621-4573-a79e-22effcef33df').closest('.output').find('.output_area').each((i,el)=>{ if (i > 1) $(el).remove(); });</script>"
      ]
     },
     "metadata": {},
     "output_type": "display_data"
    },
    {
     "data": {
      "text/html": [
       "<script type=\"text/javascript\">$('.the-bar.progress .progress-bar')\n",
       "                .css('width','5.11%')\n",
       "                .prop('aria-valuenow',5.11)\n",
       "                .text('5.11%');</script>"
      ]
     },
     "metadata": {},
     "output_type": "display_data"
    },
    {
     "data": {
      "text/html": [
       "<script type=\"text/javascript\">$('.code-d011f4ab-8621-4573-a79e-22effcef33df').closest('.output').find('.output_area').each((i,el)=>{ if (i > 1) $(el).remove(); });</script>"
      ]
     },
     "metadata": {},
     "output_type": "display_data"
    },
    {
     "data": {
      "text/html": [
       "<script type=\"text/javascript\">$('.the-bar.progress .progress-bar')\n",
       "                .css('width','5.26%')\n",
       "                .prop('aria-valuenow',5.26)\n",
       "                .text('5.26%');</script>"
      ]
     },
     "metadata": {},
     "output_type": "display_data"
    },
    {
     "data": {
      "text/html": [
       "<script type=\"text/javascript\">$('.code-d011f4ab-8621-4573-a79e-22effcef33df').closest('.output').find('.output_area').each((i,el)=>{ if (i > 1) $(el).remove(); });</script>"
      ]
     },
     "metadata": {},
     "output_type": "display_data"
    },
    {
     "data": {
      "text/html": [
       "<script type=\"text/javascript\">$('.the-bar.progress .progress-bar')\n",
       "                .css('width','5.41%')\n",
       "                .prop('aria-valuenow',5.41)\n",
       "                .text('5.41%');</script>"
      ]
     },
     "metadata": {},
     "output_type": "display_data"
    },
    {
     "data": {
      "text/html": [
       "<script type=\"text/javascript\">$('.code-d011f4ab-8621-4573-a79e-22effcef33df').closest('.output').find('.output_area').each((i,el)=>{ if (i > 1) $(el).remove(); });</script>"
      ]
     },
     "metadata": {},
     "output_type": "display_data"
    },
    {
     "data": {
      "text/html": [
       "<script type=\"text/javascript\">$('.the-bar.progress .progress-bar')\n",
       "                .css('width','5.56%')\n",
       "                .prop('aria-valuenow',5.56)\n",
       "                .text('5.56%');</script>"
      ]
     },
     "metadata": {},
     "output_type": "display_data"
    },
    {
     "data": {
      "text/html": [
       "<script type=\"text/javascript\">$('.code-d011f4ab-8621-4573-a79e-22effcef33df').closest('.output').find('.output_area').each((i,el)=>{ if (i > 1) $(el).remove(); });</script>"
      ]
     },
     "metadata": {},
     "output_type": "display_data"
    },
    {
     "data": {
      "text/html": [
       "<script type=\"text/javascript\">$('.the-bar.progress .progress-bar')\n",
       "                .css('width','5.72%')\n",
       "                .prop('aria-valuenow',5.72)\n",
       "                .text('5.72%');</script>"
      ]
     },
     "metadata": {},
     "output_type": "display_data"
    },
    {
     "data": {
      "text/html": [
       "<script type=\"text/javascript\">$('.code-d011f4ab-8621-4573-a79e-22effcef33df').closest('.output').find('.output_area').each((i,el)=>{ if (i > 1) $(el).remove(); });</script>"
      ]
     },
     "metadata": {},
     "output_type": "display_data"
    },
    {
     "data": {
      "text/html": [
       "<script type=\"text/javascript\">$('.the-bar.progress .progress-bar')\n",
       "                .css('width','5.87%')\n",
       "                .prop('aria-valuenow',5.87)\n",
       "                .text('5.87%');</script>"
      ]
     },
     "metadata": {},
     "output_type": "display_data"
    },
    {
     "data": {
      "text/html": [
       "<script type=\"text/javascript\">$('.code-d011f4ab-8621-4573-a79e-22effcef33df').closest('.output').find('.output_area').each((i,el)=>{ if (i > 1) $(el).remove(); });</script>"
      ]
     },
     "metadata": {},
     "output_type": "display_data"
    },
    {
     "data": {
      "text/html": [
       "<script type=\"text/javascript\">$('.the-bar.progress .progress-bar')\n",
       "                .css('width','6.02%')\n",
       "                .prop('aria-valuenow',6.02)\n",
       "                .text('6.02%');</script>"
      ]
     },
     "metadata": {},
     "output_type": "display_data"
    },
    {
     "data": {
      "text/html": [
       "<script type=\"text/javascript\">$('.code-d011f4ab-8621-4573-a79e-22effcef33df').closest('.output').find('.output_area').each((i,el)=>{ if (i > 1) $(el).remove(); });</script>"
      ]
     },
     "metadata": {},
     "output_type": "display_data"
    },
    {
     "data": {
      "text/html": [
       "<script type=\"text/javascript\">$('.the-bar.progress .progress-bar')\n",
       "                .css('width','6.13%')\n",
       "                .prop('aria-valuenow',6.13)\n",
       "                .text('6.13%');</script>"
      ]
     },
     "metadata": {},
     "output_type": "display_data"
    },
    {
     "data": {
      "text/html": [
       "<script type=\"text/javascript\">$('.code-d011f4ab-8621-4573-a79e-22effcef33df').closest('.output').find('.output_area').each((i,el)=>{ if (i > 1) $(el).remove(); });</script>"
      ]
     },
     "metadata": {},
     "output_type": "display_data"
    },
    {
     "data": {
      "text/html": [
       "<script type=\"text/javascript\">$('.the-bar.progress .progress-bar')\n",
       "                .css('width','6.29%')\n",
       "                .prop('aria-valuenow',6.29)\n",
       "                .text('6.29%');</script>"
      ]
     },
     "metadata": {},
     "output_type": "display_data"
    },
    {
     "data": {
      "text/html": [
       "<script type=\"text/javascript\">$('.code-d011f4ab-8621-4573-a79e-22effcef33df').closest('.output').find('.output_area').each((i,el)=>{ if (i > 1) $(el).remove(); });</script>"
      ]
     },
     "metadata": {},
     "output_type": "display_data"
    },
    {
     "data": {
      "text/html": [
       "<script type=\"text/javascript\">$('.the-bar.progress .progress-bar')\n",
       "                .css('width','6.44%')\n",
       "                .prop('aria-valuenow',6.44)\n",
       "                .text('6.44%');</script>"
      ]
     },
     "metadata": {},
     "output_type": "display_data"
    },
    {
     "data": {
      "text/html": [
       "<script type=\"text/javascript\">$('.code-d011f4ab-8621-4573-a79e-22effcef33df').closest('.output').find('.output_area').each((i,el)=>{ if (i > 1) $(el).remove(); });</script>"
      ]
     },
     "metadata": {},
     "output_type": "display_data"
    },
    {
     "data": {
      "text/html": [
       "<script type=\"text/javascript\">$('.the-bar.progress .progress-bar')\n",
       "                .css('width','6.59%')\n",
       "                .prop('aria-valuenow',6.59)\n",
       "                .text('6.59%');</script>"
      ]
     },
     "metadata": {},
     "output_type": "display_data"
    },
    {
     "data": {
      "text/html": [
       "<script type=\"text/javascript\">$('.code-d011f4ab-8621-4573-a79e-22effcef33df').closest('.output').find('.output_area').each((i,el)=>{ if (i > 1) $(el).remove(); });</script>"
      ]
     },
     "metadata": {},
     "output_type": "display_data"
    },
    {
     "data": {
      "text/html": [
       "<script type=\"text/javascript\">$('.the-bar.progress .progress-bar')\n",
       "                .css('width','6.74%')\n",
       "                .prop('aria-valuenow',6.74)\n",
       "                .text('6.74%');</script>"
      ]
     },
     "metadata": {},
     "output_type": "display_data"
    },
    {
     "data": {
      "text/html": [
       "<script type=\"text/javascript\">$('.code-d011f4ab-8621-4573-a79e-22effcef33df').closest('.output').find('.output_area').each((i,el)=>{ if (i > 1) $(el).remove(); });</script>"
      ]
     },
     "metadata": {},
     "output_type": "display_data"
    },
    {
     "data": {
      "text/html": [
       "<script type=\"text/javascript\">$('.the-bar.progress .progress-bar')\n",
       "                .css('width','6.89%')\n",
       "                .prop('aria-valuenow',6.89)\n",
       "                .text('6.89%');</script>"
      ]
     },
     "metadata": {},
     "output_type": "display_data"
    },
    {
     "data": {
      "text/html": [
       "<script type=\"text/javascript\">$('.code-d011f4ab-8621-4573-a79e-22effcef33df').closest('.output').find('.output_area').each((i,el)=>{ if (i > 1) $(el).remove(); });</script>"
      ]
     },
     "metadata": {},
     "output_type": "display_data"
    },
    {
     "data": {
      "text/html": [
       "<script type=\"text/javascript\">$('.the-bar.progress .progress-bar')\n",
       "                .css('width','7.05%')\n",
       "                .prop('aria-valuenow',7.05)\n",
       "                .text('7.05%');</script>"
      ]
     },
     "metadata": {},
     "output_type": "display_data"
    },
    {
     "data": {
      "text/html": [
       "<script type=\"text/javascript\">$('.code-d011f4ab-8621-4573-a79e-22effcef33df').closest('.output').find('.output_area').each((i,el)=>{ if (i > 1) $(el).remove(); });</script>"
      ]
     },
     "metadata": {},
     "output_type": "display_data"
    },
    {
     "data": {
      "text/html": [
       "<script type=\"text/javascript\">$('.the-bar.progress .progress-bar')\n",
       "                .css('width','7.20%')\n",
       "                .prop('aria-valuenow',7.20)\n",
       "                .text('7.20%');</script>"
      ]
     },
     "metadata": {},
     "output_type": "display_data"
    },
    {
     "data": {
      "text/html": [
       "<script type=\"text/javascript\">$('.code-d011f4ab-8621-4573-a79e-22effcef33df').closest('.output').find('.output_area').each((i,el)=>{ if (i > 1) $(el).remove(); });</script>"
      ]
     },
     "metadata": {},
     "output_type": "display_data"
    },
    {
     "data": {
      "text/html": [
       "<script type=\"text/javascript\">$('.the-bar.progress .progress-bar')\n",
       "                .css('width','7.31%')\n",
       "                .prop('aria-valuenow',7.31)\n",
       "                .text('7.31%');</script>"
      ]
     },
     "metadata": {},
     "output_type": "display_data"
    },
    {
     "data": {
      "text/html": [
       "<script type=\"text/javascript\">$('.code-d011f4ab-8621-4573-a79e-22effcef33df').closest('.output').find('.output_area').each((i,el)=>{ if (i > 1) $(el).remove(); });</script>"
      ]
     },
     "metadata": {},
     "output_type": "display_data"
    },
    {
     "data": {
      "text/html": [
       "<script type=\"text/javascript\">$('.the-bar.progress .progress-bar')\n",
       "                .css('width','7.47%')\n",
       "                .prop('aria-valuenow',7.47)\n",
       "                .text('7.47%');</script>"
      ]
     },
     "metadata": {},
     "output_type": "display_data"
    },
    {
     "data": {
      "text/html": [
       "<script type=\"text/javascript\">$('.code-d011f4ab-8621-4573-a79e-22effcef33df').closest('.output').find('.output_area').each((i,el)=>{ if (i > 1) $(el).remove(); });</script>"
      ]
     },
     "metadata": {},
     "output_type": "display_data"
    },
    {
     "data": {
      "text/html": [
       "<script type=\"text/javascript\">$('.the-bar.progress .progress-bar')\n",
       "                .css('width','7.62%')\n",
       "                .prop('aria-valuenow',7.62)\n",
       "                .text('7.62%');</script>"
      ]
     },
     "metadata": {},
     "output_type": "display_data"
    },
    {
     "data": {
      "text/html": [
       "<script type=\"text/javascript\">$('.code-d011f4ab-8621-4573-a79e-22effcef33df').closest('.output').find('.output_area').each((i,el)=>{ if (i > 1) $(el).remove(); });</script>"
      ]
     },
     "metadata": {},
     "output_type": "display_data"
    },
    {
     "data": {
      "text/html": [
       "<script type=\"text/javascript\">$('.the-bar.progress .progress-bar')\n",
       "                .css('width','7.77%')\n",
       "                .prop('aria-valuenow',7.77)\n",
       "                .text('7.77%');</script>"
      ]
     },
     "metadata": {},
     "output_type": "display_data"
    },
    {
     "data": {
      "text/html": [
       "<script type=\"text/javascript\">$('.code-d011f4ab-8621-4573-a79e-22effcef33df').closest('.output').find('.output_area').each((i,el)=>{ if (i > 1) $(el).remove(); });</script>"
      ]
     },
     "metadata": {},
     "output_type": "display_data"
    },
    {
     "data": {
      "text/html": [
       "<script type=\"text/javascript\">$('.the-bar.progress .progress-bar')\n",
       "                .css('width','8.06%')\n",
       "                .prop('aria-valuenow',8.06)\n",
       "                .text('8.06%');</script>"
      ]
     },
     "metadata": {},
     "output_type": "display_data"
    },
    {
     "data": {
      "text/html": [
       "<script type=\"text/javascript\">$('.code-d011f4ab-8621-4573-a79e-22effcef33df').closest('.output').find('.output_area').each((i,el)=>{ if (i > 1) $(el).remove(); });</script>"
      ]
     },
     "metadata": {},
     "output_type": "display_data"
    },
    {
     "data": {
      "text/html": [
       "<script type=\"text/javascript\">$('.the-bar.progress .progress-bar')\n",
       "                .css('width','8.36%')\n",
       "                .prop('aria-valuenow',8.36)\n",
       "                .text('8.36%');</script>"
      ]
     },
     "metadata": {},
     "output_type": "display_data"
    },
    {
     "data": {
      "text/html": [
       "<script type=\"text/javascript\">$('.code-d011f4ab-8621-4573-a79e-22effcef33df').closest('.output').find('.output_area').each((i,el)=>{ if (i > 1) $(el).remove(); });</script>"
      ]
     },
     "metadata": {},
     "output_type": "display_data"
    },
    {
     "data": {
      "text/html": [
       "<script type=\"text/javascript\">$('.the-bar.progress .progress-bar')\n",
       "                .css('width','8.49%')\n",
       "                .prop('aria-valuenow',8.49)\n",
       "                .text('8.49%');</script>"
      ]
     },
     "metadata": {},
     "output_type": "display_data"
    },
    {
     "data": {
      "text/html": [
       "<script type=\"text/javascript\">$('.code-d011f4ab-8621-4573-a79e-22effcef33df').closest('.output').find('.output_area').each((i,el)=>{ if (i > 1) $(el).remove(); });</script>"
      ]
     },
     "metadata": {},
     "output_type": "display_data"
    },
    {
     "data": {
      "text/html": [
       "<script type=\"text/javascript\">$('.the-bar.progress .progress-bar')\n",
       "                .css('width','8.79%')\n",
       "                .prop('aria-valuenow',8.79)\n",
       "                .text('8.79%');</script>"
      ]
     },
     "metadata": {},
     "output_type": "display_data"
    },
    {
     "data": {
      "text/html": [
       "<script type=\"text/javascript\">$('.code-d011f4ab-8621-4573-a79e-22effcef33df').closest('.output').find('.output_area').each((i,el)=>{ if (i > 1) $(el).remove(); });</script>"
      ]
     },
     "metadata": {},
     "output_type": "display_data"
    },
    {
     "data": {
      "text/html": [
       "<script type=\"text/javascript\">$('.the-bar.progress .progress-bar')\n",
       "                .css('width','9.08%')\n",
       "                .prop('aria-valuenow',9.08)\n",
       "                .text('9.08%');</script>"
      ]
     },
     "metadata": {},
     "output_type": "display_data"
    },
    {
     "data": {
      "text/html": [
       "<script type=\"text/javascript\">$('.code-d011f4ab-8621-4573-a79e-22effcef33df').closest('.output').find('.output_area').each((i,el)=>{ if (i > 1) $(el).remove(); });</script>"
      ]
     },
     "metadata": {},
     "output_type": "display_data"
    },
    {
     "data": {
      "text/html": [
       "<script type=\"text/javascript\">$('.the-bar.progress .progress-bar')\n",
       "                .css('width','9.38%')\n",
       "                .prop('aria-valuenow',9.38)\n",
       "                .text('9.38%');</script>"
      ]
     },
     "metadata": {},
     "output_type": "display_data"
    },
    {
     "data": {
      "text/html": [
       "<script type=\"text/javascript\">$('.code-d011f4ab-8621-4573-a79e-22effcef33df').closest('.output').find('.output_area').each((i,el)=>{ if (i > 1) $(el).remove(); });</script>"
      ]
     },
     "metadata": {},
     "output_type": "display_data"
    },
    {
     "data": {
      "text/html": [
       "<script type=\"text/javascript\">$('.the-bar.progress .progress-bar')\n",
       "                .css('width','9.67%')\n",
       "                .prop('aria-valuenow',9.67)\n",
       "                .text('9.67%');</script>"
      ]
     },
     "metadata": {},
     "output_type": "display_data"
    },
    {
     "data": {
      "text/html": [
       "<script type=\"text/javascript\">$('.code-d011f4ab-8621-4573-a79e-22effcef33df').closest('.output').find('.output_area').each((i,el)=>{ if (i > 1) $(el).remove(); });</script>"
      ]
     },
     "metadata": {},
     "output_type": "display_data"
    },
    {
     "data": {
      "text/html": [
       "<script type=\"text/javascript\">$('.the-bar.progress .progress-bar')\n",
       "                .css('width','9.97%')\n",
       "                .prop('aria-valuenow',9.97)\n",
       "                .text('9.97%');</script>"
      ]
     },
     "metadata": {},
     "output_type": "display_data"
    },
    {
     "data": {
      "text/html": [
       "<script type=\"text/javascript\">$('.code-d011f4ab-8621-4573-a79e-22effcef33df').closest('.output').find('.output_area').each((i,el)=>{ if (i > 1) $(el).remove(); });</script>"
      ]
     },
     "metadata": {},
     "output_type": "display_data"
    },
    {
     "data": {
      "text/html": [
       "<script type=\"text/javascript\">$('.the-bar.progress .progress-bar')\n",
       "                .css('width','10.26%')\n",
       "                .prop('aria-valuenow',10.26)\n",
       "                .text('10.26%');</script>"
      ]
     },
     "metadata": {},
     "output_type": "display_data"
    },
    {
     "data": {
      "text/html": [
       "<script type=\"text/javascript\">$('.code-d011f4ab-8621-4573-a79e-22effcef33df').closest('.output').find('.output_area').each((i,el)=>{ if (i > 1) $(el).remove(); });</script>"
      ]
     },
     "metadata": {},
     "output_type": "display_data"
    },
    {
     "data": {
      "text/html": [
       "<script type=\"text/javascript\">$('.the-bar.progress .progress-bar')\n",
       "                .css('width','10.56%')\n",
       "                .prop('aria-valuenow',10.56)\n",
       "                .text('10.56%');</script>"
      ]
     },
     "metadata": {},
     "output_type": "display_data"
    },
    {
     "data": {
      "text/html": [
       "<script type=\"text/javascript\">$('.code-d011f4ab-8621-4573-a79e-22effcef33df').closest('.output').find('.output_area').each((i,el)=>{ if (i > 1) $(el).remove(); });</script>"
      ]
     },
     "metadata": {},
     "output_type": "display_data"
    },
    {
     "data": {
      "text/html": [
       "<script type=\"text/javascript\">$('.the-bar.progress .progress-bar')\n",
       "                .css('width','10.85%')\n",
       "                .prop('aria-valuenow',10.85)\n",
       "                .text('10.85%');</script>"
      ]
     },
     "metadata": {},
     "output_type": "display_data"
    },
    {
     "data": {
      "text/html": [
       "<script type=\"text/javascript\">$('.code-d011f4ab-8621-4573-a79e-22effcef33df').closest('.output').find('.output_area').each((i,el)=>{ if (i > 1) $(el).remove(); });</script>"
      ]
     },
     "metadata": {},
     "output_type": "display_data"
    },
    {
     "data": {
      "text/html": [
       "<script type=\"text/javascript\">$('.the-bar.progress .progress-bar')\n",
       "                .css('width','11.15%')\n",
       "                .prop('aria-valuenow',11.15)\n",
       "                .text('11.15%');</script>"
      ]
     },
     "metadata": {},
     "output_type": "display_data"
    },
    {
     "data": {
      "text/html": [
       "<script type=\"text/javascript\">$('.code-d011f4ab-8621-4573-a79e-22effcef33df').closest('.output').find('.output_area').each((i,el)=>{ if (i > 1) $(el).remove(); });</script>"
      ]
     },
     "metadata": {},
     "output_type": "display_data"
    },
    {
     "data": {
      "text/html": [
       "<script type=\"text/javascript\">$('.the-bar.progress .progress-bar')\n",
       "                .css('width','11.44%')\n",
       "                .prop('aria-valuenow',11.44)\n",
       "                .text('11.44%');</script>"
      ]
     },
     "metadata": {},
     "output_type": "display_data"
    },
    {
     "data": {
      "text/html": [
       "<script type=\"text/javascript\">$('.code-d011f4ab-8621-4573-a79e-22effcef33df').closest('.output').find('.output_area').each((i,el)=>{ if (i > 1) $(el).remove(); });</script>"
      ]
     },
     "metadata": {},
     "output_type": "display_data"
    },
    {
     "data": {
      "text/html": [
       "<script type=\"text/javascript\">$('.the-bar.progress .progress-bar')\n",
       "                .css('width','11.73%')\n",
       "                .prop('aria-valuenow',11.73)\n",
       "                .text('11.73%');</script>"
      ]
     },
     "metadata": {},
     "output_type": "display_data"
    },
    {
     "data": {
      "text/html": [
       "<script type=\"text/javascript\">$('.code-d011f4ab-8621-4573-a79e-22effcef33df').closest('.output').find('.output_area').each((i,el)=>{ if (i > 1) $(el).remove(); });</script>"
      ]
     },
     "metadata": {},
     "output_type": "display_data"
    },
    {
     "data": {
      "text/html": [
       "<script type=\"text/javascript\">$('.the-bar.progress .progress-bar')\n",
       "                .css('width','12.03%')\n",
       "                .prop('aria-valuenow',12.03)\n",
       "                .text('12.03%');</script>"
      ]
     },
     "metadata": {},
     "output_type": "display_data"
    },
    {
     "data": {
      "text/html": [
       "<script type=\"text/javascript\">$('.code-d011f4ab-8621-4573-a79e-22effcef33df').closest('.output').find('.output_area').each((i,el)=>{ if (i > 1) $(el).remove(); });</script>"
      ]
     },
     "metadata": {},
     "output_type": "display_data"
    },
    {
     "data": {
      "text/html": [
       "<script type=\"text/javascript\">$('.the-bar.progress .progress-bar')\n",
       "                .css('width','12.32%')\n",
       "                .prop('aria-valuenow',12.32)\n",
       "                .text('12.32%');</script>"
      ]
     },
     "metadata": {},
     "output_type": "display_data"
    },
    {
     "data": {
      "text/html": [
       "<script type=\"text/javascript\">$('.code-d011f4ab-8621-4573-a79e-22effcef33df').closest('.output').find('.output_area').each((i,el)=>{ if (i > 1) $(el).remove(); });</script>"
      ]
     },
     "metadata": {},
     "output_type": "display_data"
    },
    {
     "data": {
      "text/html": [
       "<script type=\"text/javascript\">$('.the-bar.progress .progress-bar')\n",
       "                .css('width','12.62%')\n",
       "                .prop('aria-valuenow',12.62)\n",
       "                .text('12.62%');</script>"
      ]
     },
     "metadata": {},
     "output_type": "display_data"
    },
    {
     "data": {
      "text/html": [
       "<script type=\"text/javascript\">$('.code-d011f4ab-8621-4573-a79e-22effcef33df').closest('.output').find('.output_area').each((i,el)=>{ if (i > 1) $(el).remove(); });</script>"
      ]
     },
     "metadata": {},
     "output_type": "display_data"
    },
    {
     "data": {
      "text/html": [
       "<script type=\"text/javascript\">$('.the-bar.progress .progress-bar')\n",
       "                .css('width','12.91%')\n",
       "                .prop('aria-valuenow',12.91)\n",
       "                .text('12.91%');</script>"
      ]
     },
     "metadata": {},
     "output_type": "display_data"
    },
    {
     "data": {
      "text/html": [
       "<script type=\"text/javascript\">$('.code-d011f4ab-8621-4573-a79e-22effcef33df').closest('.output').find('.output_area').each((i,el)=>{ if (i > 1) $(el).remove(); });</script>"
      ]
     },
     "metadata": {},
     "output_type": "display_data"
    },
    {
     "data": {
      "text/html": [
       "<script type=\"text/javascript\">$('.the-bar.progress .progress-bar')\n",
       "                .css('width','13.21%')\n",
       "                .prop('aria-valuenow',13.21)\n",
       "                .text('13.21%');</script>"
      ]
     },
     "metadata": {},
     "output_type": "display_data"
    },
    {
     "data": {
      "text/html": [
       "<script type=\"text/javascript\">$('.code-d011f4ab-8621-4573-a79e-22effcef33df').closest('.output').find('.output_area').each((i,el)=>{ if (i > 1) $(el).remove(); });</script>"
      ]
     },
     "metadata": {},
     "output_type": "display_data"
    },
    {
     "data": {
      "text/html": [
       "<script type=\"text/javascript\">$('.the-bar.progress .progress-bar')\n",
       "                .css('width','13.50%')\n",
       "                .prop('aria-valuenow',13.50)\n",
       "                .text('13.50%');</script>"
      ]
     },
     "metadata": {},
     "output_type": "display_data"
    },
    {
     "data": {
      "text/html": [
       "<script type=\"text/javascript\">$('.code-d011f4ab-8621-4573-a79e-22effcef33df').closest('.output').find('.output_area').each((i,el)=>{ if (i > 1) $(el).remove(); });</script>"
      ]
     },
     "metadata": {},
     "output_type": "display_data"
    },
    {
     "data": {
      "text/html": [
       "<script type=\"text/javascript\">$('.the-bar.progress .progress-bar')\n",
       "                .css('width','13.80%')\n",
       "                .prop('aria-valuenow',13.80)\n",
       "                .text('13.80%');</script>"
      ]
     },
     "metadata": {},
     "output_type": "display_data"
    },
    {
     "data": {
      "text/html": [
       "<script type=\"text/javascript\">$('.code-d011f4ab-8621-4573-a79e-22effcef33df').closest('.output').find('.output_area').each((i,el)=>{ if (i > 1) $(el).remove(); });</script>"
      ]
     },
     "metadata": {},
     "output_type": "display_data"
    },
    {
     "data": {
      "text/html": [
       "<script type=\"text/javascript\">$('.the-bar.progress .progress-bar')\n",
       "                .css('width','14.09%')\n",
       "                .prop('aria-valuenow',14.09)\n",
       "                .text('14.09%');</script>"
      ]
     },
     "metadata": {},
     "output_type": "display_data"
    },
    {
     "data": {
      "text/html": [
       "<script type=\"text/javascript\">$('.code-d011f4ab-8621-4573-a79e-22effcef33df').closest('.output').find('.output_area').each((i,el)=>{ if (i > 1) $(el).remove(); });</script>"
      ]
     },
     "metadata": {},
     "output_type": "display_data"
    },
    {
     "data": {
      "text/html": [
       "<script type=\"text/javascript\">$('.the-bar.progress .progress-bar')\n",
       "                .css('width','14.39%')\n",
       "                .prop('aria-valuenow',14.39)\n",
       "                .text('14.39%');</script>"
      ]
     },
     "metadata": {},
     "output_type": "display_data"
    },
    {
     "data": {
      "text/html": [
       "<script type=\"text/javascript\">$('.code-d011f4ab-8621-4573-a79e-22effcef33df').closest('.output').find('.output_area').each((i,el)=>{ if (i > 1) $(el).remove(); });</script>"
      ]
     },
     "metadata": {},
     "output_type": "display_data"
    },
    {
     "data": {
      "text/html": [
       "<script type=\"text/javascript\">$('.the-bar.progress .progress-bar')\n",
       "                .css('width','14.68%')\n",
       "                .prop('aria-valuenow',14.68)\n",
       "                .text('14.68%');</script>"
      ]
     },
     "metadata": {},
     "output_type": "display_data"
    },
    {
     "data": {
      "text/html": [
       "<script type=\"text/javascript\">$('.code-d011f4ab-8621-4573-a79e-22effcef33df').closest('.output').find('.output_area').each((i,el)=>{ if (i > 1) $(el).remove(); });</script>"
      ]
     },
     "metadata": {},
     "output_type": "display_data"
    },
    {
     "data": {
      "text/html": [
       "<script type=\"text/javascript\">$('.the-bar.progress .progress-bar')\n",
       "                .css('width','14.98%')\n",
       "                .prop('aria-valuenow',14.98)\n",
       "                .text('14.98%');</script>"
      ]
     },
     "metadata": {},
     "output_type": "display_data"
    },
    {
     "data": {
      "text/html": [
       "<script type=\"text/javascript\">$('.code-d011f4ab-8621-4573-a79e-22effcef33df').closest('.output').find('.output_area').each((i,el)=>{ if (i > 1) $(el).remove(); });</script>"
      ]
     },
     "metadata": {},
     "output_type": "display_data"
    },
    {
     "data": {
      "text/html": [
       "<script type=\"text/javascript\">$('.the-bar.progress .progress-bar')\n",
       "                .css('width','15.27%')\n",
       "                .prop('aria-valuenow',15.27)\n",
       "                .text('15.27%');</script>"
      ]
     },
     "metadata": {},
     "output_type": "display_data"
    },
    {
     "data": {
      "text/html": [
       "<script type=\"text/javascript\">$('.code-d011f4ab-8621-4573-a79e-22effcef33df').closest('.output').find('.output_area').each((i,el)=>{ if (i > 1) $(el).remove(); });</script>"
      ]
     },
     "metadata": {},
     "output_type": "display_data"
    },
    {
     "data": {
      "text/html": [
       "<script type=\"text/javascript\">$('.the-bar.progress .progress-bar')\n",
       "                .css('width','15.57%')\n",
       "                .prop('aria-valuenow',15.57)\n",
       "                .text('15.57%');</script>"
      ]
     },
     "metadata": {},
     "output_type": "display_data"
    },
    {
     "data": {
      "text/html": [
       "<script type=\"text/javascript\">$('.code-d011f4ab-8621-4573-a79e-22effcef33df').closest('.output').find('.output_area').each((i,el)=>{ if (i > 1) $(el).remove(); });</script>"
      ]
     },
     "metadata": {},
     "output_type": "display_data"
    },
    {
     "data": {
      "text/html": [
       "<script type=\"text/javascript\">$('.the-bar.progress .progress-bar')\n",
       "                .css('width','15.86%')\n",
       "                .prop('aria-valuenow',15.86)\n",
       "                .text('15.86%');</script>"
      ]
     },
     "metadata": {},
     "output_type": "display_data"
    },
    {
     "data": {
      "text/html": [
       "<script type=\"text/javascript\">$('.code-d011f4ab-8621-4573-a79e-22effcef33df').closest('.output').find('.output_area').each((i,el)=>{ if (i > 1) $(el).remove(); });</script>"
      ]
     },
     "metadata": {},
     "output_type": "display_data"
    },
    {
     "data": {
      "text/html": [
       "<script type=\"text/javascript\">$('.the-bar.progress .progress-bar')\n",
       "                .css('width','16.16%')\n",
       "                .prop('aria-valuenow',16.16)\n",
       "                .text('16.16%');</script>"
      ]
     },
     "metadata": {},
     "output_type": "display_data"
    },
    {
     "data": {
      "text/html": [
       "<script type=\"text/javascript\">$('.code-d011f4ab-8621-4573-a79e-22effcef33df').closest('.output').find('.output_area').each((i,el)=>{ if (i > 1) $(el).remove(); });</script>"
      ]
     },
     "metadata": {},
     "output_type": "display_data"
    },
    {
     "data": {
      "text/html": [
       "<script type=\"text/javascript\">$('.the-bar.progress .progress-bar')\n",
       "                .css('width','16.45%')\n",
       "                .prop('aria-valuenow',16.45)\n",
       "                .text('16.45%');</script>"
      ]
     },
     "metadata": {},
     "output_type": "display_data"
    },
    {
     "data": {
      "text/html": [
       "<script type=\"text/javascript\">$('.code-d011f4ab-8621-4573-a79e-22effcef33df').closest('.output').find('.output_area').each((i,el)=>{ if (i > 1) $(el).remove(); });</script>"
      ]
     },
     "metadata": {},
     "output_type": "display_data"
    },
    {
     "data": {
      "text/html": [
       "<script type=\"text/javascript\">$('.the-bar.progress .progress-bar')\n",
       "                .css('width','16.75%')\n",
       "                .prop('aria-valuenow',16.75)\n",
       "                .text('16.75%');</script>"
      ]
     },
     "metadata": {},
     "output_type": "display_data"
    },
    {
     "data": {
      "text/html": [
       "<script type=\"text/javascript\">$('.code-d011f4ab-8621-4573-a79e-22effcef33df').closest('.output').find('.output_area').each((i,el)=>{ if (i > 1) $(el).remove(); });</script>"
      ]
     },
     "metadata": {},
     "output_type": "display_data"
    },
    {
     "data": {
      "text/html": [
       "<script type=\"text/javascript\">$('.the-bar.progress .progress-bar')\n",
       "                .css('width','17.04%')\n",
       "                .prop('aria-valuenow',17.04)\n",
       "                .text('17.04%');</script>"
      ]
     },
     "metadata": {},
     "output_type": "display_data"
    },
    {
     "data": {
      "text/html": [
       "<script type=\"text/javascript\">$('.code-d011f4ab-8621-4573-a79e-22effcef33df').closest('.output').find('.output_area').each((i,el)=>{ if (i > 1) $(el).remove(); });</script>"
      ]
     },
     "metadata": {},
     "output_type": "display_data"
    },
    {
     "data": {
      "text/html": [
       "<script type=\"text/javascript\">$('.the-bar.progress .progress-bar')\n",
       "                .css('width','17.34%')\n",
       "                .prop('aria-valuenow',17.34)\n",
       "                .text('17.34%');</script>"
      ]
     },
     "metadata": {},
     "output_type": "display_data"
    },
    {
     "data": {
      "text/html": [
       "<script type=\"text/javascript\">$('.code-d011f4ab-8621-4573-a79e-22effcef33df').closest('.output').find('.output_area').each((i,el)=>{ if (i > 1) $(el).remove(); });</script>"
      ]
     },
     "metadata": {},
     "output_type": "display_data"
    },
    {
     "data": {
      "text/html": [
       "<script type=\"text/javascript\">$('.the-bar.progress .progress-bar')\n",
       "                .css('width','17.63%')\n",
       "                .prop('aria-valuenow',17.63)\n",
       "                .text('17.63%');</script>"
      ]
     },
     "metadata": {},
     "output_type": "display_data"
    },
    {
     "data": {
      "text/html": [
       "<script type=\"text/javascript\">$('.code-d011f4ab-8621-4573-a79e-22effcef33df').closest('.output').find('.output_area').each((i,el)=>{ if (i > 1) $(el).remove(); });</script>"
      ]
     },
     "metadata": {},
     "output_type": "display_data"
    },
    {
     "data": {
      "text/html": [
       "<script type=\"text/javascript\">$('.the-bar.progress .progress-bar')\n",
       "                .css('width','17.93%')\n",
       "                .prop('aria-valuenow',17.93)\n",
       "                .text('17.93%');</script>"
      ]
     },
     "metadata": {},
     "output_type": "display_data"
    },
    {
     "data": {
      "text/html": [
       "<script type=\"text/javascript\">$('.code-d011f4ab-8621-4573-a79e-22effcef33df').closest('.output').find('.output_area').each((i,el)=>{ if (i > 1) $(el).remove(); });</script>"
      ]
     },
     "metadata": {},
     "output_type": "display_data"
    },
    {
     "data": {
      "text/html": [
       "<script type=\"text/javascript\">$('.the-bar.progress .progress-bar')\n",
       "                .css('width','18.22%')\n",
       "                .prop('aria-valuenow',18.22)\n",
       "                .text('18.22%');</script>"
      ]
     },
     "metadata": {},
     "output_type": "display_data"
    },
    {
     "data": {
      "text/html": [
       "<script type=\"text/javascript\">$('.code-d011f4ab-8621-4573-a79e-22effcef33df').closest('.output').find('.output_area').each((i,el)=>{ if (i > 1) $(el).remove(); });</script>"
      ]
     },
     "metadata": {},
     "output_type": "display_data"
    },
    {
     "data": {
      "text/html": [
       "<script type=\"text/javascript\">$('.the-bar.progress .progress-bar')\n",
       "                .css('width','18.51%')\n",
       "                .prop('aria-valuenow',18.51)\n",
       "                .text('18.51%');</script>"
      ]
     },
     "metadata": {},
     "output_type": "display_data"
    },
    {
     "data": {
      "text/html": [
       "<script type=\"text/javascript\">$('.code-d011f4ab-8621-4573-a79e-22effcef33df').closest('.output').find('.output_area').each((i,el)=>{ if (i > 1) $(el).remove(); });</script>"
      ]
     },
     "metadata": {},
     "output_type": "display_data"
    },
    {
     "data": {
      "text/html": [
       "<script type=\"text/javascript\">$('.the-bar.progress .progress-bar')\n",
       "                .css('width','18.81%')\n",
       "                .prop('aria-valuenow',18.81)\n",
       "                .text('18.81%');</script>"
      ]
     },
     "metadata": {},
     "output_type": "display_data"
    },
    {
     "data": {
      "text/html": [
       "<script type=\"text/javascript\">$('.code-d011f4ab-8621-4573-a79e-22effcef33df').closest('.output').find('.output_area').each((i,el)=>{ if (i > 1) $(el).remove(); });</script>"
      ]
     },
     "metadata": {},
     "output_type": "display_data"
    },
    {
     "data": {
      "text/html": [
       "<script type=\"text/javascript\">$('.the-bar.progress .progress-bar')\n",
       "                .css('width','19.10%')\n",
       "                .prop('aria-valuenow',19.10)\n",
       "                .text('19.10%');</script>"
      ]
     },
     "metadata": {},
     "output_type": "display_data"
    },
    {
     "data": {
      "text/html": [
       "<script type=\"text/javascript\">$('.code-d011f4ab-8621-4573-a79e-22effcef33df').closest('.output').find('.output_area').each((i,el)=>{ if (i > 1) $(el).remove(); });</script>"
      ]
     },
     "metadata": {},
     "output_type": "display_data"
    },
    {
     "data": {
      "text/html": [
       "<script type=\"text/javascript\">$('.the-bar.progress .progress-bar')\n",
       "                .css('width','19.40%')\n",
       "                .prop('aria-valuenow',19.40)\n",
       "                .text('19.40%');</script>"
      ]
     },
     "metadata": {},
     "output_type": "display_data"
    },
    {
     "data": {
      "text/html": [
       "<script type=\"text/javascript\">$('.code-d011f4ab-8621-4573-a79e-22effcef33df').closest('.output').find('.output_area').each((i,el)=>{ if (i > 1) $(el).remove(); });</script>"
      ]
     },
     "metadata": {},
     "output_type": "display_data"
    },
    {
     "data": {
      "text/html": [
       "<script type=\"text/javascript\">$('.the-bar.progress .progress-bar')\n",
       "                .css('width','19.69%')\n",
       "                .prop('aria-valuenow',19.69)\n",
       "                .text('19.69%');</script>"
      ]
     },
     "metadata": {},
     "output_type": "display_data"
    },
    {
     "data": {
      "text/html": [
       "<script type=\"text/javascript\">$('.code-d011f4ab-8621-4573-a79e-22effcef33df').closest('.output').find('.output_area').each((i,el)=>{ if (i > 1) $(el).remove(); });</script>"
      ]
     },
     "metadata": {},
     "output_type": "display_data"
    },
    {
     "data": {
      "text/html": [
       "<script type=\"text/javascript\">$('.the-bar.progress .progress-bar')\n",
       "                .css('width','19.99%')\n",
       "                .prop('aria-valuenow',19.99)\n",
       "                .text('19.99%');</script>"
      ]
     },
     "metadata": {},
     "output_type": "display_data"
    },
    {
     "data": {
      "text/html": [
       "<script type=\"text/javascript\">$('.code-d011f4ab-8621-4573-a79e-22effcef33df').closest('.output').find('.output_area').each((i,el)=>{ if (i > 1) $(el).remove(); });</script>"
      ]
     },
     "metadata": {},
     "output_type": "display_data"
    },
    {
     "data": {
      "text/html": [
       "<script type=\"text/javascript\">$('.the-bar.progress .progress-bar')\n",
       "                .css('width','20.28%')\n",
       "                .prop('aria-valuenow',20.28)\n",
       "                .text('20.28%');</script>"
      ]
     },
     "metadata": {},
     "output_type": "display_data"
    },
    {
     "data": {
      "text/html": [
       "<script type=\"text/javascript\">$('.code-d011f4ab-8621-4573-a79e-22effcef33df').closest('.output').find('.output_area').each((i,el)=>{ if (i > 1) $(el).remove(); });</script>"
      ]
     },
     "metadata": {},
     "output_type": "display_data"
    },
    {
     "data": {
      "text/html": [
       "<script type=\"text/javascript\">$('.the-bar.progress .progress-bar')\n",
       "                .css('width','20.58%')\n",
       "                .prop('aria-valuenow',20.58)\n",
       "                .text('20.58%');</script>"
      ]
     },
     "metadata": {},
     "output_type": "display_data"
    },
    {
     "data": {
      "text/html": [
       "<script type=\"text/javascript\">$('.code-d011f4ab-8621-4573-a79e-22effcef33df').closest('.output').find('.output_area').each((i,el)=>{ if (i > 1) $(el).remove(); });</script>"
      ]
     },
     "metadata": {},
     "output_type": "display_data"
    },
    {
     "data": {
      "text/html": [
       "<script type=\"text/javascript\">$('.the-bar.progress .progress-bar')\n",
       "                .css('width','20.87%')\n",
       "                .prop('aria-valuenow',20.87)\n",
       "                .text('20.87%');</script>"
      ]
     },
     "metadata": {},
     "output_type": "display_data"
    },
    {
     "data": {
      "text/html": [
       "<script type=\"text/javascript\">$('.code-d011f4ab-8621-4573-a79e-22effcef33df').closest('.output').find('.output_area').each((i,el)=>{ if (i > 1) $(el).remove(); });</script>"
      ]
     },
     "metadata": {},
     "output_type": "display_data"
    },
    {
     "data": {
      "text/html": [
       "<script type=\"text/javascript\">$('.the-bar.progress .progress-bar')\n",
       "                .css('width','21.17%')\n",
       "                .prop('aria-valuenow',21.17)\n",
       "                .text('21.17%');</script>"
      ]
     },
     "metadata": {},
     "output_type": "display_data"
    },
    {
     "data": {
      "text/html": [
       "<script type=\"text/javascript\">$('.code-d011f4ab-8621-4573-a79e-22effcef33df').closest('.output').find('.output_area').each((i,el)=>{ if (i > 1) $(el).remove(); });</script>"
      ]
     },
     "metadata": {},
     "output_type": "display_data"
    },
    {
     "data": {
      "text/html": [
       "<script type=\"text/javascript\">$('.the-bar.progress .progress-bar')\n",
       "                .css('width','21.46%')\n",
       "                .prop('aria-valuenow',21.46)\n",
       "                .text('21.46%');</script>"
      ]
     },
     "metadata": {},
     "output_type": "display_data"
    },
    {
     "data": {
      "text/html": [
       "<script type=\"text/javascript\">$('.code-d011f4ab-8621-4573-a79e-22effcef33df').closest('.output').find('.output_area').each((i,el)=>{ if (i > 1) $(el).remove(); });</script>"
      ]
     },
     "metadata": {},
     "output_type": "display_data"
    },
    {
     "data": {
      "text/html": [
       "<script type=\"text/javascript\">$('.the-bar.progress .progress-bar')\n",
       "                .css('width','21.76%')\n",
       "                .prop('aria-valuenow',21.76)\n",
       "                .text('21.76%');</script>"
      ]
     },
     "metadata": {},
     "output_type": "display_data"
    },
    {
     "data": {
      "text/html": [
       "<script type=\"text/javascript\">$('.code-d011f4ab-8621-4573-a79e-22effcef33df').closest('.output').find('.output_area').each((i,el)=>{ if (i > 1) $(el).remove(); });</script>"
      ]
     },
     "metadata": {},
     "output_type": "display_data"
    },
    {
     "data": {
      "text/html": [
       "<script type=\"text/javascript\">$('.the-bar.progress .progress-bar')\n",
       "                .css('width','22.05%')\n",
       "                .prop('aria-valuenow',22.05)\n",
       "                .text('22.05%');</script>"
      ]
     },
     "metadata": {},
     "output_type": "display_data"
    },
    {
     "data": {
      "text/html": [
       "<script type=\"text/javascript\">$('.code-d011f4ab-8621-4573-a79e-22effcef33df').closest('.output').find('.output_area').each((i,el)=>{ if (i > 1) $(el).remove(); });</script>"
      ]
     },
     "metadata": {},
     "output_type": "display_data"
    },
    {
     "data": {
      "text/html": [
       "<script type=\"text/javascript\">$('.the-bar.progress .progress-bar')\n",
       "                .css('width','22.35%')\n",
       "                .prop('aria-valuenow',22.35)\n",
       "                .text('22.35%');</script>"
      ]
     },
     "metadata": {},
     "output_type": "display_data"
    },
    {
     "data": {
      "text/html": [
       "<script type=\"text/javascript\">$('.code-d011f4ab-8621-4573-a79e-22effcef33df').closest('.output').find('.output_area').each((i,el)=>{ if (i > 1) $(el).remove(); });</script>"
      ]
     },
     "metadata": {},
     "output_type": "display_data"
    },
    {
     "data": {
      "text/html": [
       "<script type=\"text/javascript\">$('.the-bar.progress .progress-bar')\n",
       "                .css('width','22.64%')\n",
       "                .prop('aria-valuenow',22.64)\n",
       "                .text('22.64%');</script>"
      ]
     },
     "metadata": {},
     "output_type": "display_data"
    },
    {
     "data": {
      "text/html": [
       "<script type=\"text/javascript\">$('.code-d011f4ab-8621-4573-a79e-22effcef33df').closest('.output').find('.output_area').each((i,el)=>{ if (i > 1) $(el).remove(); });</script>"
      ]
     },
     "metadata": {},
     "output_type": "display_data"
    },
    {
     "data": {
      "text/html": [
       "<script type=\"text/javascript\">$('.the-bar.progress .progress-bar')\n",
       "                .css('width','22.94%')\n",
       "                .prop('aria-valuenow',22.94)\n",
       "                .text('22.94%');</script>"
      ]
     },
     "metadata": {},
     "output_type": "display_data"
    },
    {
     "data": {
      "text/html": [
       "<script type=\"text/javascript\">$('.code-d011f4ab-8621-4573-a79e-22effcef33df').closest('.output').find('.output_area').each((i,el)=>{ if (i > 1) $(el).remove(); });</script>"
      ]
     },
     "metadata": {},
     "output_type": "display_data"
    },
    {
     "data": {
      "text/html": [
       "<script type=\"text/javascript\">$('.the-bar.progress .progress-bar')\n",
       "                .css('width','23.23%')\n",
       "                .prop('aria-valuenow',23.23)\n",
       "                .text('23.23%');</script>"
      ]
     },
     "metadata": {},
     "output_type": "display_data"
    },
    {
     "data": {
      "text/html": [
       "<script type=\"text/javascript\">$('.code-d011f4ab-8621-4573-a79e-22effcef33df').closest('.output').find('.output_area').each((i,el)=>{ if (i > 1) $(el).remove(); });</script>"
      ]
     },
     "metadata": {},
     "output_type": "display_data"
    },
    {
     "data": {
      "text/html": [
       "<script type=\"text/javascript\">$('.the-bar.progress .progress-bar')\n",
       "                .css('width','23.53%')\n",
       "                .prop('aria-valuenow',23.53)\n",
       "                .text('23.53%');</script>"
      ]
     },
     "metadata": {},
     "output_type": "display_data"
    },
    {
     "data": {
      "text/html": [
       "<script type=\"text/javascript\">$('.code-d011f4ab-8621-4573-a79e-22effcef33df').closest('.output').find('.output_area').each((i,el)=>{ if (i > 1) $(el).remove(); });</script>"
      ]
     },
     "metadata": {},
     "output_type": "display_data"
    },
    {
     "data": {
      "text/html": [
       "<script type=\"text/javascript\">$('.the-bar.progress .progress-bar')\n",
       "                .css('width','23.82%')\n",
       "                .prop('aria-valuenow',23.82)\n",
       "                .text('23.82%');</script>"
      ]
     },
     "metadata": {},
     "output_type": "display_data"
    },
    {
     "data": {
      "text/html": [
       "<script type=\"text/javascript\">$('.code-d011f4ab-8621-4573-a79e-22effcef33df').closest('.output').find('.output_area').each((i,el)=>{ if (i > 1) $(el).remove(); });</script>"
      ]
     },
     "metadata": {},
     "output_type": "display_data"
    },
    {
     "data": {
      "text/html": [
       "<script type=\"text/javascript\">$('.the-bar.progress .progress-bar')\n",
       "                .css('width','24.12%')\n",
       "                .prop('aria-valuenow',24.12)\n",
       "                .text('24.12%');</script>"
      ]
     },
     "metadata": {},
     "output_type": "display_data"
    },
    {
     "data": {
      "text/html": [
       "<script type=\"text/javascript\">$('.code-d011f4ab-8621-4573-a79e-22effcef33df').closest('.output').find('.output_area').each((i,el)=>{ if (i > 1) $(el).remove(); });</script>"
      ]
     },
     "metadata": {},
     "output_type": "display_data"
    },
    {
     "data": {
      "text/html": [
       "<script type=\"text/javascript\">$('.the-bar.progress .progress-bar')\n",
       "                .css('width','24.41%')\n",
       "                .prop('aria-valuenow',24.41)\n",
       "                .text('24.41%');</script>"
      ]
     },
     "metadata": {},
     "output_type": "display_data"
    },
    {
     "data": {
      "text/html": [
       "<script type=\"text/javascript\">$('.code-d011f4ab-8621-4573-a79e-22effcef33df').closest('.output').find('.output_area').each((i,el)=>{ if (i > 1) $(el).remove(); });</script>"
      ]
     },
     "metadata": {},
     "output_type": "display_data"
    },
    {
     "data": {
      "text/html": [
       "<script type=\"text/javascript\">$('.the-bar.progress .progress-bar')\n",
       "                .css('width','24.71%')\n",
       "                .prop('aria-valuenow',24.71)\n",
       "                .text('24.71%');</script>"
      ]
     },
     "metadata": {},
     "output_type": "display_data"
    },
    {
     "data": {
      "text/html": [
       "<script type=\"text/javascript\">$('.code-d011f4ab-8621-4573-a79e-22effcef33df').closest('.output').find('.output_area').each((i,el)=>{ if (i > 1) $(el).remove(); });</script>"
      ]
     },
     "metadata": {},
     "output_type": "display_data"
    },
    {
     "data": {
      "text/html": [
       "<script type=\"text/javascript\">$('.the-bar.progress .progress-bar')\n",
       "                .css('width','25.00%')\n",
       "                .prop('aria-valuenow',25.00)\n",
       "                .text('25.00%');</script>"
      ]
     },
     "metadata": {},
     "output_type": "display_data"
    },
    {
     "data": {
      "text/html": [
       "<script type=\"text/javascript\">$('.code-d011f4ab-8621-4573-a79e-22effcef33df').closest('.output').find('.output_area').each((i,el)=>{ if (i > 1) $(el).remove(); });</script>"
      ]
     },
     "metadata": {},
     "output_type": "display_data"
    },
    {
     "data": {
      "text/html": [
       "<script type=\"text/javascript\">$('.the-bar.progress .progress-bar')\n",
       "                .css('width','25.30%')\n",
       "                .prop('aria-valuenow',25.30)\n",
       "                .text('25.30%');</script>"
      ]
     },
     "metadata": {},
     "output_type": "display_data"
    },
    {
     "data": {
      "text/html": [
       "<script type=\"text/javascript\">$('.code-d011f4ab-8621-4573-a79e-22effcef33df').closest('.output').find('.output_area').each((i,el)=>{ if (i > 1) $(el).remove(); });</script>"
      ]
     },
     "metadata": {},
     "output_type": "display_data"
    },
    {
     "data": {
      "text/html": [
       "<script type=\"text/javascript\">$('.the-bar.progress .progress-bar')\n",
       "                .css('width','25.59%')\n",
       "                .prop('aria-valuenow',25.59)\n",
       "                .text('25.59%');</script>"
      ]
     },
     "metadata": {},
     "output_type": "display_data"
    },
    {
     "data": {
      "text/html": [
       "<script type=\"text/javascript\">$('.code-d011f4ab-8621-4573-a79e-22effcef33df').closest('.output').find('.output_area').each((i,el)=>{ if (i > 1) $(el).remove(); });</script>"
      ]
     },
     "metadata": {},
     "output_type": "display_data"
    },
    {
     "data": {
      "text/html": [
       "<script type=\"text/javascript\">$('.the-bar.progress .progress-bar')\n",
       "                .css('width','25.88%')\n",
       "                .prop('aria-valuenow',25.88)\n",
       "                .text('25.88%');</script>"
      ]
     },
     "metadata": {},
     "output_type": "display_data"
    },
    {
     "data": {
      "text/html": [
       "<script type=\"text/javascript\">$('.code-d011f4ab-8621-4573-a79e-22effcef33df').closest('.output').find('.output_area').each((i,el)=>{ if (i > 1) $(el).remove(); });</script>"
      ]
     },
     "metadata": {},
     "output_type": "display_data"
    },
    {
     "data": {
      "text/html": [
       "<script type=\"text/javascript\">$('.the-bar.progress .progress-bar')\n",
       "                .css('width','26.18%')\n",
       "                .prop('aria-valuenow',26.18)\n",
       "                .text('26.18%');</script>"
      ]
     },
     "metadata": {},
     "output_type": "display_data"
    },
    {
     "data": {
      "text/html": [
       "<script type=\"text/javascript\">$('.code-d011f4ab-8621-4573-a79e-22effcef33df').closest('.output').find('.output_area').each((i,el)=>{ if (i > 1) $(el).remove(); });</script>"
      ]
     },
     "metadata": {},
     "output_type": "display_data"
    },
    {
     "data": {
      "text/html": [
       "<script type=\"text/javascript\">$('.the-bar.progress .progress-bar')\n",
       "                .css('width','26.47%')\n",
       "                .prop('aria-valuenow',26.47)\n",
       "                .text('26.47%');</script>"
      ]
     },
     "metadata": {},
     "output_type": "display_data"
    },
    {
     "data": {
      "text/html": [
       "<script type=\"text/javascript\">$('.code-d011f4ab-8621-4573-a79e-22effcef33df').closest('.output').find('.output_area').each((i,el)=>{ if (i > 1) $(el).remove(); });</script>"
      ]
     },
     "metadata": {},
     "output_type": "display_data"
    },
    {
     "data": {
      "text/html": [
       "<script type=\"text/javascript\">$('.the-bar.progress .progress-bar')\n",
       "                .css('width','26.77%')\n",
       "                .prop('aria-valuenow',26.77)\n",
       "                .text('26.77%');</script>"
      ]
     },
     "metadata": {},
     "output_type": "display_data"
    },
    {
     "data": {
      "text/html": [
       "<script type=\"text/javascript\">$('.code-d011f4ab-8621-4573-a79e-22effcef33df').closest('.output').find('.output_area').each((i,el)=>{ if (i > 1) $(el).remove(); });</script>"
      ]
     },
     "metadata": {},
     "output_type": "display_data"
    },
    {
     "data": {
      "text/html": [
       "<script type=\"text/javascript\">$('.the-bar.progress .progress-bar')\n",
       "                .css('width','27.06%')\n",
       "                .prop('aria-valuenow',27.06)\n",
       "                .text('27.06%');</script>"
      ]
     },
     "metadata": {},
     "output_type": "display_data"
    },
    {
     "data": {
      "text/html": [
       "<script type=\"text/javascript\">$('.code-d011f4ab-8621-4573-a79e-22effcef33df').closest('.output').find('.output_area').each((i,el)=>{ if (i > 1) $(el).remove(); });</script>"
      ]
     },
     "metadata": {},
     "output_type": "display_data"
    },
    {
     "data": {
      "text/html": [
       "<script type=\"text/javascript\">$('.the-bar.progress .progress-bar')\n",
       "                .css('width','27.36%')\n",
       "                .prop('aria-valuenow',27.36)\n",
       "                .text('27.36%');</script>"
      ]
     },
     "metadata": {},
     "output_type": "display_data"
    },
    {
     "data": {
      "text/html": [
       "<script type=\"text/javascript\">$('.code-d011f4ab-8621-4573-a79e-22effcef33df').closest('.output').find('.output_area').each((i,el)=>{ if (i > 1) $(el).remove(); });</script>"
      ]
     },
     "metadata": {},
     "output_type": "display_data"
    },
    {
     "data": {
      "text/html": [
       "<script type=\"text/javascript\">$('.the-bar.progress .progress-bar')\n",
       "                .css('width','27.65%')\n",
       "                .prop('aria-valuenow',27.65)\n",
       "                .text('27.65%');</script>"
      ]
     },
     "metadata": {},
     "output_type": "display_data"
    },
    {
     "data": {
      "text/html": [
       "<script type=\"text/javascript\">$('.code-d011f4ab-8621-4573-a79e-22effcef33df').closest('.output').find('.output_area').each((i,el)=>{ if (i > 1) $(el).remove(); });</script>"
      ]
     },
     "metadata": {},
     "output_type": "display_data"
    },
    {
     "data": {
      "text/html": [
       "<script type=\"text/javascript\">$('.the-bar.progress .progress-bar')\n",
       "                .css('width','27.95%')\n",
       "                .prop('aria-valuenow',27.95)\n",
       "                .text('27.95%');</script>"
      ]
     },
     "metadata": {},
     "output_type": "display_data"
    },
    {
     "data": {
      "text/html": [
       "<script type=\"text/javascript\">$('.code-d011f4ab-8621-4573-a79e-22effcef33df').closest('.output').find('.output_area').each((i,el)=>{ if (i > 1) $(el).remove(); });</script>"
      ]
     },
     "metadata": {},
     "output_type": "display_data"
    },
    {
     "data": {
      "text/html": [
       "<script type=\"text/javascript\">$('.the-bar.progress .progress-bar')\n",
       "                .css('width','28.24%')\n",
       "                .prop('aria-valuenow',28.24)\n",
       "                .text('28.24%');</script>"
      ]
     },
     "metadata": {},
     "output_type": "display_data"
    },
    {
     "data": {
      "text/html": [
       "<script type=\"text/javascript\">$('.code-d011f4ab-8621-4573-a79e-22effcef33df').closest('.output').find('.output_area').each((i,el)=>{ if (i > 1) $(el).remove(); });</script>"
      ]
     },
     "metadata": {},
     "output_type": "display_data"
    },
    {
     "data": {
      "text/html": [
       "<script type=\"text/javascript\">$('.the-bar.progress .progress-bar')\n",
       "                .css('width','28.54%')\n",
       "                .prop('aria-valuenow',28.54)\n",
       "                .text('28.54%');</script>"
      ]
     },
     "metadata": {},
     "output_type": "display_data"
    },
    {
     "data": {
      "text/html": [
       "<script type=\"text/javascript\">$('.code-d011f4ab-8621-4573-a79e-22effcef33df').closest('.output').find('.output_area').each((i,el)=>{ if (i > 1) $(el).remove(); });</script>"
      ]
     },
     "metadata": {},
     "output_type": "display_data"
    },
    {
     "data": {
      "text/html": [
       "<script type=\"text/javascript\">$('.the-bar.progress .progress-bar')\n",
       "                .css('width','28.83%')\n",
       "                .prop('aria-valuenow',28.83)\n",
       "                .text('28.83%');</script>"
      ]
     },
     "metadata": {},
     "output_type": "display_data"
    },
    {
     "data": {
      "text/html": [
       "<script type=\"text/javascript\">$('.code-d011f4ab-8621-4573-a79e-22effcef33df').closest('.output').find('.output_area').each((i,el)=>{ if (i > 1) $(el).remove(); });</script>"
      ]
     },
     "metadata": {},
     "output_type": "display_data"
    },
    {
     "data": {
      "text/html": [
       "<script type=\"text/javascript\">$('.the-bar.progress .progress-bar')\n",
       "                .css('width','29.13%')\n",
       "                .prop('aria-valuenow',29.13)\n",
       "                .text('29.13%');</script>"
      ]
     },
     "metadata": {},
     "output_type": "display_data"
    },
    {
     "data": {
      "text/html": [
       "<script type=\"text/javascript\">$('.code-d011f4ab-8621-4573-a79e-22effcef33df').closest('.output').find('.output_area').each((i,el)=>{ if (i > 1) $(el).remove(); });</script>"
      ]
     },
     "metadata": {},
     "output_type": "display_data"
    },
    {
     "data": {
      "text/html": [
       "<script type=\"text/javascript\">$('.the-bar.progress .progress-bar')\n",
       "                .css('width','29.42%')\n",
       "                .prop('aria-valuenow',29.42)\n",
       "                .text('29.42%');</script>"
      ]
     },
     "metadata": {},
     "output_type": "display_data"
    },
    {
     "data": {
      "text/html": [
       "<script type=\"text/javascript\">$('.code-d011f4ab-8621-4573-a79e-22effcef33df').closest('.output').find('.output_area').each((i,el)=>{ if (i > 1) $(el).remove(); });</script>"
      ]
     },
     "metadata": {},
     "output_type": "display_data"
    },
    {
     "data": {
      "text/html": [
       "<script type=\"text/javascript\">$('.the-bar.progress .progress-bar')\n",
       "                .css('width','29.72%')\n",
       "                .prop('aria-valuenow',29.72)\n",
       "                .text('29.72%');</script>"
      ]
     },
     "metadata": {},
     "output_type": "display_data"
    },
    {
     "data": {
      "text/html": [
       "<script type=\"text/javascript\">$('.code-d011f4ab-8621-4573-a79e-22effcef33df').closest('.output').find('.output_area').each((i,el)=>{ if (i > 1) $(el).remove(); });</script>"
      ]
     },
     "metadata": {},
     "output_type": "display_data"
    },
    {
     "data": {
      "text/html": [
       "<script type=\"text/javascript\">$('.the-bar.progress .progress-bar')\n",
       "                .css('width','30.01%')\n",
       "                .prop('aria-valuenow',30.01)\n",
       "                .text('30.01%');</script>"
      ]
     },
     "metadata": {},
     "output_type": "display_data"
    },
    {
     "data": {
      "text/html": [
       "<script type=\"text/javascript\">$('.code-d011f4ab-8621-4573-a79e-22effcef33df').closest('.output').find('.output_area').each((i,el)=>{ if (i > 1) $(el).remove(); });</script>"
      ]
     },
     "metadata": {},
     "output_type": "display_data"
    },
    {
     "data": {
      "text/html": [
       "<script type=\"text/javascript\">$('.the-bar.progress .progress-bar')\n",
       "                .css('width','30.31%')\n",
       "                .prop('aria-valuenow',30.31)\n",
       "                .text('30.31%');</script>"
      ]
     },
     "metadata": {},
     "output_type": "display_data"
    },
    {
     "data": {
      "text/html": [
       "<script type=\"text/javascript\">$('.code-d011f4ab-8621-4573-a79e-22effcef33df').closest('.output').find('.output_area').each((i,el)=>{ if (i > 1) $(el).remove(); });</script>"
      ]
     },
     "metadata": {},
     "output_type": "display_data"
    },
    {
     "data": {
      "text/html": [
       "<script type=\"text/javascript\">$('.the-bar.progress .progress-bar')\n",
       "                .css('width','30.60%')\n",
       "                .prop('aria-valuenow',30.60)\n",
       "                .text('30.60%');</script>"
      ]
     },
     "metadata": {},
     "output_type": "display_data"
    },
    {
     "data": {
      "text/html": [
       "<script type=\"text/javascript\">$('.code-d011f4ab-8621-4573-a79e-22effcef33df').closest('.output').find('.output_area').each((i,el)=>{ if (i > 1) $(el).remove(); });</script>"
      ]
     },
     "metadata": {},
     "output_type": "display_data"
    },
    {
     "data": {
      "text/html": [
       "<script type=\"text/javascript\">$('.the-bar.progress .progress-bar')\n",
       "                .css('width','30.90%')\n",
       "                .prop('aria-valuenow',30.90)\n",
       "                .text('30.90%');</script>"
      ]
     },
     "metadata": {},
     "output_type": "display_data"
    },
    {
     "data": {
      "text/html": [
       "<script type=\"text/javascript\">$('.code-d011f4ab-8621-4573-a79e-22effcef33df').closest('.output').find('.output_area').each((i,el)=>{ if (i > 1) $(el).remove(); });</script>"
      ]
     },
     "metadata": {},
     "output_type": "display_data"
    },
    {
     "data": {
      "text/html": [
       "<script type=\"text/javascript\">$('.the-bar.progress .progress-bar')\n",
       "                .css('width','31.19%')\n",
       "                .prop('aria-valuenow',31.19)\n",
       "                .text('31.19%');</script>"
      ]
     },
     "metadata": {},
     "output_type": "display_data"
    },
    {
     "data": {
      "text/html": [
       "<script type=\"text/javascript\">$('.code-d011f4ab-8621-4573-a79e-22effcef33df').closest('.output').find('.output_area').each((i,el)=>{ if (i > 1) $(el).remove(); });</script>"
      ]
     },
     "metadata": {},
     "output_type": "display_data"
    },
    {
     "data": {
      "text/html": [
       "<script type=\"text/javascript\">$('.the-bar.progress .progress-bar')\n",
       "                .css('width','31.49%')\n",
       "                .prop('aria-valuenow',31.49)\n",
       "                .text('31.49%');</script>"
      ]
     },
     "metadata": {},
     "output_type": "display_data"
    },
    {
     "data": {
      "text/html": [
       "<script type=\"text/javascript\">$('.code-d011f4ab-8621-4573-a79e-22effcef33df').closest('.output').find('.output_area').each((i,el)=>{ if (i > 1) $(el).remove(); });</script>"
      ]
     },
     "metadata": {},
     "output_type": "display_data"
    },
    {
     "data": {
      "text/html": [
       "<script type=\"text/javascript\">$('.the-bar.progress .progress-bar')\n",
       "                .css('width','31.78%')\n",
       "                .prop('aria-valuenow',31.78)\n",
       "                .text('31.78%');</script>"
      ]
     },
     "metadata": {},
     "output_type": "display_data"
    },
    {
     "data": {
      "text/html": [
       "<script type=\"text/javascript\">$('.code-d011f4ab-8621-4573-a79e-22effcef33df').closest('.output').find('.output_area').each((i,el)=>{ if (i > 1) $(el).remove(); });</script>"
      ]
     },
     "metadata": {},
     "output_type": "display_data"
    },
    {
     "data": {
      "text/html": [
       "<script type=\"text/javascript\">$('.the-bar.progress .progress-bar')\n",
       "                .css('width','32.08%')\n",
       "                .prop('aria-valuenow',32.08)\n",
       "                .text('32.08%');</script>"
      ]
     },
     "metadata": {},
     "output_type": "display_data"
    },
    {
     "data": {
      "text/html": [
       "<script type=\"text/javascript\">$('.code-d011f4ab-8621-4573-a79e-22effcef33df').closest('.output').find('.output_area').each((i,el)=>{ if (i > 1) $(el).remove(); });</script>"
      ]
     },
     "metadata": {},
     "output_type": "display_data"
    },
    {
     "data": {
      "text/html": [
       "<script type=\"text/javascript\">$('.the-bar.progress .progress-bar')\n",
       "                .css('width','32.37%')\n",
       "                .prop('aria-valuenow',32.37)\n",
       "                .text('32.37%');</script>"
      ]
     },
     "metadata": {},
     "output_type": "display_data"
    },
    {
     "data": {
      "text/html": [
       "<script type=\"text/javascript\">$('.code-d011f4ab-8621-4573-a79e-22effcef33df').closest('.output').find('.output_area').each((i,el)=>{ if (i > 1) $(el).remove(); });</script>"
      ]
     },
     "metadata": {},
     "output_type": "display_data"
    },
    {
     "data": {
      "text/html": [
       "<script type=\"text/javascript\">$('.the-bar.progress .progress-bar')\n",
       "                .css('width','32.66%')\n",
       "                .prop('aria-valuenow',32.66)\n",
       "                .text('32.66%');</script>"
      ]
     },
     "metadata": {},
     "output_type": "display_data"
    },
    {
     "data": {
      "text/html": [
       "<script type=\"text/javascript\">$('.code-d011f4ab-8621-4573-a79e-22effcef33df').closest('.output').find('.output_area').each((i,el)=>{ if (i > 1) $(el).remove(); });</script>"
      ]
     },
     "metadata": {},
     "output_type": "display_data"
    },
    {
     "data": {
      "text/html": [
       "<script type=\"text/javascript\">$('.the-bar.progress .progress-bar')\n",
       "                .css('width','32.96%')\n",
       "                .prop('aria-valuenow',32.96)\n",
       "                .text('32.96%');</script>"
      ]
     },
     "metadata": {},
     "output_type": "display_data"
    },
    {
     "data": {
      "text/html": [
       "<script type=\"text/javascript\">$('.code-d011f4ab-8621-4573-a79e-22effcef33df').closest('.output').find('.output_area').each((i,el)=>{ if (i > 1) $(el).remove(); });</script>"
      ]
     },
     "metadata": {},
     "output_type": "display_data"
    },
    {
     "data": {
      "text/html": [
       "<script type=\"text/javascript\">$('.the-bar.progress .progress-bar')\n",
       "                .css('width','33.25%')\n",
       "                .prop('aria-valuenow',33.25)\n",
       "                .text('33.25%');</script>"
      ]
     },
     "metadata": {},
     "output_type": "display_data"
    },
    {
     "data": {
      "text/html": [
       "<script type=\"text/javascript\">$('.code-d011f4ab-8621-4573-a79e-22effcef33df').closest('.output').find('.output_area').each((i,el)=>{ if (i > 1) $(el).remove(); });</script>"
      ]
     },
     "metadata": {},
     "output_type": "display_data"
    },
    {
     "data": {
      "text/html": [
       "<script type=\"text/javascript\">$('.the-bar.progress .progress-bar')\n",
       "                .css('width','33.55%')\n",
       "                .prop('aria-valuenow',33.55)\n",
       "                .text('33.55%');</script>"
      ]
     },
     "metadata": {},
     "output_type": "display_data"
    },
    {
     "data": {
      "text/html": [
       "<script type=\"text/javascript\">$('.code-d011f4ab-8621-4573-a79e-22effcef33df').closest('.output').find('.output_area').each((i,el)=>{ if (i > 1) $(el).remove(); });</script>"
      ]
     },
     "metadata": {},
     "output_type": "display_data"
    },
    {
     "data": {
      "text/html": [
       "<script type=\"text/javascript\">$('.the-bar.progress .progress-bar')\n",
       "                .css('width','33.84%')\n",
       "                .prop('aria-valuenow',33.84)\n",
       "                .text('33.84%');</script>"
      ]
     },
     "metadata": {},
     "output_type": "display_data"
    },
    {
     "data": {
      "text/html": [
       "<script type=\"text/javascript\">$('.code-d011f4ab-8621-4573-a79e-22effcef33df').closest('.output').find('.output_area').each((i,el)=>{ if (i > 1) $(el).remove(); });</script>"
      ]
     },
     "metadata": {},
     "output_type": "display_data"
    },
    {
     "data": {
      "text/html": [
       "<script type=\"text/javascript\">$('.the-bar.progress .progress-bar')\n",
       "                .css('width','34.14%')\n",
       "                .prop('aria-valuenow',34.14)\n",
       "                .text('34.14%');</script>"
      ]
     },
     "metadata": {},
     "output_type": "display_data"
    },
    {
     "data": {
      "text/html": [
       "<script type=\"text/javascript\">$('.code-d011f4ab-8621-4573-a79e-22effcef33df').closest('.output').find('.output_area').each((i,el)=>{ if (i > 1) $(el).remove(); });</script>"
      ]
     },
     "metadata": {},
     "output_type": "display_data"
    },
    {
     "data": {
      "text/html": [
       "<script type=\"text/javascript\">$('.the-bar.progress .progress-bar')\n",
       "                .css('width','34.43%')\n",
       "                .prop('aria-valuenow',34.43)\n",
       "                .text('34.43%');</script>"
      ]
     },
     "metadata": {},
     "output_type": "display_data"
    },
    {
     "data": {
      "text/html": [
       "<script type=\"text/javascript\">$('.code-d011f4ab-8621-4573-a79e-22effcef33df').closest('.output').find('.output_area').each((i,el)=>{ if (i > 1) $(el).remove(); });</script>"
      ]
     },
     "metadata": {},
     "output_type": "display_data"
    },
    {
     "data": {
      "text/html": [
       "<script type=\"text/javascript\">$('.the-bar.progress .progress-bar')\n",
       "                .css('width','34.73%')\n",
       "                .prop('aria-valuenow',34.73)\n",
       "                .text('34.73%');</script>"
      ]
     },
     "metadata": {},
     "output_type": "display_data"
    },
    {
     "data": {
      "text/html": [
       "<script type=\"text/javascript\">$('.code-d011f4ab-8621-4573-a79e-22effcef33df').closest('.output').find('.output_area').each((i,el)=>{ if (i > 1) $(el).remove(); });</script>"
      ]
     },
     "metadata": {},
     "output_type": "display_data"
    },
    {
     "data": {
      "text/html": [
       "<script type=\"text/javascript\">$('.the-bar.progress .progress-bar')\n",
       "                .css('width','35.02%')\n",
       "                .prop('aria-valuenow',35.02)\n",
       "                .text('35.02%');</script>"
      ]
     },
     "metadata": {},
     "output_type": "display_data"
    },
    {
     "data": {
      "text/html": [
       "<script type=\"text/javascript\">$('.code-d011f4ab-8621-4573-a79e-22effcef33df').closest('.output').find('.output_area').each((i,el)=>{ if (i > 1) $(el).remove(); });</script>"
      ]
     },
     "metadata": {},
     "output_type": "display_data"
    },
    {
     "data": {
      "text/html": [
       "<script type=\"text/javascript\">$('.the-bar.progress .progress-bar')\n",
       "                .css('width','35.32%')\n",
       "                .prop('aria-valuenow',35.32)\n",
       "                .text('35.32%');</script>"
      ]
     },
     "metadata": {},
     "output_type": "display_data"
    },
    {
     "data": {
      "text/html": [
       "<script type=\"text/javascript\">$('.code-d011f4ab-8621-4573-a79e-22effcef33df').closest('.output').find('.output_area').each((i,el)=>{ if (i > 1) $(el).remove(); });</script>"
      ]
     },
     "metadata": {},
     "output_type": "display_data"
    },
    {
     "data": {
      "text/html": [
       "<script type=\"text/javascript\">$('.the-bar.progress .progress-bar')\n",
       "                .css('width','35.61%')\n",
       "                .prop('aria-valuenow',35.61)\n",
       "                .text('35.61%');</script>"
      ]
     },
     "metadata": {},
     "output_type": "display_data"
    },
    {
     "data": {
      "text/html": [
       "<script type=\"text/javascript\">$('.code-d011f4ab-8621-4573-a79e-22effcef33df').closest('.output').find('.output_area').each((i,el)=>{ if (i > 1) $(el).remove(); });</script>"
      ]
     },
     "metadata": {},
     "output_type": "display_data"
    },
    {
     "data": {
      "text/html": [
       "<script type=\"text/javascript\">$('.the-bar.progress .progress-bar')\n",
       "                .css('width','35.91%')\n",
       "                .prop('aria-valuenow',35.91)\n",
       "                .text('35.91%');</script>"
      ]
     },
     "metadata": {},
     "output_type": "display_data"
    },
    {
     "data": {
      "text/html": [
       "<script type=\"text/javascript\">$('.code-d011f4ab-8621-4573-a79e-22effcef33df').closest('.output').find('.output_area').each((i,el)=>{ if (i > 1) $(el).remove(); });</script>"
      ]
     },
     "metadata": {},
     "output_type": "display_data"
    },
    {
     "data": {
      "text/html": [
       "<script type=\"text/javascript\">$('.the-bar.progress .progress-bar')\n",
       "                .css('width','36.20%')\n",
       "                .prop('aria-valuenow',36.20)\n",
       "                .text('36.20%');</script>"
      ]
     },
     "metadata": {},
     "output_type": "display_data"
    },
    {
     "data": {
      "text/html": [
       "<script type=\"text/javascript\">$('.code-d011f4ab-8621-4573-a79e-22effcef33df').closest('.output').find('.output_area').each((i,el)=>{ if (i > 1) $(el).remove(); });</script>"
      ]
     },
     "metadata": {},
     "output_type": "display_data"
    },
    {
     "data": {
      "text/html": [
       "<script type=\"text/javascript\">$('.the-bar.progress .progress-bar')\n",
       "                .css('width','36.50%')\n",
       "                .prop('aria-valuenow',36.50)\n",
       "                .text('36.50%');</script>"
      ]
     },
     "metadata": {},
     "output_type": "display_data"
    },
    {
     "data": {
      "text/html": [
       "<script type=\"text/javascript\">$('.code-d011f4ab-8621-4573-a79e-22effcef33df').closest('.output').find('.output_area').each((i,el)=>{ if (i > 1) $(el).remove(); });</script>"
      ]
     },
     "metadata": {},
     "output_type": "display_data"
    },
    {
     "data": {
      "text/html": [
       "<script type=\"text/javascript\">$('.the-bar.progress .progress-bar')\n",
       "                .css('width','36.79%')\n",
       "                .prop('aria-valuenow',36.79)\n",
       "                .text('36.79%');</script>"
      ]
     },
     "metadata": {},
     "output_type": "display_data"
    },
    {
     "data": {
      "text/html": [
       "<script type=\"text/javascript\">$('.code-d011f4ab-8621-4573-a79e-22effcef33df').closest('.output').find('.output_area').each((i,el)=>{ if (i > 1) $(el).remove(); });</script>"
      ]
     },
     "metadata": {},
     "output_type": "display_data"
    },
    {
     "data": {
      "text/html": [
       "<script type=\"text/javascript\">$('.the-bar.progress .progress-bar')\n",
       "                .css('width','37.09%')\n",
       "                .prop('aria-valuenow',37.09)\n",
       "                .text('37.09%');</script>"
      ]
     },
     "metadata": {},
     "output_type": "display_data"
    },
    {
     "data": {
      "text/html": [
       "<script type=\"text/javascript\">$('.code-d011f4ab-8621-4573-a79e-22effcef33df').closest('.output').find('.output_area').each((i,el)=>{ if (i > 1) $(el).remove(); });</script>"
      ]
     },
     "metadata": {},
     "output_type": "display_data"
    },
    {
     "data": {
      "text/html": [
       "<script type=\"text/javascript\">$('.the-bar.progress .progress-bar')\n",
       "                .css('width','37.38%')\n",
       "                .prop('aria-valuenow',37.38)\n",
       "                .text('37.38%');</script>"
      ]
     },
     "metadata": {},
     "output_type": "display_data"
    },
    {
     "data": {
      "text/html": [
       "<script type=\"text/javascript\">$('.code-d011f4ab-8621-4573-a79e-22effcef33df').closest('.output').find('.output_area').each((i,el)=>{ if (i > 1) $(el).remove(); });</script>"
      ]
     },
     "metadata": {},
     "output_type": "display_data"
    },
    {
     "data": {
      "text/html": [
       "<script type=\"text/javascript\">$('.the-bar.progress .progress-bar')\n",
       "                .css('width','37.68%')\n",
       "                .prop('aria-valuenow',37.68)\n",
       "                .text('37.68%');</script>"
      ]
     },
     "metadata": {},
     "output_type": "display_data"
    },
    {
     "data": {
      "text/html": [
       "<script type=\"text/javascript\">$('.code-d011f4ab-8621-4573-a79e-22effcef33df').closest('.output').find('.output_area').each((i,el)=>{ if (i > 1) $(el).remove(); });</script>"
      ]
     },
     "metadata": {},
     "output_type": "display_data"
    },
    {
     "data": {
      "text/html": [
       "<script type=\"text/javascript\">$('.the-bar.progress .progress-bar')\n",
       "                .css('width','37.97%')\n",
       "                .prop('aria-valuenow',37.97)\n",
       "                .text('37.97%');</script>"
      ]
     },
     "metadata": {},
     "output_type": "display_data"
    },
    {
     "data": {
      "text/html": [
       "<script type=\"text/javascript\">$('.code-d011f4ab-8621-4573-a79e-22effcef33df').closest('.output').find('.output_area').each((i,el)=>{ if (i > 1) $(el).remove(); });</script>"
      ]
     },
     "metadata": {},
     "output_type": "display_data"
    },
    {
     "data": {
      "text/html": [
       "<script type=\"text/javascript\">$('.the-bar.progress .progress-bar')\n",
       "                .css('width','38.27%')\n",
       "                .prop('aria-valuenow',38.27)\n",
       "                .text('38.27%');</script>"
      ]
     },
     "metadata": {},
     "output_type": "display_data"
    },
    {
     "data": {
      "text/html": [
       "<script type=\"text/javascript\">$('.code-d011f4ab-8621-4573-a79e-22effcef33df').closest('.output').find('.output_area').each((i,el)=>{ if (i > 1) $(el).remove(); });</script>"
      ]
     },
     "metadata": {},
     "output_type": "display_data"
    },
    {
     "data": {
      "text/html": [
       "<script type=\"text/javascript\">$('.the-bar.progress .progress-bar')\n",
       "                .css('width','38.56%')\n",
       "                .prop('aria-valuenow',38.56)\n",
       "                .text('38.56%');</script>"
      ]
     },
     "metadata": {},
     "output_type": "display_data"
    },
    {
     "data": {
      "text/html": [
       "<script type=\"text/javascript\">$('.code-d011f4ab-8621-4573-a79e-22effcef33df').closest('.output').find('.output_area').each((i,el)=>{ if (i > 1) $(el).remove(); });</script>"
      ]
     },
     "metadata": {},
     "output_type": "display_data"
    },
    {
     "data": {
      "text/html": [
       "<script type=\"text/javascript\">$('.the-bar.progress .progress-bar')\n",
       "                .css('width','38.86%')\n",
       "                .prop('aria-valuenow',38.86)\n",
       "                .text('38.86%');</script>"
      ]
     },
     "metadata": {},
     "output_type": "display_data"
    },
    {
     "data": {
      "text/html": [
       "<script type=\"text/javascript\">$('.code-d011f4ab-8621-4573-a79e-22effcef33df').closest('.output').find('.output_area').each((i,el)=>{ if (i > 1) $(el).remove(); });</script>"
      ]
     },
     "metadata": {},
     "output_type": "display_data"
    },
    {
     "data": {
      "text/html": [
       "<script type=\"text/javascript\">$('.the-bar.progress .progress-bar')\n",
       "                .css('width','39.15%')\n",
       "                .prop('aria-valuenow',39.15)\n",
       "                .text('39.15%');</script>"
      ]
     },
     "metadata": {},
     "output_type": "display_data"
    },
    {
     "data": {
      "text/html": [
       "<script type=\"text/javascript\">$('.code-d011f4ab-8621-4573-a79e-22effcef33df').closest('.output').find('.output_area').each((i,el)=>{ if (i > 1) $(el).remove(); });</script>"
      ]
     },
     "metadata": {},
     "output_type": "display_data"
    },
    {
     "data": {
      "text/html": [
       "<script type=\"text/javascript\">$('.the-bar.progress .progress-bar')\n",
       "                .css('width','39.45%')\n",
       "                .prop('aria-valuenow',39.45)\n",
       "                .text('39.45%');</script>"
      ]
     },
     "metadata": {},
     "output_type": "display_data"
    },
    {
     "data": {
      "text/html": [
       "<script type=\"text/javascript\">$('.code-d011f4ab-8621-4573-a79e-22effcef33df').closest('.output').find('.output_area').each((i,el)=>{ if (i > 1) $(el).remove(); });</script>"
      ]
     },
     "metadata": {},
     "output_type": "display_data"
    },
    {
     "data": {
      "text/html": [
       "<script type=\"text/javascript\">$('.the-bar.progress .progress-bar')\n",
       "                .css('width','39.74%')\n",
       "                .prop('aria-valuenow',39.74)\n",
       "                .text('39.74%');</script>"
      ]
     },
     "metadata": {},
     "output_type": "display_data"
    },
    {
     "data": {
      "text/html": [
       "<script type=\"text/javascript\">$('.code-d011f4ab-8621-4573-a79e-22effcef33df').closest('.output').find('.output_area').each((i,el)=>{ if (i > 1) $(el).remove(); });</script>"
      ]
     },
     "metadata": {},
     "output_type": "display_data"
    },
    {
     "data": {
      "text/html": [
       "<script type=\"text/javascript\">$('.the-bar.progress .progress-bar')\n",
       "                .css('width','40.03%')\n",
       "                .prop('aria-valuenow',40.03)\n",
       "                .text('40.03%');</script>"
      ]
     },
     "metadata": {},
     "output_type": "display_data"
    },
    {
     "data": {
      "text/html": [
       "<script type=\"text/javascript\">$('.code-d011f4ab-8621-4573-a79e-22effcef33df').closest('.output').find('.output_area').each((i,el)=>{ if (i > 1) $(el).remove(); });</script>"
      ]
     },
     "metadata": {},
     "output_type": "display_data"
    },
    {
     "data": {
      "text/html": [
       "<script type=\"text/javascript\">$('.the-bar.progress .progress-bar')\n",
       "                .css('width','40.33%')\n",
       "                .prop('aria-valuenow',40.33)\n",
       "                .text('40.33%');</script>"
      ]
     },
     "metadata": {},
     "output_type": "display_data"
    },
    {
     "data": {
      "text/html": [
       "<script type=\"text/javascript\">$('.code-d011f4ab-8621-4573-a79e-22effcef33df').closest('.output').find('.output_area').each((i,el)=>{ if (i > 1) $(el).remove(); });</script>"
      ]
     },
     "metadata": {},
     "output_type": "display_data"
    },
    {
     "data": {
      "text/html": [
       "<script type=\"text/javascript\">$('.the-bar.progress .progress-bar')\n",
       "                .css('width','40.62%')\n",
       "                .prop('aria-valuenow',40.62)\n",
       "                .text('40.62%');</script>"
      ]
     },
     "metadata": {},
     "output_type": "display_data"
    },
    {
     "data": {
      "text/html": [
       "<script type=\"text/javascript\">$('.code-d011f4ab-8621-4573-a79e-22effcef33df').closest('.output').find('.output_area').each((i,el)=>{ if (i > 1) $(el).remove(); });</script>"
      ]
     },
     "metadata": {},
     "output_type": "display_data"
    },
    {
     "data": {
      "text/html": [
       "<script type=\"text/javascript\">$('.the-bar.progress .progress-bar')\n",
       "                .css('width','40.92%')\n",
       "                .prop('aria-valuenow',40.92)\n",
       "                .text('40.92%');</script>"
      ]
     },
     "metadata": {},
     "output_type": "display_data"
    },
    {
     "data": {
      "text/html": [
       "<script type=\"text/javascript\">$('.code-d011f4ab-8621-4573-a79e-22effcef33df').closest('.output').find('.output_area').each((i,el)=>{ if (i > 1) $(el).remove(); });</script>"
      ]
     },
     "metadata": {},
     "output_type": "display_data"
    },
    {
     "data": {
      "text/html": [
       "<script type=\"text/javascript\">$('.the-bar.progress .progress-bar')\n",
       "                .css('width','41.21%')\n",
       "                .prop('aria-valuenow',41.21)\n",
       "                .text('41.21%');</script>"
      ]
     },
     "metadata": {},
     "output_type": "display_data"
    },
    {
     "data": {
      "text/html": [
       "<script type=\"text/javascript\">$('.code-d011f4ab-8621-4573-a79e-22effcef33df').closest('.output').find('.output_area').each((i,el)=>{ if (i > 1) $(el).remove(); });</script>"
      ]
     },
     "metadata": {},
     "output_type": "display_data"
    },
    {
     "data": {
      "text/html": [
       "<script type=\"text/javascript\">$('.the-bar.progress .progress-bar')\n",
       "                .css('width','41.51%')\n",
       "                .prop('aria-valuenow',41.51)\n",
       "                .text('41.51%');</script>"
      ]
     },
     "metadata": {},
     "output_type": "display_data"
    },
    {
     "data": {
      "text/html": [
       "<script type=\"text/javascript\">$('.code-d011f4ab-8621-4573-a79e-22effcef33df').closest('.output').find('.output_area').each((i,el)=>{ if (i > 1) $(el).remove(); });</script>"
      ]
     },
     "metadata": {},
     "output_type": "display_data"
    },
    {
     "data": {
      "text/html": [
       "<script type=\"text/javascript\">$('.the-bar.progress .progress-bar')\n",
       "                .css('width','41.80%')\n",
       "                .prop('aria-valuenow',41.80)\n",
       "                .text('41.80%');</script>"
      ]
     },
     "metadata": {},
     "output_type": "display_data"
    },
    {
     "data": {
      "text/html": [
       "<script type=\"text/javascript\">$('.code-d011f4ab-8621-4573-a79e-22effcef33df').closest('.output').find('.output_area').each((i,el)=>{ if (i > 1) $(el).remove(); });</script>"
      ]
     },
     "metadata": {},
     "output_type": "display_data"
    },
    {
     "data": {
      "text/html": [
       "<script type=\"text/javascript\">$('.the-bar.progress .progress-bar')\n",
       "                .css('width','42.10%')\n",
       "                .prop('aria-valuenow',42.10)\n",
       "                .text('42.10%');</script>"
      ]
     },
     "metadata": {},
     "output_type": "display_data"
    },
    {
     "data": {
      "text/html": [
       "<script type=\"text/javascript\">$('.code-d011f4ab-8621-4573-a79e-22effcef33df').closest('.output').find('.output_area').each((i,el)=>{ if (i > 1) $(el).remove(); });</script>"
      ]
     },
     "metadata": {},
     "output_type": "display_data"
    },
    {
     "data": {
      "text/html": [
       "<script type=\"text/javascript\">$('.the-bar.progress .progress-bar')\n",
       "                .css('width','42.39%')\n",
       "                .prop('aria-valuenow',42.39)\n",
       "                .text('42.39%');</script>"
      ]
     },
     "metadata": {},
     "output_type": "display_data"
    },
    {
     "data": {
      "text/html": [
       "<script type=\"text/javascript\">$('.code-d011f4ab-8621-4573-a79e-22effcef33df').closest('.output').find('.output_area').each((i,el)=>{ if (i > 1) $(el).remove(); });</script>"
      ]
     },
     "metadata": {},
     "output_type": "display_data"
    },
    {
     "data": {
      "text/html": [
       "<script type=\"text/javascript\">$('.the-bar.progress .progress-bar')\n",
       "                .css('width','42.69%')\n",
       "                .prop('aria-valuenow',42.69)\n",
       "                .text('42.69%');</script>"
      ]
     },
     "metadata": {},
     "output_type": "display_data"
    },
    {
     "data": {
      "text/html": [
       "<script type=\"text/javascript\">$('.code-d011f4ab-8621-4573-a79e-22effcef33df').closest('.output').find('.output_area').each((i,el)=>{ if (i > 1) $(el).remove(); });</script>"
      ]
     },
     "metadata": {},
     "output_type": "display_data"
    },
    {
     "data": {
      "text/html": [
       "<script type=\"text/javascript\">$('.the-bar.progress .progress-bar')\n",
       "                .css('width','42.98%')\n",
       "                .prop('aria-valuenow',42.98)\n",
       "                .text('42.98%');</script>"
      ]
     },
     "metadata": {},
     "output_type": "display_data"
    },
    {
     "data": {
      "text/html": [
       "<script type=\"text/javascript\">$('.code-d011f4ab-8621-4573-a79e-22effcef33df').closest('.output').find('.output_area').each((i,el)=>{ if (i > 1) $(el).remove(); });</script>"
      ]
     },
     "metadata": {},
     "output_type": "display_data"
    },
    {
     "data": {
      "text/html": [
       "<script type=\"text/javascript\">$('.the-bar.progress .progress-bar')\n",
       "                .css('width','43.28%')\n",
       "                .prop('aria-valuenow',43.28)\n",
       "                .text('43.28%');</script>"
      ]
     },
     "metadata": {},
     "output_type": "display_data"
    },
    {
     "data": {
      "text/html": [
       "<script type=\"text/javascript\">$('.code-d011f4ab-8621-4573-a79e-22effcef33df').closest('.output').find('.output_area').each((i,el)=>{ if (i > 1) $(el).remove(); });</script>"
      ]
     },
     "metadata": {},
     "output_type": "display_data"
    },
    {
     "data": {
      "text/html": [
       "<script type=\"text/javascript\">$('.the-bar.progress .progress-bar')\n",
       "                .css('width','43.57%')\n",
       "                .prop('aria-valuenow',43.57)\n",
       "                .text('43.57%');</script>"
      ]
     },
     "metadata": {},
     "output_type": "display_data"
    },
    {
     "data": {
      "text/html": [
       "<script type=\"text/javascript\">$('.code-d011f4ab-8621-4573-a79e-22effcef33df').closest('.output').find('.output_area').each((i,el)=>{ if (i > 1) $(el).remove(); });</script>"
      ]
     },
     "metadata": {},
     "output_type": "display_data"
    },
    {
     "data": {
      "text/html": [
       "<script type=\"text/javascript\">$('.the-bar.progress .progress-bar')\n",
       "                .css('width','43.87%')\n",
       "                .prop('aria-valuenow',43.87)\n",
       "                .text('43.87%');</script>"
      ]
     },
     "metadata": {},
     "output_type": "display_data"
    },
    {
     "data": {
      "text/html": [
       "<script type=\"text/javascript\">$('.code-d011f4ab-8621-4573-a79e-22effcef33df').closest('.output').find('.output_area').each((i,el)=>{ if (i > 1) $(el).remove(); });</script>"
      ]
     },
     "metadata": {},
     "output_type": "display_data"
    },
    {
     "data": {
      "text/html": [
       "<script type=\"text/javascript\">$('.the-bar.progress .progress-bar')\n",
       "                .css('width','44.16%')\n",
       "                .prop('aria-valuenow',44.16)\n",
       "                .text('44.16%');</script>"
      ]
     },
     "metadata": {},
     "output_type": "display_data"
    },
    {
     "data": {
      "text/html": [
       "<script type=\"text/javascript\">$('.code-d011f4ab-8621-4573-a79e-22effcef33df').closest('.output').find('.output_area').each((i,el)=>{ if (i > 1) $(el).remove(); });</script>"
      ]
     },
     "metadata": {},
     "output_type": "display_data"
    },
    {
     "data": {
      "text/html": [
       "<script type=\"text/javascript\">$('.the-bar.progress .progress-bar')\n",
       "                .css('width','44.46%')\n",
       "                .prop('aria-valuenow',44.46)\n",
       "                .text('44.46%');</script>"
      ]
     },
     "metadata": {},
     "output_type": "display_data"
    },
    {
     "data": {
      "text/html": [
       "<script type=\"text/javascript\">$('.code-d011f4ab-8621-4573-a79e-22effcef33df').closest('.output').find('.output_area').each((i,el)=>{ if (i > 1) $(el).remove(); });</script>"
      ]
     },
     "metadata": {},
     "output_type": "display_data"
    },
    {
     "data": {
      "text/html": [
       "<script type=\"text/javascript\">$('.the-bar.progress .progress-bar')\n",
       "                .css('width','44.75%')\n",
       "                .prop('aria-valuenow',44.75)\n",
       "                .text('44.75%');</script>"
      ]
     },
     "metadata": {},
     "output_type": "display_data"
    },
    {
     "data": {
      "text/html": [
       "<script type=\"text/javascript\">$('.code-d011f4ab-8621-4573-a79e-22effcef33df').closest('.output').find('.output_area').each((i,el)=>{ if (i > 1) $(el).remove(); });</script>"
      ]
     },
     "metadata": {},
     "output_type": "display_data"
    },
    {
     "data": {
      "text/html": [
       "<script type=\"text/javascript\">$('.the-bar.progress .progress-bar')\n",
       "                .css('width','45.05%')\n",
       "                .prop('aria-valuenow',45.05)\n",
       "                .text('45.05%');</script>"
      ]
     },
     "metadata": {},
     "output_type": "display_data"
    },
    {
     "data": {
      "text/html": [
       "<script type=\"text/javascript\">$('.code-d011f4ab-8621-4573-a79e-22effcef33df').closest('.output').find('.output_area').each((i,el)=>{ if (i > 1) $(el).remove(); });</script>"
      ]
     },
     "metadata": {},
     "output_type": "display_data"
    },
    {
     "data": {
      "text/html": [
       "<script type=\"text/javascript\">$('.the-bar.progress .progress-bar')\n",
       "                .css('width','45.34%')\n",
       "                .prop('aria-valuenow',45.34)\n",
       "                .text('45.34%');</script>"
      ]
     },
     "metadata": {},
     "output_type": "display_data"
    },
    {
     "data": {
      "text/html": [
       "<script type=\"text/javascript\">$('.code-d011f4ab-8621-4573-a79e-22effcef33df').closest('.output').find('.output_area').each((i,el)=>{ if (i > 1) $(el).remove(); });</script>"
      ]
     },
     "metadata": {},
     "output_type": "display_data"
    },
    {
     "data": {
      "text/html": [
       "<script type=\"text/javascript\">$('.the-bar.progress .progress-bar')\n",
       "                .css('width','45.64%')\n",
       "                .prop('aria-valuenow',45.64)\n",
       "                .text('45.64%');</script>"
      ]
     },
     "metadata": {},
     "output_type": "display_data"
    },
    {
     "data": {
      "text/html": [
       "<script type=\"text/javascript\">$('.code-d011f4ab-8621-4573-a79e-22effcef33df').closest('.output').find('.output_area').each((i,el)=>{ if (i > 1) $(el).remove(); });</script>"
      ]
     },
     "metadata": {},
     "output_type": "display_data"
    },
    {
     "data": {
      "text/html": [
       "<script type=\"text/javascript\">$('.the-bar.progress .progress-bar')\n",
       "                .css('width','45.93%')\n",
       "                .prop('aria-valuenow',45.93)\n",
       "                .text('45.93%');</script>"
      ]
     },
     "metadata": {},
     "output_type": "display_data"
    },
    {
     "data": {
      "text/html": [
       "<script type=\"text/javascript\">$('.code-d011f4ab-8621-4573-a79e-22effcef33df').closest('.output').find('.output_area').each((i,el)=>{ if (i > 1) $(el).remove(); });</script>"
      ]
     },
     "metadata": {},
     "output_type": "display_data"
    },
    {
     "data": {
      "text/html": [
       "<script type=\"text/javascript\">$('.the-bar.progress .progress-bar')\n",
       "                .css('width','46.23%')\n",
       "                .prop('aria-valuenow',46.23)\n",
       "                .text('46.23%');</script>"
      ]
     },
     "metadata": {},
     "output_type": "display_data"
    },
    {
     "data": {
      "text/html": [
       "<script type=\"text/javascript\">$('.code-d011f4ab-8621-4573-a79e-22effcef33df').closest('.output').find('.output_area').each((i,el)=>{ if (i > 1) $(el).remove(); });</script>"
      ]
     },
     "metadata": {},
     "output_type": "display_data"
    },
    {
     "data": {
      "text/html": [
       "<script type=\"text/javascript\">$('.the-bar.progress .progress-bar')\n",
       "                .css('width','46.52%')\n",
       "                .prop('aria-valuenow',46.52)\n",
       "                .text('46.52%');</script>"
      ]
     },
     "metadata": {},
     "output_type": "display_data"
    },
    {
     "data": {
      "text/html": [
       "<script type=\"text/javascript\">$('.code-d011f4ab-8621-4573-a79e-22effcef33df').closest('.output').find('.output_area').each((i,el)=>{ if (i > 1) $(el).remove(); });</script>"
      ]
     },
     "metadata": {},
     "output_type": "display_data"
    },
    {
     "data": {
      "text/html": [
       "<script type=\"text/javascript\">$('.the-bar.progress .progress-bar')\n",
       "                .css('width','46.81%')\n",
       "                .prop('aria-valuenow',46.81)\n",
       "                .text('46.81%');</script>"
      ]
     },
     "metadata": {},
     "output_type": "display_data"
    },
    {
     "data": {
      "text/html": [
       "<script type=\"text/javascript\">$('.code-d011f4ab-8621-4573-a79e-22effcef33df').closest('.output').find('.output_area').each((i,el)=>{ if (i > 1) $(el).remove(); });</script>"
      ]
     },
     "metadata": {},
     "output_type": "display_data"
    },
    {
     "data": {
      "text/html": [
       "<script type=\"text/javascript\">$('.the-bar.progress .progress-bar')\n",
       "                .css('width','47.11%')\n",
       "                .prop('aria-valuenow',47.11)\n",
       "                .text('47.11%');</script>"
      ]
     },
     "metadata": {},
     "output_type": "display_data"
    },
    {
     "data": {
      "text/html": [
       "<script type=\"text/javascript\">$('.code-d011f4ab-8621-4573-a79e-22effcef33df').closest('.output').find('.output_area').each((i,el)=>{ if (i > 1) $(el).remove(); });</script>"
      ]
     },
     "metadata": {},
     "output_type": "display_data"
    },
    {
     "data": {
      "text/html": [
       "<script type=\"text/javascript\">$('.the-bar.progress .progress-bar')\n",
       "                .css('width','47.40%')\n",
       "                .prop('aria-valuenow',47.40)\n",
       "                .text('47.40%');</script>"
      ]
     },
     "metadata": {},
     "output_type": "display_data"
    },
    {
     "data": {
      "text/html": [
       "<script type=\"text/javascript\">$('.code-d011f4ab-8621-4573-a79e-22effcef33df').closest('.output').find('.output_area').each((i,el)=>{ if (i > 1) $(el).remove(); });</script>"
      ]
     },
     "metadata": {},
     "output_type": "display_data"
    },
    {
     "data": {
      "text/html": [
       "<script type=\"text/javascript\">$('.the-bar.progress .progress-bar')\n",
       "                .css('width','47.70%')\n",
       "                .prop('aria-valuenow',47.70)\n",
       "                .text('47.70%');</script>"
      ]
     },
     "metadata": {},
     "output_type": "display_data"
    },
    {
     "data": {
      "text/html": [
       "<script type=\"text/javascript\">$('.code-d011f4ab-8621-4573-a79e-22effcef33df').closest('.output').find('.output_area').each((i,el)=>{ if (i > 1) $(el).remove(); });</script>"
      ]
     },
     "metadata": {},
     "output_type": "display_data"
    },
    {
     "data": {
      "text/html": [
       "<script type=\"text/javascript\">$('.the-bar.progress .progress-bar')\n",
       "                .css('width','47.99%')\n",
       "                .prop('aria-valuenow',47.99)\n",
       "                .text('47.99%');</script>"
      ]
     },
     "metadata": {},
     "output_type": "display_data"
    },
    {
     "data": {
      "text/html": [
       "<script type=\"text/javascript\">$('.code-d011f4ab-8621-4573-a79e-22effcef33df').closest('.output').find('.output_area').each((i,el)=>{ if (i > 1) $(el).remove(); });</script>"
      ]
     },
     "metadata": {},
     "output_type": "display_data"
    },
    {
     "data": {
      "text/html": [
       "<script type=\"text/javascript\">$('.the-bar.progress .progress-bar')\n",
       "                .css('width','48.29%')\n",
       "                .prop('aria-valuenow',48.29)\n",
       "                .text('48.29%');</script>"
      ]
     },
     "metadata": {},
     "output_type": "display_data"
    },
    {
     "data": {
      "text/html": [
       "<script type=\"text/javascript\">$('.code-d011f4ab-8621-4573-a79e-22effcef33df').closest('.output').find('.output_area').each((i,el)=>{ if (i > 1) $(el).remove(); });</script>"
      ]
     },
     "metadata": {},
     "output_type": "display_data"
    },
    {
     "data": {
      "text/html": [
       "<script type=\"text/javascript\">$('.the-bar.progress .progress-bar')\n",
       "                .css('width','48.58%')\n",
       "                .prop('aria-valuenow',48.58)\n",
       "                .text('48.58%');</script>"
      ]
     },
     "metadata": {},
     "output_type": "display_data"
    },
    {
     "data": {
      "text/html": [
       "<script type=\"text/javascript\">$('.code-d011f4ab-8621-4573-a79e-22effcef33df').closest('.output').find('.output_area').each((i,el)=>{ if (i > 1) $(el).remove(); });</script>"
      ]
     },
     "metadata": {},
     "output_type": "display_data"
    },
    {
     "data": {
      "text/html": [
       "<script type=\"text/javascript\">$('.the-bar.progress .progress-bar')\n",
       "                .css('width','48.88%')\n",
       "                .prop('aria-valuenow',48.88)\n",
       "                .text('48.88%');</script>"
      ]
     },
     "metadata": {},
     "output_type": "display_data"
    },
    {
     "data": {
      "text/html": [
       "<script type=\"text/javascript\">$('.code-d011f4ab-8621-4573-a79e-22effcef33df').closest('.output').find('.output_area').each((i,el)=>{ if (i > 1) $(el).remove(); });</script>"
      ]
     },
     "metadata": {},
     "output_type": "display_data"
    },
    {
     "data": {
      "text/html": [
       "<script type=\"text/javascript\">$('.the-bar.progress .progress-bar')\n",
       "                .css('width','49.17%')\n",
       "                .prop('aria-valuenow',49.17)\n",
       "                .text('49.17%');</script>"
      ]
     },
     "metadata": {},
     "output_type": "display_data"
    },
    {
     "data": {
      "text/html": [
       "<script type=\"text/javascript\">$('.code-d011f4ab-8621-4573-a79e-22effcef33df').closest('.output').find('.output_area').each((i,el)=>{ if (i > 1) $(el).remove(); });</script>"
      ]
     },
     "metadata": {},
     "output_type": "display_data"
    },
    {
     "data": {
      "text/html": [
       "<script type=\"text/javascript\">$('.the-bar.progress .progress-bar')\n",
       "                .css('width','49.47%')\n",
       "                .prop('aria-valuenow',49.47)\n",
       "                .text('49.47%');</script>"
      ]
     },
     "metadata": {},
     "output_type": "display_data"
    },
    {
     "data": {
      "text/html": [
       "<script type=\"text/javascript\">$('.code-d011f4ab-8621-4573-a79e-22effcef33df').closest('.output').find('.output_area').each((i,el)=>{ if (i > 1) $(el).remove(); });</script>"
      ]
     },
     "metadata": {},
     "output_type": "display_data"
    },
    {
     "data": {
      "text/html": [
       "<script type=\"text/javascript\">$('.the-bar.progress .progress-bar')\n",
       "                .css('width','49.76%')\n",
       "                .prop('aria-valuenow',49.76)\n",
       "                .text('49.76%');</script>"
      ]
     },
     "metadata": {},
     "output_type": "display_data"
    },
    {
     "data": {
      "text/html": [
       "<script type=\"text/javascript\">$('.code-d011f4ab-8621-4573-a79e-22effcef33df').closest('.output').find('.output_area').each((i,el)=>{ if (i > 1) $(el).remove(); });</script>"
      ]
     },
     "metadata": {},
     "output_type": "display_data"
    },
    {
     "data": {
      "text/html": [
       "<script type=\"text/javascript\">$('.the-bar.progress .progress-bar')\n",
       "                .css('width','50.06%')\n",
       "                .prop('aria-valuenow',50.06)\n",
       "                .text('50.06%');</script>"
      ]
     },
     "metadata": {},
     "output_type": "display_data"
    },
    {
     "data": {
      "text/html": [
       "<script type=\"text/javascript\">$('.code-d011f4ab-8621-4573-a79e-22effcef33df').closest('.output').find('.output_area').each((i,el)=>{ if (i > 1) $(el).remove(); });</script>"
      ]
     },
     "metadata": {},
     "output_type": "display_data"
    },
    {
     "data": {
      "text/html": [
       "<script type=\"text/javascript\">$('.the-bar.progress .progress-bar')\n",
       "                .css('width','50.35%')\n",
       "                .prop('aria-valuenow',50.35)\n",
       "                .text('50.35%');</script>"
      ]
     },
     "metadata": {},
     "output_type": "display_data"
    },
    {
     "data": {
      "text/html": [
       "<script type=\"text/javascript\">$('.code-d011f4ab-8621-4573-a79e-22effcef33df').closest('.output').find('.output_area').each((i,el)=>{ if (i > 1) $(el).remove(); });</script>"
      ]
     },
     "metadata": {},
     "output_type": "display_data"
    },
    {
     "data": {
      "text/html": [
       "<script type=\"text/javascript\">$('.the-bar.progress .progress-bar')\n",
       "                .css('width','50.65%')\n",
       "                .prop('aria-valuenow',50.65)\n",
       "                .text('50.65%');</script>"
      ]
     },
     "metadata": {},
     "output_type": "display_data"
    },
    {
     "data": {
      "text/html": [
       "<script type=\"text/javascript\">$('.code-d011f4ab-8621-4573-a79e-22effcef33df').closest('.output').find('.output_area').each((i,el)=>{ if (i > 1) $(el).remove(); });</script>"
      ]
     },
     "metadata": {},
     "output_type": "display_data"
    },
    {
     "data": {
      "text/html": [
       "<script type=\"text/javascript\">$('.the-bar.progress .progress-bar')\n",
       "                .css('width','50.94%')\n",
       "                .prop('aria-valuenow',50.94)\n",
       "                .text('50.94%');</script>"
      ]
     },
     "metadata": {},
     "output_type": "display_data"
    },
    {
     "data": {
      "text/html": [
       "<script type=\"text/javascript\">$('.code-d011f4ab-8621-4573-a79e-22effcef33df').closest('.output').find('.output_area').each((i,el)=>{ if (i > 1) $(el).remove(); });</script>"
      ]
     },
     "metadata": {},
     "output_type": "display_data"
    },
    {
     "data": {
      "text/html": [
       "<script type=\"text/javascript\">$('.the-bar.progress .progress-bar')\n",
       "                .css('width','51.24%')\n",
       "                .prop('aria-valuenow',51.24)\n",
       "                .text('51.24%');</script>"
      ]
     },
     "metadata": {},
     "output_type": "display_data"
    },
    {
     "data": {
      "text/html": [
       "<script type=\"text/javascript\">$('.code-d011f4ab-8621-4573-a79e-22effcef33df').closest('.output').find('.output_area').each((i,el)=>{ if (i > 1) $(el).remove(); });</script>"
      ]
     },
     "metadata": {},
     "output_type": "display_data"
    },
    {
     "data": {
      "text/html": [
       "<script type=\"text/javascript\">$('.the-bar.progress .progress-bar')\n",
       "                .css('width','51.53%')\n",
       "                .prop('aria-valuenow',51.53)\n",
       "                .text('51.53%');</script>"
      ]
     },
     "metadata": {},
     "output_type": "display_data"
    },
    {
     "data": {
      "text/html": [
       "<script type=\"text/javascript\">$('.code-d011f4ab-8621-4573-a79e-22effcef33df').closest('.output').find('.output_area').each((i,el)=>{ if (i > 1) $(el).remove(); });</script>"
      ]
     },
     "metadata": {},
     "output_type": "display_data"
    },
    {
     "data": {
      "text/html": [
       "<script type=\"text/javascript\">$('.the-bar.progress .progress-bar')\n",
       "                .css('width','51.83%')\n",
       "                .prop('aria-valuenow',51.83)\n",
       "                .text('51.83%');</script>"
      ]
     },
     "metadata": {},
     "output_type": "display_data"
    },
    {
     "data": {
      "text/html": [
       "<script type=\"text/javascript\">$('.code-d011f4ab-8621-4573-a79e-22effcef33df').closest('.output').find('.output_area').each((i,el)=>{ if (i > 1) $(el).remove(); });</script>"
      ]
     },
     "metadata": {},
     "output_type": "display_data"
    },
    {
     "data": {
      "text/html": [
       "<script type=\"text/javascript\">$('.the-bar.progress .progress-bar')\n",
       "                .css('width','52.12%')\n",
       "                .prop('aria-valuenow',52.12)\n",
       "                .text('52.12%');</script>"
      ]
     },
     "metadata": {},
     "output_type": "display_data"
    },
    {
     "data": {
      "text/html": [
       "<script type=\"text/javascript\">$('.code-d011f4ab-8621-4573-a79e-22effcef33df').closest('.output').find('.output_area').each((i,el)=>{ if (i > 1) $(el).remove(); });</script>"
      ]
     },
     "metadata": {},
     "output_type": "display_data"
    },
    {
     "data": {
      "text/html": [
       "<script type=\"text/javascript\">$('.the-bar.progress .progress-bar')\n",
       "                .css('width','52.42%')\n",
       "                .prop('aria-valuenow',52.42)\n",
       "                .text('52.42%');</script>"
      ]
     },
     "metadata": {},
     "output_type": "display_data"
    },
    {
     "data": {
      "text/html": [
       "<script type=\"text/javascript\">$('.code-d011f4ab-8621-4573-a79e-22effcef33df').closest('.output').find('.output_area').each((i,el)=>{ if (i > 1) $(el).remove(); });</script>"
      ]
     },
     "metadata": {},
     "output_type": "display_data"
    },
    {
     "data": {
      "text/html": [
       "<script type=\"text/javascript\">$('.the-bar.progress .progress-bar')\n",
       "                .css('width','52.71%')\n",
       "                .prop('aria-valuenow',52.71)\n",
       "                .text('52.71%');</script>"
      ]
     },
     "metadata": {},
     "output_type": "display_data"
    },
    {
     "data": {
      "text/html": [
       "<script type=\"text/javascript\">$('.code-d011f4ab-8621-4573-a79e-22effcef33df').closest('.output').find('.output_area').each((i,el)=>{ if (i > 1) $(el).remove(); });</script>"
      ]
     },
     "metadata": {},
     "output_type": "display_data"
    },
    {
     "data": {
      "text/html": [
       "<script type=\"text/javascript\">$('.the-bar.progress .progress-bar')\n",
       "                .css('width','53.01%')\n",
       "                .prop('aria-valuenow',53.01)\n",
       "                .text('53.01%');</script>"
      ]
     },
     "metadata": {},
     "output_type": "display_data"
    },
    {
     "data": {
      "text/html": [
       "<script type=\"text/javascript\">$('.code-d011f4ab-8621-4573-a79e-22effcef33df').closest('.output').find('.output_area').each((i,el)=>{ if (i > 1) $(el).remove(); });</script>"
      ]
     },
     "metadata": {},
     "output_type": "display_data"
    },
    {
     "data": {
      "text/html": [
       "<script type=\"text/javascript\">$('.the-bar.progress .progress-bar')\n",
       "                .css('width','53.30%')\n",
       "                .prop('aria-valuenow',53.30)\n",
       "                .text('53.30%');</script>"
      ]
     },
     "metadata": {},
     "output_type": "display_data"
    },
    {
     "data": {
      "text/html": [
       "<script type=\"text/javascript\">$('.code-d011f4ab-8621-4573-a79e-22effcef33df').closest('.output').find('.output_area').each((i,el)=>{ if (i > 1) $(el).remove(); });</script>"
      ]
     },
     "metadata": {},
     "output_type": "display_data"
    },
    {
     "data": {
      "text/html": [
       "<script type=\"text/javascript\">$('.the-bar.progress .progress-bar')\n",
       "                .css('width','53.60%')\n",
       "                .prop('aria-valuenow',53.60)\n",
       "                .text('53.60%');</script>"
      ]
     },
     "metadata": {},
     "output_type": "display_data"
    },
    {
     "data": {
      "text/html": [
       "<script type=\"text/javascript\">$('.code-d011f4ab-8621-4573-a79e-22effcef33df').closest('.output').find('.output_area').each((i,el)=>{ if (i > 1) $(el).remove(); });</script>"
      ]
     },
     "metadata": {},
     "output_type": "display_data"
    },
    {
     "data": {
      "text/html": [
       "<script type=\"text/javascript\">$('.the-bar.progress .progress-bar')\n",
       "                .css('width','53.89%')\n",
       "                .prop('aria-valuenow',53.89)\n",
       "                .text('53.89%');</script>"
      ]
     },
     "metadata": {},
     "output_type": "display_data"
    },
    {
     "data": {
      "text/html": [
       "<script type=\"text/javascript\">$('.code-d011f4ab-8621-4573-a79e-22effcef33df').closest('.output').find('.output_area').each((i,el)=>{ if (i > 1) $(el).remove(); });</script>"
      ]
     },
     "metadata": {},
     "output_type": "display_data"
    },
    {
     "data": {
      "text/html": [
       "<script type=\"text/javascript\">$('.the-bar.progress .progress-bar')\n",
       "                .css('width','54.18%')\n",
       "                .prop('aria-valuenow',54.18)\n",
       "                .text('54.18%');</script>"
      ]
     },
     "metadata": {},
     "output_type": "display_data"
    },
    {
     "data": {
      "text/html": [
       "<script type=\"text/javascript\">$('.code-d011f4ab-8621-4573-a79e-22effcef33df').closest('.output').find('.output_area').each((i,el)=>{ if (i > 1) $(el).remove(); });</script>"
      ]
     },
     "metadata": {},
     "output_type": "display_data"
    },
    {
     "data": {
      "text/html": [
       "<script type=\"text/javascript\">$('.the-bar.progress .progress-bar')\n",
       "                .css('width','54.48%')\n",
       "                .prop('aria-valuenow',54.48)\n",
       "                .text('54.48%');</script>"
      ]
     },
     "metadata": {},
     "output_type": "display_data"
    },
    {
     "data": {
      "text/html": [
       "<script type=\"text/javascript\">$('.code-d011f4ab-8621-4573-a79e-22effcef33df').closest('.output').find('.output_area').each((i,el)=>{ if (i > 1) $(el).remove(); });</script>"
      ]
     },
     "metadata": {},
     "output_type": "display_data"
    },
    {
     "data": {
      "text/html": [
       "<script type=\"text/javascript\">$('.the-bar.progress .progress-bar')\n",
       "                .css('width','54.77%')\n",
       "                .prop('aria-valuenow',54.77)\n",
       "                .text('54.77%');</script>"
      ]
     },
     "metadata": {},
     "output_type": "display_data"
    },
    {
     "data": {
      "text/html": [
       "<script type=\"text/javascript\">$('.code-d011f4ab-8621-4573-a79e-22effcef33df').closest('.output').find('.output_area').each((i,el)=>{ if (i > 1) $(el).remove(); });</script>"
      ]
     },
     "metadata": {},
     "output_type": "display_data"
    },
    {
     "data": {
      "text/html": [
       "<script type=\"text/javascript\">$('.the-bar.progress .progress-bar')\n",
       "                .css('width','55.07%')\n",
       "                .prop('aria-valuenow',55.07)\n",
       "                .text('55.07%');</script>"
      ]
     },
     "metadata": {},
     "output_type": "display_data"
    },
    {
     "data": {
      "text/html": [
       "<script type=\"text/javascript\">$('.code-d011f4ab-8621-4573-a79e-22effcef33df').closest('.output').find('.output_area').each((i,el)=>{ if (i > 1) $(el).remove(); });</script>"
      ]
     },
     "metadata": {},
     "output_type": "display_data"
    },
    {
     "data": {
      "text/html": [
       "<script type=\"text/javascript\">$('.the-bar.progress .progress-bar')\n",
       "                .css('width','55.36%')\n",
       "                .prop('aria-valuenow',55.36)\n",
       "                .text('55.36%');</script>"
      ]
     },
     "metadata": {},
     "output_type": "display_data"
    },
    {
     "data": {
      "text/html": [
       "<script type=\"text/javascript\">$('.code-d011f4ab-8621-4573-a79e-22effcef33df').closest('.output').find('.output_area').each((i,el)=>{ if (i > 1) $(el).remove(); });</script>"
      ]
     },
     "metadata": {},
     "output_type": "display_data"
    },
    {
     "data": {
      "text/html": [
       "<script type=\"text/javascript\">$('.the-bar.progress .progress-bar')\n",
       "                .css('width','55.66%')\n",
       "                .prop('aria-valuenow',55.66)\n",
       "                .text('55.66%');</script>"
      ]
     },
     "metadata": {},
     "output_type": "display_data"
    },
    {
     "data": {
      "text/html": [
       "<script type=\"text/javascript\">$('.code-d011f4ab-8621-4573-a79e-22effcef33df').closest('.output').find('.output_area').each((i,el)=>{ if (i > 1) $(el).remove(); });</script>"
      ]
     },
     "metadata": {},
     "output_type": "display_data"
    },
    {
     "data": {
      "text/html": [
       "<script type=\"text/javascript\">$('.the-bar.progress .progress-bar')\n",
       "                .css('width','55.95%')\n",
       "                .prop('aria-valuenow',55.95)\n",
       "                .text('55.95%');</script>"
      ]
     },
     "metadata": {},
     "output_type": "display_data"
    },
    {
     "data": {
      "text/html": [
       "<script type=\"text/javascript\">$('.code-d011f4ab-8621-4573-a79e-22effcef33df').closest('.output').find('.output_area').each((i,el)=>{ if (i > 1) $(el).remove(); });</script>"
      ]
     },
     "metadata": {},
     "output_type": "display_data"
    },
    {
     "data": {
      "text/html": [
       "<script type=\"text/javascript\">$('.the-bar.progress .progress-bar')\n",
       "                .css('width','56.25%')\n",
       "                .prop('aria-valuenow',56.25)\n",
       "                .text('56.25%');</script>"
      ]
     },
     "metadata": {},
     "output_type": "display_data"
    },
    {
     "data": {
      "text/html": [
       "<script type=\"text/javascript\">$('.code-d011f4ab-8621-4573-a79e-22effcef33df').closest('.output').find('.output_area').each((i,el)=>{ if (i > 1) $(el).remove(); });</script>"
      ]
     },
     "metadata": {},
     "output_type": "display_data"
    },
    {
     "data": {
      "text/html": [
       "<script type=\"text/javascript\">$('.the-bar.progress .progress-bar')\n",
       "                .css('width','56.54%')\n",
       "                .prop('aria-valuenow',56.54)\n",
       "                .text('56.54%');</script>"
      ]
     },
     "metadata": {},
     "output_type": "display_data"
    },
    {
     "data": {
      "text/html": [
       "<script type=\"text/javascript\">$('.code-d011f4ab-8621-4573-a79e-22effcef33df').closest('.output').find('.output_area').each((i,el)=>{ if (i > 1) $(el).remove(); });</script>"
      ]
     },
     "metadata": {},
     "output_type": "display_data"
    },
    {
     "data": {
      "text/html": [
       "<script type=\"text/javascript\">$('.the-bar.progress .progress-bar')\n",
       "                .css('width','56.84%')\n",
       "                .prop('aria-valuenow',56.84)\n",
       "                .text('56.84%');</script>"
      ]
     },
     "metadata": {},
     "output_type": "display_data"
    },
    {
     "data": {
      "text/html": [
       "<script type=\"text/javascript\">$('.code-d011f4ab-8621-4573-a79e-22effcef33df').closest('.output').find('.output_area').each((i,el)=>{ if (i > 1) $(el).remove(); });</script>"
      ]
     },
     "metadata": {},
     "output_type": "display_data"
    },
    {
     "data": {
      "text/html": [
       "<script type=\"text/javascript\">$('.the-bar.progress .progress-bar')\n",
       "                .css('width','57.13%')\n",
       "                .prop('aria-valuenow',57.13)\n",
       "                .text('57.13%');</script>"
      ]
     },
     "metadata": {},
     "output_type": "display_data"
    },
    {
     "data": {
      "text/html": [
       "<script type=\"text/javascript\">$('.code-d011f4ab-8621-4573-a79e-22effcef33df').closest('.output').find('.output_area').each((i,el)=>{ if (i > 1) $(el).remove(); });</script>"
      ]
     },
     "metadata": {},
     "output_type": "display_data"
    },
    {
     "data": {
      "text/html": [
       "<script type=\"text/javascript\">$('.the-bar.progress .progress-bar')\n",
       "                .css('width','57.43%')\n",
       "                .prop('aria-valuenow',57.43)\n",
       "                .text('57.43%');</script>"
      ]
     },
     "metadata": {},
     "output_type": "display_data"
    },
    {
     "data": {
      "text/html": [
       "<script type=\"text/javascript\">$('.code-d011f4ab-8621-4573-a79e-22effcef33df').closest('.output').find('.output_area').each((i,el)=>{ if (i > 1) $(el).remove(); });</script>"
      ]
     },
     "metadata": {},
     "output_type": "display_data"
    },
    {
     "data": {
      "text/html": [
       "<script type=\"text/javascript\">$('.the-bar.progress .progress-bar')\n",
       "                .css('width','57.72%')\n",
       "                .prop('aria-valuenow',57.72)\n",
       "                .text('57.72%');</script>"
      ]
     },
     "metadata": {},
     "output_type": "display_data"
    },
    {
     "data": {
      "text/html": [
       "<script type=\"text/javascript\">$('.code-d011f4ab-8621-4573-a79e-22effcef33df').closest('.output').find('.output_area').each((i,el)=>{ if (i > 1) $(el).remove(); });</script>"
      ]
     },
     "metadata": {},
     "output_type": "display_data"
    },
    {
     "data": {
      "text/html": [
       "<script type=\"text/javascript\">$('.the-bar.progress .progress-bar')\n",
       "                .css('width','58.02%')\n",
       "                .prop('aria-valuenow',58.02)\n",
       "                .text('58.02%');</script>"
      ]
     },
     "metadata": {},
     "output_type": "display_data"
    },
    {
     "data": {
      "text/html": [
       "<script type=\"text/javascript\">$('.code-d011f4ab-8621-4573-a79e-22effcef33df').closest('.output').find('.output_area').each((i,el)=>{ if (i > 1) $(el).remove(); });</script>"
      ]
     },
     "metadata": {},
     "output_type": "display_data"
    },
    {
     "data": {
      "text/html": [
       "<script type=\"text/javascript\">$('.the-bar.progress .progress-bar')\n",
       "                .css('width','58.31%')\n",
       "                .prop('aria-valuenow',58.31)\n",
       "                .text('58.31%');</script>"
      ]
     },
     "metadata": {},
     "output_type": "display_data"
    },
    {
     "data": {
      "text/html": [
       "<script type=\"text/javascript\">$('.code-d011f4ab-8621-4573-a79e-22effcef33df').closest('.output').find('.output_area').each((i,el)=>{ if (i > 1) $(el).remove(); });</script>"
      ]
     },
     "metadata": {},
     "output_type": "display_data"
    },
    {
     "data": {
      "text/html": [
       "<script type=\"text/javascript\">$('.the-bar.progress .progress-bar')\n",
       "                .css('width','58.61%')\n",
       "                .prop('aria-valuenow',58.61)\n",
       "                .text('58.61%');</script>"
      ]
     },
     "metadata": {},
     "output_type": "display_data"
    },
    {
     "data": {
      "text/html": [
       "<script type=\"text/javascript\">$('.code-d011f4ab-8621-4573-a79e-22effcef33df').closest('.output').find('.output_area').each((i,el)=>{ if (i > 1) $(el).remove(); });</script>"
      ]
     },
     "metadata": {},
     "output_type": "display_data"
    },
    {
     "data": {
      "text/html": [
       "<script type=\"text/javascript\">$('.the-bar.progress .progress-bar')\n",
       "                .css('width','58.90%')\n",
       "                .prop('aria-valuenow',58.90)\n",
       "                .text('58.90%');</script>"
      ]
     },
     "metadata": {},
     "output_type": "display_data"
    },
    {
     "data": {
      "text/html": [
       "<script type=\"text/javascript\">$('.code-d011f4ab-8621-4573-a79e-22effcef33df').closest('.output').find('.output_area').each((i,el)=>{ if (i > 1) $(el).remove(); });</script>"
      ]
     },
     "metadata": {},
     "output_type": "display_data"
    },
    {
     "data": {
      "text/html": [
       "<script type=\"text/javascript\">$('.the-bar.progress .progress-bar')\n",
       "                .css('width','59.20%')\n",
       "                .prop('aria-valuenow',59.20)\n",
       "                .text('59.20%');</script>"
      ]
     },
     "metadata": {},
     "output_type": "display_data"
    },
    {
     "data": {
      "text/html": [
       "<script type=\"text/javascript\">$('.code-d011f4ab-8621-4573-a79e-22effcef33df').closest('.output').find('.output_area').each((i,el)=>{ if (i > 1) $(el).remove(); });</script>"
      ]
     },
     "metadata": {},
     "output_type": "display_data"
    },
    {
     "data": {
      "text/html": [
       "<script type=\"text/javascript\">$('.the-bar.progress .progress-bar')\n",
       "                .css('width','59.49%')\n",
       "                .prop('aria-valuenow',59.49)\n",
       "                .text('59.49%');</script>"
      ]
     },
     "metadata": {},
     "output_type": "display_data"
    },
    {
     "data": {
      "text/html": [
       "<script type=\"text/javascript\">$('.code-d011f4ab-8621-4573-a79e-22effcef33df').closest('.output').find('.output_area').each((i,el)=>{ if (i > 1) $(el).remove(); });</script>"
      ]
     },
     "metadata": {},
     "output_type": "display_data"
    },
    {
     "data": {
      "text/html": [
       "<script type=\"text/javascript\">$('.the-bar.progress .progress-bar')\n",
       "                .css('width','59.79%')\n",
       "                .prop('aria-valuenow',59.79)\n",
       "                .text('59.79%');</script>"
      ]
     },
     "metadata": {},
     "output_type": "display_data"
    },
    {
     "data": {
      "text/html": [
       "<script type=\"text/javascript\">$('.code-d011f4ab-8621-4573-a79e-22effcef33df').closest('.output').find('.output_area').each((i,el)=>{ if (i > 1) $(el).remove(); });</script>"
      ]
     },
     "metadata": {},
     "output_type": "display_data"
    },
    {
     "data": {
      "text/html": [
       "<script type=\"text/javascript\">$('.the-bar.progress .progress-bar')\n",
       "                .css('width','60.08%')\n",
       "                .prop('aria-valuenow',60.08)\n",
       "                .text('60.08%');</script>"
      ]
     },
     "metadata": {},
     "output_type": "display_data"
    },
    {
     "data": {
      "text/html": [
       "<script type=\"text/javascript\">$('.code-d011f4ab-8621-4573-a79e-22effcef33df').closest('.output').find('.output_area').each((i,el)=>{ if (i > 1) $(el).remove(); });</script>"
      ]
     },
     "metadata": {},
     "output_type": "display_data"
    },
    {
     "data": {
      "text/html": [
       "<script type=\"text/javascript\">$('.the-bar.progress .progress-bar')\n",
       "                .css('width','60.38%')\n",
       "                .prop('aria-valuenow',60.38)\n",
       "                .text('60.38%');</script>"
      ]
     },
     "metadata": {},
     "output_type": "display_data"
    },
    {
     "data": {
      "text/html": [
       "<script type=\"text/javascript\">$('.code-d011f4ab-8621-4573-a79e-22effcef33df').closest('.output').find('.output_area').each((i,el)=>{ if (i > 1) $(el).remove(); });</script>"
      ]
     },
     "metadata": {},
     "output_type": "display_data"
    },
    {
     "data": {
      "text/html": [
       "<script type=\"text/javascript\">$('.the-bar.progress .progress-bar')\n",
       "                .css('width','60.67%')\n",
       "                .prop('aria-valuenow',60.67)\n",
       "                .text('60.67%');</script>"
      ]
     },
     "metadata": {},
     "output_type": "display_data"
    },
    {
     "data": {
      "text/html": [
       "<script type=\"text/javascript\">$('.code-d011f4ab-8621-4573-a79e-22effcef33df').closest('.output').find('.output_area').each((i,el)=>{ if (i > 1) $(el).remove(); });</script>"
      ]
     },
     "metadata": {},
     "output_type": "display_data"
    },
    {
     "data": {
      "text/html": [
       "<script type=\"text/javascript\">$('.the-bar.progress .progress-bar')\n",
       "                .css('width','60.96%')\n",
       "                .prop('aria-valuenow',60.96)\n",
       "                .text('60.96%');</script>"
      ]
     },
     "metadata": {},
     "output_type": "display_data"
    },
    {
     "data": {
      "text/html": [
       "<script type=\"text/javascript\">$('.code-d011f4ab-8621-4573-a79e-22effcef33df').closest('.output').find('.output_area').each((i,el)=>{ if (i > 1) $(el).remove(); });</script>"
      ]
     },
     "metadata": {},
     "output_type": "display_data"
    },
    {
     "data": {
      "text/html": [
       "<script type=\"text/javascript\">$('.the-bar.progress .progress-bar')\n",
       "                .css('width','61.26%')\n",
       "                .prop('aria-valuenow',61.26)\n",
       "                .text('61.26%');</script>"
      ]
     },
     "metadata": {},
     "output_type": "display_data"
    },
    {
     "data": {
      "text/html": [
       "<script type=\"text/javascript\">$('.code-d011f4ab-8621-4573-a79e-22effcef33df').closest('.output').find('.output_area').each((i,el)=>{ if (i > 1) $(el).remove(); });</script>"
      ]
     },
     "metadata": {},
     "output_type": "display_data"
    },
    {
     "data": {
      "text/html": [
       "<script type=\"text/javascript\">$('.the-bar.progress .progress-bar')\n",
       "                .css('width','61.55%')\n",
       "                .prop('aria-valuenow',61.55)\n",
       "                .text('61.55%');</script>"
      ]
     },
     "metadata": {},
     "output_type": "display_data"
    },
    {
     "data": {
      "text/html": [
       "<script type=\"text/javascript\">$('.code-d011f4ab-8621-4573-a79e-22effcef33df').closest('.output').find('.output_area').each((i,el)=>{ if (i > 1) $(el).remove(); });</script>"
      ]
     },
     "metadata": {},
     "output_type": "display_data"
    },
    {
     "data": {
      "text/html": [
       "<script type=\"text/javascript\">$('.the-bar.progress .progress-bar')\n",
       "                .css('width','61.85%')\n",
       "                .prop('aria-valuenow',61.85)\n",
       "                .text('61.85%');</script>"
      ]
     },
     "metadata": {},
     "output_type": "display_data"
    },
    {
     "data": {
      "text/html": [
       "<script type=\"text/javascript\">$('.code-d011f4ab-8621-4573-a79e-22effcef33df').closest('.output').find('.output_area').each((i,el)=>{ if (i > 1) $(el).remove(); });</script>"
      ]
     },
     "metadata": {},
     "output_type": "display_data"
    },
    {
     "data": {
      "text/html": [
       "<script type=\"text/javascript\">$('.the-bar.progress .progress-bar')\n",
       "                .css('width','62.14%')\n",
       "                .prop('aria-valuenow',62.14)\n",
       "                .text('62.14%');</script>"
      ]
     },
     "metadata": {},
     "output_type": "display_data"
    },
    {
     "data": {
      "text/html": [
       "<script type=\"text/javascript\">$('.code-d011f4ab-8621-4573-a79e-22effcef33df').closest('.output').find('.output_area').each((i,el)=>{ if (i > 1) $(el).remove(); });</script>"
      ]
     },
     "metadata": {},
     "output_type": "display_data"
    },
    {
     "data": {
      "text/html": [
       "<script type=\"text/javascript\">$('.the-bar.progress .progress-bar')\n",
       "                .css('width','62.44%')\n",
       "                .prop('aria-valuenow',62.44)\n",
       "                .text('62.44%');</script>"
      ]
     },
     "metadata": {},
     "output_type": "display_data"
    },
    {
     "data": {
      "text/html": [
       "<script type=\"text/javascript\">$('.code-d011f4ab-8621-4573-a79e-22effcef33df').closest('.output').find('.output_area').each((i,el)=>{ if (i > 1) $(el).remove(); });</script>"
      ]
     },
     "metadata": {},
     "output_type": "display_data"
    },
    {
     "data": {
      "text/html": [
       "<script type=\"text/javascript\">$('.the-bar.progress .progress-bar')\n",
       "                .css('width','62.73%')\n",
       "                .prop('aria-valuenow',62.73)\n",
       "                .text('62.73%');</script>"
      ]
     },
     "metadata": {},
     "output_type": "display_data"
    },
    {
     "data": {
      "text/html": [
       "<script type=\"text/javascript\">$('.code-d011f4ab-8621-4573-a79e-22effcef33df').closest('.output').find('.output_area').each((i,el)=>{ if (i > 1) $(el).remove(); });</script>"
      ]
     },
     "metadata": {},
     "output_type": "display_data"
    },
    {
     "data": {
      "text/html": [
       "<script type=\"text/javascript\">$('.the-bar.progress .progress-bar')\n",
       "                .css('width','63.03%')\n",
       "                .prop('aria-valuenow',63.03)\n",
       "                .text('63.03%');</script>"
      ]
     },
     "metadata": {},
     "output_type": "display_data"
    },
    {
     "data": {
      "text/html": [
       "<script type=\"text/javascript\">$('.code-d011f4ab-8621-4573-a79e-22effcef33df').closest('.output').find('.output_area').each((i,el)=>{ if (i > 1) $(el).remove(); });</script>"
      ]
     },
     "metadata": {},
     "output_type": "display_data"
    },
    {
     "data": {
      "text/html": [
       "<script type=\"text/javascript\">$('.the-bar.progress .progress-bar')\n",
       "                .css('width','63.32%')\n",
       "                .prop('aria-valuenow',63.32)\n",
       "                .text('63.32%');</script>"
      ]
     },
     "metadata": {},
     "output_type": "display_data"
    },
    {
     "data": {
      "text/html": [
       "<script type=\"text/javascript\">$('.code-d011f4ab-8621-4573-a79e-22effcef33df').closest('.output').find('.output_area').each((i,el)=>{ if (i > 1) $(el).remove(); });</script>"
      ]
     },
     "metadata": {},
     "output_type": "display_data"
    },
    {
     "data": {
      "text/html": [
       "<script type=\"text/javascript\">$('.the-bar.progress .progress-bar')\n",
       "                .css('width','63.62%')\n",
       "                .prop('aria-valuenow',63.62)\n",
       "                .text('63.62%');</script>"
      ]
     },
     "metadata": {},
     "output_type": "display_data"
    },
    {
     "data": {
      "text/html": [
       "<script type=\"text/javascript\">$('.code-d011f4ab-8621-4573-a79e-22effcef33df').closest('.output').find('.output_area').each((i,el)=>{ if (i > 1) $(el).remove(); });</script>"
      ]
     },
     "metadata": {},
     "output_type": "display_data"
    },
    {
     "data": {
      "text/html": [
       "<script type=\"text/javascript\">$('.the-bar.progress .progress-bar')\n",
       "                .css('width','63.91%')\n",
       "                .prop('aria-valuenow',63.91)\n",
       "                .text('63.91%');</script>"
      ]
     },
     "metadata": {},
     "output_type": "display_data"
    },
    {
     "data": {
      "text/html": [
       "<script type=\"text/javascript\">$('.code-d011f4ab-8621-4573-a79e-22effcef33df').closest('.output').find('.output_area').each((i,el)=>{ if (i > 1) $(el).remove(); });</script>"
      ]
     },
     "metadata": {},
     "output_type": "display_data"
    },
    {
     "data": {
      "text/html": [
       "<script type=\"text/javascript\">$('.the-bar.progress .progress-bar')\n",
       "                .css('width','64.21%')\n",
       "                .prop('aria-valuenow',64.21)\n",
       "                .text('64.21%');</script>"
      ]
     },
     "metadata": {},
     "output_type": "display_data"
    },
    {
     "data": {
      "text/html": [
       "<script type=\"text/javascript\">$('.code-d011f4ab-8621-4573-a79e-22effcef33df').closest('.output').find('.output_area').each((i,el)=>{ if (i > 1) $(el).remove(); });</script>"
      ]
     },
     "metadata": {},
     "output_type": "display_data"
    },
    {
     "data": {
      "text/html": [
       "<script type=\"text/javascript\">$('.the-bar.progress .progress-bar')\n",
       "                .css('width','64.50%')\n",
       "                .prop('aria-valuenow',64.50)\n",
       "                .text('64.50%');</script>"
      ]
     },
     "metadata": {},
     "output_type": "display_data"
    },
    {
     "data": {
      "text/html": [
       "<script type=\"text/javascript\">$('.code-d011f4ab-8621-4573-a79e-22effcef33df').closest('.output').find('.output_area').each((i,el)=>{ if (i > 1) $(el).remove(); });</script>"
      ]
     },
     "metadata": {},
     "output_type": "display_data"
    },
    {
     "data": {
      "text/html": [
       "<script type=\"text/javascript\">$('.the-bar.progress .progress-bar')\n",
       "                .css('width','64.80%')\n",
       "                .prop('aria-valuenow',64.80)\n",
       "                .text('64.80%');</script>"
      ]
     },
     "metadata": {},
     "output_type": "display_data"
    },
    {
     "data": {
      "text/html": [
       "<script type=\"text/javascript\">$('.code-d011f4ab-8621-4573-a79e-22effcef33df').closest('.output').find('.output_area').each((i,el)=>{ if (i > 1) $(el).remove(); });</script>"
      ]
     },
     "metadata": {},
     "output_type": "display_data"
    },
    {
     "data": {
      "text/html": [
       "<script type=\"text/javascript\">$('.the-bar.progress .progress-bar')\n",
       "                .css('width','65.09%')\n",
       "                .prop('aria-valuenow',65.09)\n",
       "                .text('65.09%');</script>"
      ]
     },
     "metadata": {},
     "output_type": "display_data"
    },
    {
     "data": {
      "text/html": [
       "<script type=\"text/javascript\">$('.code-d011f4ab-8621-4573-a79e-22effcef33df').closest('.output').find('.output_area').each((i,el)=>{ if (i > 1) $(el).remove(); });</script>"
      ]
     },
     "metadata": {},
     "output_type": "display_data"
    },
    {
     "data": {
      "text/html": [
       "<script type=\"text/javascript\">$('.the-bar.progress .progress-bar')\n",
       "                .css('width','65.39%')\n",
       "                .prop('aria-valuenow',65.39)\n",
       "                .text('65.39%');</script>"
      ]
     },
     "metadata": {},
     "output_type": "display_data"
    },
    {
     "data": {
      "text/html": [
       "<script type=\"text/javascript\">$('.code-d011f4ab-8621-4573-a79e-22effcef33df').closest('.output').find('.output_area').each((i,el)=>{ if (i > 1) $(el).remove(); });</script>"
      ]
     },
     "metadata": {},
     "output_type": "display_data"
    },
    {
     "data": {
      "text/html": [
       "<script type=\"text/javascript\">$('.the-bar.progress .progress-bar')\n",
       "                .css('width','65.68%')\n",
       "                .prop('aria-valuenow',65.68)\n",
       "                .text('65.68%');</script>"
      ]
     },
     "metadata": {},
     "output_type": "display_data"
    },
    {
     "data": {
      "text/html": [
       "<script type=\"text/javascript\">$('.code-d011f4ab-8621-4573-a79e-22effcef33df').closest('.output').find('.output_area').each((i,el)=>{ if (i > 1) $(el).remove(); });</script>"
      ]
     },
     "metadata": {},
     "output_type": "display_data"
    },
    {
     "data": {
      "text/html": [
       "<script type=\"text/javascript\">$('.the-bar.progress .progress-bar')\n",
       "                .css('width','65.98%')\n",
       "                .prop('aria-valuenow',65.98)\n",
       "                .text('65.98%');</script>"
      ]
     },
     "metadata": {},
     "output_type": "display_data"
    },
    {
     "data": {
      "text/html": [
       "<script type=\"text/javascript\">$('.code-d011f4ab-8621-4573-a79e-22effcef33df').closest('.output').find('.output_area').each((i,el)=>{ if (i > 1) $(el).remove(); });</script>"
      ]
     },
     "metadata": {},
     "output_type": "display_data"
    },
    {
     "data": {
      "text/html": [
       "<script type=\"text/javascript\">$('.the-bar.progress .progress-bar')\n",
       "                .css('width','66.27%')\n",
       "                .prop('aria-valuenow',66.27)\n",
       "                .text('66.27%');</script>"
      ]
     },
     "metadata": {},
     "output_type": "display_data"
    },
    {
     "data": {
      "text/html": [
       "<script type=\"text/javascript\">$('.code-d011f4ab-8621-4573-a79e-22effcef33df').closest('.output').find('.output_area').each((i,el)=>{ if (i > 1) $(el).remove(); });</script>"
      ]
     },
     "metadata": {},
     "output_type": "display_data"
    },
    {
     "data": {
      "text/html": [
       "<script type=\"text/javascript\">$('.the-bar.progress .progress-bar')\n",
       "                .css('width','66.57%')\n",
       "                .prop('aria-valuenow',66.57)\n",
       "                .text('66.57%');</script>"
      ]
     },
     "metadata": {},
     "output_type": "display_data"
    },
    {
     "data": {
      "text/html": [
       "<script type=\"text/javascript\">$('.code-d011f4ab-8621-4573-a79e-22effcef33df').closest('.output').find('.output_area').each((i,el)=>{ if (i > 1) $(el).remove(); });</script>"
      ]
     },
     "metadata": {},
     "output_type": "display_data"
    },
    {
     "data": {
      "text/html": [
       "<script type=\"text/javascript\">$('.the-bar.progress .progress-bar')\n",
       "                .css('width','66.86%')\n",
       "                .prop('aria-valuenow',66.86)\n",
       "                .text('66.86%');</script>"
      ]
     },
     "metadata": {},
     "output_type": "display_data"
    },
    {
     "data": {
      "text/html": [
       "<script type=\"text/javascript\">$('.code-d011f4ab-8621-4573-a79e-22effcef33df').closest('.output').find('.output_area').each((i,el)=>{ if (i > 1) $(el).remove(); });</script>"
      ]
     },
     "metadata": {},
     "output_type": "display_data"
    },
    {
     "data": {
      "text/html": [
       "<script type=\"text/javascript\">$('.the-bar.progress .progress-bar')\n",
       "                .css('width','67.16%')\n",
       "                .prop('aria-valuenow',67.16)\n",
       "                .text('67.16%');</script>"
      ]
     },
     "metadata": {},
     "output_type": "display_data"
    },
    {
     "data": {
      "text/html": [
       "<script type=\"text/javascript\">$('.code-d011f4ab-8621-4573-a79e-22effcef33df').closest('.output').find('.output_area').each((i,el)=>{ if (i > 1) $(el).remove(); });</script>"
      ]
     },
     "metadata": {},
     "output_type": "display_data"
    },
    {
     "data": {
      "text/html": [
       "<script type=\"text/javascript\">$('.the-bar.progress .progress-bar')\n",
       "                .css('width','67.45%')\n",
       "                .prop('aria-valuenow',67.45)\n",
       "                .text('67.45%');</script>"
      ]
     },
     "metadata": {},
     "output_type": "display_data"
    },
    {
     "data": {
      "text/html": [
       "<script type=\"text/javascript\">$('.code-d011f4ab-8621-4573-a79e-22effcef33df').closest('.output').find('.output_area').each((i,el)=>{ if (i > 1) $(el).remove(); });</script>"
      ]
     },
     "metadata": {},
     "output_type": "display_data"
    },
    {
     "data": {
      "text/html": [
       "<script type=\"text/javascript\">$('.the-bar.progress .progress-bar')\n",
       "                .css('width','67.75%')\n",
       "                .prop('aria-valuenow',67.75)\n",
       "                .text('67.75%');</script>"
      ]
     },
     "metadata": {},
     "output_type": "display_data"
    },
    {
     "data": {
      "text/html": [
       "<script type=\"text/javascript\">$('.code-d011f4ab-8621-4573-a79e-22effcef33df').closest('.output').find('.output_area').each((i,el)=>{ if (i > 1) $(el).remove(); });</script>"
      ]
     },
     "metadata": {},
     "output_type": "display_data"
    },
    {
     "data": {
      "text/html": [
       "<script type=\"text/javascript\">$('.the-bar.progress .progress-bar')\n",
       "                .css('width','68.04%')\n",
       "                .prop('aria-valuenow',68.04)\n",
       "                .text('68.04%');</script>"
      ]
     },
     "metadata": {},
     "output_type": "display_data"
    },
    {
     "data": {
      "text/html": [
       "<script type=\"text/javascript\">$('.code-d011f4ab-8621-4573-a79e-22effcef33df').closest('.output').find('.output_area').each((i,el)=>{ if (i > 1) $(el).remove(); });</script>"
      ]
     },
     "metadata": {},
     "output_type": "display_data"
    },
    {
     "data": {
      "text/html": [
       "<script type=\"text/javascript\">$('.the-bar.progress .progress-bar')\n",
       "                .css('width','68.33%')\n",
       "                .prop('aria-valuenow',68.33)\n",
       "                .text('68.33%');</script>"
      ]
     },
     "metadata": {},
     "output_type": "display_data"
    },
    {
     "data": {
      "text/html": [
       "<script type=\"text/javascript\">$('.code-d011f4ab-8621-4573-a79e-22effcef33df').closest('.output').find('.output_area').each((i,el)=>{ if (i > 1) $(el).remove(); });</script>"
      ]
     },
     "metadata": {},
     "output_type": "display_data"
    },
    {
     "data": {
      "text/html": [
       "<script type=\"text/javascript\">$('.the-bar.progress .progress-bar')\n",
       "                .css('width','68.63%')\n",
       "                .prop('aria-valuenow',68.63)\n",
       "                .text('68.63%');</script>"
      ]
     },
     "metadata": {},
     "output_type": "display_data"
    },
    {
     "data": {
      "text/html": [
       "<script type=\"text/javascript\">$('.code-d011f4ab-8621-4573-a79e-22effcef33df').closest('.output').find('.output_area').each((i,el)=>{ if (i > 1) $(el).remove(); });</script>"
      ]
     },
     "metadata": {},
     "output_type": "display_data"
    },
    {
     "data": {
      "text/html": [
       "<script type=\"text/javascript\">$('.the-bar.progress .progress-bar')\n",
       "                .css('width','68.92%')\n",
       "                .prop('aria-valuenow',68.92)\n",
       "                .text('68.92%');</script>"
      ]
     },
     "metadata": {},
     "output_type": "display_data"
    },
    {
     "data": {
      "text/html": [
       "<script type=\"text/javascript\">$('.code-d011f4ab-8621-4573-a79e-22effcef33df').closest('.output').find('.output_area').each((i,el)=>{ if (i > 1) $(el).remove(); });</script>"
      ]
     },
     "metadata": {},
     "output_type": "display_data"
    },
    {
     "data": {
      "text/html": [
       "<script type=\"text/javascript\">$('.the-bar.progress .progress-bar')\n",
       "                .css('width','69.22%')\n",
       "                .prop('aria-valuenow',69.22)\n",
       "                .text('69.22%');</script>"
      ]
     },
     "metadata": {},
     "output_type": "display_data"
    },
    {
     "data": {
      "text/html": [
       "<script type=\"text/javascript\">$('.code-d011f4ab-8621-4573-a79e-22effcef33df').closest('.output').find('.output_area').each((i,el)=>{ if (i > 1) $(el).remove(); });</script>"
      ]
     },
     "metadata": {},
     "output_type": "display_data"
    },
    {
     "data": {
      "text/html": [
       "<script type=\"text/javascript\">$('.the-bar.progress .progress-bar')\n",
       "                .css('width','69.51%')\n",
       "                .prop('aria-valuenow',69.51)\n",
       "                .text('69.51%');</script>"
      ]
     },
     "metadata": {},
     "output_type": "display_data"
    },
    {
     "data": {
      "text/html": [
       "<script type=\"text/javascript\">$('.code-d011f4ab-8621-4573-a79e-22effcef33df').closest('.output').find('.output_area').each((i,el)=>{ if (i > 1) $(el).remove(); });</script>"
      ]
     },
     "metadata": {},
     "output_type": "display_data"
    },
    {
     "data": {
      "text/html": [
       "<script type=\"text/javascript\">$('.the-bar.progress .progress-bar')\n",
       "                .css('width','69.81%')\n",
       "                .prop('aria-valuenow',69.81)\n",
       "                .text('69.81%');</script>"
      ]
     },
     "metadata": {},
     "output_type": "display_data"
    },
    {
     "data": {
      "text/html": [
       "<script type=\"text/javascript\">$('.code-d011f4ab-8621-4573-a79e-22effcef33df').closest('.output').find('.output_area').each((i,el)=>{ if (i > 1) $(el).remove(); });</script>"
      ]
     },
     "metadata": {},
     "output_type": "display_data"
    },
    {
     "data": {
      "text/html": [
       "<script type=\"text/javascript\">$('.the-bar.progress .progress-bar')\n",
       "                .css('width','70.10%')\n",
       "                .prop('aria-valuenow',70.10)\n",
       "                .text('70.10%');</script>"
      ]
     },
     "metadata": {},
     "output_type": "display_data"
    },
    {
     "data": {
      "text/html": [
       "<script type=\"text/javascript\">$('.code-d011f4ab-8621-4573-a79e-22effcef33df').closest('.output').find('.output_area').each((i,el)=>{ if (i > 1) $(el).remove(); });</script>"
      ]
     },
     "metadata": {},
     "output_type": "display_data"
    },
    {
     "data": {
      "text/html": [
       "<script type=\"text/javascript\">$('.the-bar.progress .progress-bar')\n",
       "                .css('width','70.40%')\n",
       "                .prop('aria-valuenow',70.40)\n",
       "                .text('70.40%');</script>"
      ]
     },
     "metadata": {},
     "output_type": "display_data"
    },
    {
     "data": {
      "text/html": [
       "<script type=\"text/javascript\">$('.code-d011f4ab-8621-4573-a79e-22effcef33df').closest('.output').find('.output_area').each((i,el)=>{ if (i > 1) $(el).remove(); });</script>"
      ]
     },
     "metadata": {},
     "output_type": "display_data"
    },
    {
     "data": {
      "text/html": [
       "<script type=\"text/javascript\">$('.the-bar.progress .progress-bar')\n",
       "                .css('width','70.69%')\n",
       "                .prop('aria-valuenow',70.69)\n",
       "                .text('70.69%');</script>"
      ]
     },
     "metadata": {},
     "output_type": "display_data"
    },
    {
     "data": {
      "text/html": [
       "<script type=\"text/javascript\">$('.code-d011f4ab-8621-4573-a79e-22effcef33df').closest('.output').find('.output_area').each((i,el)=>{ if (i > 1) $(el).remove(); });</script>"
      ]
     },
     "metadata": {},
     "output_type": "display_data"
    },
    {
     "data": {
      "text/html": [
       "<script type=\"text/javascript\">$('.the-bar.progress .progress-bar')\n",
       "                .css('width','70.99%')\n",
       "                .prop('aria-valuenow',70.99)\n",
       "                .text('70.99%');</script>"
      ]
     },
     "metadata": {},
     "output_type": "display_data"
    },
    {
     "data": {
      "text/html": [
       "<script type=\"text/javascript\">$('.code-d011f4ab-8621-4573-a79e-22effcef33df').closest('.output').find('.output_area').each((i,el)=>{ if (i > 1) $(el).remove(); });</script>"
      ]
     },
     "metadata": {},
     "output_type": "display_data"
    },
    {
     "data": {
      "text/html": [
       "<script type=\"text/javascript\">$('.the-bar.progress .progress-bar')\n",
       "                .css('width','71.28%')\n",
       "                .prop('aria-valuenow',71.28)\n",
       "                .text('71.28%');</script>"
      ]
     },
     "metadata": {},
     "output_type": "display_data"
    },
    {
     "data": {
      "text/html": [
       "<script type=\"text/javascript\">$('.code-d011f4ab-8621-4573-a79e-22effcef33df').closest('.output').find('.output_area').each((i,el)=>{ if (i > 1) $(el).remove(); });</script>"
      ]
     },
     "metadata": {},
     "output_type": "display_data"
    },
    {
     "data": {
      "text/html": [
       "<script type=\"text/javascript\">$('.the-bar.progress .progress-bar')\n",
       "                .css('width','71.58%')\n",
       "                .prop('aria-valuenow',71.58)\n",
       "                .text('71.58%');</script>"
      ]
     },
     "metadata": {},
     "output_type": "display_data"
    },
    {
     "data": {
      "text/html": [
       "<script type=\"text/javascript\">$('.code-d011f4ab-8621-4573-a79e-22effcef33df').closest('.output').find('.output_area').each((i,el)=>{ if (i > 1) $(el).remove(); });</script>"
      ]
     },
     "metadata": {},
     "output_type": "display_data"
    },
    {
     "data": {
      "text/html": [
       "<script type=\"text/javascript\">$('.the-bar.progress .progress-bar')\n",
       "                .css('width','71.87%')\n",
       "                .prop('aria-valuenow',71.87)\n",
       "                .text('71.87%');</script>"
      ]
     },
     "metadata": {},
     "output_type": "display_data"
    },
    {
     "data": {
      "text/html": [
       "<script type=\"text/javascript\">$('.code-d011f4ab-8621-4573-a79e-22effcef33df').closest('.output').find('.output_area').each((i,el)=>{ if (i > 1) $(el).remove(); });</script>"
      ]
     },
     "metadata": {},
     "output_type": "display_data"
    },
    {
     "data": {
      "text/html": [
       "<script type=\"text/javascript\">$('.the-bar.progress .progress-bar')\n",
       "                .css('width','72.17%')\n",
       "                .prop('aria-valuenow',72.17)\n",
       "                .text('72.17%');</script>"
      ]
     },
     "metadata": {},
     "output_type": "display_data"
    },
    {
     "data": {
      "text/html": [
       "<script type=\"text/javascript\">$('.code-d011f4ab-8621-4573-a79e-22effcef33df').closest('.output').find('.output_area').each((i,el)=>{ if (i > 1) $(el).remove(); });</script>"
      ]
     },
     "metadata": {},
     "output_type": "display_data"
    },
    {
     "data": {
      "text/html": [
       "<script type=\"text/javascript\">$('.the-bar.progress .progress-bar')\n",
       "                .css('width','72.46%')\n",
       "                .prop('aria-valuenow',72.46)\n",
       "                .text('72.46%');</script>"
      ]
     },
     "metadata": {},
     "output_type": "display_data"
    },
    {
     "data": {
      "text/html": [
       "<script type=\"text/javascript\">$('.code-d011f4ab-8621-4573-a79e-22effcef33df').closest('.output').find('.output_area').each((i,el)=>{ if (i > 1) $(el).remove(); });</script>"
      ]
     },
     "metadata": {},
     "output_type": "display_data"
    },
    {
     "data": {
      "text/html": [
       "<script type=\"text/javascript\">$('.the-bar.progress .progress-bar')\n",
       "                .css('width','72.76%')\n",
       "                .prop('aria-valuenow',72.76)\n",
       "                .text('72.76%');</script>"
      ]
     },
     "metadata": {},
     "output_type": "display_data"
    },
    {
     "data": {
      "text/html": [
       "<script type=\"text/javascript\">$('.code-d011f4ab-8621-4573-a79e-22effcef33df').closest('.output').find('.output_area').each((i,el)=>{ if (i > 1) $(el).remove(); });</script>"
      ]
     },
     "metadata": {},
     "output_type": "display_data"
    },
    {
     "data": {
      "text/html": [
       "<script type=\"text/javascript\">$('.the-bar.progress .progress-bar')\n",
       "                .css('width','73.05%')\n",
       "                .prop('aria-valuenow',73.05)\n",
       "                .text('73.05%');</script>"
      ]
     },
     "metadata": {},
     "output_type": "display_data"
    },
    {
     "data": {
      "text/html": [
       "<script type=\"text/javascript\">$('.code-d011f4ab-8621-4573-a79e-22effcef33df').closest('.output').find('.output_area').each((i,el)=>{ if (i > 1) $(el).remove(); });</script>"
      ]
     },
     "metadata": {},
     "output_type": "display_data"
    },
    {
     "data": {
      "text/html": [
       "<script type=\"text/javascript\">$('.the-bar.progress .progress-bar')\n",
       "                .css('width','73.35%')\n",
       "                .prop('aria-valuenow',73.35)\n",
       "                .text('73.35%');</script>"
      ]
     },
     "metadata": {},
     "output_type": "display_data"
    },
    {
     "data": {
      "text/html": [
       "<script type=\"text/javascript\">$('.code-d011f4ab-8621-4573-a79e-22effcef33df').closest('.output').find('.output_area').each((i,el)=>{ if (i > 1) $(el).remove(); });</script>"
      ]
     },
     "metadata": {},
     "output_type": "display_data"
    },
    {
     "data": {
      "text/html": [
       "<script type=\"text/javascript\">$('.the-bar.progress .progress-bar')\n",
       "                .css('width','73.64%')\n",
       "                .prop('aria-valuenow',73.64)\n",
       "                .text('73.64%');</script>"
      ]
     },
     "metadata": {},
     "output_type": "display_data"
    },
    {
     "data": {
      "text/html": [
       "<script type=\"text/javascript\">$('.code-d011f4ab-8621-4573-a79e-22effcef33df').closest('.output').find('.output_area').each((i,el)=>{ if (i > 1) $(el).remove(); });</script>"
      ]
     },
     "metadata": {},
     "output_type": "display_data"
    },
    {
     "data": {
      "text/html": [
       "<script type=\"text/javascript\">$('.the-bar.progress .progress-bar')\n",
       "                .css('width','73.94%')\n",
       "                .prop('aria-valuenow',73.94)\n",
       "                .text('73.94%');</script>"
      ]
     },
     "metadata": {},
     "output_type": "display_data"
    },
    {
     "data": {
      "text/html": [
       "<script type=\"text/javascript\">$('.code-d011f4ab-8621-4573-a79e-22effcef33df').closest('.output').find('.output_area').each((i,el)=>{ if (i > 1) $(el).remove(); });</script>"
      ]
     },
     "metadata": {},
     "output_type": "display_data"
    },
    {
     "data": {
      "text/html": [
       "<script type=\"text/javascript\">$('.the-bar.progress .progress-bar')\n",
       "                .css('width','74.23%')\n",
       "                .prop('aria-valuenow',74.23)\n",
       "                .text('74.23%');</script>"
      ]
     },
     "metadata": {},
     "output_type": "display_data"
    },
    {
     "data": {
      "text/html": [
       "<script type=\"text/javascript\">$('.code-d011f4ab-8621-4573-a79e-22effcef33df').closest('.output').find('.output_area').each((i,el)=>{ if (i > 1) $(el).remove(); });</script>"
      ]
     },
     "metadata": {},
     "output_type": "display_data"
    },
    {
     "data": {
      "text/html": [
       "<script type=\"text/javascript\">$('.the-bar.progress .progress-bar')\n",
       "                .css('width','74.53%')\n",
       "                .prop('aria-valuenow',74.53)\n",
       "                .text('74.53%');</script>"
      ]
     },
     "metadata": {},
     "output_type": "display_data"
    },
    {
     "data": {
      "text/html": [
       "<script type=\"text/javascript\">$('.code-d011f4ab-8621-4573-a79e-22effcef33df').closest('.output').find('.output_area').each((i,el)=>{ if (i > 1) $(el).remove(); });</script>"
      ]
     },
     "metadata": {},
     "output_type": "display_data"
    },
    {
     "data": {
      "text/html": [
       "<script type=\"text/javascript\">$('.the-bar.progress .progress-bar')\n",
       "                .css('width','74.82%')\n",
       "                .prop('aria-valuenow',74.82)\n",
       "                .text('74.82%');</script>"
      ]
     },
     "metadata": {},
     "output_type": "display_data"
    },
    {
     "data": {
      "text/html": [
       "<script type=\"text/javascript\">$('.code-d011f4ab-8621-4573-a79e-22effcef33df').closest('.output').find('.output_area').each((i,el)=>{ if (i > 1) $(el).remove(); });</script>"
      ]
     },
     "metadata": {},
     "output_type": "display_data"
    },
    {
     "data": {
      "text/html": [
       "<script type=\"text/javascript\">$('.the-bar.progress .progress-bar')\n",
       "                .css('width','75.11%')\n",
       "                .prop('aria-valuenow',75.11)\n",
       "                .text('75.11%');</script>"
      ]
     },
     "metadata": {},
     "output_type": "display_data"
    },
    {
     "data": {
      "text/html": [
       "<script type=\"text/javascript\">$('.code-d011f4ab-8621-4573-a79e-22effcef33df').closest('.output').find('.output_area').each((i,el)=>{ if (i > 1) $(el).remove(); });</script>"
      ]
     },
     "metadata": {},
     "output_type": "display_data"
    },
    {
     "data": {
      "text/html": [
       "<script type=\"text/javascript\">$('.the-bar.progress .progress-bar')\n",
       "                .css('width','75.41%')\n",
       "                .prop('aria-valuenow',75.41)\n",
       "                .text('75.41%');</script>"
      ]
     },
     "metadata": {},
     "output_type": "display_data"
    },
    {
     "data": {
      "text/html": [
       "<script type=\"text/javascript\">$('.code-d011f4ab-8621-4573-a79e-22effcef33df').closest('.output').find('.output_area').each((i,el)=>{ if (i > 1) $(el).remove(); });</script>"
      ]
     },
     "metadata": {},
     "output_type": "display_data"
    },
    {
     "data": {
      "text/html": [
       "<script type=\"text/javascript\">$('.the-bar.progress .progress-bar')\n",
       "                .css('width','75.70%')\n",
       "                .prop('aria-valuenow',75.70)\n",
       "                .text('75.70%');</script>"
      ]
     },
     "metadata": {},
     "output_type": "display_data"
    },
    {
     "data": {
      "text/html": [
       "<script type=\"text/javascript\">$('.code-d011f4ab-8621-4573-a79e-22effcef33df').closest('.output').find('.output_area').each((i,el)=>{ if (i > 1) $(el).remove(); });</script>"
      ]
     },
     "metadata": {},
     "output_type": "display_data"
    },
    {
     "data": {
      "text/html": [
       "<script type=\"text/javascript\">$('.the-bar.progress .progress-bar')\n",
       "                .css('width','76.00%')\n",
       "                .prop('aria-valuenow',76.00)\n",
       "                .text('76.00%');</script>"
      ]
     },
     "metadata": {},
     "output_type": "display_data"
    },
    {
     "data": {
      "text/html": [
       "<script type=\"text/javascript\">$('.code-d011f4ab-8621-4573-a79e-22effcef33df').closest('.output').find('.output_area').each((i,el)=>{ if (i > 1) $(el).remove(); });</script>"
      ]
     },
     "metadata": {},
     "output_type": "display_data"
    },
    {
     "data": {
      "text/html": [
       "<script type=\"text/javascript\">$('.the-bar.progress .progress-bar')\n",
       "                .css('width','76.29%')\n",
       "                .prop('aria-valuenow',76.29)\n",
       "                .text('76.29%');</script>"
      ]
     },
     "metadata": {},
     "output_type": "display_data"
    },
    {
     "data": {
      "text/html": [
       "<script type=\"text/javascript\">$('.code-d011f4ab-8621-4573-a79e-22effcef33df').closest('.output').find('.output_area').each((i,el)=>{ if (i > 1) $(el).remove(); });</script>"
      ]
     },
     "metadata": {},
     "output_type": "display_data"
    },
    {
     "data": {
      "text/html": [
       "<script type=\"text/javascript\">$('.the-bar.progress .progress-bar')\n",
       "                .css('width','76.59%')\n",
       "                .prop('aria-valuenow',76.59)\n",
       "                .text('76.59%');</script>"
      ]
     },
     "metadata": {},
     "output_type": "display_data"
    },
    {
     "data": {
      "text/html": [
       "<script type=\"text/javascript\">$('.code-d011f4ab-8621-4573-a79e-22effcef33df').closest('.output').find('.output_area').each((i,el)=>{ if (i > 1) $(el).remove(); });</script>"
      ]
     },
     "metadata": {},
     "output_type": "display_data"
    },
    {
     "data": {
      "text/html": [
       "<script type=\"text/javascript\">$('.the-bar.progress .progress-bar')\n",
       "                .css('width','76.88%')\n",
       "                .prop('aria-valuenow',76.88)\n",
       "                .text('76.88%');</script>"
      ]
     },
     "metadata": {},
     "output_type": "display_data"
    },
    {
     "data": {
      "text/html": [
       "<script type=\"text/javascript\">$('.code-d011f4ab-8621-4573-a79e-22effcef33df').closest('.output').find('.output_area').each((i,el)=>{ if (i > 1) $(el).remove(); });</script>"
      ]
     },
     "metadata": {},
     "output_type": "display_data"
    },
    {
     "data": {
      "text/html": [
       "<script type=\"text/javascript\">$('.the-bar.progress .progress-bar')\n",
       "                .css('width','77.18%')\n",
       "                .prop('aria-valuenow',77.18)\n",
       "                .text('77.18%');</script>"
      ]
     },
     "metadata": {},
     "output_type": "display_data"
    },
    {
     "data": {
      "text/html": [
       "<script type=\"text/javascript\">$('.code-d011f4ab-8621-4573-a79e-22effcef33df').closest('.output').find('.output_area').each((i,el)=>{ if (i > 1) $(el).remove(); });</script>"
      ]
     },
     "metadata": {},
     "output_type": "display_data"
    },
    {
     "data": {
      "text/html": [
       "<script type=\"text/javascript\">$('.the-bar.progress .progress-bar')\n",
       "                .css('width','77.47%')\n",
       "                .prop('aria-valuenow',77.47)\n",
       "                .text('77.47%');</script>"
      ]
     },
     "metadata": {},
     "output_type": "display_data"
    },
    {
     "data": {
      "text/html": [
       "<script type=\"text/javascript\">$('.code-d011f4ab-8621-4573-a79e-22effcef33df').closest('.output').find('.output_area').each((i,el)=>{ if (i > 1) $(el).remove(); });</script>"
      ]
     },
     "metadata": {},
     "output_type": "display_data"
    },
    {
     "data": {
      "text/html": [
       "<script type=\"text/javascript\">$('.the-bar.progress .progress-bar')\n",
       "                .css('width','77.77%')\n",
       "                .prop('aria-valuenow',77.77)\n",
       "                .text('77.77%');</script>"
      ]
     },
     "metadata": {},
     "output_type": "display_data"
    },
    {
     "data": {
      "text/html": [
       "<script type=\"text/javascript\">$('.code-d011f4ab-8621-4573-a79e-22effcef33df').closest('.output').find('.output_area').each((i,el)=>{ if (i > 1) $(el).remove(); });</script>"
      ]
     },
     "metadata": {},
     "output_type": "display_data"
    },
    {
     "data": {
      "text/html": [
       "<script type=\"text/javascript\">$('.the-bar.progress .progress-bar')\n",
       "                .css('width','78.06%')\n",
       "                .prop('aria-valuenow',78.06)\n",
       "                .text('78.06%');</script>"
      ]
     },
     "metadata": {},
     "output_type": "display_data"
    },
    {
     "data": {
      "text/html": [
       "<script type=\"text/javascript\">$('.code-d011f4ab-8621-4573-a79e-22effcef33df').closest('.output').find('.output_area').each((i,el)=>{ if (i > 1) $(el).remove(); });</script>"
      ]
     },
     "metadata": {},
     "output_type": "display_data"
    },
    {
     "data": {
      "text/html": [
       "<script type=\"text/javascript\">$('.the-bar.progress .progress-bar')\n",
       "                .css('width','78.36%')\n",
       "                .prop('aria-valuenow',78.36)\n",
       "                .text('78.36%');</script>"
      ]
     },
     "metadata": {},
     "output_type": "display_data"
    },
    {
     "data": {
      "text/html": [
       "<script type=\"text/javascript\">$('.code-d011f4ab-8621-4573-a79e-22effcef33df').closest('.output').find('.output_area').each((i,el)=>{ if (i > 1) $(el).remove(); });</script>"
      ]
     },
     "metadata": {},
     "output_type": "display_data"
    },
    {
     "data": {
      "text/html": [
       "<script type=\"text/javascript\">$('.the-bar.progress .progress-bar')\n",
       "                .css('width','78.65%')\n",
       "                .prop('aria-valuenow',78.65)\n",
       "                .text('78.65%');</script>"
      ]
     },
     "metadata": {},
     "output_type": "display_data"
    },
    {
     "data": {
      "text/html": [
       "<script type=\"text/javascript\">$('.code-d011f4ab-8621-4573-a79e-22effcef33df').closest('.output').find('.output_area').each((i,el)=>{ if (i > 1) $(el).remove(); });</script>"
      ]
     },
     "metadata": {},
     "output_type": "display_data"
    },
    {
     "data": {
      "text/html": [
       "<script type=\"text/javascript\">$('.the-bar.progress .progress-bar')\n",
       "                .css('width','78.95%')\n",
       "                .prop('aria-valuenow',78.95)\n",
       "                .text('78.95%');</script>"
      ]
     },
     "metadata": {},
     "output_type": "display_data"
    },
    {
     "data": {
      "text/html": [
       "<script type=\"text/javascript\">$('.code-d011f4ab-8621-4573-a79e-22effcef33df').closest('.output').find('.output_area').each((i,el)=>{ if (i > 1) $(el).remove(); });</script>"
      ]
     },
     "metadata": {},
     "output_type": "display_data"
    },
    {
     "data": {
      "text/html": [
       "<script type=\"text/javascript\">$('.the-bar.progress .progress-bar')\n",
       "                .css('width','79.24%')\n",
       "                .prop('aria-valuenow',79.24)\n",
       "                .text('79.24%');</script>"
      ]
     },
     "metadata": {},
     "output_type": "display_data"
    },
    {
     "data": {
      "text/html": [
       "<script type=\"text/javascript\">$('.code-d011f4ab-8621-4573-a79e-22effcef33df').closest('.output').find('.output_area').each((i,el)=>{ if (i > 1) $(el).remove(); });</script>"
      ]
     },
     "metadata": {},
     "output_type": "display_data"
    },
    {
     "data": {
      "text/html": [
       "<script type=\"text/javascript\">$('.the-bar.progress .progress-bar')\n",
       "                .css('width','79.54%')\n",
       "                .prop('aria-valuenow',79.54)\n",
       "                .text('79.54%');</script>"
      ]
     },
     "metadata": {},
     "output_type": "display_data"
    },
    {
     "data": {
      "text/html": [
       "<script type=\"text/javascript\">$('.code-d011f4ab-8621-4573-a79e-22effcef33df').closest('.output').find('.output_area').each((i,el)=>{ if (i > 1) $(el).remove(); });</script>"
      ]
     },
     "metadata": {},
     "output_type": "display_data"
    },
    {
     "data": {
      "text/html": [
       "<script type=\"text/javascript\">$('.the-bar.progress .progress-bar')\n",
       "                .css('width','79.83%')\n",
       "                .prop('aria-valuenow',79.83)\n",
       "                .text('79.83%');</script>"
      ]
     },
     "metadata": {},
     "output_type": "display_data"
    },
    {
     "data": {
      "text/html": [
       "<script type=\"text/javascript\">$('.code-d011f4ab-8621-4573-a79e-22effcef33df').closest('.output').find('.output_area').each((i,el)=>{ if (i > 1) $(el).remove(); });</script>"
      ]
     },
     "metadata": {},
     "output_type": "display_data"
    },
    {
     "data": {
      "text/html": [
       "<script type=\"text/javascript\">$('.the-bar.progress .progress-bar')\n",
       "                .css('width','80.13%')\n",
       "                .prop('aria-valuenow',80.13)\n",
       "                .text('80.13%');</script>"
      ]
     },
     "metadata": {},
     "output_type": "display_data"
    },
    {
     "data": {
      "text/html": [
       "<script type=\"text/javascript\">$('.code-d011f4ab-8621-4573-a79e-22effcef33df').closest('.output').find('.output_area').each((i,el)=>{ if (i > 1) $(el).remove(); });</script>"
      ]
     },
     "metadata": {},
     "output_type": "display_data"
    },
    {
     "data": {
      "text/html": [
       "<script type=\"text/javascript\">$('.the-bar.progress .progress-bar')\n",
       "                .css('width','80.42%')\n",
       "                .prop('aria-valuenow',80.42)\n",
       "                .text('80.42%');</script>"
      ]
     },
     "metadata": {},
     "output_type": "display_data"
    },
    {
     "data": {
      "text/html": [
       "<script type=\"text/javascript\">$('.code-d011f4ab-8621-4573-a79e-22effcef33df').closest('.output').find('.output_area').each((i,el)=>{ if (i > 1) $(el).remove(); });</script>"
      ]
     },
     "metadata": {},
     "output_type": "display_data"
    },
    {
     "data": {
      "text/html": [
       "<script type=\"text/javascript\">$('.the-bar.progress .progress-bar')\n",
       "                .css('width','80.72%')\n",
       "                .prop('aria-valuenow',80.72)\n",
       "                .text('80.72%');</script>"
      ]
     },
     "metadata": {},
     "output_type": "display_data"
    },
    {
     "data": {
      "text/html": [
       "<script type=\"text/javascript\">$('.code-d011f4ab-8621-4573-a79e-22effcef33df').closest('.output').find('.output_area').each((i,el)=>{ if (i > 1) $(el).remove(); });</script>"
      ]
     },
     "metadata": {},
     "output_type": "display_data"
    },
    {
     "data": {
      "text/html": [
       "<script type=\"text/javascript\">$('.the-bar.progress .progress-bar')\n",
       "                .css('width','81.01%')\n",
       "                .prop('aria-valuenow',81.01)\n",
       "                .text('81.01%');</script>"
      ]
     },
     "metadata": {},
     "output_type": "display_data"
    },
    {
     "data": {
      "text/html": [
       "<script type=\"text/javascript\">$('.code-d011f4ab-8621-4573-a79e-22effcef33df').closest('.output').find('.output_area').each((i,el)=>{ if (i > 1) $(el).remove(); });</script>"
      ]
     },
     "metadata": {},
     "output_type": "display_data"
    },
    {
     "data": {
      "text/html": [
       "<script type=\"text/javascript\">$('.the-bar.progress .progress-bar')\n",
       "                .css('width','81.31%')\n",
       "                .prop('aria-valuenow',81.31)\n",
       "                .text('81.31%');</script>"
      ]
     },
     "metadata": {},
     "output_type": "display_data"
    },
    {
     "data": {
      "text/html": [
       "<script type=\"text/javascript\">$('.code-d011f4ab-8621-4573-a79e-22effcef33df').closest('.output').find('.output_area').each((i,el)=>{ if (i > 1) $(el).remove(); });</script>"
      ]
     },
     "metadata": {},
     "output_type": "display_data"
    },
    {
     "data": {
      "text/html": [
       "<script type=\"text/javascript\">$('.the-bar.progress .progress-bar')\n",
       "                .css('width','81.60%')\n",
       "                .prop('aria-valuenow',81.60)\n",
       "                .text('81.60%');</script>"
      ]
     },
     "metadata": {},
     "output_type": "display_data"
    },
    {
     "data": {
      "text/html": [
       "<script type=\"text/javascript\">$('.code-d011f4ab-8621-4573-a79e-22effcef33df').closest('.output').find('.output_area').each((i,el)=>{ if (i > 1) $(el).remove(); });</script>"
      ]
     },
     "metadata": {},
     "output_type": "display_data"
    },
    {
     "data": {
      "text/html": [
       "<script type=\"text/javascript\">$('.the-bar.progress .progress-bar')\n",
       "                .css('width','81.90%')\n",
       "                .prop('aria-valuenow',81.90)\n",
       "                .text('81.90%');</script>"
      ]
     },
     "metadata": {},
     "output_type": "display_data"
    },
    {
     "data": {
      "text/html": [
       "<script type=\"text/javascript\">$('.code-d011f4ab-8621-4573-a79e-22effcef33df').closest('.output').find('.output_area').each((i,el)=>{ if (i > 1) $(el).remove(); });</script>"
      ]
     },
     "metadata": {},
     "output_type": "display_data"
    },
    {
     "data": {
      "text/html": [
       "<script type=\"text/javascript\">$('.the-bar.progress .progress-bar')\n",
       "                .css('width','82.19%')\n",
       "                .prop('aria-valuenow',82.19)\n",
       "                .text('82.19%');</script>"
      ]
     },
     "metadata": {},
     "output_type": "display_data"
    },
    {
     "data": {
      "text/html": [
       "<script type=\"text/javascript\">$('.code-d011f4ab-8621-4573-a79e-22effcef33df').closest('.output').find('.output_area').each((i,el)=>{ if (i > 1) $(el).remove(); });</script>"
      ]
     },
     "metadata": {},
     "output_type": "display_data"
    },
    {
     "data": {
      "text/html": [
       "<script type=\"text/javascript\">$('.the-bar.progress .progress-bar')\n",
       "                .css('width','82.48%')\n",
       "                .prop('aria-valuenow',82.48)\n",
       "                .text('82.48%');</script>"
      ]
     },
     "metadata": {},
     "output_type": "display_data"
    },
    {
     "data": {
      "text/html": [
       "<script type=\"text/javascript\">$('.code-d011f4ab-8621-4573-a79e-22effcef33df').closest('.output').find('.output_area').each((i,el)=>{ if (i > 1) $(el).remove(); });</script>"
      ]
     },
     "metadata": {},
     "output_type": "display_data"
    },
    {
     "data": {
      "text/html": [
       "<script type=\"text/javascript\">$('.the-bar.progress .progress-bar')\n",
       "                .css('width','82.78%')\n",
       "                .prop('aria-valuenow',82.78)\n",
       "                .text('82.78%');</script>"
      ]
     },
     "metadata": {},
     "output_type": "display_data"
    },
    {
     "data": {
      "text/html": [
       "<script type=\"text/javascript\">$('.code-d011f4ab-8621-4573-a79e-22effcef33df').closest('.output').find('.output_area').each((i,el)=>{ if (i > 1) $(el).remove(); });</script>"
      ]
     },
     "metadata": {},
     "output_type": "display_data"
    },
    {
     "data": {
      "text/html": [
       "<script type=\"text/javascript\">$('.the-bar.progress .progress-bar')\n",
       "                .css('width','83.07%')\n",
       "                .prop('aria-valuenow',83.07)\n",
       "                .text('83.07%');</script>"
      ]
     },
     "metadata": {},
     "output_type": "display_data"
    },
    {
     "data": {
      "text/html": [
       "<script type=\"text/javascript\">$('.code-d011f4ab-8621-4573-a79e-22effcef33df').closest('.output').find('.output_area').each((i,el)=>{ if (i > 1) $(el).remove(); });</script>"
      ]
     },
     "metadata": {},
     "output_type": "display_data"
    },
    {
     "data": {
      "text/html": [
       "<script type=\"text/javascript\">$('.the-bar.progress .progress-bar')\n",
       "                .css('width','83.37%')\n",
       "                .prop('aria-valuenow',83.37)\n",
       "                .text('83.37%');</script>"
      ]
     },
     "metadata": {},
     "output_type": "display_data"
    },
    {
     "data": {
      "text/html": [
       "<script type=\"text/javascript\">$('.code-d011f4ab-8621-4573-a79e-22effcef33df').closest('.output').find('.output_area').each((i,el)=>{ if (i > 1) $(el).remove(); });</script>"
      ]
     },
     "metadata": {},
     "output_type": "display_data"
    },
    {
     "data": {
      "text/html": [
       "<script type=\"text/javascript\">$('.the-bar.progress .progress-bar')\n",
       "                .css('width','83.66%')\n",
       "                .prop('aria-valuenow',83.66)\n",
       "                .text('83.66%');</script>"
      ]
     },
     "metadata": {},
     "output_type": "display_data"
    },
    {
     "data": {
      "text/html": [
       "<script type=\"text/javascript\">$('.code-d011f4ab-8621-4573-a79e-22effcef33df').closest('.output').find('.output_area').each((i,el)=>{ if (i > 1) $(el).remove(); });</script>"
      ]
     },
     "metadata": {},
     "output_type": "display_data"
    },
    {
     "data": {
      "text/html": [
       "<script type=\"text/javascript\">$('.the-bar.progress .progress-bar')\n",
       "                .css('width','83.96%')\n",
       "                .prop('aria-valuenow',83.96)\n",
       "                .text('83.96%');</script>"
      ]
     },
     "metadata": {},
     "output_type": "display_data"
    },
    {
     "data": {
      "text/html": [
       "<script type=\"text/javascript\">$('.code-d011f4ab-8621-4573-a79e-22effcef33df').closest('.output').find('.output_area').each((i,el)=>{ if (i > 1) $(el).remove(); });</script>"
      ]
     },
     "metadata": {},
     "output_type": "display_data"
    },
    {
     "data": {
      "text/html": [
       "<script type=\"text/javascript\">$('.the-bar.progress .progress-bar')\n",
       "                .css('width','84.25%')\n",
       "                .prop('aria-valuenow',84.25)\n",
       "                .text('84.25%');</script>"
      ]
     },
     "metadata": {},
     "output_type": "display_data"
    },
    {
     "data": {
      "text/html": [
       "<script type=\"text/javascript\">$('.code-d011f4ab-8621-4573-a79e-22effcef33df').closest('.output').find('.output_area').each((i,el)=>{ if (i > 1) $(el).remove(); });</script>"
      ]
     },
     "metadata": {},
     "output_type": "display_data"
    },
    {
     "data": {
      "text/html": [
       "<script type=\"text/javascript\">$('.the-bar.progress .progress-bar')\n",
       "                .css('width','84.55%')\n",
       "                .prop('aria-valuenow',84.55)\n",
       "                .text('84.55%');</script>"
      ]
     },
     "metadata": {},
     "output_type": "display_data"
    },
    {
     "data": {
      "text/html": [
       "<script type=\"text/javascript\">$('.code-d011f4ab-8621-4573-a79e-22effcef33df').closest('.output').find('.output_area').each((i,el)=>{ if (i > 1) $(el).remove(); });</script>"
      ]
     },
     "metadata": {},
     "output_type": "display_data"
    },
    {
     "data": {
      "text/html": [
       "<script type=\"text/javascript\">$('.the-bar.progress .progress-bar')\n",
       "                .css('width','84.84%')\n",
       "                .prop('aria-valuenow',84.84)\n",
       "                .text('84.84%');</script>"
      ]
     },
     "metadata": {},
     "output_type": "display_data"
    },
    {
     "data": {
      "text/html": [
       "<script type=\"text/javascript\">$('.code-d011f4ab-8621-4573-a79e-22effcef33df').closest('.output').find('.output_area').each((i,el)=>{ if (i > 1) $(el).remove(); });</script>"
      ]
     },
     "metadata": {},
     "output_type": "display_data"
    },
    {
     "data": {
      "text/html": [
       "<script type=\"text/javascript\">$('.the-bar.progress .progress-bar')\n",
       "                .css('width','85.14%')\n",
       "                .prop('aria-valuenow',85.14)\n",
       "                .text('85.14%');</script>"
      ]
     },
     "metadata": {},
     "output_type": "display_data"
    },
    {
     "data": {
      "text/html": [
       "<script type=\"text/javascript\">$('.code-d011f4ab-8621-4573-a79e-22effcef33df').closest('.output').find('.output_area').each((i,el)=>{ if (i > 1) $(el).remove(); });</script>"
      ]
     },
     "metadata": {},
     "output_type": "display_data"
    },
    {
     "data": {
      "text/html": [
       "<script type=\"text/javascript\">$('.the-bar.progress .progress-bar')\n",
       "                .css('width','85.43%')\n",
       "                .prop('aria-valuenow',85.43)\n",
       "                .text('85.43%');</script>"
      ]
     },
     "metadata": {},
     "output_type": "display_data"
    },
    {
     "data": {
      "text/html": [
       "<script type=\"text/javascript\">$('.code-d011f4ab-8621-4573-a79e-22effcef33df').closest('.output').find('.output_area').each((i,el)=>{ if (i > 1) $(el).remove(); });</script>"
      ]
     },
     "metadata": {},
     "output_type": "display_data"
    },
    {
     "data": {
      "text/html": [
       "<script type=\"text/javascript\">$('.the-bar.progress .progress-bar')\n",
       "                .css('width','85.73%')\n",
       "                .prop('aria-valuenow',85.73)\n",
       "                .text('85.73%');</script>"
      ]
     },
     "metadata": {},
     "output_type": "display_data"
    },
    {
     "data": {
      "text/html": [
       "<script type=\"text/javascript\">$('.code-d011f4ab-8621-4573-a79e-22effcef33df').closest('.output').find('.output_area').each((i,el)=>{ if (i > 1) $(el).remove(); });</script>"
      ]
     },
     "metadata": {},
     "output_type": "display_data"
    },
    {
     "data": {
      "text/html": [
       "<script type=\"text/javascript\">$('.the-bar.progress .progress-bar')\n",
       "                .css('width','86.02%')\n",
       "                .prop('aria-valuenow',86.02)\n",
       "                .text('86.02%');</script>"
      ]
     },
     "metadata": {},
     "output_type": "display_data"
    },
    {
     "data": {
      "text/html": [
       "<script type=\"text/javascript\">$('.code-d011f4ab-8621-4573-a79e-22effcef33df').closest('.output').find('.output_area').each((i,el)=>{ if (i > 1) $(el).remove(); });</script>"
      ]
     },
     "metadata": {},
     "output_type": "display_data"
    },
    {
     "data": {
      "text/html": [
       "<script type=\"text/javascript\">$('.the-bar.progress .progress-bar')\n",
       "                .css('width','86.32%')\n",
       "                .prop('aria-valuenow',86.32)\n",
       "                .text('86.32%');</script>"
      ]
     },
     "metadata": {},
     "output_type": "display_data"
    },
    {
     "data": {
      "text/html": [
       "<script type=\"text/javascript\">$('.code-d011f4ab-8621-4573-a79e-22effcef33df').closest('.output').find('.output_area').each((i,el)=>{ if (i > 1) $(el).remove(); });</script>"
      ]
     },
     "metadata": {},
     "output_type": "display_data"
    },
    {
     "data": {
      "text/html": [
       "<script type=\"text/javascript\">$('.the-bar.progress .progress-bar')\n",
       "                .css('width','86.61%')\n",
       "                .prop('aria-valuenow',86.61)\n",
       "                .text('86.61%');</script>"
      ]
     },
     "metadata": {},
     "output_type": "display_data"
    },
    {
     "data": {
      "text/html": [
       "<script type=\"text/javascript\">$('.code-d011f4ab-8621-4573-a79e-22effcef33df').closest('.output').find('.output_area').each((i,el)=>{ if (i > 1) $(el).remove(); });</script>"
      ]
     },
     "metadata": {},
     "output_type": "display_data"
    },
    {
     "data": {
      "text/html": [
       "<script type=\"text/javascript\">$('.the-bar.progress .progress-bar')\n",
       "                .css('width','86.91%')\n",
       "                .prop('aria-valuenow',86.91)\n",
       "                .text('86.91%');</script>"
      ]
     },
     "metadata": {},
     "output_type": "display_data"
    },
    {
     "data": {
      "text/html": [
       "<script type=\"text/javascript\">$('.code-d011f4ab-8621-4573-a79e-22effcef33df').closest('.output').find('.output_area').each((i,el)=>{ if (i > 1) $(el).remove(); });</script>"
      ]
     },
     "metadata": {},
     "output_type": "display_data"
    },
    {
     "data": {
      "text/html": [
       "<script type=\"text/javascript\">$('.the-bar.progress .progress-bar')\n",
       "                .css('width','87.20%')\n",
       "                .prop('aria-valuenow',87.20)\n",
       "                .text('87.20%');</script>"
      ]
     },
     "metadata": {},
     "output_type": "display_data"
    },
    {
     "data": {
      "text/html": [
       "<script type=\"text/javascript\">$('.code-d011f4ab-8621-4573-a79e-22effcef33df').closest('.output').find('.output_area').each((i,el)=>{ if (i > 1) $(el).remove(); });</script>"
      ]
     },
     "metadata": {},
     "output_type": "display_data"
    },
    {
     "data": {
      "text/html": [
       "<script type=\"text/javascript\">$('.the-bar.progress .progress-bar')\n",
       "                .css('width','87.50%')\n",
       "                .prop('aria-valuenow',87.50)\n",
       "                .text('87.50%');</script>"
      ]
     },
     "metadata": {},
     "output_type": "display_data"
    },
    {
     "data": {
      "text/html": [
       "<script type=\"text/javascript\">$('.code-d011f4ab-8621-4573-a79e-22effcef33df').closest('.output').find('.output_area').each((i,el)=>{ if (i > 1) $(el).remove(); });</script>"
      ]
     },
     "metadata": {},
     "output_type": "display_data"
    },
    {
     "data": {
      "text/html": [
       "<script type=\"text/javascript\">$('.the-bar.progress .progress-bar')\n",
       "                .css('width','87.79%')\n",
       "                .prop('aria-valuenow',87.79)\n",
       "                .text('87.79%');</script>"
      ]
     },
     "metadata": {},
     "output_type": "display_data"
    },
    {
     "data": {
      "text/html": [
       "<script type=\"text/javascript\">$('.code-d011f4ab-8621-4573-a79e-22effcef33df').closest('.output').find('.output_area').each((i,el)=>{ if (i > 1) $(el).remove(); });</script>"
      ]
     },
     "metadata": {},
     "output_type": "display_data"
    },
    {
     "data": {
      "text/html": [
       "<script type=\"text/javascript\">$('.the-bar.progress .progress-bar')\n",
       "                .css('width','88.09%')\n",
       "                .prop('aria-valuenow',88.09)\n",
       "                .text('88.09%');</script>"
      ]
     },
     "metadata": {},
     "output_type": "display_data"
    },
    {
     "data": {
      "text/html": [
       "<script type=\"text/javascript\">$('.code-d011f4ab-8621-4573-a79e-22effcef33df').closest('.output').find('.output_area').each((i,el)=>{ if (i > 1) $(el).remove(); });</script>"
      ]
     },
     "metadata": {},
     "output_type": "display_data"
    },
    {
     "data": {
      "text/html": [
       "<script type=\"text/javascript\">$('.the-bar.progress .progress-bar')\n",
       "                .css('width','88.38%')\n",
       "                .prop('aria-valuenow',88.38)\n",
       "                .text('88.38%');</script>"
      ]
     },
     "metadata": {},
     "output_type": "display_data"
    },
    {
     "data": {
      "text/html": [
       "<script type=\"text/javascript\">$('.code-d011f4ab-8621-4573-a79e-22effcef33df').closest('.output').find('.output_area').each((i,el)=>{ if (i > 1) $(el).remove(); });</script>"
      ]
     },
     "metadata": {},
     "output_type": "display_data"
    },
    {
     "data": {
      "text/html": [
       "<script type=\"text/javascript\">$('.the-bar.progress .progress-bar')\n",
       "                .css('width','88.68%')\n",
       "                .prop('aria-valuenow',88.68)\n",
       "                .text('88.68%');</script>"
      ]
     },
     "metadata": {},
     "output_type": "display_data"
    },
    {
     "data": {
      "text/html": [
       "<script type=\"text/javascript\">$('.code-d011f4ab-8621-4573-a79e-22effcef33df').closest('.output').find('.output_area').each((i,el)=>{ if (i > 1) $(el).remove(); });</script>"
      ]
     },
     "metadata": {},
     "output_type": "display_data"
    },
    {
     "data": {
      "text/html": [
       "<script type=\"text/javascript\">$('.the-bar.progress .progress-bar')\n",
       "                .css('width','88.97%')\n",
       "                .prop('aria-valuenow',88.97)\n",
       "                .text('88.97%');</script>"
      ]
     },
     "metadata": {},
     "output_type": "display_data"
    },
    {
     "data": {
      "text/html": [
       "<script type=\"text/javascript\">$('.code-d011f4ab-8621-4573-a79e-22effcef33df').closest('.output').find('.output_area').each((i,el)=>{ if (i > 1) $(el).remove(); });</script>"
      ]
     },
     "metadata": {},
     "output_type": "display_data"
    },
    {
     "data": {
      "text/html": [
       "<script type=\"text/javascript\">$('.the-bar.progress .progress-bar')\n",
       "                .css('width','89.26%')\n",
       "                .prop('aria-valuenow',89.26)\n",
       "                .text('89.26%');</script>"
      ]
     },
     "metadata": {},
     "output_type": "display_data"
    },
    {
     "data": {
      "text/html": [
       "<script type=\"text/javascript\">$('.code-d011f4ab-8621-4573-a79e-22effcef33df').closest('.output').find('.output_area').each((i,el)=>{ if (i > 1) $(el).remove(); });</script>"
      ]
     },
     "metadata": {},
     "output_type": "display_data"
    },
    {
     "data": {
      "text/html": [
       "<script type=\"text/javascript\">$('.the-bar.progress .progress-bar')\n",
       "                .css('width','89.56%')\n",
       "                .prop('aria-valuenow',89.56)\n",
       "                .text('89.56%');</script>"
      ]
     },
     "metadata": {},
     "output_type": "display_data"
    },
    {
     "data": {
      "text/html": [
       "<script type=\"text/javascript\">$('.code-d011f4ab-8621-4573-a79e-22effcef33df').closest('.output').find('.output_area').each((i,el)=>{ if (i > 1) $(el).remove(); });</script>"
      ]
     },
     "metadata": {},
     "output_type": "display_data"
    },
    {
     "data": {
      "text/html": [
       "<script type=\"text/javascript\">$('.the-bar.progress .progress-bar')\n",
       "                .css('width','89.85%')\n",
       "                .prop('aria-valuenow',89.85)\n",
       "                .text('89.85%');</script>"
      ]
     },
     "metadata": {},
     "output_type": "display_data"
    },
    {
     "data": {
      "text/html": [
       "<script type=\"text/javascript\">$('.code-d011f4ab-8621-4573-a79e-22effcef33df').closest('.output').find('.output_area').each((i,el)=>{ if (i > 1) $(el).remove(); });</script>"
      ]
     },
     "metadata": {},
     "output_type": "display_data"
    },
    {
     "data": {
      "text/html": [
       "<script type=\"text/javascript\">$('.the-bar.progress .progress-bar')\n",
       "                .css('width','90.15%')\n",
       "                .prop('aria-valuenow',90.15)\n",
       "                .text('90.15%');</script>"
      ]
     },
     "metadata": {},
     "output_type": "display_data"
    },
    {
     "data": {
      "text/html": [
       "<script type=\"text/javascript\">$('.code-d011f4ab-8621-4573-a79e-22effcef33df').closest('.output').find('.output_area').each((i,el)=>{ if (i > 1) $(el).remove(); });</script>"
      ]
     },
     "metadata": {},
     "output_type": "display_data"
    },
    {
     "data": {
      "text/html": [
       "<script type=\"text/javascript\">$('.the-bar.progress .progress-bar')\n",
       "                .css('width','90.44%')\n",
       "                .prop('aria-valuenow',90.44)\n",
       "                .text('90.44%');</script>"
      ]
     },
     "metadata": {},
     "output_type": "display_data"
    },
    {
     "data": {
      "text/html": [
       "<script type=\"text/javascript\">$('.code-d011f4ab-8621-4573-a79e-22effcef33df').closest('.output').find('.output_area').each((i,el)=>{ if (i > 1) $(el).remove(); });</script>"
      ]
     },
     "metadata": {},
     "output_type": "display_data"
    },
    {
     "data": {
      "text/html": [
       "<script type=\"text/javascript\">$('.the-bar.progress .progress-bar')\n",
       "                .css('width','90.74%')\n",
       "                .prop('aria-valuenow',90.74)\n",
       "                .text('90.74%');</script>"
      ]
     },
     "metadata": {},
     "output_type": "display_data"
    },
    {
     "data": {
      "text/html": [
       "<script type=\"text/javascript\">$('.code-d011f4ab-8621-4573-a79e-22effcef33df').closest('.output').find('.output_area').each((i,el)=>{ if (i > 1) $(el).remove(); });</script>"
      ]
     },
     "metadata": {},
     "output_type": "display_data"
    },
    {
     "data": {
      "text/html": [
       "<script type=\"text/javascript\">$('.the-bar.progress .progress-bar')\n",
       "                .css('width','91.03%')\n",
       "                .prop('aria-valuenow',91.03)\n",
       "                .text('91.03%');</script>"
      ]
     },
     "metadata": {},
     "output_type": "display_data"
    },
    {
     "data": {
      "text/html": [
       "<script type=\"text/javascript\">$('.code-d011f4ab-8621-4573-a79e-22effcef33df').closest('.output').find('.output_area').each((i,el)=>{ if (i > 1) $(el).remove(); });</script>"
      ]
     },
     "metadata": {},
     "output_type": "display_data"
    },
    {
     "data": {
      "text/html": [
       "<script type=\"text/javascript\">$('.the-bar.progress .progress-bar')\n",
       "                .css('width','91.33%')\n",
       "                .prop('aria-valuenow',91.33)\n",
       "                .text('91.33%');</script>"
      ]
     },
     "metadata": {},
     "output_type": "display_data"
    },
    {
     "data": {
      "text/html": [
       "<script type=\"text/javascript\">$('.code-d011f4ab-8621-4573-a79e-22effcef33df').closest('.output').find('.output_area').each((i,el)=>{ if (i > 1) $(el).remove(); });</script>"
      ]
     },
     "metadata": {},
     "output_type": "display_data"
    },
    {
     "data": {
      "text/html": [
       "<script type=\"text/javascript\">$('.the-bar.progress .progress-bar')\n",
       "                .css('width','91.62%')\n",
       "                .prop('aria-valuenow',91.62)\n",
       "                .text('91.62%');</script>"
      ]
     },
     "metadata": {},
     "output_type": "display_data"
    },
    {
     "data": {
      "text/html": [
       "<script type=\"text/javascript\">$('.code-d011f4ab-8621-4573-a79e-22effcef33df').closest('.output').find('.output_area').each((i,el)=>{ if (i > 1) $(el).remove(); });</script>"
      ]
     },
     "metadata": {},
     "output_type": "display_data"
    },
    {
     "data": {
      "text/html": [
       "<script type=\"text/javascript\">$('.the-bar.progress .progress-bar')\n",
       "                .css('width','91.92%')\n",
       "                .prop('aria-valuenow',91.92)\n",
       "                .text('91.92%');</script>"
      ]
     },
     "metadata": {},
     "output_type": "display_data"
    },
    {
     "data": {
      "text/html": [
       "<script type=\"text/javascript\">$('.code-d011f4ab-8621-4573-a79e-22effcef33df').closest('.output').find('.output_area').each((i,el)=>{ if (i > 1) $(el).remove(); });</script>"
      ]
     },
     "metadata": {},
     "output_type": "display_data"
    },
    {
     "data": {
      "text/html": [
       "<script type=\"text/javascript\">$('.the-bar.progress .progress-bar')\n",
       "                .css('width','92.21%')\n",
       "                .prop('aria-valuenow',92.21)\n",
       "                .text('92.21%');</script>"
      ]
     },
     "metadata": {},
     "output_type": "display_data"
    },
    {
     "data": {
      "text/html": [
       "<script type=\"text/javascript\">$('.code-d011f4ab-8621-4573-a79e-22effcef33df').closest('.output').find('.output_area').each((i,el)=>{ if (i > 1) $(el).remove(); });</script>"
      ]
     },
     "metadata": {},
     "output_type": "display_data"
    },
    {
     "data": {
      "text/html": [
       "<script type=\"text/javascript\">$('.the-bar.progress .progress-bar')\n",
       "                .css('width','92.51%')\n",
       "                .prop('aria-valuenow',92.51)\n",
       "                .text('92.51%');</script>"
      ]
     },
     "metadata": {},
     "output_type": "display_data"
    },
    {
     "data": {
      "text/html": [
       "<script type=\"text/javascript\">$('.code-d011f4ab-8621-4573-a79e-22effcef33df').closest('.output').find('.output_area').each((i,el)=>{ if (i > 1) $(el).remove(); });</script>"
      ]
     },
     "metadata": {},
     "output_type": "display_data"
    },
    {
     "data": {
      "text/html": [
       "<script type=\"text/javascript\">$('.the-bar.progress .progress-bar')\n",
       "                .css('width','92.80%')\n",
       "                .prop('aria-valuenow',92.80)\n",
       "                .text('92.80%');</script>"
      ]
     },
     "metadata": {},
     "output_type": "display_data"
    },
    {
     "data": {
      "text/html": [
       "<script type=\"text/javascript\">$('.code-d011f4ab-8621-4573-a79e-22effcef33df').closest('.output').find('.output_area').each((i,el)=>{ if (i > 1) $(el).remove(); });</script>"
      ]
     },
     "metadata": {},
     "output_type": "display_data"
    },
    {
     "data": {
      "text/html": [
       "<script type=\"text/javascript\">$('.the-bar.progress .progress-bar')\n",
       "                .css('width','93.10%')\n",
       "                .prop('aria-valuenow',93.10)\n",
       "                .text('93.10%');</script>"
      ]
     },
     "metadata": {},
     "output_type": "display_data"
    },
    {
     "data": {
      "text/html": [
       "<script type=\"text/javascript\">$('.code-d011f4ab-8621-4573-a79e-22effcef33df').closest('.output').find('.output_area').each((i,el)=>{ if (i > 1) $(el).remove(); });</script>"
      ]
     },
     "metadata": {},
     "output_type": "display_data"
    },
    {
     "data": {
      "text/html": [
       "<script type=\"text/javascript\">$('.the-bar.progress .progress-bar')\n",
       "                .css('width','93.39%')\n",
       "                .prop('aria-valuenow',93.39)\n",
       "                .text('93.39%');</script>"
      ]
     },
     "metadata": {},
     "output_type": "display_data"
    },
    {
     "data": {
      "text/html": [
       "<script type=\"text/javascript\">$('.code-d011f4ab-8621-4573-a79e-22effcef33df').closest('.output').find('.output_area').each((i,el)=>{ if (i > 1) $(el).remove(); });</script>"
      ]
     },
     "metadata": {},
     "output_type": "display_data"
    },
    {
     "data": {
      "text/html": [
       "<script type=\"text/javascript\">$('.the-bar.progress .progress-bar')\n",
       "                .css('width','93.69%')\n",
       "                .prop('aria-valuenow',93.69)\n",
       "                .text('93.69%');</script>"
      ]
     },
     "metadata": {},
     "output_type": "display_data"
    },
    {
     "data": {
      "text/html": [
       "<script type=\"text/javascript\">$('.code-d011f4ab-8621-4573-a79e-22effcef33df').closest('.output').find('.output_area').each((i,el)=>{ if (i > 1) $(el).remove(); });</script>"
      ]
     },
     "metadata": {},
     "output_type": "display_data"
    },
    {
     "data": {
      "text/html": [
       "<script type=\"text/javascript\">$('.the-bar.progress .progress-bar')\n",
       "                .css('width','93.98%')\n",
       "                .prop('aria-valuenow',93.98)\n",
       "                .text('93.98%');</script>"
      ]
     },
     "metadata": {},
     "output_type": "display_data"
    },
    {
     "data": {
      "text/html": [
       "<script type=\"text/javascript\">$('.code-d011f4ab-8621-4573-a79e-22effcef33df').closest('.output').find('.output_area').each((i,el)=>{ if (i > 1) $(el).remove(); });</script>"
      ]
     },
     "metadata": {},
     "output_type": "display_data"
    },
    {
     "data": {
      "text/html": [
       "<script type=\"text/javascript\">$('.the-bar.progress .progress-bar')\n",
       "                .css('width','94.28%')\n",
       "                .prop('aria-valuenow',94.28)\n",
       "                .text('94.28%');</script>"
      ]
     },
     "metadata": {},
     "output_type": "display_data"
    },
    {
     "data": {
      "text/html": [
       "<script type=\"text/javascript\">$('.code-d011f4ab-8621-4573-a79e-22effcef33df').closest('.output').find('.output_area').each((i,el)=>{ if (i > 1) $(el).remove(); });</script>"
      ]
     },
     "metadata": {},
     "output_type": "display_data"
    },
    {
     "data": {
      "text/html": [
       "<script type=\"text/javascript\">$('.the-bar.progress .progress-bar')\n",
       "                .css('width','94.57%')\n",
       "                .prop('aria-valuenow',94.57)\n",
       "                .text('94.57%');</script>"
      ]
     },
     "metadata": {},
     "output_type": "display_data"
    },
    {
     "data": {
      "text/html": [
       "<script type=\"text/javascript\">$('.code-d011f4ab-8621-4573-a79e-22effcef33df').closest('.output').find('.output_area').each((i,el)=>{ if (i > 1) $(el).remove(); });</script>"
      ]
     },
     "metadata": {},
     "output_type": "display_data"
    },
    {
     "data": {
      "text/html": [
       "<script type=\"text/javascript\">$('.the-bar.progress .progress-bar')\n",
       "                .css('width','94.87%')\n",
       "                .prop('aria-valuenow',94.87)\n",
       "                .text('94.87%');</script>"
      ]
     },
     "metadata": {},
     "output_type": "display_data"
    },
    {
     "data": {
      "text/html": [
       "<script type=\"text/javascript\">$('.code-d011f4ab-8621-4573-a79e-22effcef33df').closest('.output').find('.output_area').each((i,el)=>{ if (i > 1) $(el).remove(); });</script>"
      ]
     },
     "metadata": {},
     "output_type": "display_data"
    },
    {
     "data": {
      "text/html": [
       "<script type=\"text/javascript\">$('.the-bar.progress .progress-bar')\n",
       "                .css('width','95.16%')\n",
       "                .prop('aria-valuenow',95.16)\n",
       "                .text('95.16%');</script>"
      ]
     },
     "metadata": {},
     "output_type": "display_data"
    },
    {
     "data": {
      "text/html": [
       "<script type=\"text/javascript\">$('.code-d011f4ab-8621-4573-a79e-22effcef33df').closest('.output').find('.output_area').each((i,el)=>{ if (i > 1) $(el).remove(); });</script>"
      ]
     },
     "metadata": {},
     "output_type": "display_data"
    },
    {
     "data": {
      "text/html": [
       "<script type=\"text/javascript\">$('.the-bar.progress .progress-bar')\n",
       "                .css('width','95.46%')\n",
       "                .prop('aria-valuenow',95.46)\n",
       "                .text('95.46%');</script>"
      ]
     },
     "metadata": {},
     "output_type": "display_data"
    },
    {
     "data": {
      "text/html": [
       "<script type=\"text/javascript\">$('.code-d011f4ab-8621-4573-a79e-22effcef33df').closest('.output').find('.output_area').each((i,el)=>{ if (i > 1) $(el).remove(); });</script>"
      ]
     },
     "metadata": {},
     "output_type": "display_data"
    },
    {
     "data": {
      "text/html": [
       "<script type=\"text/javascript\">$('.the-bar.progress .progress-bar')\n",
       "                .css('width','95.75%')\n",
       "                .prop('aria-valuenow',95.75)\n",
       "                .text('95.75%');</script>"
      ]
     },
     "metadata": {},
     "output_type": "display_data"
    },
    {
     "data": {
      "text/html": [
       "<script type=\"text/javascript\">$('.code-d011f4ab-8621-4573-a79e-22effcef33df').closest('.output').find('.output_area').each((i,el)=>{ if (i > 1) $(el).remove(); });</script>"
      ]
     },
     "metadata": {},
     "output_type": "display_data"
    },
    {
     "data": {
      "text/html": [
       "<script type=\"text/javascript\">$('.the-bar.progress .progress-bar')\n",
       "                .css('width','96.05%')\n",
       "                .prop('aria-valuenow',96.05)\n",
       "                .text('96.05%');</script>"
      ]
     },
     "metadata": {},
     "output_type": "display_data"
    },
    {
     "data": {
      "text/html": [
       "<script type=\"text/javascript\">$('.code-d011f4ab-8621-4573-a79e-22effcef33df').closest('.output').find('.output_area').each((i,el)=>{ if (i > 1) $(el).remove(); });</script>"
      ]
     },
     "metadata": {},
     "output_type": "display_data"
    },
    {
     "data": {
      "text/html": [
       "<script type=\"text/javascript\">$('.the-bar.progress .progress-bar')\n",
       "                .css('width','96.34%')\n",
       "                .prop('aria-valuenow',96.34)\n",
       "                .text('96.34%');</script>"
      ]
     },
     "metadata": {},
     "output_type": "display_data"
    },
    {
     "data": {
      "text/html": [
       "<script type=\"text/javascript\">$('.code-d011f4ab-8621-4573-a79e-22effcef33df').closest('.output').find('.output_area').each((i,el)=>{ if (i > 1) $(el).remove(); });</script>"
      ]
     },
     "metadata": {},
     "output_type": "display_data"
    },
    {
     "data": {
      "text/html": [
       "<script type=\"text/javascript\">$('.the-bar.progress .progress-bar')\n",
       "                .css('width','96.63%')\n",
       "                .prop('aria-valuenow',96.63)\n",
       "                .text('96.63%');</script>"
      ]
     },
     "metadata": {},
     "output_type": "display_data"
    },
    {
     "data": {
      "text/html": [
       "<script type=\"text/javascript\">$('.code-d011f4ab-8621-4573-a79e-22effcef33df').closest('.output').find('.output_area').each((i,el)=>{ if (i > 1) $(el).remove(); });</script>"
      ]
     },
     "metadata": {},
     "output_type": "display_data"
    },
    {
     "data": {
      "text/html": [
       "<script type=\"text/javascript\">$('.the-bar.progress .progress-bar')\n",
       "                .css('width','96.93%')\n",
       "                .prop('aria-valuenow',96.93)\n",
       "                .text('96.93%');</script>"
      ]
     },
     "metadata": {},
     "output_type": "display_data"
    },
    {
     "data": {
      "text/html": [
       "<script type=\"text/javascript\">$('.code-d011f4ab-8621-4573-a79e-22effcef33df').closest('.output').find('.output_area').each((i,el)=>{ if (i > 1) $(el).remove(); });</script>"
      ]
     },
     "metadata": {},
     "output_type": "display_data"
    },
    {
     "data": {
      "text/html": [
       "<script type=\"text/javascript\">$('.the-bar.progress .progress-bar')\n",
       "                .css('width','97.22%')\n",
       "                .prop('aria-valuenow',97.22)\n",
       "                .text('97.22%');</script>"
      ]
     },
     "metadata": {},
     "output_type": "display_data"
    },
    {
     "data": {
      "text/html": [
       "<script type=\"text/javascript\">$('.code-d011f4ab-8621-4573-a79e-22effcef33df').closest('.output').find('.output_area').each((i,el)=>{ if (i > 1) $(el).remove(); });</script>"
      ]
     },
     "metadata": {},
     "output_type": "display_data"
    },
    {
     "data": {
      "text/html": [
       "<script type=\"text/javascript\">$('.the-bar.progress .progress-bar')\n",
       "                .css('width','97.52%')\n",
       "                .prop('aria-valuenow',97.52)\n",
       "                .text('97.52%');</script>"
      ]
     },
     "metadata": {},
     "output_type": "display_data"
    },
    {
     "data": {
      "text/html": [
       "<script type=\"text/javascript\">$('.code-d011f4ab-8621-4573-a79e-22effcef33df').closest('.output').find('.output_area').each((i,el)=>{ if (i > 1) $(el).remove(); });</script>"
      ]
     },
     "metadata": {},
     "output_type": "display_data"
    },
    {
     "data": {
      "text/html": [
       "<script type=\"text/javascript\">$('.the-bar.progress .progress-bar')\n",
       "                .css('width','97.81%')\n",
       "                .prop('aria-valuenow',97.81)\n",
       "                .text('97.81%');</script>"
      ]
     },
     "metadata": {},
     "output_type": "display_data"
    },
    {
     "data": {
      "text/html": [
       "<script type=\"text/javascript\">$('.code-d011f4ab-8621-4573-a79e-22effcef33df').closest('.output').find('.output_area').each((i,el)=>{ if (i > 1) $(el).remove(); });</script>"
      ]
     },
     "metadata": {},
     "output_type": "display_data"
    },
    {
     "data": {
      "text/html": [
       "<script type=\"text/javascript\">$('.the-bar.progress .progress-bar')\n",
       "                .css('width','98.11%')\n",
       "                .prop('aria-valuenow',98.11)\n",
       "                .text('98.11%');</script>"
      ]
     },
     "metadata": {},
     "output_type": "display_data"
    },
    {
     "data": {
      "text/html": [
       "<script type=\"text/javascript\">$('.code-d011f4ab-8621-4573-a79e-22effcef33df').closest('.output').find('.output_area').each((i,el)=>{ if (i > 1) $(el).remove(); });</script>"
      ]
     },
     "metadata": {},
     "output_type": "display_data"
    },
    {
     "data": {
      "text/html": [
       "<script type=\"text/javascript\">$('.the-bar.progress .progress-bar')\n",
       "                .css('width','98.40%')\n",
       "                .prop('aria-valuenow',98.40)\n",
       "                .text('98.40%');</script>"
      ]
     },
     "metadata": {},
     "output_type": "display_data"
    },
    {
     "data": {
      "text/html": [
       "<script type=\"text/javascript\">$('.code-d011f4ab-8621-4573-a79e-22effcef33df').closest('.output').find('.output_area').each((i,el)=>{ if (i > 1) $(el).remove(); });</script>"
      ]
     },
     "metadata": {},
     "output_type": "display_data"
    },
    {
     "data": {
      "text/html": [
       "<script type=\"text/javascript\">$('.the-bar.progress .progress-bar')\n",
       "                .css('width','98.70%')\n",
       "                .prop('aria-valuenow',98.70)\n",
       "                .text('98.70%');</script>"
      ]
     },
     "metadata": {},
     "output_type": "display_data"
    },
    {
     "data": {
      "text/html": [
       "<script type=\"text/javascript\">$('.code-d011f4ab-8621-4573-a79e-22effcef33df').closest('.output').find('.output_area').each((i,el)=>{ if (i > 1) $(el).remove(); });</script>"
      ]
     },
     "metadata": {},
     "output_type": "display_data"
    },
    {
     "data": {
      "text/html": [
       "<script type=\"text/javascript\">$('.the-bar.progress .progress-bar')\n",
       "                .css('width','98.99%')\n",
       "                .prop('aria-valuenow',98.99)\n",
       "                .text('98.99%');</script>"
      ]
     },
     "metadata": {},
     "output_type": "display_data"
    },
    {
     "data": {
      "text/html": [
       "<script type=\"text/javascript\">$('.code-d011f4ab-8621-4573-a79e-22effcef33df').closest('.output').find('.output_area').each((i,el)=>{ if (i > 1) $(el).remove(); });</script>"
      ]
     },
     "metadata": {},
     "output_type": "display_data"
    },
    {
     "data": {
      "text/html": [
       "<script type=\"text/javascript\">$('.the-bar.progress .progress-bar')\n",
       "                .css('width','99.29%')\n",
       "                .prop('aria-valuenow',99.29)\n",
       "                .text('99.29%');</script>"
      ]
     },
     "metadata": {},
     "output_type": "display_data"
    },
    {
     "data": {
      "text/html": [
       "<script type=\"text/javascript\">$('.code-d011f4ab-8621-4573-a79e-22effcef33df').closest('.output').find('.output_area').each((i,el)=>{ if (i > 1) $(el).remove(); });</script>"
      ]
     },
     "metadata": {},
     "output_type": "display_data"
    },
    {
     "data": {
      "text/html": [
       "<script type=\"text/javascript\">$('.the-bar.progress .progress-bar')\n",
       "                .css('width','99.58%')\n",
       "                .prop('aria-valuenow',99.58)\n",
       "                .text('99.58%');</script>"
      ]
     },
     "metadata": {},
     "output_type": "display_data"
    },
    {
     "data": {
      "text/html": [
       "<script type=\"text/javascript\">$('.code-d011f4ab-8621-4573-a79e-22effcef33df').closest('.output').find('.output_area').each((i,el)=>{ if (i > 1) $(el).remove(); });</script>"
      ]
     },
     "metadata": {},
     "output_type": "display_data"
    },
    {
     "data": {
      "text/html": [
       "<script type=\"text/javascript\">$('.the-bar.progress .progress-bar')\n",
       "                .css('width','99.88%')\n",
       "                .prop('aria-valuenow',99.88)\n",
       "                .text('99.88%');</script>"
      ]
     },
     "metadata": {},
     "output_type": "display_data"
    },
    {
     "data": {
      "text/html": [
       "<script type=\"text/javascript\">$('.code-d011f4ab-8621-4573-a79e-22effcef33df').closest('.output').find('.output_area').each((i,el)=>{ if (i > 1) $(el).remove(); });</script>"
      ]
     },
     "metadata": {},
     "output_type": "display_data"
    },
    {
     "data": {
      "text/html": [
       "<script type=\"text/javascript\">$('.the-bar.progress .progress-bar')\n",
       "                .css('width','100.00%')\n",
       "                .prop('aria-valuenow',100.00)\n",
       "                .text('100.00%');</script>"
      ]
     },
     "metadata": {},
     "output_type": "display_data"
    },
    {
     "data": {
      "text/html": [
       "<script type=\"text/javascript\">$('.code-d011f4ab-8621-4573-a79e-22effcef33df').closest('.output').find('.output_area').each((i,el)=>{ if (i > 1) $(el).remove(); });</script>"
      ]
     },
     "metadata": {},
     "output_type": "display_data"
    },
    {
     "data": {
      "text/html": [
       "<script type=\"text/javascript\">$('.the-bar.progress .progress-bar')\n",
       "                .css('width','100.00%')\n",
       "                .prop('aria-valuenow',100.00)\n",
       "                .text('100.00%');</script>"
      ]
     },
     "metadata": {},
     "output_type": "display_data"
    },
    {
     "data": {
      "text/html": [
       "<script type=\"text/javascript\">$('.code-d011f4ab-8621-4573-a79e-22effcef33df').closest('.output').find('.output_area').each((i,el)=>{ if (i > 1) $(el).remove(); });</script>"
      ]
     },
     "metadata": {},
     "output_type": "display_data"
    },
    {
     "data": {
      "text/html": [
       "<img src=\"test.png\"></img>"
      ]
     },
     "metadata": {},
     "output_type": "display_data"
    }
   ],
   "source": [
    "DownloadFileAsync \n",
    "    \"https://allhdwallpapers.com/wp-content/uploads/2015/06/The-Witcher-3-game-2.png\" \"test.png\" \n",
    "    (CancellationToken()) (progLog()) (new HttpClient())\n",
    "|> Async.RunSynchronously\n",
    "\n",
    "img.[\"src\",\"test.png\"] |> display"
   ]
  },
  {
   "cell_type": "code",
   "execution_count": null,
   "metadata": {},
   "outputs": [],
   "source": [
    "open FSharpPocketViewTags \n",
    "\n",
    "let inline (=>) (key:string) value = key,box value\n",
    "\n",
    "type Style([<ParamArray>]props: (string*obj)[]) =\n",
    "    let _props = props\n",
    "    override _.ToString() =\n",
    "        let result = Array.fold (fun state (key,value) -> sprintf \"%s; %s: %O\" state key value) null _props\n",
    "        result.Trim([|';';' '|])\n",
    "    member x.ToTuple() =\n",
    "        \"style\" => x.ToString()\n",
    "\n",
    "let prkogressBar className = \n",
    "    div.[\"class\",className].\n",
    "        [\"style\",\"border: solid orange 1px; border-radius: 5px;padding: 0\"].\n",
    "        innerHTML (\n",
    "            span.[\"class\",\"pbar\"].\n",
    "                 [\"style\",\"background-color:lime;text-align: right; margin: -1px;\"].\n",
    "                 innerHTML\n",
    "                    (span.[\"class\",\"label-text\"].innerHTML(\"0.0 %\") )\n",
    "        )\n",
    "        \n",
    "div.[\"id\",\"Scar\"].\n",
    "    [\"style\",Style(\"border\"=>\"solid red 1px\",\"padding\"=>\"10px\")].\n",
    "    innerHTML\n",
    "        [div.[\"style\",Style(\"border\"=>\"solid green 3px\",\"padding\"=>\"10px\")]\n",
    "         div.[\"style\", \"padding:10px;background-color:blue\"]]\n",
    "//|> display\n",
    "\n",
    "Javascript(\"$('#Scar>div:last-child').css('background-color','brown').text(jQuery.fn.jquery);\")"
   ]
  },
  {
   "cell_type": "code",
   "execution_count": null,
   "metadata": {},
   "outputs": [],
   "source": []
  }
 ],
 "metadata": {
  "kernelspec": {
   "display_name": ".NET (F#)",
   "language": "F#",
   "name": ".net-fsharp"
  },
  "language_info": {
   "file_extension": ".fs",
   "mimetype": "text/x-fsharp",
   "name": "C#",
   "pygments_lexer": "fsharp",
   "version": "4.5"
  }
 },
 "nbformat": 4,
 "nbformat_minor": 2
}
