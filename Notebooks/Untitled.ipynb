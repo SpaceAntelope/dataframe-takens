{
 "cells": [
  {
   "cell_type": "code",
   "execution_count": 1,
   "metadata": {},
   "outputs": [
    {
     "data": {
      "text/html": [
       "Installing package System.Text.Json.done!"
      ]
     },
     "metadata": {},
     "output_type": "display_data"
    }
   ],
   "source": [
    "#r \"nuget:System.Text.Json\"\n",
    "open System.Text.Json"
   ]
  },
  {
   "cell_type": "code",
   "execution_count": null,
   "metadata": {},
   "outputs": [],
   "source": [
    "//#r @\"C:\\Program Files (x86)\\dotnet\\shared\\Microsoft.NETCore.App\\3.1.0\\System.Text.Json.dll\"\n",
    "#r @\"C:\\Users\\arist\\.nuget\\packages\\system.text.json\\4.7.0\\lib\\net461\\System.Text.Json.dll\""
   ]
  },
  {
   "cell_type": "code",
   "execution_count": 2,
   "metadata": {},
   "outputs": [],
   "source": [
    "open System.Text.Json\n",
    "open System.Text.Json.Serialization\n",
    "open System\n",
    "open System.IO\n",
    "open System.Net.Http\n",
    "open System.Net.Http.Headers"
   ]
  },
  {
   "cell_type": "code",
   "execution_count": 3,
   "metadata": {},
   "outputs": [],
   "source": [
    "let BaseApiUrl = \"https://www.kaggle.com/api/v1/\"\n",
    "\n",
    "type AuthorizedClient = AuthorizedClient of HttpClient"
   ]
  },
  {
   "cell_type": "code",
   "execution_count": 4,
   "metadata": {},
   "outputs": [
    {
     "ename": "Unhandled Exception",
     "evalue": "input.fsx (1,1)-(1,1) interactive error Could not load file or assembly 'System.Text.Json, Version=4.0.1.0, Culture=neutral, PublicKeyToken=cc7b13ffcd2ddd51'.",
     "output_type": "error",
     "traceback": [
      "input.fsx (1,1)-(1,1) interactive error Could not load file or assembly 'System.Text.Json, Version=4.0.1.0, Culture=neutral, PublicKeyToken=cc7b13ffcd2ddd51'."
     ]
    }
   ],
   "source": [
    "type Credentials =\n",
    "    { Username: string\n",
    "      Key: string }\n",
    "    static member LoadFrom(path: string): Credentials =\n",
    "        use reader = new StreamReader(path)\n",
    "        let json = reader.ReadToEnd()\n",
    "        JsonSerializer.Deserialize(json)"
   ]
  },
  {
   "cell_type": "code",
   "execution_count": 12,
   "metadata": {},
   "outputs": [
    {
     "ename": "Unhandled Exception",
     "evalue": "input.fsx (1,28)-(1,39) typecheck error The type 'Credentials' is not defined.\ninput.fsx (3,25)-(3,38) typecheck error Lookup on object of indeterminate type based on information prior to this program point. A type annotation may be needed prior to this program point to constrain the type of the object. This may allow the lookup to be resolved.\ninput.fsx (3,39)-(3,47) typecheck error Lookup on object of indeterminate type based on information prior to this program point. A type annotation may be needed prior to this program point to constrain the type of the object. This may allow the lookup to be resolved.",
     "output_type": "error",
     "traceback": [
      "input.fsx (1,28)-(1,39) typecheck error The type 'Credentials' is not defined.\ninput.fsx (3,25)-(3,38) typecheck error Lookup on object of indeterminate type based on information prior to this program point. A type annotation may be needed prior to this program point to constrain the type of the object. This may allow the lookup to be resolved.\ninput.fsx (3,39)-(3,47) typecheck error Lookup on object of indeterminate type based on information prior to this program point. A type annotation may be needed prior to this program point to constrain the type of the object. This may allow the lookup to be resolved."
     ]
    }
   ],
   "source": [
    "let AuthoRizedClient(auth: Credentials) =\n",
    "    let authToken =\n",
    "        sprintf \"%s:%s\" auth.Username auth.Key\n",
    "        |> Text.ASCIIEncoding.ASCII.GetBytes\n",
    "        |> Convert.ToBase64String\n",
    "\n",
    "    let client = new HttpClient()\n",
    "    client.DefaultRequestHeaders.Authorization <- AuthenticationHeaderValue(\"Basic\", authToken)\n",
    "\n",
    "    AuthorizedClient client"
   ]
  },
  {
   "cell_type": "code",
   "execution_count": 13,
   "metadata": {},
   "outputs": [],
   "source": [
    "let DownLoadFileAsync owner dataset filename destinationFolder (AuthorizedClient client) =\n",
    "    let url = sprintf \"%sdatasets/download/%s/%s/%s\" BaseApiUrl owner dataset filename\n",
    "    async {\n",
    "        use! stream = client.GetStreamAsync(url) |> Async.AwaitTask\n",
    "        use fstream = new FileStream(Path.Combine(destinationFolder, filename), FileMode.CreateNew)\n",
    "        let! _ = stream.CopyToAsync fstream |> Async.AwaitTask\n",
    "        fstream.Close()\n",
    "        stream.Close()\n",
    "    }"
   ]
  },
  {
   "cell_type": "code",
   "execution_count": null,
   "metadata": {},
   "outputs": [],
   "source": []
  }
 ],
 "metadata": {
  "kernelspec": {
   "display_name": ".NET (F#)",
   "language": "F#",
   "name": ".net-fsharp"
  },
  "language_info": {
   "file_extension": ".fs",
   "mimetype": "text/x-fsharp",
   "name": "C#",
   "pygments_lexer": "fsharp",
   "version": "4.5"
  }
 },
 "nbformat": 4,
 "nbformat_minor": 2
}
