{
 "cells": [
  {
   "cell_type": "code",
   "execution_count": 21,
   "metadata": {},
   "outputs": [],
   "source": [
    "open System.Net.Http\n",
    "open System.Text.Json\n",
    "open System.Text.Json.Serialization\n",
    "open System\n",
    "open System.IO\n",
    "open System.Net.Http.Headers"
   ]
  },
  {
   "cell_type": "code",
   "execution_count": null,
   "metadata": {},
   "outputs": [],
   "source": [
    "type Credentials() =\n",
    "    member val username: string = null with get, set \n",
    "    member val key: string = null with get,set\n",
    "      \n",
    "    static member LoadFrom(path: string): Credentials =\n",
    "        use reader = new StreamReader(path)\n",
    "        let json = reader.ReadToEnd()\n",
    "        JsonSerializer.Deserialize<Credentials>(json)"
   ]
  },
  {
   "cell_type": "code",
   "execution_count": null,
   "metadata": {},
   "outputs": [],
   "source": [
    "let creds = Credentials.LoadFrom(\"kaggle.json\")\n",
    "creds"
   ]
  },
  {
   "cell_type": "code",
   "execution_count": null,
   "metadata": {},
   "outputs": [],
   "source": [
    "let BaseApiUrl = \"https://www.kaggle.com/api/v1/\"\n",
    "\n",
    "type AuthorizedClient = AuthorizedClient of HttpClient"
   ]
  },
  {
   "cell_type": "code",
   "execution_count": null,
   "metadata": {},
   "outputs": [],
   "source": [
    "let CreateAuthorizedClient(auth: Credentials) =\n",
    "    let authToken =\n",
    "        sprintf \"%s:%s\" auth.username auth.key\n",
    "        |> Text.ASCIIEncoding.ASCII.GetBytes\n",
    "        |> Convert.ToBase64String\n",
    "\n",
    "    let client = new HttpClient()\n",
    "    client.DefaultRequestHeaders.Authorization <- AuthenticationHeaderValue(\"Basic\", authToken)\n",
    "\n",
    "    AuthorizedClient client\n",
    "\n",
    "let DownLoadFileAsync (urlPath: string[]) destinationFolder (AuthorizedClient client) =\n",
    "    let url = sprintf \"%sdatasets/download/%s\" BaseApiUrl <| String.Join(\"/\", urlPath)\n",
    "    let filename = urlPath |> Array.last\n",
    "\n",
    "    async {\n",
    "        use! stream = client.GetStreamAsync(url) |> Async.AwaitTask\n",
    "        use fstream = new FileStream(Path.Combine(destinationFolder, filename), FileMode.CreateNew)\n",
    "        let! _ = stream.CopyToAsync fstream |> Async.AwaitTask\n",
    "        fstream.Close()\n",
    "        stream.Close()\n",
    "    }"
   ]
  },
  {
   "cell_type": "code",
   "execution_count": null,
   "metadata": {},
   "outputs": [],
   "source": [
    "let authClient = CreateAuthorizedClient creds\n",
    "let (AuthorizedClient client) = authClient"
   ]
  },
  {
   "cell_type": "code",
   "execution_count": null,
   "metadata": {},
   "outputs": [],
   "source": [
    "DownLoadFileAsync [|\"selfishgene\";\"historical-hourly-weather-data.zip\"|] \"./\" authClient\n",
    "|> Async.RunSynchronously\n"
   ]
  },
  {
   "cell_type": "code",
   "execution_count": 22,
   "metadata": {},
   "outputs": [],
   "source": [
    "let DownloadFileAsync \n",
    "        (url: string) (destinationFile: string) cancellationToken \n",
    "        (report: int64 * float -> unit) (client: HttpClient) =\n",
    "        async {\n",
    "            let bufferLength = 4092\n",
    "            use! response = client.GetAsync(url, HttpCompletionOption.ResponseHeadersRead, cancellationToken)\n",
    "                            |> Async.AwaitTask\n",
    "            \n",
    "            response.EnsureSuccessStatusCode() |> ignore\n",
    "\n",
    "            let total =\n",
    "                if response.Content.Headers.ContentLength.HasValue\n",
    "                then response.Content.Headers.ContentLength.Value\n",
    "                else -1L\n",
    "                |> float\n",
    "\n",
    "            use! contentStream = response.Content.ReadAsStreamAsync() |> Async.AwaitTask\n",
    "            use fileStream =\n",
    "                new FileStream(destinationFile, FileMode.Create, FileAccess.Write, FileShare.None, bufferLength, true)\n",
    "\n",
    "            let mutable totalRead = 0L\n",
    "            let mutable totalReads = 0L\n",
    "            let mutable isMoreToRead = true\n",
    "            let buffer = Array.create bufferLength 0uy\n",
    "\n",
    "            while isMoreToRead && not cancellationToken.IsCancellationRequested do\n",
    "                let! read = contentStream.ReadAsync(buffer, 0, bufferLength) |> Async.AwaitTask\n",
    "                if read > 0 then\n",
    "                    do! fileStream.WriteAsync(buffer, 0, read) |> Async.AwaitTask\n",
    "                    totalRead <- totalRead + int64 read\n",
    "                    totalReads <- totalReads + 1L\n",
    "                else\n",
    "                    isMoreToRead <- false\n",
    "\n",
    "                report (totalRead, float totalRead / total)\n",
    "        }"
   ]
  },
  {
   "cell_type": "code",
   "execution_count": 18,
   "metadata": {},
   "outputs": [],
   "source": [
    "open System\n",
    "open Microsoft.DotNet.Interactive.FSharp\n",
    "open Microsoft.DotNet.Interactive\n",
    "open Microsoft.AspNetCore.Html \n",
    "open FSharpKernelHelpers \n",
    "\n",
    "let progLog (bytesRead : int64,percentage: float) = \n",
    "    if int (percentage * 100.) % 10 = 0\n",
    "    then \n",
    "        display(HtmlString(\"<span style='width: 3em; backroung-color: green; padding: 1em'><span>\")) |> ignore\n",
    "    "
   ]
  },
  {
   "cell_type": "code",
   "execution_count": 25,
   "metadata": {},
   "outputs": [
    {
     "data": {
      "text/html": [
       "<span style='width: 3em; backroung-color: green; padding: 1em'><span>"
      ]
     },
     "metadata": {},
     "output_type": "display_data"
    },
    {
     "data": {
      "text/html": [
       "<span style='width: 3em; backroung-color: green; padding: 1em'><span>"
      ]
     },
     "metadata": {},
     "output_type": "display_data"
    },
    {
     "data": {
      "text/html": [
       "<span style='width: 3em; backroung-color: green; padding: 1em'><span>"
      ]
     },
     "metadata": {},
     "output_type": "display_data"
    },
    {
     "data": {
      "text/html": [
       "<span style='width: 3em; backroung-color: green; padding: 1em'><span>"
      ]
     },
     "metadata": {},
     "output_type": "display_data"
    },
    {
     "data": {
      "text/html": [
       "<span style='width: 3em; backroung-color: green; padding: 1em'><span>"
      ]
     },
     "metadata": {},
     "output_type": "display_data"
    },
    {
     "data": {
      "text/html": [
       "<span style='width: 3em; backroung-color: green; padding: 1em'><span>"
      ]
     },
     "metadata": {},
     "output_type": "display_data"
    },
    {
     "data": {
      "text/html": [
       "<span style='width: 3em; backroung-color: green; padding: 1em'><span>"
      ]
     },
     "metadata": {},
     "output_type": "display_data"
    },
    {
     "data": {
      "text/html": [
       "<span style='width: 3em; backroung-color: green; padding: 1em'><span>"
      ]
     },
     "metadata": {},
     "output_type": "display_data"
    },
    {
     "data": {
      "text/html": [
       "<span style='width: 3em; backroung-color: green; padding: 1em'><span>"
      ]
     },
     "metadata": {},
     "output_type": "display_data"
    },
    {
     "data": {
      "text/html": [
       "<span style='width: 3em; backroung-color: green; padding: 1em'><span>"
      ]
     },
     "metadata": {},
     "output_type": "display_data"
    },
    {
     "data": {
      "text/html": [
       "<span style='width: 3em; backroung-color: green; padding: 1em'><span>"
      ]
     },
     "metadata": {},
     "output_type": "display_data"
    },
    {
     "data": {
      "text/html": [
       "<span style='width: 3em; backroung-color: green; padding: 1em'><span>"
      ]
     },
     "metadata": {},
     "output_type": "display_data"
    },
    {
     "data": {
      "text/html": [
       "<span style='width: 3em; backroung-color: green; padding: 1em'><span>"
      ]
     },
     "metadata": {},
     "output_type": "display_data"
    },
    {
     "data": {
      "text/html": [
       "<span style='width: 3em; backroung-color: green; padding: 1em'><span>"
      ]
     },
     "metadata": {},
     "output_type": "display_data"
    },
    {
     "data": {
      "text/html": [
       "<span style='width: 3em; backroung-color: green; padding: 1em'><span>"
      ]
     },
     "metadata": {},
     "output_type": "display_data"
    },
    {
     "data": {
      "text/html": [
       "<span style='width: 3em; backroung-color: green; padding: 1em'><span>"
      ]
     },
     "metadata": {},
     "output_type": "display_data"
    },
    {
     "data": {
      "text/html": [
       "<span style='width: 3em; backroung-color: green; padding: 1em'><span>"
      ]
     },
     "metadata": {},
     "output_type": "display_data"
    },
    {
     "data": {
      "text/html": [
       "<span style='width: 3em; backroung-color: green; padding: 1em'><span>"
      ]
     },
     "metadata": {},
     "output_type": "display_data"
    },
    {
     "data": {
      "text/html": [
       "<span style='width: 3em; backroung-color: green; padding: 1em'><span>"
      ]
     },
     "metadata": {},
     "output_type": "display_data"
    },
    {
     "data": {
      "text/html": [
       "<span style='width: 3em; backroung-color: green; padding: 1em'><span>"
      ]
     },
     "metadata": {},
     "output_type": "display_data"
    },
    {
     "data": {
      "text/html": [
       "<span style='width: 3em; backroung-color: green; padding: 1em'><span>"
      ]
     },
     "metadata": {},
     "output_type": "display_data"
    },
    {
     "data": {
      "text/html": [
       "<span style='width: 3em; backroung-color: green; padding: 1em'><span>"
      ]
     },
     "metadata": {},
     "output_type": "display_data"
    },
    {
     "data": {
      "text/html": [
       "<span style='width: 3em; backroung-color: green; padding: 1em'><span>"
      ]
     },
     "metadata": {},
     "output_type": "display_data"
    },
    {
     "data": {
      "text/html": [
       "<span style='width: 3em; backroung-color: green; padding: 1em'><span>"
      ]
     },
     "metadata": {},
     "output_type": "display_data"
    },
    {
     "data": {
      "text/html": [
       "<span style='width: 3em; backroung-color: green; padding: 1em'><span>"
      ]
     },
     "metadata": {},
     "output_type": "display_data"
    },
    {
     "data": {
      "text/html": [
       "<span style='width: 3em; backroung-color: green; padding: 1em'><span>"
      ]
     },
     "metadata": {},
     "output_type": "display_data"
    },
    {
     "data": {
      "text/html": [
       "<span style='width: 3em; backroung-color: green; padding: 1em'><span>"
      ]
     },
     "metadata": {},
     "output_type": "display_data"
    },
    {
     "data": {
      "text/html": [
       "<span style='width: 3em; backroung-color: green; padding: 1em'><span>"
      ]
     },
     "metadata": {},
     "output_type": "display_data"
    },
    {
     "data": {
      "text/html": [
       "<span style='width: 3em; backroung-color: green; padding: 1em'><span>"
      ]
     },
     "metadata": {},
     "output_type": "display_data"
    },
    {
     "data": {
      "text/html": [
       "<span style='width: 3em; backroung-color: green; padding: 1em'><span>"
      ]
     },
     "metadata": {},
     "output_type": "display_data"
    },
    {
     "data": {
      "text/html": [
       "<span style='width: 3em; backroung-color: green; padding: 1em'><span>"
      ]
     },
     "metadata": {},
     "output_type": "display_data"
    },
    {
     "data": {
      "text/html": [
       "<span style='width: 3em; backroung-color: green; padding: 1em'><span>"
      ]
     },
     "metadata": {},
     "output_type": "display_data"
    },
    {
     "data": {
      "text/html": [
       "<span style='width: 3em; backroung-color: green; padding: 1em'><span>"
      ]
     },
     "metadata": {},
     "output_type": "display_data"
    },
    {
     "data": {
      "text/html": [
       "<span style='width: 3em; backroung-color: green; padding: 1em'><span>"
      ]
     },
     "metadata": {},
     "output_type": "display_data"
    },
    {
     "data": {
      "text/html": [
       "<span style='width: 3em; backroung-color: green; padding: 1em'><span>"
      ]
     },
     "metadata": {},
     "output_type": "display_data"
    },
    {
     "data": {
      "text/html": [
       "<span style='width: 3em; backroung-color: green; padding: 1em'><span>"
      ]
     },
     "metadata": {},
     "output_type": "display_data"
    },
    {
     "data": {
      "text/html": [
       "<span style='width: 3em; backroung-color: green; padding: 1em'><span>"
      ]
     },
     "metadata": {},
     "output_type": "display_data"
    },
    {
     "data": {
      "text/html": [
       "<span style='width: 3em; backroung-color: green; padding: 1em'><span>"
      ]
     },
     "metadata": {},
     "output_type": "display_data"
    },
    {
     "data": {
      "text/html": [
       "<span style='width: 3em; backroung-color: green; padding: 1em'><span>"
      ]
     },
     "metadata": {},
     "output_type": "display_data"
    },
    {
     "data": {
      "text/html": [
       "<span style='width: 3em; backroung-color: green; padding: 1em'><span>"
      ]
     },
     "metadata": {},
     "output_type": "display_data"
    },
    {
     "data": {
      "text/html": [
       "<span style='width: 3em; backroung-color: green; padding: 1em'><span>"
      ]
     },
     "metadata": {},
     "output_type": "display_data"
    },
    {
     "data": {
      "text/html": [
       "<span style='width: 3em; backroung-color: green; padding: 1em'><span>"
      ]
     },
     "metadata": {},
     "output_type": "display_data"
    },
    {
     "data": {
      "text/html": [
       "<span style='width: 3em; backroung-color: green; padding: 1em'><span>"
      ]
     },
     "metadata": {},
     "output_type": "display_data"
    },
    {
     "data": {
      "text/html": [
       "<span style='width: 3em; backroung-color: green; padding: 1em'><span>"
      ]
     },
     "metadata": {},
     "output_type": "display_data"
    },
    {
     "data": {
      "text/html": [
       "<span style='width: 3em; backroung-color: green; padding: 1em'><span>"
      ]
     },
     "metadata": {},
     "output_type": "display_data"
    },
    {
     "data": {
      "text/html": [
       "<span style='width: 3em; backroung-color: green; padding: 1em'><span>"
      ]
     },
     "metadata": {},
     "output_type": "display_data"
    },
    {
     "data": {
      "text/html": [
       "<span style='width: 3em; backroung-color: green; padding: 1em'><span>"
      ]
     },
     "metadata": {},
     "output_type": "display_data"
    },
    {
     "data": {
      "text/html": [
       "<span style='width: 3em; backroung-color: green; padding: 1em'><span>"
      ]
     },
     "metadata": {},
     "output_type": "display_data"
    },
    {
     "data": {
      "text/html": [
       "<span style='width: 3em; backroung-color: green; padding: 1em'><span>"
      ]
     },
     "metadata": {},
     "output_type": "display_data"
    },
    {
     "data": {
      "text/html": [
       "<span style='width: 3em; backroung-color: green; padding: 1em'><span>"
      ]
     },
     "metadata": {},
     "output_type": "display_data"
    },
    {
     "data": {
      "text/html": [
       "<span style='width: 3em; backroung-color: green; padding: 1em'><span>"
      ]
     },
     "metadata": {},
     "output_type": "display_data"
    },
    {
     "data": {
      "text/html": [
       "<null>"
      ]
     },
     "execution_count": 25,
     "metadata": {},
     "output_type": "execute_result"
    }
   ],
   "source": [
    "DownloadFileAsync \"https://i.redd.it/u5pz59lmxocy.png\" \"./jupyter-test.png\" (CancellationToken()) progLog (HttpClient())\n",
    "|> Async.RunSynchronously"
   ]
  },
  {
   "cell_type": "code",
   "execution_count": 24,
   "metadata": {},
   "outputs": [],
   "source": [
    "open System\n",
    "open System.Net.Http\n",
    "open System.Threading.Tasks\n",
    "open System.Threading"
   ]
  },
  {
   "cell_type": "code",
   "execution_count": null,
   "metadata": {},
   "outputs": [],
   "source": []
  }
 ],
 "metadata": {
  "kernelspec": {
   "display_name": ".NET (F#)",
   "language": "F#",
   "name": ".net-fsharp"
  },
  "language_info": {
   "file_extension": ".fs",
   "mimetype": "text/x-fsharp",
   "name": "C#",
   "pygments_lexer": "fsharp",
   "version": "4.5"
  }
 },
 "nbformat": 4,
 "nbformat_minor": 2
}
