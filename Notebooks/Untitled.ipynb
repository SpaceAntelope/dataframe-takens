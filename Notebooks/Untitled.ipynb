{
 "cells": [
  {
   "cell_type": "code",
   "execution_count": 1,
   "metadata": {},
   "outputs": [
    {
     "data": {
      "text/html": [
       "Installing package Accord.MachineLearning.done!"
      ]
     },
     "metadata": {},
     "output_type": "display_data"
    }
   ],
   "source": [
    "#r \"nuget:Accord.MachineLearning\"\n",
    "open Accord.MachineLearning"
   ]
  },
  {
   "cell_type": "code",
   "execution_count": 19,
   "metadata": {},
   "outputs": [],
   "source": [
    "let X = [|[|-1.0; -1.0|]; [|-2.0; -1.0|]; [|-3.; -2.|]; [|1.; 1.|]; [|2.; 1.|]; [|3.; 2.|]|]\n",
    "\n",
    "let inline const' x = fun (s : ^T) -> x"
   ]
  },
  {
   "cell_type": "code",
   "execution_count": 30,
   "metadata": {},
   "outputs": [],
   "source": [
    "let knn = KNearestNeighbors(2, X, Array.create (X.Length) 1)\n"
   ]
  },
  {
   "cell_type": "code",
   "execution_count": 54,
   "metadata": {},
   "outputs": [
    {
     "data": {
      "text/html": [
       "<table><thead><tr><th>Item1</th><th>Item2</th></tr></thead><tbody><tr><td>[ [ -1, -1 ], [ -2, -1 ], [ -3, -2 ], [ 1, 1 ], [ 2, 1 ], [ 3, 2 ] ]</td><td>[ [ 0, 1 ], [ 0, 1 ], [ 0, 1.4142135623730951 ], [ 0, 1 ], [ 0, 1 ], [ 0, 1.4142135623730951 ] ]</td></tr></tbody></table>"
      ]
     },
     "execution_count": 54,
     "metadata": {},
     "output_type": "execute_result"
    }
   ],
   "source": [
    "let distances (points: float[][]) (knn: KNearestNeighbors) = \n",
    "    [| for point in points do\n",
    "        let distance = \n",
    "            knn.GetNearestNeighbors point\n",
    "            |> fst\n",
    "            |> Array.map (fun nbr -> knn.Distance.Distance(nbr, point))\n",
    "        \n",
    "        yield (point, distance) |]\n",
    "    \n",
    "distances X knn |> Array.unzip"
   ]
  },
  {
   "cell_type": "code",
   "execution_count": 27,
   "metadata": {},
   "outputs": [
    {
     "data": {
      "text/html": [
       "<table><thead><tr><th><i>index</i></th><th>value</th></tr></thead><tbody><tr><td>0</td><td>4</td></tr><tr><td>1</td><td>4</td></tr><tr><td>2</td><td>4</td></tr><tr><td>3</td><td>4</td></tr><tr><td>4</td><td>4</td></tr></tbody></table>"
      ]
     },
     "execution_count": 27,
     "metadata": {},
     "output_type": "execute_result"
    }
   ],
   "source": [
    "Array.create<float> 5 4.0"
   ]
  },
  {
   "cell_type": "code",
   "execution_count": 42,
   "metadata": {},
   "outputs": [
    {
     "data": {
      "text/html": [
       "<table><thead><tr><th><i>index</i></th><th>value</th></tr></thead><tbody><tr><td>0</td><td>Distance</td></tr><tr><td>1</td><td>Distance</td></tr><tr><td>2</td><td>Distance</td></tr><tr><td>3</td><td>Distance</td></tr><tr><td>4</td><td>Distance</td></tr><tr><td>5</td><td>Similarity</td></tr><tr><td>6</td><td>Similarity</td></tr><tr><td>7</td><td>Similarity</td></tr><tr><td>8</td><td>Similarity</td></tr><tr><td>9</td><td>Equals</td></tr><tr><td>10</td><td>GetHashCode</td></tr><tr><td>11</td><td>ToString</td></tr><tr><td>12</td><td>GetType</td></tr></tbody></table>"
      ]
     },
     "execution_count": 42,
     "metadata": {},
     "output_type": "execute_result"
    }
   ],
   "source": [
    "knn.Distance.GetType().GetMethods() |> Array.map (fun m -> m.Name)"
   ]
  },
  {
   "cell_type": "code",
   "execution_count": 45,
   "metadata": {},
   "outputs": [
    {
     "data": {
      "text/plain": [
       "2.23606797749979"
      ]
     },
     "execution_count": 45,
     "metadata": {},
     "output_type": "execute_result"
    }
   ],
   "source": [
    "knn.Distance.Distance([|1.0;2.0|],[|0.;0.|])"
   ]
  },
  {
   "cell_type": "code",
   "execution_count": 47,
   "metadata": {},
   "outputs": [
    {
     "data": {
      "text/plain": [
       "KNearestNeighbors"
      ]
     },
     "execution_count": 47,
     "metadata": {},
     "output_type": "execute_result"
    }
   ],
   "source": [
    "knn.GetType().Name"
   ]
  },
  {
   "cell_type": "code",
   "execution_count": null,
   "metadata": {},
   "outputs": [],
   "source": []
  }
 ],
 "metadata": {
  "kernelspec": {
   "display_name": ".NET (F#)",
   "language": "F#",
   "name": ".net-fsharp"
  },
  "language_info": {
   "file_extension": ".fs",
   "mimetype": "text/x-fsharp",
   "name": "C#",
   "pygments_lexer": "fsharp",
   "version": "4.5"
  }
 },
 "nbformat": 4,
 "nbformat_minor": 2
}
