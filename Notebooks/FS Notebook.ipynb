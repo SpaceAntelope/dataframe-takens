{
 "cells": [
  {
   "cell_type": "markdown",
   "metadata": {},
   "source": [
    "https://github.com/dotnet/try/issues/688"
   ]
  },
  {
   "cell_type": "code",
   "execution_count": null,
   "metadata": {},
   "outputs": [],
   "source": [
    "#r \"nuget:Microsoft.Data.Analysis\"\n",
    "open Microsoft.Data.Analysis"
   ]
  },
  {
   "cell_type": "code",
   "execution_count": null,
   "metadata": {},
   "outputs": [],
   "source": [
    "#r @\"TakensTheorem.Core.dll\""
   ]
  },
  {
   "cell_type": "code",
   "execution_count": null,
   "metadata": {},
   "outputs": [],
   "source": [
    "//#r @\"C:\\Users\\cernu\\.nuget\\packages\\microsoft.data.analysis\\0.2.0\\lib\\netstandard2.0\\Microsoft.Data.Analysis.dll\""
   ]
  },
  {
   "cell_type": "code",
   "execution_count": null,
   "metadata": {},
   "outputs": [],
   "source": [
    "open System\n",
    "open TakensTheorem.Core\n",
    "open TakensTheorem.Core.ZipHelper"
   ]
  },
  {
   "cell_type": "code",
   "execution_count": 4,
   "metadata": {},
   "outputs": [],
   "source": [
    "let path = @\"C:\\Users\\cernu\\Documents\\Datasets\\historical-hourly-weather-data.zip\""
   ]
  },
  {
   "cell_type": "code",
   "execution_count": null,
   "metadata": {},
   "outputs": [],
   "source": [
    "let loader = new ZippedCsvLoader(path)"
   ]
  },
  {
   "cell_type": "code",
   "execution_count": null,
   "metadata": {},
   "outputs": [],
   "source": [
    "let cityTable = loader.ToDataFrame \"city_attributes.csv\"\n",
    "let temperatureDF = loader.ToDataFrame \"temperature.csv\"\n",
    "let indexName = temperatureDF.Columns.[0].Name"
   ]
  },
  {
   "cell_type": "code",
   "execution_count": null,
   "metadata": {},
   "outputs": [],
   "source": [
    "temperatureDF.[indexName] <- temperatureDF.[indexName]\n",
    "                             |> Seq.cast<string>\n",
    "                             |> Seq.map (DateTime.Parse)\n",
    "                             |> DataFrame.AsColumn indexName"
   ]
  },
  {
   "cell_type": "code",
   "execution_count": null,
   "metadata": {},
   "outputs": [],
   "source": [
    "//temperatureDF.[\"datetime\"].ElementwiseGreaterThanOrEqual<DateTime> (start)"
   ]
  },
  {
   "cell_type": "code",
   "execution_count": null,
   "metadata": {},
   "outputs": [],
   "source": [
    "let start = DateTime(2015, 6, 22)\n",
    "let stop = DateTime(2015, 8, 31)\n",
    "\n",
    "(* \n",
    "    temperatureDF.[\"datetime\"].ElementwiseGreaterThanOrEqual<DateTime> (start)\n",
    "    don't work for no dates yet\n",
    "*)\n",
    "    \n",
    "let dateFilterColumn = \n",
    "    temperatureDF.[indexName]\n",
    "    |> DataFrameColumn.AsArray<DateTime>\n",
    "    |> Array.map (fun dt -> dt >= start && dt <= stop)\n",
    "    |> DataFrame.AsColumn<bool> \"dateFilter\"\n",
    "    \n",
    "let weatherDataMontreal = \n",
    "    temperatureDF.Filter(dateFilterColumn).[\"Montreal\"]"
   ]
  },
  {
   "cell_type": "code",
   "execution_count": null,
   "metadata": {},
   "outputs": [],
   "source": [
    "temperatureDF |> DataFrame.Length\n",
    "weatherDataMontreal.Filter"
   ]
  },
  {
   "cell_type": "code",
   "execution_count": null,
   "metadata": {},
   "outputs": [],
   "source": [
    "// index unavailable at column level\n",
    "\n",
    "weatherDataMontreal \n",
    "|> DataFrameColumn.Plot<float>"
   ]
  },
  {
   "cell_type": "code",
   "execution_count": null,
   "metadata": {},
   "outputs": [],
   "source": [
    "(* subtracting null same as subtracting zero\n",
    " * in pandas both become NaN\n",
    " * therefore dropping na's after the fact\n",
    " * does little to trim the column\n",
    " *)\n",
    "let lowPassFilterSignalCol = weatherDataMontreal.Clone()\n",
    "\n",
    "weatherDataMontreal\n",
    "|> DataFrameColumn.Rolling<float> 24 (Seq.average)\n",
    "|> Seq.iteri (fun i value -> lowPassFilterSignalCol.[int64 (i+12)] <- Nullable value)\n",
    "\n",
    "let weatherDataMontrealFiltered = \n",
    "    weatherDataMontreal - lowPassFilterSignalCol \n",
    "    |> DataFrameColumn.Trim<float> 0.0\n",
    "\n",
    "weatherDataMontrealFiltered\n",
    "|> DataFrameColumn.Plot<float>"
   ]
  },
  {
   "cell_type": "code",
   "execution_count": null,
   "metadata": {
    "scrolled": false
   },
   "outputs": [],
   "source": [
    "\n",
    "let embeddedWeather = \n",
    "    Takens.Embedding<float> 5 2 weatherDataMontrealFiltered\n",
    "    |> Array.ofSeq\n",
    "   \n",
    "Chart.Plot(Scatter(x=embeddedWeather.[0], y=embeddedWeather.[1]))"
   ]
  },
  {
   "cell_type": "code",
   "execution_count": null,
   "metadata": {},
   "outputs": [],
   "source": [
    "let embeddedWeather3 = \n",
    "    Takens.Embedding<float> 6 3 weatherDataMontrealFiltered\n",
    "    |> Array.ofSeq\n",
    "    |> to2d\n",
    "\n",
    "//embeddedWeather3.GetType().Name\n",
    "Chart.Plot(Scatter3d(x=embeddedWeather3.[0,*], y=embeddedWeather3.[1,*], z=embeddedWeather3.[2,*], mode=\"lines\"))"
   ]
  },
  {
   "cell_type": "code",
   "execution_count": null,
   "metadata": {},
   "outputs": [],
   "source": [
    "(* No drop nulls for columns *)\n",
    "let l0 = temperatureDF.DropNulls(DropNullOptions.Any).Rows.Count\n",
    "let ln = temperatureDF.Rows.Count\n",
    "let l1 = weatherDataMontreal.Length\n",
    "let l2 = DataFrame(weatherDataMontreal).DropNulls(DropNullOptions.Any).Rows.Count\n",
    "let l3 = \n",
    "    weatherDataMontreal \n",
    "    |> DataFrameColumn.AsArray<Nullable<float>>\n",
    "    |> Seq.filter (fun value -> value <> Nullable()) \n",
    "    |> Seq.length\n",
    "\n",
    "let l4 = lowPassFilteredSignal |> Seq.length\n",
    "l0,ln,l1,l2,l3,l4, l3-l4"
   ]
  },
  {
   "cell_type": "code",
   "execution_count": null,
   "metadata": {},
   "outputs": [],
   "source": [
    "let weatherDataMontreal = weatherDataMontreal - "
   ]
  },
  {
   "cell_type": "code",
   "execution_count": null,
   "metadata": {},
   "outputs": [],
   "source": [
    "let roll = \n",
    "    DataFrame.LoadCsv(\n",
    "        filename=(@\"C:\\Users\\cernu\\Source\\Repos\\DS-AI\\TakensTheorem\\TakensTheorem.Test\\expected\\MontrealRollingWindow24Mean.csv\" :> string), \n",
    "        dataTypes=[|typeof<string>;typeof<single>|],\n",
    "        columnNames=[|\"datetime\";\"Montreal\"|],\n",
    "        header=true)\n",
    "    \n",
    "roll.Columns"
   ]
  },
  {
   "cell_type": "code",
   "execution_count": null,
   "metadata": {},
   "outputs": [],
   "source": [
    "Array.prepend"
   ]
  },
  {
   "cell_type": "code",
   "execution_count": null,
   "metadata": {},
   "outputs": [],
   "source": [
    "[1..15] |> Seq.windowed 5 |> Seq.map (printfn \"%A\") |> Array.ofSeq "
   ]
  },
  {
   "cell_type": "code",
   "execution_count": null,
   "metadata": {},
   "outputs": [],
   "source": [
    "[for h in [0. .. (16. - 1.)] do yield h.GetType().Name]"
   ]
  },
  {
   "cell_type": "code",
   "execution_count": null,
   "metadata": {},
   "outputs": [],
   "source": [
    "let Plot<'T when 'T :> ValueType and 'T: struct and 'T: (new: unit -> 'T)>(source: PrimitiveDataFrameColumn<'T>) =\n",
    "        Scatter(y = Seq.cast<'T> source) |> Chart.Plot"
   ]
  },
  {
   "cell_type": "code",
   "execution_count": 18,
   "metadata": {},
   "outputs": [],
   "source": [
    "let (!>) (source: DataFrameColumn) = source :?> PrimitiveDataFrameColumn<_>"
   ]
  },
  {
   "cell_type": "code",
   "execution_count": 6,
   "metadata": {},
   "outputs": [],
   "source": [
    "//let result : PrimitiveDataFrameColumn<float> =  !! temperatureDF.[\"Montreal\"] //|> Plot<float>\n",
    "let temp = DataFrame.LoadCsv(@\"C:\\Users\\cernu\\Source\\Repos\\DS-AI\\TakensTheorem\\TakensTheorem.Test\\data\\temperature.csv\")"
   ]
  },
  {
   "cell_type": "code",
   "execution_count": 13,
   "metadata": {},
   "outputs": [],
   "source": [
    "let Values<'T when 'T : (new : unit -> 'T) and 'T : struct and 'T :> ValueType> (source: PrimitiveDataFrameColumn<'T>)= \n",
    "    source |> Seq.cast<Nullable<'T>> |> Array.ofSeq"
   ]
  },
  {
   "cell_type": "code",
   "execution_count": 21,
   "metadata": {},
   "outputs": [],
   "source": [
    "let k : Nullable<single>[] = !> temp.[\"Montreal\"] |> Values<single>"
   ]
  },
  {
   "cell_type": "code",
   "execution_count": 24,
   "metadata": {},
   "outputs": [
    {
     "name": "stdout",
     "output_type": "stream",
     "text": [
      "<null>\n",
      "285.8299866f\n",
      "285.8346558f\n",
      "285.8477783f\n",
      "285.8609314f\n",
      "285.874054f\n",
      "285.887207f\n",
      "285.9003601f\n",
      "285.9134827f\n",
      "285.9266357f\n"
     ]
    },
    {
     "data": {
      "text/html": [
       "<null>"
      ]
     },
     "execution_count": 24,
     "metadata": {},
     "output_type": "execute_result"
    }
   ],
   "source": [
    "k |> Seq.take 10 |> Seq.iter (printfn \"%A\")"
   ]
  },
  {
   "cell_type": "code",
   "execution_count": null,
   "metadata": {},
   "outputs": [],
   "source": [
    "e"
   ]
  }
 ],
 "metadata": {
  "kernelspec": {
   "display_name": ".NET (F#)",
   "language": "F#",
   "name": ".net-fsharp"
  },
  "language_info": {
   "file_extension": ".fs",
   "mimetype": "text/x-fsharp",
   "name": "C#",
   "pygments_lexer": "fsharp",
   "version": "4.5"
  }
 },
 "nbformat": 4,
 "nbformat_minor": 2
}
