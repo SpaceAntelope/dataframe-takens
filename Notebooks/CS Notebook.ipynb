{
 "cells": [
  {
   "cell_type": "code",
   "execution_count": 2,
   "metadata": {},
   "outputs": [],
   "source": [
    "using System;\n",
    "using System.IO;\n",
    "using System.Linq;"
   ]
  },
  {
   "cell_type": "code",
   "execution_count": 3,
   "metadata": {},
   "outputs": [
    {
     "data": {
      "text/html": [
       "Installing package Microsoft.Data.Analysis, version 0.2.0...................done!"
      ]
     },
     "metadata": {},
     "output_type": "display_data"
    },
    {
     "data": {
      "text/html": [
       "Successfully added reference to package Microsoft.Data.Analysis, version 0.2.0"
      ]
     },
     "metadata": {},
     "output_type": "display_data"
    }
   ],
   "source": [
    "#r \"nuget:Microsoft.Data.Analysis,0.2.0\"\n",
    "using Microsoft.Data.Analysis;"
   ]
  },
  {
   "cell_type": "code",
   "execution_count": 4,
   "metadata": {},
   "outputs": [],
   "source": [
    "var mont = DataFrame.LoadCsv(@\"C:\\Users\\cernu\\Source\\Repos\\DS-AI\\TakensTheorem\\TakensTheorem.Test\\expected\\montreal0-25.csv\");"
   ]
  },
  {
   "cell_type": "code",
   "execution_count": 5,
   "metadata": {},
   "outputs": [
    {
     "data": {
      "text/html": [
       "<table><thead><tr><th><i>index</i></th><th>Length</th><th>LongLength</th><th>Rank</th><th>SyncRoot</th><th>IsReadOnly</th><th>IsFixedSize</th><th>IsSynchronized</th></tr></thead><tbody><tr><td>0</td><td>16</td><td>16</td><td>1</td><td>0&lt;null&gt;285.83285.83466285.84778285.86093285.87405285.8872285.90036285.91348285.92664285.93976285.9529285.96603285.9792285.99234</td><td>False</td><td>True</td><td>False</td></tr><tr><td>1</td><td>16</td><td>16</td><td>1</td><td>1285.87405285.8872285.90036285.91348285.92664285.93976285.9529285.96603285.9792285.99234286.00546286.01862286.03174286.0449286.058</td><td>False</td><td>True</td><td>False</td></tr></tbody></table>"
      ]
     },
     "execution_count": 5,
     "metadata": {},
     "output_type": "execute_result"
    }
   ],
   "source": [
    "mont.Rows.Select(row=>row.ToArray()).ToArray()"
   ]
  },
  {
   "cell_type": "code",
   "execution_count": 3,
   "metadata": {},
   "outputs": [
    {
     "data": {
      "text/html": [
       "<table><thead><tr><th><i>index</i></th><th>value</th></tr></thead><tbody><tr><td>0</td><td>5</td></tr><tr><td>1</td><td>6</td></tr><tr><td>2</td><td>7</td></tr><tr><td>3</td><td>8</td></tr><tr><td>4</td><td>9</td></tr><tr><td>5</td><td>10</td></tr><tr><td>6</td><td>11</td></tr><tr><td>7</td><td>12</td></tr><tr><td>8</td><td>13</td></tr><tr><td>9</td><td>14</td></tr></tbody></table>"
      ]
     },
     "execution_count": 3,
     "metadata": {},
     "output_type": "execute_result"
    }
   ],
   "source": [
    "Enumerable.Range(5,10)."
   ]
  },
  {
   "cell_type": "code",
   "execution_count": 4,
   "metadata": {},
   "outputs": [],
   "source": [
    "using System;\n",
    "using System.IO.Compression;"
   ]
  },
  {
   "cell_type": "code",
   "execution_count": null,
   "metadata": {},
   "outputs": [],
   "source": [
    "var path = @\"C:\\Users\\cernu\\Documents\\Datasets\\historical-hourly-weather-data.zip\";\n",
    "\n",
    "ZipFile.\n",
    "\n",
    "ZipFile.CreateFromDirectory(startPath, zipPath);\n",
    "\n",
    "ZipFile.ExtractToDirectory(zipPath, extractPath);"
   ]
  }
 ],
 "metadata": {
  "kernelspec": {
   "display_name": ".NET (C#)",
   "language": "C#",
   "name": ".net-csharp"
  },
  "language_info": {
   "file_extension": ".cs",
   "mimetype": "text/x-csharp",
   "name": "C#",
   "pygments_lexer": "csharp",
   "version": "8.0"
  }
 },
 "nbformat": 4,
 "nbformat_minor": 2
}
