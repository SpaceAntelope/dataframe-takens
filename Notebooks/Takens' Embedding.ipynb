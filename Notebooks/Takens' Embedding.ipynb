{
 "cells": [
  {
   "cell_type": "markdown",
   "metadata": {},
   "source": [
    "https://github.com/dotnet/try/issues/688"
   ]
  },
  {
   "cell_type": "code",
   "execution_count": null,
   "metadata": {},
   "outputs": [],
   "source": [
    "#r \"nuget:Microsoft.Data.Analysis\"\n",
    "open Microsoft.Data.Analysis"
   ]
  },
  {
   "cell_type": "code",
   "execution_count": null,
   "metadata": {},
   "outputs": [],
   "source": [
    "#r \"nuget:Accord.MachineLearning\"\n",
    "open Accord.MachineLearning"
   ]
  },
  {
   "cell_type": "code",
   "execution_count": null,
   "metadata": {},
   "outputs": [],
   "source": [
    "#r @\"TakensTheorem.Core.dll\""
   ]
  },
  {
   "cell_type": "code",
   "execution_count": null,
   "metadata": {},
   "outputs": [],
   "source": [
    "open System\n",
    "open TakensTheorem.Core\n",
    "open TakensTheorem.Core.ZipHelper\n",
    "open TakensTheorem.Core.DataFrameColumnOperators"
   ]
  },
  {
   "cell_type": "code",
   "execution_count": null,
   "metadata": {},
   "outputs": [],
   "source": [
    "let path = @\"..\\Data\\historical-hourly-weather-data.zip\""
   ]
  },
  {
   "cell_type": "code",
   "execution_count": null,
   "metadata": {},
   "outputs": [],
   "source": [
    "let loader = new ZippedCsvLoader(path)"
   ]
  },
  {
   "cell_type": "code",
   "execution_count": null,
   "metadata": {},
   "outputs": [],
   "source": [
    "let cityTable = loader.ToDataFrame \"city_attributes.csv\"\n",
    "let temperatureDF = loader.ToDataFrame \"temperature.csv\"\n",
    "let indexName = temperatureDF.Columns.[0].Name"
   ]
  },
  {
   "cell_type": "code",
   "execution_count": null,
   "metadata": {},
   "outputs": [],
   "source": [
    "temperatureDF.[indexName] <- temperatureDF.[indexName]\n",
    "                             |> Seq.cast<string>\n",
    "                             |> Seq.map (DateTime.Parse)\n",
    "                             |> DataFrameColumn.FromValues indexName"
   ]
  },
  {
   "cell_type": "code",
   "execution_count": null,
   "metadata": {},
   "outputs": [],
   "source": [
    "let start = DateTime(2015, 6, 22)\n",
    "let stop = DateTime(2015, 8, 31)\n",
    "\n",
    "(* \n",
    "    temperatureDF.[\"datetime\"].ElementwiseGreaterThanOrEqual<DateTime> (start)\n",
    "    don't work for no dates yet\n",
    "*)\n",
    "    \n",
    "let dateFilterColumn = \n",
    "    !> temperatureDF.[indexName]\n",
    "    |> DataFrameColumn<DateTime>.CreateFilter (fun dt -> dt.HasValue && dt.Value >= start && dt.Value <= stop)\n",
    "    \n",
    "let weatherDataMontreal = \n",
    "    temperatureDF.Filter(dateFilterColumn).[\"Montreal\"]"
   ]
  },
  {
   "cell_type": "code",
   "execution_count": null,
   "metadata": {},
   "outputs": [],
   "source": [
    "temperatureDF |> DataFrame.Length\n",
    "//weatherDataMontreal.Filter"
   ]
  },
  {
   "cell_type": "code",
   "execution_count": null,
   "metadata": {},
   "outputs": [],
   "source": [
    "// index unavailable at column level\n",
    "\n",
    "!> weatherDataMontreal \n",
    "|> DataFrameColumn<float>.Plot"
   ]
  },
  {
   "cell_type": "code",
   "execution_count": null,
   "metadata": {},
   "outputs": [],
   "source": [
    "(* subtracting null same as subtracting zero\n",
    " * in pandas both become NaN\n",
    " * therefore dropping na's after the fact\n",
    " * does not trim the column\n",
    " *)\n",
    "let lowPassFilterSignalCol = weatherDataMontreal.Clone()\n",
    "\n",
    "weatherDataMontreal\n",
    "|> DataFrameColumn.Rolling<float> 24 (Seq.average)\n",
    "|> Seq.iteri (fun i value -> lowPassFilterSignalCol.[int64 (i+12)] <- Nullable value)\n",
    "\n",
    "let weatherDataMontrealFiltered = \n",
    "    !> (weatherDataMontreal - lowPassFilterSignalCol)\n",
    "    |> DataFrameColumn.Trim 0.0\n",
    "\n",
    "weatherDataMontrealFiltered\n",
    "|> DataFrameColumn<float>.Plot"
   ]
  },
  {
   "cell_type": "code",
   "execution_count": null,
   "metadata": {
    "scrolled": false
   },
   "outputs": [],
   "source": [
    "let embeddedWeather = \n",
    "    weatherDataMontrealFiltered\n",
    "    |> DataFrameColumn.TakensEmbedding<float> 5 2    \n",
    "    |> Array.ofSeq\n",
    "   \n",
    "Chart.Plot(Scatter(x=embeddedWeather.[0], y=embeddedWeather.[1]))"
   ]
  },
  {
   "cell_type": "code",
   "execution_count": null,
   "metadata": {},
   "outputs": [],
   "source": [
    "let embeddedWeather3 =\n",
    "    weatherDataMontrealFiltered\n",
    "    |> DataFrameColumn.TakensEmbedding<float> 6 3\n",
    "    |> Array.ofSeq\n",
    "\n",
    "Chart.Plot(Scatter3d(x=embeddedWeather3.[0], y=embeddedWeather3.[1], z=embeddedWeather3.[2], mode=\"lines\"))"
   ]
  },
  {
   "cell_type": "code",
   "execution_count": null,
   "metadata": {},
   "outputs": [],
   "source": [
    "(* No drop nulls for columns *)\n",
    "\n",
    "let k = {|\n",
    "    l0 = temperatureDF.DropNulls(DropNullOptions.Any).Rows.Count\n",
    "    ln = temperatureDF.Rows.Count\n",
    "    l1 = weatherDataMontreal.Length\n",
    "    l2 = DataFrame(weatherDataMontreal).DropNulls(DropNullOptions.Any).Rows.Count\n",
    "    l3 = \n",
    "        !> weatherDataMontreal \n",
    "        |> DataFrameColumn<float>.Values\n",
    "        |> Seq.filter (fun value -> value <> Nullable()) \n",
    "        |> Seq.length |> int64\n",
    "\n",
    "    l4 = lowPassFilterSignalCol |> DataFrameColumn.Length    |}  \n",
    "{| k with diff = k.l3 - k.l4 |} //l0,ln,l1,l2,l3,l4, l3-l4"
   ]
  },
  {
   "cell_type": "code",
   "execution_count": null,
   "metadata": {},
   "outputs": [],
   "source": [
    "let inline plot' (data: ^a[]) = Chart.Plot(Scatter(y=data ))\n",
    "let inline plot'' (data: ^a[][]) = Chart.Plot(Scatter(x=data.[0], y=data.[1]))\n",
    "let inline plot''' (data: ^a[][]) = Chart.Plot(Scatter3d(x=data.[0], y=data.[1],z=data.[2]))"
   ]
  },
  {
   "cell_type": "code",
   "execution_count": null,
   "metadata": {},
   "outputs": [],
   "source": [
    "%%time\n",
    "\n",
    "[|for i in 1L..20L do \n",
    "    DataFrameColumn.MutualInformation i 16 weatherDataMontrealFiltered|]\n",
    "|> plot'"
   ]
  },
  {
   "cell_type": "markdown",
   "metadata": {},
   "source": [
    "https://github.com/fslaborg/XPlot/issues/49"
   ]
  },
  {
   "cell_type": "code",
   "execution_count": null,
   "metadata": {},
   "outputs": [],
   "source": [
    "\n",
    "let layout = \n",
    "    Layout(\n",
    "        title = \"Heatmap and Time Series Plot beside each other\",\n",
    "        xaxis = Xaxis(),\n",
    "        yaxis = Yaxis(),\n",
    "        xaxis2 = Xaxis(),\n",
    "        yaxis2 = Yaxis()\n",
    "    )\n",
    "\n",
    "let embeddedWeather2d_delay5 = DataFrameColumn.TakensEmbedding 5 2 weatherDataMontrealFiltered |> Array.ofSeq\n",
    "let embeddedWeather2d_delay1 = DataFrameColumn.TakensEmbedding 1 2 weatherDataMontrealFiltered |> Array.ofSeq\n",
    "\n",
    "// [    Scatter(x=embeddedWeather2d_delay5.[0], y=embeddedWeather2d_delay5.[1],  xaxis=\"x2\", yaxis=\"y2\")\n",
    "//      Scatter(x=embeddedWeather2d_delay1.[0], y=embeddedWeather2d_delay1.[1],  xaxis=\"x1\", yaxis=\"y1\") ]\n",
    "// |> Chart.Plot\n",
    "// |> Chart.WithLayout layout"
   ]
  },
  {
   "cell_type": "code",
   "execution_count": null,
   "metadata": {},
   "outputs": [],
   "source": [
    "plot'' embeddedWeather2d_delay5"
   ]
  },
  {
   "cell_type": "code",
   "execution_count": null,
   "metadata": {},
   "outputs": [],
   "source": [
    "plot'' embeddedWeather2d_delay1"
   ]
  },
  {
   "cell_type": "code",
   "execution_count": null,
   "metadata": {},
   "outputs": [],
   "source": [
    "let nFNN = \n",
    "    [| for i in 1..6 do \n",
    "         yield float (DataFrameColumn.FalseNearestNeighbours 1 i weatherDataMontrealFiltered) \n",
    "             / float weatherDataMontrealFiltered.Length  |]\n",
    "             \n",
    "plot'' [|[|1. ..6.|];nFNN;|]    "
   ]
  },
  {
   "cell_type": "code",
   "execution_count": null,
   "metadata": {
    "scrolled": false
   },
   "outputs": [],
   "source": [
    "let embeddedFinal = weatherDataMontrealFiltered |> DataFrameColumn.TakensEmbedding 1 4  |> Array.ofSeq\n",
    "\n",
    "Array.init 4 (fun i -> Scatter(y=embeddedFinal.[i])) |> Chart.Plot"
   ]
  },
  {
   "cell_type": "code",
   "execution_count": null,
   "metadata": {
    "scrolled": false
   },
   "outputs": [],
   "source": [
    "let inline plot''''  (indices: int[]) (data: ^a[][])= \n",
    "    Scatter3d(x=data.[indices.[0]], y=data.[indices.[1]],z=data.[indices.[2]], mode=\"lines\")\n",
    "    |> Chart.Plot\n",
    "    \n",
    "plot'''' [|0;1;2|] embeddedFinal |> display\n",
    "plot'''' [|0;1;3|] embeddedFinal |> display\n",
    "plot'''' [|1;2;3|] embeddedFinal |> display\n",
    "plot'''' [|0;2;3|] embeddedFinal |> display"
   ]
  },
  {
   "cell_type": "code",
   "execution_count": null,
   "metadata": {},
   "outputs": [],
   "source": []
  }
 ],
 "metadata": {
  "kernelspec": {
   "display_name": ".NET (F#)",
   "language": "F#",
   "name": ".net-fsharp"
  },
  "language_info": {
   "file_extension": ".fs",
   "mimetype": "text/x-fsharp",
   "name": "C#",
   "pygments_lexer": "fsharp",
   "version": "4.5"
  }
 },
 "nbformat": 4,
 "nbformat_minor": 2
}
