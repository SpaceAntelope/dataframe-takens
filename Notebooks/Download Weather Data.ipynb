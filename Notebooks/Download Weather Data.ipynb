{
 "cells": [
  {
   "cell_type": "code",
   "execution_count": null,
   "metadata": {},
   "outputs": [],
   "source": [
    "#r \"nuget:TaskBuilder.fs,2.1.0\"\n",
    "#r \"TakensTheorem.Core.dll\"\n",
    "open TakensTheorem.Core\n",
    "open KaggleClient"
   ]
  },
  {
   "cell_type": "code",
   "execution_count": null,
   "metadata": {},
   "outputs": [],
   "source": [
    "//open System\n",
    "open System.Net.Http\n",
    "open FSharpKernelHelpers "
   ]
  },
  {
   "cell_type": "code",
   "execution_count": null,
   "metadata": {},
   "outputs": [],
   "source": [
    "[<RequireQualifiedAccess>]\n",
    "module ProgressBar =\n",
    "    let Create className statusText =     \n",
    "        sprintf \"<div class='%s'> \n",
    "                    <div class='progress'> \n",
    "                        <div class='progress-bar' role='progressbar' \n",
    "                              style='width: 1%%;' aria-valuenow='1' aria-valuemin='0' \n",
    "                              aria-valuemax='100'>1%%</div>                     \n",
    "                     </div> \n",
    "                     <div><code class='progress-status'>%s</code></div> \n",
    "                 </div>\" className statusText \n",
    "        |> HtmlString \n",
    "    \n",
    "    let CreateWithPocketView (className:string) (statusText: string) =\n",
    "        div.[\"class\",className].innerHTML [\n",
    "            div.[\"class\",\"progress\"].innerHTML (\n",
    "                div.[\"class\", \"progress-bar\"].[\"role\", \"progressbar\"]\n",
    "                   .[\"style\", \"width: 1%\"].[\"aria-valuenow\", 1]\n",
    "                   .[\"aria-valuemin\", 0 ].[\"aria-valuemax\", 100] )\n",
    "            div.innerHTML (code.[\"class\",\"progress-status\"].innerHTML statusText) ] \n",
    "\n",
    "    let Update className status value =\n",
    "        let str = StringBuilder()\n",
    "\n",
    "        sprintf \"$('.%s .progress-status').text('%s');\" className status\n",
    "        |> str.AppendLine\n",
    "\n",
    "        sprintf \"$('.%s .progress-bar')\n",
    "                    .css('width','%.02f%%')\n",
    "                    .prop('aria-valuenow',%.02f)\n",
    "                    .text('%.02f%%');\" className value value value\n",
    "        |> str.AppendLine\n",
    "\n",
    "        str.ToString() |> Javascript    \n",
    "  "
   ]
  },
  {
   "cell_type": "code",
   "execution_count": null,
   "metadata": {},
   "outputs": [],
   "source": [
    "let Report() =  \n",
    "    let guid = Guid.NewGuid()\n",
    "    let pbarClass = sprintf \"bar-%O\" guid\n",
    "    let markerClass = sprintf \"code-%O\" guid\n",
    "\n",
    "    ProgressBar.CreateWithPocketView pbarClass \"\"\n",
    "    |> display \n",
    "    |> ignore\n",
    "\n",
    "    sprintf \"<div class='%s'></div>\" markerClass\n",
    "    |> HtmlString\n",
    "    |> display\n",
    "    |> ignore\n",
    "\n",
    "    fun (file:string, bytesRead : int64, totalBytes: int64) ->\n",
    "        let status = \n",
    "            sprintf \"Downloading file [%s] -- %dKB of %.02fMB received.\" \n",
    "                     (file.Replace(\"\\\\\",\"/\")) bytesRead (float totalBytes/1024.0/1024.0)\n",
    "\n",
    "        let percentage = float bytesRead / float totalBytes * 100.0\n",
    "\n",
    "        ProgressBar.Update pbarClass status percentage\n",
    "        sprintf \"$('.%s') \\\n",
    "                    .closest('.output') \\\n",
    "                    .find('.output_area') \\\n",
    "                    .each((i,el)=>{ if (i > 1) $(el).remove(); });\" markerClass\n",
    "        |> Javascript              "
   ]
  },
  {
   "cell_type": "code",
   "execution_count": null,
   "metadata": {},
   "outputs": [],
   "source": [
    "let kaggleJsonPath = \"kaggle.json\"\n",
    "let client = new HttpClient()\n",
    "\n",
    "{ DatasetInfo =\n",
    "      { Owner = \"selfishgene\"\n",
    "        Dataset = \"historical-hourly-weather-data\"\n",
    "        Request = CompleteDatasetZipped }\n",
    "  \n",
    "  AuthorizedClient =\n",
    "      kaggleJsonPath\n",
    "      |> Credentials.LoadFrom\n",
    "      |> Credentials.AuthorizeClient client\n",
    "  \n",
    "  DestinationFolder = \"../Data\"      \n",
    "  CancellationToken = None\n",
    "  ReportingCallback = Some (Report()) }\n",
    "|> DownloadDatasetAsync\n",
    "|> Async.AwaitTask\n",
    "|> Async.RunSynchronously"
   ]
  },
  {
   "cell_type": "code",
   "execution_count": null,
   "metadata": {},
   "outputs": [],
   "source": []
  }
 ],
 "metadata": {
  "kernelspec": {
   "display_name": ".NET (F#)",
   "language": "F#",
   "name": ".net-fsharp"
  },
  "language_info": {
   "file_extension": ".fs",
   "mimetype": "text/x-fsharp",
   "name": "C#",
   "pygments_lexer": "fsharp",
   "version": "4.5"
  }
 },
 "nbformat": 4,
 "nbformat_minor": 2
}
