{
 "cells": [
  {
   "cell_type": "code",
   "execution_count": 2,
   "metadata": {},
   "outputs": [
    {
     "data": {
      "text/html": [
       "Installing package TaskBuilder.fs, version 2.1.0.done!"
      ]
     },
     "metadata": {},
     "output_type": "display_data"
    },
    {
     "data": {
      "text/html": [
       "Installing package TaskBuilder.fs, version 2.1.0.done!"
      ]
     },
     "metadata": {},
     "output_type": "display_data"
    }
   ],
   "source": [
    "#r \"nuget:TaskBuilder.fs,2.1.0\"\n",
    "#r \"TakensTheorem.Core.dll\"\n",
    "open TakensTheorem.Core\n",
    "open KaggleClient"
   ]
  },
  {
   "cell_type": "code",
   "execution_count": 3,
   "metadata": {},
   "outputs": [],
   "source": [
    "//open System\n",
    "open System.Net.Http\n",
    "open FSharpKernelHelpers "
   ]
  },
  {
   "cell_type": "code",
   "execution_count": 4,
   "metadata": {},
   "outputs": [],
   "source": [
    "[<RequireQualifiedAccess>]\n",
    "module ProgressBar =\n",
    "    let Create className statusText =     \n",
    "        sprintf \"<div class='%s'> \n",
    "                    <div class='progress'> \n",
    "                        <div class='progress-bar' role='progressbar' \n",
    "                              style='width: 1%%;' aria-valuenow='1' aria-valuemin='0' \n",
    "                              aria-valuemax='100'>1%%</div>                     \n",
    "                     </div> \n",
    "                     <div><code class='progress-status'>%s</code></div> \n",
    "                 </div>\" className statusText \n",
    "        |> HtmlString \n",
    "    \n",
    "    let CreateWithPocketView (className:string) (statusText: string) =\n",
    "        div.[\"class\",className].innerHTML [\n",
    "            div.[\"class\",\"progress\"].innerHTML (\n",
    "                div.[\"class\", \"progress-bar\"].[\"role\", \"progressbar\"]\n",
    "                   .[\"style\", \"width: 1%\"].[\"aria-valuenow\", 1]\n",
    "                   .[\"aria-valuemin\", 0 ].[\"aria-valuemax\", 100] )\n",
    "            div.innerHTML (code.[\"class\",\"progress-status\"].innerHTML statusText) ] \n",
    "\n",
    "    let Update className status value =\n",
    "        let str = StringBuilder()\n",
    "\n",
    "        sprintf \"$('.%s .progress-status').text('%s');\" className status\n",
    "        |> str.AppendLine\n",
    "\n",
    "        sprintf \"$('.%s .progress-bar')\n",
    "                    .css('width','%.02f%%')\n",
    "                    .prop('aria-valuenow',%.02f)\n",
    "                    .text('%.02f%%');\" className value value value\n",
    "        |> str.AppendLine\n",
    "\n",
    "        str.ToString() |> Javascript    \n",
    "  "
   ]
  },
  {
   "cell_type": "code",
   "execution_count": 5,
   "metadata": {},
   "outputs": [],
   "source": [
    "let Report() =  \n",
    "    let guid = Guid.NewGuid()\n",
    "    let pbarClass = sprintf \"bar-%O\" guid\n",
    "    let markerClass = sprintf \"code-%O\" guid\n",
    "\n",
    "    ProgressBar.CreateWithPocketView pbarClass \"\"\n",
    "    |> display \n",
    "    |> ignore\n",
    "\n",
    "    sprintf \"<div class='%s'></div>\" markerClass\n",
    "    |> HtmlString\n",
    "    |> display\n",
    "    |> ignore\n",
    "\n",
    "    fun (file:string, bytesRead : int64, totalBytes: int64) ->\n",
    "        let status = \n",
    "            sprintf \"Downloading file [%s] -- %dKB of %.02fMB received.\" \n",
    "                     (file.Replace(\"\\\\\",\"/\")) bytesRead (float totalBytes/1024.0/1024.0)\n",
    "\n",
    "        let percentage = float bytesRead / float totalBytes * 100.0\n",
    "\n",
    "        ProgressBar.Update pbarClass status percentage\n",
    "        sprintf \"$('.%s') \\\n",
    "                    .closest('.output') \\\n",
    "                    .find('.output_area') \\\n",
    "                    .each((i,el)=>{ if (i > 1) $(el).remove(); });\" markerClass\n",
    "        |> Javascript              "
   ]
  },
  {
   "cell_type": "code",
   "execution_count": 8,
   "metadata": {},
   "outputs": [
    {
     "data": {
      "text/html": [
       "<div class=\"bar-313f4766-c930-4538-a29a-91eead83ca22\"><div class=\"progress\"><div aria-valuemax=\"100\" aria-valuemin=\"0\" aria-valuenow=\"1\" class=\"progress-bar\" role=\"progressbar\" style=\"width: 1%\"></div></div><div><code class=\"progress-status\"></code></div></div>"
      ]
     },
     "metadata": {},
     "output_type": "display_data"
    },
    {
     "data": {
      "text/html": [
       "<div class='code-313f4766-c930-4538-a29a-91eead83ca22'></div>"
      ]
     },
     "metadata": {},
     "output_type": "display_data"
    },
    {
     "data": {
      "text/html": [
       "<script type=\"text/javascript\">$('.bar-313f4766-c930-4538-a29a-91eead83ca22 .progress-status').text('Downloading file [../Data/historical-hourly-weather-data.zip] -- 117937KB of 11.97MB received.');\r\n",
       "$('.bar-313f4766-c930-4538-a29a-91eead83ca22 .progress-bar')\n",
       "                    .css('width','0.94%')\n",
       "                    .prop('aria-valuenow',0.94)\n",
       "                    .text('0.94%');\r\n",
       "</script>"
      ]
     },
     "metadata": {},
     "output_type": "display_data"
    },
    {
     "data": {
      "text/html": [
       "<script type=\"text/javascript\">$('.code-313f4766-c930-4538-a29a-91eead83ca22') .closest('.output') .find('.output_area') .each((i,el)=>{ if (i > 1) $(el).remove(); });</script>"
      ]
     },
     "metadata": {},
     "output_type": "display_data"
    },
    {
     "data": {
      "text/html": [
       "<script type=\"text/javascript\">$('.bar-313f4766-c930-4538-a29a-91eead83ca22 .progress-status').text('Downloading file [../Data/historical-hourly-weather-data.zip] -- 237679KB of 11.97MB received.');\r\n",
       "$('.bar-313f4766-c930-4538-a29a-91eead83ca22 .progress-bar')\n",
       "                    .css('width','1.89%')\n",
       "                    .prop('aria-valuenow',1.89)\n",
       "                    .text('1.89%');\r\n",
       "</script>"
      ]
     },
     "metadata": {},
     "output_type": "display_data"
    },
    {
     "data": {
      "text/html": [
       "<script type=\"text/javascript\">$('.code-313f4766-c930-4538-a29a-91eead83ca22') .closest('.output') .find('.output_area') .each((i,el)=>{ if (i > 1) $(el).remove(); });</script>"
      ]
     },
     "metadata": {},
     "output_type": "display_data"
    },
    {
     "data": {
      "text/html": [
       "<script type=\"text/javascript\">$('.bar-313f4766-c930-4538-a29a-91eead83ca22 .progress-status').text('Downloading file [../Data/historical-hourly-weather-data.zip] -- 357131KB of 11.97MB received.');\r\n",
       "$('.bar-313f4766-c930-4538-a29a-91eead83ca22 .progress-bar')\n",
       "                    .css('width','2.84%')\n",
       "                    .prop('aria-valuenow',2.84)\n",
       "                    .text('2.84%');\r\n",
       "</script>"
      ]
     },
     "metadata": {},
     "output_type": "display_data"
    },
    {
     "data": {
      "text/html": [
       "<script type=\"text/javascript\">$('.code-313f4766-c930-4538-a29a-91eead83ca22') .closest('.output') .find('.output_area') .each((i,el)=>{ if (i > 1) $(el).remove(); });</script>"
      ]
     },
     "metadata": {},
     "output_type": "display_data"
    },
    {
     "data": {
      "text/html": [
       "<script type=\"text/javascript\">$('.bar-313f4766-c930-4538-a29a-91eead83ca22 .progress-status').text('Downloading file [../Data/historical-hourly-weather-data.zip] -- 476293KB of 11.97MB received.');\r\n",
       "$('.bar-313f4766-c930-4538-a29a-91eead83ca22 .progress-bar')\n",
       "                    .css('width','3.79%')\n",
       "                    .prop('aria-valuenow',3.79)\n",
       "                    .text('3.79%');\r\n",
       "</script>"
      ]
     },
     "metadata": {},
     "output_type": "display_data"
    },
    {
     "data": {
      "text/html": [
       "<script type=\"text/javascript\">$('.code-313f4766-c930-4538-a29a-91eead83ca22') .closest('.output') .find('.output_area') .each((i,el)=>{ if (i > 1) $(el).remove(); });</script>"
      ]
     },
     "metadata": {},
     "output_type": "display_data"
    },
    {
     "data": {
      "text/html": [
       "<script type=\"text/javascript\">$('.bar-313f4766-c930-4538-a29a-91eead83ca22 .progress-status').text('Downloading file [../Data/historical-hourly-weather-data.zip] -- 595455KB of 11.97MB received.');\r\n",
       "$('.bar-313f4766-c930-4538-a29a-91eead83ca22 .progress-bar')\n",
       "                    .css('width','4.74%')\n",
       "                    .prop('aria-valuenow',4.74)\n",
       "                    .text('4.74%');\r\n",
       "</script>"
      ]
     },
     "metadata": {},
     "output_type": "display_data"
    },
    {
     "data": {
      "text/html": [
       "<script type=\"text/javascript\">$('.code-313f4766-c930-4538-a29a-91eead83ca22') .closest('.output') .find('.output_area') .each((i,el)=>{ if (i > 1) $(el).remove(); });</script>"
      ]
     },
     "metadata": {},
     "output_type": "display_data"
    },
    {
     "data": {
      "text/html": [
       "<script type=\"text/javascript\">$('.bar-313f4766-c930-4538-a29a-91eead83ca22 .progress-status').text('Downloading file [../Data/historical-hourly-weather-data.zip] -- 715197KB of 11.97MB received.');\r\n",
       "$('.bar-313f4766-c930-4538-a29a-91eead83ca22 .progress-bar')\n",
       "                    .css('width','5.70%')\n",
       "                    .prop('aria-valuenow',5.70)\n",
       "                    .text('5.70%');\r\n",
       "</script>"
      ]
     },
     "metadata": {},
     "output_type": "display_data"
    },
    {
     "data": {
      "text/html": [
       "<script type=\"text/javascript\">$('.code-313f4766-c930-4538-a29a-91eead83ca22') .closest('.output') .find('.output_area') .each((i,el)=>{ if (i > 1) $(el).remove(); });</script>"
      ]
     },
     "metadata": {},
     "output_type": "display_data"
    },
    {
     "data": {
      "text/html": [
       "<script type=\"text/javascript\">$('.bar-313f4766-c930-4538-a29a-91eead83ca22 .progress-status').text('Downloading file [../Data/historical-hourly-weather-data.zip] -- 834359KB of 11.97MB received.');\r\n",
       "$('.bar-313f4766-c930-4538-a29a-91eead83ca22 .progress-bar')\n",
       "                    .css('width','6.64%')\n",
       "                    .prop('aria-valuenow',6.64)\n",
       "                    .text('6.64%');\r\n",
       "</script>"
      ]
     },
     "metadata": {},
     "output_type": "display_data"
    },
    {
     "data": {
      "text/html": [
       "<script type=\"text/javascript\">$('.code-313f4766-c930-4538-a29a-91eead83ca22') .closest('.output') .find('.output_area') .each((i,el)=>{ if (i > 1) $(el).remove(); });</script>"
      ]
     },
     "metadata": {},
     "output_type": "display_data"
    },
    {
     "data": {
      "text/html": [
       "<script type=\"text/javascript\">$('.bar-313f4766-c930-4538-a29a-91eead83ca22 .progress-status').text('Downloading file [../Data/historical-hourly-weather-data.zip] -- 953521KB of 11.97MB received.');\r\n",
       "$('.bar-313f4766-c930-4538-a29a-91eead83ca22 .progress-bar')\n",
       "                    .css('width','7.59%')\n",
       "                    .prop('aria-valuenow',7.59)\n",
       "                    .text('7.59%');\r\n",
       "</script>"
      ]
     },
     "metadata": {},
     "output_type": "display_data"
    },
    {
     "data": {
      "text/html": [
       "<script type=\"text/javascript\">$('.code-313f4766-c930-4538-a29a-91eead83ca22') .closest('.output') .find('.output_area') .each((i,el)=>{ if (i > 1) $(el).remove(); });</script>"
      ]
     },
     "metadata": {},
     "output_type": "display_data"
    },
    {
     "data": {
      "text/html": [
       "<script type=\"text/javascript\">$('.bar-313f4766-c930-4538-a29a-91eead83ca22 .progress-status').text('Downloading file [../Data/historical-hourly-weather-data.zip] -- 1073263KB of 11.97MB received.');\r\n",
       "$('.bar-313f4766-c930-4538-a29a-91eead83ca22 .progress-bar')\n",
       "                    .css('width','8.55%')\n",
       "                    .prop('aria-valuenow',8.55)\n",
       "                    .text('8.55%');\r\n",
       "</script>"
      ]
     },
     "metadata": {},
     "output_type": "display_data"
    },
    {
     "data": {
      "text/html": [
       "<script type=\"text/javascript\">$('.code-313f4766-c930-4538-a29a-91eead83ca22') .closest('.output') .find('.output_area') .each((i,el)=>{ if (i > 1) $(el).remove(); });</script>"
      ]
     },
     "metadata": {},
     "output_type": "display_data"
    },
    {
     "data": {
      "text/html": [
       "<script type=\"text/javascript\">$('.bar-313f4766-c930-4538-a29a-91eead83ca22 .progress-status').text('Downloading file [../Data/historical-hourly-weather-data.zip] -- 1866261KB of 11.97MB received.');\r\n",
       "$('.bar-313f4766-c930-4538-a29a-91eead83ca22 .progress-bar')\n",
       "                    .css('width','14.86%')\n",
       "                    .prop('aria-valuenow',14.86)\n",
       "                    .text('14.86%');\r\n",
       "</script>"
      ]
     },
     "metadata": {},
     "output_type": "display_data"
    },
    {
     "data": {
      "text/html": [
       "<script type=\"text/javascript\">$('.code-313f4766-c930-4538-a29a-91eead83ca22') .closest('.output') .find('.output_area') .each((i,el)=>{ if (i > 1) $(el).remove(); });</script>"
      ]
     },
     "metadata": {},
     "output_type": "display_data"
    },
    {
     "data": {
      "text/html": [
       "<script type=\"text/javascript\">$('.bar-313f4766-c930-4538-a29a-91eead83ca22 .progress-status').text('Downloading file [../Data/historical-hourly-weather-data.zip] -- 2701845KB of 11.97MB received.');\r\n",
       "$('.bar-313f4766-c930-4538-a29a-91eead83ca22 .progress-bar')\n",
       "                    .css('width','21.52%')\n",
       "                    .prop('aria-valuenow',21.52)\n",
       "                    .text('21.52%');\r\n",
       "</script>"
      ]
     },
     "metadata": {},
     "output_type": "display_data"
    },
    {
     "data": {
      "text/html": [
       "<script type=\"text/javascript\">$('.code-313f4766-c930-4538-a29a-91eead83ca22') .closest('.output') .find('.output_area') .each((i,el)=>{ if (i > 1) $(el).remove(); });</script>"
      ]
     },
     "metadata": {},
     "output_type": "display_data"
    },
    {
     "data": {
      "text/html": [
       "<script type=\"text/javascript\">$('.bar-313f4766-c930-4538-a29a-91eead83ca22 .progress-status').text('Downloading file [../Data/historical-hourly-weather-data.zip] -- 3537429KB of 11.97MB received.');\r\n",
       "$('.bar-313f4766-c930-4538-a29a-91eead83ca22 .progress-bar')\n",
       "                    .css('width','28.17%')\n",
       "                    .prop('aria-valuenow',28.17)\n",
       "                    .text('28.17%');\r\n",
       "</script>"
      ]
     },
     "metadata": {},
     "output_type": "display_data"
    },
    {
     "data": {
      "text/html": [
       "<script type=\"text/javascript\">$('.code-313f4766-c930-4538-a29a-91eead83ca22') .closest('.output') .find('.output_area') .each((i,el)=>{ if (i > 1) $(el).remove(); });</script>"
      ]
     },
     "metadata": {},
     "output_type": "display_data"
    },
    {
     "data": {
      "text/html": [
       "<script type=\"text/javascript\">$('.bar-313f4766-c930-4538-a29a-91eead83ca22 .progress-status').text('Downloading file [../Data/historical-hourly-weather-data.zip] -- 4373013KB of 11.97MB received.');\r\n",
       "$('.bar-313f4766-c930-4538-a29a-91eead83ca22 .progress-bar')\n",
       "                    .css('width','34.83%')\n",
       "                    .prop('aria-valuenow',34.83)\n",
       "                    .text('34.83%');\r\n",
       "</script>"
      ]
     },
     "metadata": {},
     "output_type": "display_data"
    },
    {
     "data": {
      "text/html": [
       "<script type=\"text/javascript\">$('.code-313f4766-c930-4538-a29a-91eead83ca22') .closest('.output') .find('.output_area') .each((i,el)=>{ if (i > 1) $(el).remove(); });</script>"
      ]
     },
     "metadata": {},
     "output_type": "display_data"
    },
    {
     "data": {
      "text/html": [
       "<script type=\"text/javascript\">$('.bar-313f4766-c930-4538-a29a-91eead83ca22 .progress-status').text('Downloading file [../Data/historical-hourly-weather-data.zip] -- 5208597KB of 11.97MB received.');\r\n",
       "$('.bar-313f4766-c930-4538-a29a-91eead83ca22 .progress-bar')\n",
       "                    .css('width','41.48%')\n",
       "                    .prop('aria-valuenow',41.48)\n",
       "                    .text('41.48%');\r\n",
       "</script>"
      ]
     },
     "metadata": {},
     "output_type": "display_data"
    },
    {
     "data": {
      "text/html": [
       "<script type=\"text/javascript\">$('.code-313f4766-c930-4538-a29a-91eead83ca22') .closest('.output') .find('.output_area') .each((i,el)=>{ if (i > 1) $(el).remove(); });</script>"
      ]
     },
     "metadata": {},
     "output_type": "display_data"
    },
    {
     "data": {
      "text/html": [
       "<script type=\"text/javascript\">$('.bar-313f4766-c930-4538-a29a-91eead83ca22 .progress-status').text('Downloading file [../Data/historical-hourly-weather-data.zip] -- 6044181KB of 11.97MB received.');\r\n",
       "$('.bar-313f4766-c930-4538-a29a-91eead83ca22 .progress-bar')\n",
       "                    .css('width','48.14%')\n",
       "                    .prop('aria-valuenow',48.14)\n",
       "                    .text('48.14%');\r\n",
       "</script>"
      ]
     },
     "metadata": {},
     "output_type": "display_data"
    },
    {
     "data": {
      "text/html": [
       "<script type=\"text/javascript\">$('.code-313f4766-c930-4538-a29a-91eead83ca22') .closest('.output') .find('.output_area') .each((i,el)=>{ if (i > 1) $(el).remove(); });</script>"
      ]
     },
     "metadata": {},
     "output_type": "display_data"
    },
    {
     "data": {
      "text/html": [
       "<script type=\"text/javascript\">$('.bar-313f4766-c930-4538-a29a-91eead83ca22 .progress-status').text('Downloading file [../Data/historical-hourly-weather-data.zip] -- 6879765KB of 11.97MB received.');\r\n",
       "$('.bar-313f4766-c930-4538-a29a-91eead83ca22 .progress-bar')\n",
       "                    .css('width','54.79%')\n",
       "                    .prop('aria-valuenow',54.79)\n",
       "                    .text('54.79%');\r\n",
       "</script>"
      ]
     },
     "metadata": {},
     "output_type": "display_data"
    },
    {
     "data": {
      "text/html": [
       "<script type=\"text/javascript\">$('.code-313f4766-c930-4538-a29a-91eead83ca22') .closest('.output') .find('.output_area') .each((i,el)=>{ if (i > 1) $(el).remove(); });</script>"
      ]
     },
     "metadata": {},
     "output_type": "display_data"
    },
    {
     "data": {
      "text/html": [
       "<script type=\"text/javascript\">$('.bar-313f4766-c930-4538-a29a-91eead83ca22 .progress-status').text('Downloading file [../Data/historical-hourly-weather-data.zip] -- 7715349KB of 11.97MB received.');\r\n",
       "$('.bar-313f4766-c930-4538-a29a-91eead83ca22 .progress-bar')\n",
       "                    .css('width','61.45%')\n",
       "                    .prop('aria-valuenow',61.45)\n",
       "                    .text('61.45%');\r\n",
       "</script>"
      ]
     },
     "metadata": {},
     "output_type": "display_data"
    },
    {
     "data": {
      "text/html": [
       "<script type=\"text/javascript\">$('.code-313f4766-c930-4538-a29a-91eead83ca22') .closest('.output') .find('.output_area') .each((i,el)=>{ if (i > 1) $(el).remove(); });</script>"
      ]
     },
     "metadata": {},
     "output_type": "display_data"
    },
    {
     "data": {
      "text/html": [
       "<script type=\"text/javascript\">$('.bar-313f4766-c930-4538-a29a-91eead83ca22 .progress-status').text('Downloading file [../Data/historical-hourly-weather-data.zip] -- 8550933KB of 11.97MB received.');\r\n",
       "$('.bar-313f4766-c930-4538-a29a-91eead83ca22 .progress-bar')\n",
       "                    .css('width','68.10%')\n",
       "                    .prop('aria-valuenow',68.10)\n",
       "                    .text('68.10%');\r\n",
       "</script>"
      ]
     },
     "metadata": {},
     "output_type": "display_data"
    },
    {
     "data": {
      "text/html": [
       "<script type=\"text/javascript\">$('.code-313f4766-c930-4538-a29a-91eead83ca22') .closest('.output') .find('.output_area') .each((i,el)=>{ if (i > 1) $(el).remove(); });</script>"
      ]
     },
     "metadata": {},
     "output_type": "display_data"
    },
    {
     "data": {
      "text/html": [
       "<script type=\"text/javascript\">$('.bar-313f4766-c930-4538-a29a-91eead83ca22 .progress-status').text('Downloading file [../Data/historical-hourly-weather-data.zip] -- 9386517KB of 11.97MB received.');\r\n",
       "$('.bar-313f4766-c930-4538-a29a-91eead83ca22 .progress-bar')\n",
       "                    .css('width','74.75%')\n",
       "                    .prop('aria-valuenow',74.75)\n",
       "                    .text('74.75%');\r\n",
       "</script>"
      ]
     },
     "metadata": {},
     "output_type": "display_data"
    },
    {
     "data": {
      "text/html": [
       "<script type=\"text/javascript\">$('.code-313f4766-c930-4538-a29a-91eead83ca22') .closest('.output') .find('.output_area') .each((i,el)=>{ if (i > 1) $(el).remove(); });</script>"
      ]
     },
     "metadata": {},
     "output_type": "display_data"
    },
    {
     "data": {
      "text/html": [
       "<script type=\"text/javascript\">$('.bar-313f4766-c930-4538-a29a-91eead83ca22 .progress-status').text('Downloading file [../Data/historical-hourly-weather-data.zip] -- 10222101KB of 11.97MB received.');\r\n",
       "$('.bar-313f4766-c930-4538-a29a-91eead83ca22 .progress-bar')\n",
       "                    .css('width','81.41%')\n",
       "                    .prop('aria-valuenow',81.41)\n",
       "                    .text('81.41%');\r\n",
       "</script>"
      ]
     },
     "metadata": {},
     "output_type": "display_data"
    },
    {
     "data": {
      "text/html": [
       "<script type=\"text/javascript\">$('.code-313f4766-c930-4538-a29a-91eead83ca22') .closest('.output') .find('.output_area') .each((i,el)=>{ if (i > 1) $(el).remove(); });</script>"
      ]
     },
     "metadata": {},
     "output_type": "display_data"
    },
    {
     "data": {
      "text/html": [
       "<script type=\"text/javascript\">$('.bar-313f4766-c930-4538-a29a-91eead83ca22 .progress-status').text('Downloading file [../Data/historical-hourly-weather-data.zip] -- 11057685KB of 11.97MB received.');\r\n",
       "$('.bar-313f4766-c930-4538-a29a-91eead83ca22 .progress-bar')\n",
       "                    .css('width','88.06%')\n",
       "                    .prop('aria-valuenow',88.06)\n",
       "                    .text('88.06%');\r\n",
       "</script>"
      ]
     },
     "metadata": {},
     "output_type": "display_data"
    },
    {
     "data": {
      "text/html": [
       "<script type=\"text/javascript\">$('.code-313f4766-c930-4538-a29a-91eead83ca22') .closest('.output') .find('.output_area') .each((i,el)=>{ if (i > 1) $(el).remove(); });</script>"
      ]
     },
     "metadata": {},
     "output_type": "display_data"
    },
    {
     "data": {
      "text/html": [
       "<script type=\"text/javascript\">$('.bar-313f4766-c930-4538-a29a-91eead83ca22 .progress-status').text('Downloading file [../Data/historical-hourly-weather-data.zip] -- 11893269KB of 11.97MB received.');\r\n",
       "$('.bar-313f4766-c930-4538-a29a-91eead83ca22 .progress-bar')\n",
       "                    .css('width','94.72%')\n",
       "                    .prop('aria-valuenow',94.72)\n",
       "                    .text('94.72%');\r\n",
       "</script>"
      ]
     },
     "metadata": {},
     "output_type": "display_data"
    },
    {
     "data": {
      "text/html": [
       "<script type=\"text/javascript\">$('.code-313f4766-c930-4538-a29a-91eead83ca22') .closest('.output') .find('.output_area') .each((i,el)=>{ if (i > 1) $(el).remove(); });</script>"
      ]
     },
     "metadata": {},
     "output_type": "display_data"
    },
    {
     "data": {
      "text/html": [
       "<script type=\"text/javascript\">$('.bar-313f4766-c930-4538-a29a-91eead83ca22 .progress-status').text('Downloading file [../Data/historical-hourly-weather-data.zip] -- 12556386KB of 11.97MB received.');\r\n",
       "$('.bar-313f4766-c930-4538-a29a-91eead83ca22 .progress-bar')\n",
       "                    .css('width','100.00%')\n",
       "                    .prop('aria-valuenow',100.00)\n",
       "                    .text('100.00%');\r\n",
       "</script>"
      ]
     },
     "metadata": {},
     "output_type": "display_data"
    },
    {
     "data": {
      "text/html": [
       "<script type=\"text/javascript\">$('.code-313f4766-c930-4538-a29a-91eead83ca22') .closest('.output') .find('.output_area') .each((i,el)=>{ if (i > 1) $(el).remove(); });</script>"
      ]
     },
     "metadata": {},
     "output_type": "display_data"
    },
    {
     "data": {
      "text/html": [
       "<null>"
      ]
     },
     "execution_count": 8,
     "metadata": {},
     "output_type": "execute_result"
    }
   ],
   "source": [
    "let kaggleJsonPath = \"kaggle.json\"\n",
    "let client = new HttpClient()\n",
    "\n",
    "{ DatasetInfo =\n",
    "      { Owner = \"selfishgene\"\n",
    "        Dataset = \"historical-hourly-weather-data\"\n",
    "        Request = CompleteDatasetZipped }\n",
    "  \n",
    "  AuthorizedClient =\n",
    "      kaggleJsonPath\n",
    "      |> Credentials.LoadFrom\n",
    "      |> Credentials.AuthorizeClient client\n",
    "  \n",
    "  DestinationFolder = \"../Data\"      \n",
    "  CancellationToken = None\n",
    "  ReportingCallback = Some (Report()) }\n",
    "|> DownloadDatasetAsync\n",
    "|> Async.AwaitTask\n",
    "|> Async.RunSynchronously"
   ]
  },
  {
   "cell_type": "code",
   "execution_count": null,
   "metadata": {},
   "outputs": [],
   "source": []
  }
 ],
 "metadata": {
  "kernelspec": {
   "display_name": ".NET (F#)",
   "language": "F#",
   "name": ".net-fsharp"
  },
  "language_info": {
   "file_extension": ".fs",
   "mimetype": "text/x-fsharp",
   "name": "C#",
   "pygments_lexer": "fsharp",
   "version": "4.5"
  }
 },
 "nbformat": 4,
 "nbformat_minor": 2
}
